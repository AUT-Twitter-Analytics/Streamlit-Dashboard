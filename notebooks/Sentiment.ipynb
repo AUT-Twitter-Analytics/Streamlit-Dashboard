{
  "nbformat": 4,
  "nbformat_minor": 0,
  "metadata": {
    "colab": {
      "name": "Sentiment.ipynb",
      "provenance": [],
      "collapsed_sections": [
        "KscoGuysyrbC",
        "3OaltiyHK7FI",
        "An3qG8qNrWMu",
        "e1hHGFqUmS_n",
        "QVZEU-9QmdHo",
        "-TxtwIy6xhc8",
        "VKoFMwqMxjV2",
        "djZuTeJixm-x",
        "D1nUH2E0phEo",
        "D3xb5ocAMNXh",
        "Qua4R5DXLGrJ",
        "hcillGng0j57"
      ],
      "toc_visible": true
    },
    "kernelspec": {
      "display_name": "Python 3",
      "name": "python3"
    }
  },
  "cells": [
    {
      "cell_type": "markdown",
      "metadata": {
        "id": "KscoGuysyrbC"
      },
      "source": [
        "#Import and install modules"
      ]
    },
    {
      "cell_type": "code",
      "metadata": {
        "colab": {
          "base_uri": "https://localhost:8080/"
        },
        "id": "x42gllPRyK5D",
        "outputId": "dfd03f1d-f552-46fe-8c88-49981929d0ca"
      },
      "source": [
        "!pip install hazm"
      ],
      "execution_count": 1,
      "outputs": [
        {
          "output_type": "stream",
          "text": [
            "Requirement already satisfied: hazm in /usr/local/lib/python3.6/dist-packages (0.7.0)\n",
            "Requirement already satisfied: libwapiti>=0.2.1; platform_system != \"Windows\" in /usr/local/lib/python3.6/dist-packages (from hazm) (0.2.1)\n",
            "Requirement already satisfied: nltk==3.3 in /usr/local/lib/python3.6/dist-packages (from hazm) (3.3)\n",
            "Requirement already satisfied: six in /usr/local/lib/python3.6/dist-packages (from libwapiti>=0.2.1; platform_system != \"Windows\"->hazm) (1.15.0)\n"
          ],
          "name": "stdout"
        }
      ]
    },
    {
      "cell_type": "code",
      "metadata": {
        "id": "31SzqN9Bx7U3"
      },
      "source": [
        "import re, hazm, os, json, nltk\n",
        "import pickle\n",
        "import numpy as np\n",
        "import pandas as pd\n",
        "from nltk import word_tokenize \n",
        "import matplotlib.pyplot as plt\n",
        "from nltk.corpus import stopwords\n",
        "from nltk.stem import PorterStemmer\n",
        "from nltk.stem import WordNetLemmatizer\n",
        "from wordcloud import WordCloud, STOPWORDS\n",
        "from sklearn.naive_bayes import MultinomialNB\n",
        "from sklearn.model_selection import GridSearchCV\n",
        "from sklearn.ensemble import RandomForestClassifier\n",
        "from sklearn.neighbors import KNeighborsClassifier\n",
        "from sklearn.feature_extraction.text import TfidfVectorizer\n",
        "from sklearn.metrics import classification_report, confusion_matrix"
      ],
      "execution_count": 2,
      "outputs": []
    },
    {
      "cell_type": "code",
      "metadata": {
        "colab": {
          "base_uri": "https://localhost:8080/"
        },
        "id": "00GJ05dBEgzE",
        "outputId": "4a871624-fa22-4af1-a837-a8068f6f63f7"
      },
      "source": [
        "nltk.download('wordnet')\n",
        "nltk.download(\"stopwords\")"
      ],
      "execution_count": 3,
      "outputs": [
        {
          "output_type": "stream",
          "text": [
            "[nltk_data] Downloading package wordnet to /root/nltk_data...\n",
            "[nltk_data]   Package wordnet is already up-to-date!\n",
            "[nltk_data] Downloading package stopwords to /root/nltk_data...\n",
            "[nltk_data]   Package stopwords is already up-to-date!\n"
          ],
          "name": "stdout"
        },
        {
          "output_type": "execute_result",
          "data": {
            "text/plain": [
              "True"
            ]
          },
          "metadata": {
            "tags": []
          },
          "execution_count": 3
        }
      ]
    },
    {
      "cell_type": "markdown",
      "metadata": {
        "id": "3OaltiyHK7FI"
      },
      "source": [
        "#Load data"
      ]
    },
    {
      "cell_type": "code",
      "metadata": {
        "colab": {
          "base_uri": "https://localhost:8080/"
        },
        "id": "6VWzOy8hnSnl",
        "outputId": "2a9f60f2-488e-4277-deb7-b68d5e865f41"
      },
      "source": [
        "from google.colab import drive\n",
        "drive.mount('/content/drive')\n",
        "import os\n",
        "os.chdir(\"drive/My Drive\")\n",
        "!ls"
      ],
      "execution_count": 4,
      "outputs": [
        {
          "output_type": "stream",
          "text": [
            "Drive already mounted at /content/drive; to attempt to forcibly remount, call drive.mount(\"/content/drive\", force_remount=True).\n",
            " AI-4.gdoc\n",
            " apply.gsheet\n",
            " classifier\n",
            "'Colab Notebooks'\n",
            " CV.pdf\n",
            " data\n",
            "'Email for Graduate Application.gdoc'\n",
            "'My Prof.s.gsheet'\n",
            " nlp-project.ipynb\n",
            " points.json\n",
            " Prof.s.gsheet\n",
            "'project Bsc'\n",
            "'Recommendation Letter_Rezvan Karaji_Nevada.rtf'\n",
            " sop.gdoc\n",
            " SpamDetection.ipynb\n",
            " tfidf_en.sav\n",
            " tfidf_fa.sav\n",
            " transcript-official.pdf\n",
            " tweet.csv\n"
          ],
          "name": "stdout"
        }
      ]
    },
    {
      "cell_type": "code",
      "metadata": {
        "colab": {
          "base_uri": "https://localhost:8080/"
        },
        "id": "FuAt6bcZq7uy",
        "outputId": "6f1e651d-ee84-4fa4-e7ad-4b449cdab026"
      },
      "source": [
        "filename = 'tweet.csv'\n",
        "data = pd.read_csv(filename, encoding='utf-8')"
      ],
      "execution_count": 5,
      "outputs": [
        {
          "output_type": "stream",
          "text": [
            "/usr/local/lib/python3.6/dist-packages/IPython/core/interactiveshell.py:2718: DtypeWarning: Columns (0,5,6,11,12,13,43) have mixed types.Specify dtype option on import or set low_memory=False.\n",
            "  interactivity=interactivity, compiler=compiler, result=result)\n"
          ],
          "name": "stderr"
        }
      ]
    },
    {
      "cell_type": "markdown",
      "metadata": {
        "id": "An3qG8qNrWMu"
      },
      "source": [
        "#Analyze data"
      ]
    },
    {
      "cell_type": "code",
      "metadata": {
        "colab": {
          "base_uri": "https://localhost:8080/",
          "height": 608
        },
        "id": "wmyulaHsra9u",
        "outputId": "43f7c40b-bfed-483b-f304-0b19a6e03edb"
      },
      "source": [
        "data.head()"
      ],
      "execution_count": 6,
      "outputs": [
        {
          "output_type": "execute_result",
          "data": {
            "text/html": [
              "<div>\n",
              "<style scoped>\n",
              "    .dataframe tbody tr th:only-of-type {\n",
              "        vertical-align: middle;\n",
              "    }\n",
              "\n",
              "    .dataframe tbody tr th {\n",
              "        vertical-align: top;\n",
              "    }\n",
              "\n",
              "    .dataframe thead th {\n",
              "        text-align: right;\n",
              "    }\n",
              "</style>\n",
              "<table border=\"1\" class=\"dataframe\">\n",
              "  <thead>\n",
              "    <tr style=\"text-align: right;\">\n",
              "      <th></th>\n",
              "      <th>Unnamed: 0</th>\n",
              "      <th>id</th>\n",
              "      <th>username</th>\n",
              "      <th>title</th>\n",
              "      <th>about</th>\n",
              "      <th>members</th>\n",
              "      <th>posts_count</th>\n",
              "      <th>language</th>\n",
              "      <th>avg_view</th>\n",
              "      <th>last_dump_date</th>\n",
              "      <th>last_cold_date</th>\n",
              "      <th>duration_update</th>\n",
              "      <th>following_count</th>\n",
              "      <th>verified</th>\n",
              "      <th>favourites_count</th>\n",
              "      <th>location</th>\n",
              "      <th>url</th>\n",
              "      <th>join_date</th>\n",
              "      <th>deleted</th>\n",
              "      <th>index_name</th>\n",
              "      <th>UTC_date</th>\n",
              "      <th>date</th>\n",
              "      <th>views</th>\n",
              "      <th>retweet_count</th>\n",
              "      <th>text</th>\n",
              "      <th>fwdfrom</th>\n",
              "      <th>media</th>\n",
              "      <th>hashtags</th>\n",
              "      <th>to</th>\n",
              "      <th>from</th>\n",
              "      <th>post_id</th>\n",
              "      <th>link</th>\n",
              "      <th>dump_type</th>\n",
              "      <th>meta</th>\n",
              "      <th>is_adv</th>\n",
              "      <th>bi-keywords</th>\n",
              "      <th>keywords</th>\n",
              "      <th>neg_adj</th>\n",
              "      <th>pos_adj</th>\n",
              "      <th>sentiment</th>\n",
              "      <th>mentions</th>\n",
              "      <th>locations</th>\n",
              "      <th>urls</th>\n",
              "      <th>cashtags</th>\n",
              "    </tr>\n",
              "  </thead>\n",
              "  <tbody>\n",
              "    <tr>\n",
              "      <th>0</th>\n",
              "      <td>0</td>\n",
              "      <td>9.772081e+17</td>\n",
              "      <td>jasooyichii</td>\n",
              "      <td>milad mohammadi</td>\n",
              "      <td>Exhibitions reporter/\\nmr event/\\norganizer of...</td>\n",
              "      <td>856</td>\n",
              "      <td>470</td>\n",
              "      <td>NaN</td>\n",
              "      <td>0.0</td>\n",
              "      <td>2020-10-26</td>\n",
              "      <td>2020-10-09</td>\n",
              "      <td>24</td>\n",
              "      <td>774</td>\n",
              "      <td>0</td>\n",
              "      <td>1927.0</td>\n",
              "      <td>tehran - iran</td>\n",
              "      <td>https://t.co/uz1hdKY1V8</td>\n",
              "      <td>2018-03-23T15:38:55</td>\n",
              "      <td>0.0</td>\n",
              "      <td>tw-sourceinfo-2020-10</td>\n",
              "      <td>2020-10-25T20:40:58</td>\n",
              "      <td>2020-10-25 17:10:58</td>\n",
              "      <td>NaN</td>\n",
              "      <td>NaN</td>\n",
              "      <td>NaN</td>\n",
              "      <td>NaN</td>\n",
              "      <td>NaN</td>\n",
              "      <td>NaN</td>\n",
              "      <td>NaN</td>\n",
              "      <td>NaN</td>\n",
              "      <td>NaN</td>\n",
              "      <td>NaN</td>\n",
              "      <td>NaN</td>\n",
              "      <td>NaN</td>\n",
              "      <td>NaN</td>\n",
              "      <td>NaN</td>\n",
              "      <td>NaN</td>\n",
              "      <td>NaN</td>\n",
              "      <td>NaN</td>\n",
              "      <td>NaN</td>\n",
              "      <td>NaN</td>\n",
              "      <td>NaN</td>\n",
              "      <td>NaN</td>\n",
              "      <td>NaN</td>\n",
              "    </tr>\n",
              "    <tr>\n",
              "      <th>1</th>\n",
              "      <td>1</td>\n",
              "      <td>1.314951e+18</td>\n",
              "      <td>NaN</td>\n",
              "      <td>NaN</td>\n",
              "      <td>NaN</td>\n",
              "      <td>NaN</td>\n",
              "      <td>NaN</td>\n",
              "      <td>fa</td>\n",
              "      <td>NaN</td>\n",
              "      <td>NaN</td>\n",
              "      <td>NaN</td>\n",
              "      <td>NaN</td>\n",
              "      <td>NaN</td>\n",
              "      <td>NaN</td>\n",
              "      <td>NaN</td>\n",
              "      <td>NaN</td>\n",
              "      <td>NaN</td>\n",
              "      <td>NaN</td>\n",
              "      <td>NaN</td>\n",
              "      <td>tw-user-2020-10</td>\n",
              "      <td>2020-10-10T15:29:51</td>\n",
              "      <td>2020-10-10 15:29:51</td>\n",
              "      <td>7897.0</td>\n",
              "      <td>457.0</td>\n",
              "      <td>آن شب اسفندماه که برای نخستین بار خبر درگذشت #...</td>\n",
              "      <td>{'username': 'febrahimzade', 'id': '198563041'...</td>\n",
              "      <td>{'caption': 'آن شب اسفندماه که برای نخستین بار...</td>\n",
              "      <td>['محمدرضاشجریان', 'افسانه_شجریان']</td>\n",
              "      <td>{'participants_count': 181, 'username': 'lonel...</td>\n",
              "      <td>{'participants_count': 181, 'username': 'lonel...</td>\n",
              "      <td>1886.0</td>\n",
              "      <td>https://twitter.com/i/web/status/1314951285540...</td>\n",
              "      <td>scheduled</td>\n",
              "      <td>['اجتماعی']</td>\n",
              "      <td>1.0</td>\n",
              "      <td>['اسفندماه خبر', 'خبر درگذشت', 'درگذشت محمدرضا...</td>\n",
              "      <td>['پدر', 'درگذشت', 'علاقه', 'بیمارستان', 'پاسخ'...</td>\n",
              "      <td>['بار', 'درگذشت']</td>\n",
              "      <td>['آرامش', 'باور', 'زنده']</td>\n",
              "      <td>positive</td>\n",
              "      <td>NaN</td>\n",
              "      <td>NaN</td>\n",
              "      <td>NaN</td>\n",
              "      <td>NaN</td>\n",
              "    </tr>\n",
              "    <tr>\n",
              "      <th>2</th>\n",
              "      <td>2</td>\n",
              "      <td>1.314951e+18</td>\n",
              "      <td>NaN</td>\n",
              "      <td>NaN</td>\n",
              "      <td>NaN</td>\n",
              "      <td>NaN</td>\n",
              "      <td>NaN</td>\n",
              "      <td>en</td>\n",
              "      <td>NaN</td>\n",
              "      <td>NaN</td>\n",
              "      <td>NaN</td>\n",
              "      <td>NaN</td>\n",
              "      <td>NaN</td>\n",
              "      <td>NaN</td>\n",
              "      <td>NaN</td>\n",
              "      <td>NaN</td>\n",
              "      <td>NaN</td>\n",
              "      <td>NaN</td>\n",
              "      <td>NaN</td>\n",
              "      <td>tw-user-2020-10</td>\n",
              "      <td>2020-10-10T15:28:26</td>\n",
              "      <td>2020-10-10 15:28:26</td>\n",
              "      <td>1.0</td>\n",
              "      <td>0.0</td>\n",
              "      <td>@daydreaminblack Niiiice😂😂😂😂😂</td>\n",
              "      <td>NaN</td>\n",
              "      <td>NaN</td>\n",
              "      <td>NaN</td>\n",
              "      <td>{'participants_count': 181, 'username': 'lonel...</td>\n",
              "      <td>{'participants_count': 181, 'username': 'lonel...</td>\n",
              "      <td>1885.0</td>\n",
              "      <td>https://twitter.com/i/web/status/1314950928517...</td>\n",
              "      <td>scheduled</td>\n",
              "      <td>['متفرقه']</td>\n",
              "      <td>0.0</td>\n",
              "      <td>[]</td>\n",
              "      <td>['daydreaminblack', 'Niiiice']</td>\n",
              "      <td>NaN</td>\n",
              "      <td>NaN</td>\n",
              "      <td>neutral</td>\n",
              "      <td>['daydreaminblack']</td>\n",
              "      <td>NaN</td>\n",
              "      <td>NaN</td>\n",
              "      <td>NaN</td>\n",
              "    </tr>\n",
              "    <tr>\n",
              "      <th>3</th>\n",
              "      <td>3</td>\n",
              "      <td>1.314951e+18</td>\n",
              "      <td>NaN</td>\n",
              "      <td>NaN</td>\n",
              "      <td>NaN</td>\n",
              "      <td>NaN</td>\n",
              "      <td>NaN</td>\n",
              "      <td>fa</td>\n",
              "      <td>NaN</td>\n",
              "      <td>NaN</td>\n",
              "      <td>NaN</td>\n",
              "      <td>NaN</td>\n",
              "      <td>NaN</td>\n",
              "      <td>NaN</td>\n",
              "      <td>NaN</td>\n",
              "      <td>NaN</td>\n",
              "      <td>NaN</td>\n",
              "      <td>NaN</td>\n",
              "      <td>NaN</td>\n",
              "      <td>tw-user-2020-10</td>\n",
              "      <td>2020-10-10T15:28:00</td>\n",
              "      <td>2020-10-10 15:28:00</td>\n",
              "      <td>33.0</td>\n",
              "      <td>1.0</td>\n",
              "      <td>جدا از رفتن شجریان، چهر‌ه‌های غمبار همایون و ع...</td>\n",
              "      <td>{'username': 'helia_hh', 'id': '3025201221', '...</td>\n",
              "      <td>NaN</td>\n",
              "      <td>NaN</td>\n",
              "      <td>{'participants_count': 181, 'username': 'lonel...</td>\n",
              "      <td>{'participants_count': 181, 'username': 'lonel...</td>\n",
              "      <td>1884.0</td>\n",
              "      <td>https://twitter.com/i/web/status/1314950817338...</td>\n",
              "      <td>scheduled</td>\n",
              "      <td>['هنری']</td>\n",
              "      <td>0.0</td>\n",
              "      <td>['رفتن شجریان', 'شجریان چهر', 'چهر غمبار', 'غم...</td>\n",
              "      <td>['رفتن', 'شجریان', 'مچاله', 'علیزاده', 'چهر', ...</td>\n",
              "      <td>['جدا', 'مچاله']</td>\n",
              "      <td>NaN</td>\n",
              "      <td>negative</td>\n",
              "      <td>NaN</td>\n",
              "      <td>NaN</td>\n",
              "      <td>NaN</td>\n",
              "      <td>NaN</td>\n",
              "    </tr>\n",
              "    <tr>\n",
              "      <th>4</th>\n",
              "      <td>4</td>\n",
              "      <td>1.314895e+18</td>\n",
              "      <td>NaN</td>\n",
              "      <td>NaN</td>\n",
              "      <td>NaN</td>\n",
              "      <td>NaN</td>\n",
              "      <td>NaN</td>\n",
              "      <td>fa</td>\n",
              "      <td>NaN</td>\n",
              "      <td>NaN</td>\n",
              "      <td>NaN</td>\n",
              "      <td>NaN</td>\n",
              "      <td>NaN</td>\n",
              "      <td>NaN</td>\n",
              "      <td>NaN</td>\n",
              "      <td>NaN</td>\n",
              "      <td>NaN</td>\n",
              "      <td>NaN</td>\n",
              "      <td>NaN</td>\n",
              "      <td>tw-user-2020-10</td>\n",
              "      <td>2020-10-10T11:47:36</td>\n",
              "      <td>2020-10-10 11:47:36</td>\n",
              "      <td>3046.0</td>\n",
              "      <td>191.0</td>\n",
              "      <td>دیگه تویی که تا دیروز عکس سردار دلها رو استوری...</td>\n",
              "      <td>{'username': 'Javadhastam2', 'id': '1111065915...</td>\n",
              "      <td>{'caption': 'دیگه تویی که تا دیروز عکس سردار د...</td>\n",
              "      <td>NaN</td>\n",
              "      <td>{'participants_count': 181, 'username': 'lonel...</td>\n",
              "      <td>{'participants_count': 181, 'username': 'lonel...</td>\n",
              "      <td>1883.0</td>\n",
              "      <td>https://twitter.com/i/web/status/1314895352772...</td>\n",
              "      <td>scheduled</td>\n",
              "      <td>['هنری']</td>\n",
              "      <td>1.0</td>\n",
              "      <td>['تویی عکس', 'عکس سردار', 'سردار دلها', 'دلها ...</td>\n",
              "      <td>['عکس', 'استوری', 'تویی', 'شجریان', 'سردار', '...</td>\n",
              "      <td>['پست']</td>\n",
              "      <td>NaN</td>\n",
              "      <td>negative</td>\n",
              "      <td>NaN</td>\n",
              "      <td>NaN</td>\n",
              "      <td>NaN</td>\n",
              "      <td>NaN</td>\n",
              "    </tr>\n",
              "  </tbody>\n",
              "</table>\n",
              "</div>"
            ],
            "text/plain": [
              "  Unnamed: 0            id     username  ... locations urls cashtags\n",
              "0          0  9.772081e+17  jasooyichii  ...       NaN  NaN      NaN\n",
              "1          1  1.314951e+18          NaN  ...       NaN  NaN      NaN\n",
              "2          2  1.314951e+18          NaN  ...       NaN  NaN      NaN\n",
              "3          3  1.314951e+18          NaN  ...       NaN  NaN      NaN\n",
              "4          4  1.314895e+18          NaN  ...       NaN  NaN      NaN\n",
              "\n",
              "[5 rows x 44 columns]"
            ]
          },
          "metadata": {
            "tags": []
          },
          "execution_count": 6
        }
      ]
    },
    {
      "cell_type": "code",
      "metadata": {
        "colab": {
          "base_uri": "https://localhost:8080/"
        },
        "id": "aEQvnTV6V3sS",
        "outputId": "1113411d-f010-44db-d315-7b217702ec49"
      },
      "source": [
        "data.info()"
      ],
      "execution_count": 7,
      "outputs": [
        {
          "output_type": "stream",
          "text": [
            "<class 'pandas.core.frame.DataFrame'>\n",
            "RangeIndex: 1196368 entries, 0 to 1196367\n",
            "Data columns (total 44 columns):\n",
            " #   Column            Non-Null Count    Dtype  \n",
            "---  ------            --------------    -----  \n",
            " 0   Unnamed: 0        1196368 non-null  object \n",
            " 1   id                1196355 non-null  float64\n",
            " 2   username          257913 non-null   object \n",
            " 3   title             257719 non-null   object \n",
            " 4   about             176930 non-null   object \n",
            " 5   members           242382 non-null   object \n",
            " 6   posts_count       242381 non-null   object \n",
            " 7   language          938461 non-null   object \n",
            " 8   avg_view          242381 non-null   float64\n",
            " 9   last_dump_date    242381 non-null   object \n",
            " 10  last_cold_date    242381 non-null   object \n",
            " 11  duration_update   242373 non-null   object \n",
            " 12  following_count   242369 non-null   object \n",
            " 13  verified          242381 non-null   object \n",
            " 14  favourites_count  242381 non-null   float64\n",
            " 15  location          134416 non-null   object \n",
            " 16  url               38877 non-null    object \n",
            " 17  join_date         242381 non-null   object \n",
            " 18  deleted           242362 non-null   float64\n",
            " 19  index_name        1180804 non-null  object \n",
            " 20  UTC_date          1180804 non-null  object \n",
            " 21  date              1180804 non-null  object \n",
            " 22  views             938442 non-null   float64\n",
            " 23  retweet_count     938442 non-null   float64\n",
            " 24  text              938441 non-null   object \n",
            " 25  fwdfrom           429214 non-null   object \n",
            " 26  media             239844 non-null   object \n",
            " 27  hashtags          173205 non-null   object \n",
            " 28  to                938442 non-null   object \n",
            " 29  from              938442 non-null   object \n",
            " 30  post_id           938442 non-null   float64\n",
            " 31  link              938442 non-null   object \n",
            " 32  dump_type         938442 non-null   object \n",
            " 33  meta              938442 non-null   object \n",
            " 34  is_adv            938442 non-null   float64\n",
            " 35  bi-keywords       938442 non-null   object \n",
            " 36  keywords          938442 non-null   object \n",
            " 37  neg_adj           215749 non-null   object \n",
            " 38  pos_adj           255628 non-null   object \n",
            " 39  sentiment         623169 non-null   object \n",
            " 40  mentions          410358 non-null   object \n",
            " 41  locations         16414 non-null    object \n",
            " 42  urls              158612 non-null   object \n",
            " 43  cashtags          195 non-null      object \n",
            "dtypes: float64(8), object(36)\n",
            "memory usage: 401.6+ MB\n"
          ],
          "name": "stdout"
        }
      ]
    },
    {
      "cell_type": "code",
      "metadata": {
        "id": "a_YsPPE9jdUX"
      },
      "source": [
        "# sentiment\n",
        "data = data[['language','text', 'sentiment']]\n",
        "\n",
        "data.columns = ['lang', 'text', 'target']\n",
        "data = data[1:]"
      ],
      "execution_count": 8,
      "outputs": []
    },
    {
      "cell_type": "code",
      "metadata": {
        "colab": {
          "base_uri": "https://localhost:8080/",
          "height": 206
        },
        "id": "U240mCSBk9vI",
        "outputId": "b1a46515-72f9-456e-9d06-8f3b74f49ab3"
      },
      "source": [
        "data.head()"
      ],
      "execution_count": 9,
      "outputs": [
        {
          "output_type": "execute_result",
          "data": {
            "text/html": [
              "<div>\n",
              "<style scoped>\n",
              "    .dataframe tbody tr th:only-of-type {\n",
              "        vertical-align: middle;\n",
              "    }\n",
              "\n",
              "    .dataframe tbody tr th {\n",
              "        vertical-align: top;\n",
              "    }\n",
              "\n",
              "    .dataframe thead th {\n",
              "        text-align: right;\n",
              "    }\n",
              "</style>\n",
              "<table border=\"1\" class=\"dataframe\">\n",
              "  <thead>\n",
              "    <tr style=\"text-align: right;\">\n",
              "      <th></th>\n",
              "      <th>lang</th>\n",
              "      <th>text</th>\n",
              "      <th>target</th>\n",
              "    </tr>\n",
              "  </thead>\n",
              "  <tbody>\n",
              "    <tr>\n",
              "      <th>1</th>\n",
              "      <td>fa</td>\n",
              "      <td>آن شب اسفندماه که برای نخستین بار خبر درگذشت #...</td>\n",
              "      <td>positive</td>\n",
              "    </tr>\n",
              "    <tr>\n",
              "      <th>2</th>\n",
              "      <td>en</td>\n",
              "      <td>@daydreaminblack Niiiice😂😂😂😂😂</td>\n",
              "      <td>neutral</td>\n",
              "    </tr>\n",
              "    <tr>\n",
              "      <th>3</th>\n",
              "      <td>fa</td>\n",
              "      <td>جدا از رفتن شجریان، چهر‌ه‌های غمبار همایون و ع...</td>\n",
              "      <td>negative</td>\n",
              "    </tr>\n",
              "    <tr>\n",
              "      <th>4</th>\n",
              "      <td>fa</td>\n",
              "      <td>دیگه تویی که تا دیروز عکس سردار دلها رو استوری...</td>\n",
              "      <td>negative</td>\n",
              "    </tr>\n",
              "    <tr>\n",
              "      <th>5</th>\n",
              "      <td>fa</td>\n",
              "      <td>لازم نیست راجع‌به هر مسئله‌ای نظر بدی و موضع‌گ...</td>\n",
              "      <td>dipole</td>\n",
              "    </tr>\n",
              "  </tbody>\n",
              "</table>\n",
              "</div>"
            ],
            "text/plain": [
              "  lang                                               text    target\n",
              "1   fa  آن شب اسفندماه که برای نخستین بار خبر درگذشت #...  positive\n",
              "2   en                      @daydreaminblack Niiiice😂😂😂😂😂   neutral\n",
              "3   fa  جدا از رفتن شجریان، چهر‌ه‌های غمبار همایون و ع...  negative\n",
              "4   fa  دیگه تویی که تا دیروز عکس سردار دلها رو استوری...  negative\n",
              "5   fa  لازم نیست راجع‌به هر مسئله‌ای نظر بدی و موضع‌گ...    dipole"
            ]
          },
          "metadata": {
            "tags": []
          },
          "execution_count": 9
        }
      ]
    },
    {
      "cell_type": "markdown",
      "metadata": {
        "id": "I33KswXNl9Ql"
      },
      "source": [
        "drop useless data"
      ]
    },
    {
      "cell_type": "code",
      "metadata": {
        "id": "UjeEJmSH96Hy"
      },
      "source": [
        "data = data[~data['target'].isnull()]\n",
        "data = data[data['target'].notna()]\n",
        "data = data[~data['text'].isnull()]\n",
        "data = data[data['text'].notna()]\n",
        "# not using dipole tag\n",
        "data = data[~(data['target']=='dipole')]"
      ],
      "execution_count": 10,
      "outputs": []
    },
    {
      "cell_type": "code",
      "metadata": {
        "colab": {
          "base_uri": "https://localhost:8080/"
        },
        "id": "4rBGNjmA8wmw",
        "outputId": "7e78566b-5eed-42c0-a6f6-3a8c77c7cf75"
      },
      "source": [
        "tages = list(set(data['target'].values))\n",
        "tages"
      ],
      "execution_count": 11,
      "outputs": [
        {
          "output_type": "execute_result",
          "data": {
            "text/plain": [
              "['negative', 'positive', 'neutral']"
            ]
          },
          "metadata": {
            "tags": []
          },
          "execution_count": 11
        }
      ]
    },
    {
      "cell_type": "code",
      "metadata": {
        "colab": {
          "base_uri": "https://localhost:8080/",
          "height": 548
        },
        "id": "dr8zjZrCXDEH",
        "outputId": "52a6564c-560d-401b-8a1c-5b898339b554"
      },
      "source": [
        "class_count = data['target'].value_counts()\n",
        "plt.figure(figsize = (23, 8))\n",
        "plt.bar(x = class_count.keys(), \n",
        "        height = class_count.values)\n",
        "plt.xlabel(\"Target\")\n",
        "plt.ylabel(\"Tweet count\")\n",
        "plt.title(\"Count of tweets for each topic\")\n",
        "plt.legend()"
      ],
      "execution_count": 12,
      "outputs": [
        {
          "output_type": "stream",
          "text": [
            "No handles with labels found to put in legend.\n"
          ],
          "name": "stderr"
        },
        {
          "output_type": "execute_result",
          "data": {
            "text/plain": [
              "<matplotlib.legend.Legend at 0x7fdb98f5d668>"
            ]
          },
          "metadata": {
            "tags": []
          },
          "execution_count": 12
        },
        {
          "output_type": "display_data",
          "data": {
            "image/png": "[encoded data removed]",
            "text/plain": [
              "<Figure size 1656x576 with 1 Axes>"
            ]
          },
          "metadata": {
            "tags": [],
            "needs_background": "light"
          }
        }
      ]
    },
    {
      "cell_type": "markdown",
      "metadata": {
        "id": "e1hHGFqUmS_n"
      },
      "source": [
        "## Farsi"
      ]
    },
    {
      "cell_type": "code",
      "metadata": {
        "colab": {
          "base_uri": "https://localhost:8080/",
          "height": 206
        },
        "id": "cesAb4bVnpe_",
        "outputId": "cf8619c9-bdf6-4fa6-afb0-54f82ce0022f"
      },
      "source": [
        "is_fa =  data['lang'] == 'fa'\n",
        "fa_data = data[is_fa]\n",
        "fa_data.head()"
      ],
      "execution_count": 13,
      "outputs": [
        {
          "output_type": "execute_result",
          "data": {
            "text/html": [
              "<div>\n",
              "<style scoped>\n",
              "    .dataframe tbody tr th:only-of-type {\n",
              "        vertical-align: middle;\n",
              "    }\n",
              "\n",
              "    .dataframe tbody tr th {\n",
              "        vertical-align: top;\n",
              "    }\n",
              "\n",
              "    .dataframe thead th {\n",
              "        text-align: right;\n",
              "    }\n",
              "</style>\n",
              "<table border=\"1\" class=\"dataframe\">\n",
              "  <thead>\n",
              "    <tr style=\"text-align: right;\">\n",
              "      <th></th>\n",
              "      <th>lang</th>\n",
              "      <th>text</th>\n",
              "      <th>target</th>\n",
              "    </tr>\n",
              "  </thead>\n",
              "  <tbody>\n",
              "    <tr>\n",
              "      <th>1</th>\n",
              "      <td>fa</td>\n",
              "      <td>آن شب اسفندماه که برای نخستین بار خبر درگذشت #...</td>\n",
              "      <td>positive</td>\n",
              "    </tr>\n",
              "    <tr>\n",
              "      <th>3</th>\n",
              "      <td>fa</td>\n",
              "      <td>جدا از رفتن شجریان، چهر‌ه‌های غمبار همایون و ع...</td>\n",
              "      <td>negative</td>\n",
              "    </tr>\n",
              "    <tr>\n",
              "      <th>4</th>\n",
              "      <td>fa</td>\n",
              "      <td>دیگه تویی که تا دیروز عکس سردار دلها رو استوری...</td>\n",
              "      <td>negative</td>\n",
              "    </tr>\n",
              "    <tr>\n",
              "      <th>6</th>\n",
              "      <td>fa</td>\n",
              "      <td>به نظر من اینکه رفیق صمیمیت لانگ دیستنس باشه ب...</td>\n",
              "      <td>positive</td>\n",
              "    </tr>\n",
              "    <tr>\n",
              "      <th>13</th>\n",
              "      <td>fa</td>\n",
              "      <td>اون که سپردی به باد حسرت تمام دار و ندار ما بو...</td>\n",
              "      <td>positive</td>\n",
              "    </tr>\n",
              "  </tbody>\n",
              "</table>\n",
              "</div>"
            ],
            "text/plain": [
              "   lang                                               text    target\n",
              "1    fa  آن شب اسفندماه که برای نخستین بار خبر درگذشت #...  positive\n",
              "3    fa  جدا از رفتن شجریان، چهر‌ه‌های غمبار همایون و ع...  negative\n",
              "4    fa  دیگه تویی که تا دیروز عکس سردار دلها رو استوری...  negative\n",
              "6    fa  به نظر من اینکه رفیق صمیمیت لانگ دیستنس باشه ب...  positive\n",
              "13   fa  اون که سپردی به باد حسرت تمام دار و ندار ما بو...  positive"
            ]
          },
          "metadata": {
            "tags": []
          },
          "execution_count": 13
        }
      ]
    },
    {
      "cell_type": "code",
      "metadata": {
        "colab": {
          "base_uri": "https://localhost:8080/"
        },
        "id": "PGqXKc6KrHZg",
        "outputId": "07441389-1661-4816-adb1-046a7c5a0823"
      },
      "source": [
        "fa_data.shape"
      ],
      "execution_count": 14,
      "outputs": [
        {
          "output_type": "execute_result",
          "data": {
            "text/plain": [
              "(305952, 3)"
            ]
          },
          "metadata": {
            "tags": []
          },
          "execution_count": 14
        }
      ]
    },
    {
      "cell_type": "code",
      "metadata": {
        "colab": {
          "base_uri": "https://localhost:8080/",
          "height": 548
        },
        "id": "8G8NwJQUmaaV",
        "outputId": "3b1d7584-c8a5-4485-ef0e-dcde21ce37b8"
      },
      "source": [
        "class_count = fa_data['target'].value_counts()\n",
        "plt.figure(figsize = (23, 8))\n",
        "plt.bar(x = class_count.keys(), \n",
        "        height = class_count.values)\n",
        "plt.xlabel(\"Target\")\n",
        "plt.ylabel(\"Tweet count\")\n",
        "plt.title(\"Count of tweets for each topic\")\n",
        "plt.legend()"
      ],
      "execution_count": 15,
      "outputs": [
        {
          "output_type": "stream",
          "text": [
            "No handles with labels found to put in legend.\n"
          ],
          "name": "stderr"
        },
        {
          "output_type": "execute_result",
          "data": {
            "text/plain": [
              "<matplotlib.legend.Legend at 0x7fdb98a9b1d0>"
            ]
          },
          "metadata": {
            "tags": []
          },
          "execution_count": 15
        },
        {
          "output_type": "display_data",
          "data": {
            "image/png": "[encoded data removed]",
            "text/plain": [
              "<Figure size 1656x576 with 1 Axes>"
            ]
          },
          "metadata": {
            "tags": [],
            "needs_background": "light"
          }
        }
      ]
    },
    {
      "cell_type": "markdown",
      "metadata": {
        "id": "rF66uj6smoNf"
      },
      "source": [
        "we need to normalize volum of data in each category!"
      ]
    },
    {
      "cell_type": "markdown",
      "metadata": {
        "id": "QVZEU-9QmdHo"
      },
      "source": [
        "## English"
      ]
    },
    {
      "cell_type": "code",
      "metadata": {
        "colab": {
          "base_uri": "https://localhost:8080/",
          "height": 206
        },
        "id": "ctZCwtLKm-3L",
        "outputId": "d645a627-91d3-4d8f-d13b-c5b83faa66ac"
      },
      "source": [
        "is_en =  data['lang'] == 'en'\n",
        "en_data= data[is_en]\n",
        "en_data.head()"
      ],
      "execution_count": 16,
      "outputs": [
        {
          "output_type": "execute_result",
          "data": {
            "text/html": [
              "<div>\n",
              "<style scoped>\n",
              "    .dataframe tbody tr th:only-of-type {\n",
              "        vertical-align: middle;\n",
              "    }\n",
              "\n",
              "    .dataframe tbody tr th {\n",
              "        vertical-align: top;\n",
              "    }\n",
              "\n",
              "    .dataframe thead th {\n",
              "        text-align: right;\n",
              "    }\n",
              "</style>\n",
              "<table border=\"1\" class=\"dataframe\">\n",
              "  <thead>\n",
              "    <tr style=\"text-align: right;\">\n",
              "      <th></th>\n",
              "      <th>lang</th>\n",
              "      <th>text</th>\n",
              "      <th>target</th>\n",
              "    </tr>\n",
              "  </thead>\n",
              "  <tbody>\n",
              "    <tr>\n",
              "      <th>2</th>\n",
              "      <td>en</td>\n",
              "      <td>@daydreaminblack Niiiice😂😂😂😂😂</td>\n",
              "      <td>neutral</td>\n",
              "    </tr>\n",
              "    <tr>\n",
              "      <th>23</th>\n",
              "      <td>en</td>\n",
              "      <td>@safewordthe۲nd ….</td>\n",
              "      <td>neutral</td>\n",
              "    </tr>\n",
              "    <tr>\n",
              "      <th>39</th>\n",
              "      <td>en</td>\n",
              "      <td>@wahid_taniwal It seems, Taliban endorsed Pres...</td>\n",
              "      <td>positive</td>\n",
              "    </tr>\n",
              "    <tr>\n",
              "      <th>40</th>\n",
              "      <td>en</td>\n",
              "      <td>Mujahid told CBS News in a phone interview, «W...</td>\n",
              "      <td>positive</td>\n",
              "    </tr>\n",
              "    <tr>\n",
              "      <th>46</th>\n",
              "      <td>en</td>\n",
              "      <td>Watch out😱🙈🙉 https: //t. co/eyCX۳SFGnG</td>\n",
              "      <td>neutral</td>\n",
              "    </tr>\n",
              "  </tbody>\n",
              "</table>\n",
              "</div>"
            ],
            "text/plain": [
              "   lang                                               text    target\n",
              "2    en                      @daydreaminblack Niiiice😂😂😂😂😂   neutral\n",
              "23   en                                 @safewordthe۲nd ….   neutral\n",
              "39   en  @wahid_taniwal It seems, Taliban endorsed Pres...  positive\n",
              "40   en  Mujahid told CBS News in a phone interview, «W...  positive\n",
              "46   en             Watch out😱🙈🙉 https: //t. co/eyCX۳SFGnG   neutral"
            ]
          },
          "metadata": {
            "tags": []
          },
          "execution_count": 16
        }
      ]
    },
    {
      "cell_type": "code",
      "metadata": {
        "colab": {
          "base_uri": "https://localhost:8080/"
        },
        "id": "c477gLyUrBb5",
        "outputId": "7a3ca402-a6f1-41d4-dc6f-5ceff64c1c15"
      },
      "source": [
        "en_data.shape"
      ],
      "execution_count": 17,
      "outputs": [
        {
          "output_type": "execute_result",
          "data": {
            "text/plain": [
              "(273316, 3)"
            ]
          },
          "metadata": {
            "tags": []
          },
          "execution_count": 17
        }
      ]
    },
    {
      "cell_type": "code",
      "metadata": {
        "colab": {
          "base_uri": "https://localhost:8080/",
          "height": 548
        },
        "id": "BlNcCbmjm7NP",
        "outputId": "a2b87a10-7bd9-4bbd-90f9-4f3e0e07239e"
      },
      "source": [
        "class_count = en_data['target'].value_counts()\n",
        "plt.figure(figsize = (23, 8))\n",
        "plt.bar(x = class_count.keys(), \n",
        "        height = class_count.values)\n",
        "plt.xlabel(\"Target\")\n",
        "plt.ylabel(\"Tweet count\")\n",
        "plt.title(\"Count of tweets for each topic\")\n",
        "plt.legend()"
      ],
      "execution_count": 18,
      "outputs": [
        {
          "output_type": "stream",
          "text": [
            "No handles with labels found to put in legend.\n"
          ],
          "name": "stderr"
        },
        {
          "output_type": "execute_result",
          "data": {
            "text/plain": [
              "<matplotlib.legend.Legend at 0x7fdb98a662e8>"
            ]
          },
          "metadata": {
            "tags": []
          },
          "execution_count": 18
        },
        {
          "output_type": "display_data",
          "data": {
            "image/png": "[encoded data removed]",
            "text/plain": [
              "<Figure size 1656x576 with 1 Axes>"
            ]
          },
          "metadata": {
            "tags": [],
            "needs_background": "light"
          }
        }
      ]
    },
    {
      "cell_type": "markdown",
      "metadata": {
        "id": "cBol4bVlm7NU"
      },
      "source": [
        "we need to normalize volum of data in each category!"
      ]
    },
    {
      "cell_type": "markdown",
      "metadata": {
        "id": "-TxtwIy6xhc8"
      },
      "source": [
        "#Preprocess"
      ]
    },
    {
      "cell_type": "code",
      "metadata": {
        "id": "gIahet8W8qzt"
      },
      "source": [
        "def tokenizer(text):\n",
        "  text = text.str.split(' ')\n",
        "  return text"
      ],
      "execution_count": 19,
      "outputs": []
    },
    {
      "cell_type": "code",
      "metadata": {
        "id": "mCeCfztO89ZD"
      },
      "source": [
        "def stemLemmaStopWord(stemmer, lemmatizer, stopwords, alphabet, tokens):\n",
        "  final_tokens = []\n",
        "  for token in tokens:\n",
        "    stemmed_token = stemmer.stem(lemmatizer.lemmatize(token))\n",
        "    if '#' in stemmed_token:\n",
        "      stemmed_token = stemmed_token.split('#')[0]\n",
        "    if token not in stopwords and stemmed_token not in stopwords and not token == '' and stemmed_token not in alphabet:\n",
        "      final_tokens.append(stemmed_token)\n",
        "  return final_tokens"
      ],
      "execution_count": 20,
      "outputs": []
    },
    {
      "cell_type": "code",
      "metadata": {
        "id": "V75f8b9b5qPB"
      },
      "source": [
        "def num_words(words):\n",
        "  return len(words)\n",
        "\n",
        "def num_distinct_words(words):\n",
        "  return len(set(words))\n",
        "\n",
        "def all_words(data):\n",
        "  words = set()\n",
        "  for text in data.text:\n",
        "    for word in text:\n",
        "      words.add(word)\n",
        "  return words"
      ],
      "execution_count": 21,
      "outputs": []
    },
    {
      "cell_type": "markdown",
      "metadata": {
        "id": "VKoFMwqMxjV2"
      },
      "source": [
        "##Farsi"
      ]
    },
    {
      "cell_type": "code",
      "metadata": {
        "colab": {
          "base_uri": "https://localhost:8080/",
          "height": 206
        },
        "id": "XH2KjuPZxdx9",
        "outputId": "f1f7e925-8d58-4221-f84d-935bcdb1e3cb"
      },
      "source": [
        "fa_data.head()"
      ],
      "execution_count": 22,
      "outputs": [
        {
          "output_type": "execute_result",
          "data": {
            "text/html": [
              "<div>\n",
              "<style scoped>\n",
              "    .dataframe tbody tr th:only-of-type {\n",
              "        vertical-align: middle;\n",
              "    }\n",
              "\n",
              "    .dataframe tbody tr th {\n",
              "        vertical-align: top;\n",
              "    }\n",
              "\n",
              "    .dataframe thead th {\n",
              "        text-align: right;\n",
              "    }\n",
              "</style>\n",
              "<table border=\"1\" class=\"dataframe\">\n",
              "  <thead>\n",
              "    <tr style=\"text-align: right;\">\n",
              "      <th></th>\n",
              "      <th>lang</th>\n",
              "      <th>text</th>\n",
              "      <th>target</th>\n",
              "    </tr>\n",
              "  </thead>\n",
              "  <tbody>\n",
              "    <tr>\n",
              "      <th>1</th>\n",
              "      <td>fa</td>\n",
              "      <td>آن شب اسفندماه که برای نخستین بار خبر درگذشت #...</td>\n",
              "      <td>positive</td>\n",
              "    </tr>\n",
              "    <tr>\n",
              "      <th>3</th>\n",
              "      <td>fa</td>\n",
              "      <td>جدا از رفتن شجریان، چهر‌ه‌های غمبار همایون و ع...</td>\n",
              "      <td>negative</td>\n",
              "    </tr>\n",
              "    <tr>\n",
              "      <th>4</th>\n",
              "      <td>fa</td>\n",
              "      <td>دیگه تویی که تا دیروز عکس سردار دلها رو استوری...</td>\n",
              "      <td>negative</td>\n",
              "    </tr>\n",
              "    <tr>\n",
              "      <th>6</th>\n",
              "      <td>fa</td>\n",
              "      <td>به نظر من اینکه رفیق صمیمیت لانگ دیستنس باشه ب...</td>\n",
              "      <td>positive</td>\n",
              "    </tr>\n",
              "    <tr>\n",
              "      <th>13</th>\n",
              "      <td>fa</td>\n",
              "      <td>اون که سپردی به باد حسرت تمام دار و ندار ما بو...</td>\n",
              "      <td>positive</td>\n",
              "    </tr>\n",
              "  </tbody>\n",
              "</table>\n",
              "</div>"
            ],
            "text/plain": [
              "   lang                                               text    target\n",
              "1    fa  آن شب اسفندماه که برای نخستین بار خبر درگذشت #...  positive\n",
              "3    fa  جدا از رفتن شجریان، چهر‌ه‌های غمبار همایون و ع...  negative\n",
              "4    fa  دیگه تویی که تا دیروز عکس سردار دلها رو استوری...  negative\n",
              "6    fa  به نظر من اینکه رفیق صمیمیت لانگ دیستنس باشه ب...  positive\n",
              "13   fa  اون که سپردی به باد حسرت تمام دار و ندار ما بو...  positive"
            ]
          },
          "metadata": {
            "tags": []
          },
          "execution_count": 22
        }
      ]
    },
    {
      "cell_type": "code",
      "metadata": {
        "colab": {
          "base_uri": "https://localhost:8080/"
        },
        "id": "tUQYvq23yZQV",
        "outputId": "53115686-5e16-4806-b74d-9364984c5c5d"
      },
      "source": [
        "def fa_normalize(text):\n",
        "  text = text.replace(to_replace =r\"[ئيی]\", value = 'ی', regex = True)\n",
        "  text = text.replace(to_replace =r\"[ك]\", value = 'ک', regex = True)\n",
        "  text = text.replace(to_replace =r\"[ؤ]\", value = 'و', regex = True)\n",
        "  text = text.replace(to_replace =r\"[ة]\", value = 'ه', regex = True)\n",
        "  text = text.replace(to_replace=r\"[إأآا]\", value=\"ا\", regex=True)\n",
        "  text = text.replace(\n",
        "            to_replace=r\"[^ابپتثجچحخدذرزژسشصضطظعغفقکگلمنوهی]\", value=\" \", regex=True\n",
        "        )\n",
        "  text = text.replace(to_replace=r'(.)\\1+', value=r'\\1', regex=True)\n",
        "  text = text.replace(to_replace =r\"[^\\S\\n\\t]+\", value = ' ', regex = True)\n",
        "  return text  \n",
        "\n",
        "\n",
        "fa_data.text = fa_normalize(fa_data.text)"
      ],
      "execution_count": 23,
      "outputs": [
        {
          "output_type": "stream",
          "text": [
            "/usr/local/lib/python3.6/dist-packages/pandas/core/generic.py:5170: SettingWithCopyWarning: \n",
            "A value is trying to be set on a copy of a slice from a DataFrame.\n",
            "Try using .loc[row_indexer,col_indexer] = value instead\n",
            "\n",
            "See the caveats in the documentation: https://pandas.pydata.org/pandas-docs/stable/user_guide/indexing.html#returning-a-view-versus-a-copy\n",
            "  self[name] = value\n"
          ],
          "name": "stderr"
        }
      ]
    },
    {
      "cell_type": "markdown",
      "metadata": {
        "id": "wGeLw7PJ5NEZ"
      },
      "source": [
        "tokenize"
      ]
    },
    {
      "cell_type": "code",
      "metadata": {
        "colab": {
          "base_uri": "https://localhost:8080/"
        },
        "id": "O40XcoQ_5I6U",
        "outputId": "6dd53122-1de2-4b94-aec2-972760100aef"
      },
      "source": [
        "fa_data.text = tokenizer(fa_data.text)"
      ],
      "execution_count": 24,
      "outputs": [
        {
          "output_type": "stream",
          "text": [
            "/usr/local/lib/python3.6/dist-packages/pandas/core/generic.py:5170: SettingWithCopyWarning: \n",
            "A value is trying to be set on a copy of a slice from a DataFrame.\n",
            "Try using .loc[row_indexer,col_indexer] = value instead\n",
            "\n",
            "See the caveats in the documentation: https://pandas.pydata.org/pandas-docs/stable/user_guide/indexing.html#returning-a-view-versus-a-copy\n",
            "  self[name] = value\n"
          ],
          "name": "stderr"
        }
      ]
    },
    {
      "cell_type": "markdown",
      "metadata": {
        "id": "gqxvFuYR5ab8"
      },
      "source": [
        "Stem Lemma StopWord"
      ]
    },
    {
      "cell_type": "code",
      "metadata": {
        "colab": {
          "base_uri": "https://localhost:8080/"
        },
        "id": "BnZP8pFk41-f",
        "outputId": "a005f2e1-8c04-4417-efff-bed7f5893034"
      },
      "source": [
        "fa_stemmer = hazm.Stemmer()\n",
        "fa_lemmatizer = hazm.Lemmatizer()\n",
        "fa_stopwords = hazm.stopwords_list()\n",
        "fa_alphabet = set(list('ابپتثجچحخدذرزژسشصضطظعغفقکگلمنوهی'))\n",
        "\n",
        "fa_data.text = fa_data.apply(lambda row: stemLemmaStopWord(fa_stemmer, fa_lemmatizer, fa_stopwords, fa_alphabet, row.text), axis=1)"
      ],
      "execution_count": 25,
      "outputs": [
        {
          "output_type": "stream",
          "text": [
            "/usr/local/lib/python3.6/dist-packages/pandas/core/generic.py:5170: SettingWithCopyWarning: \n",
            "A value is trying to be set on a copy of a slice from a DataFrame.\n",
            "Try using .loc[row_indexer,col_indexer] = value instead\n",
            "\n",
            "See the caveats in the documentation: https://pandas.pydata.org/pandas-docs/stable/user_guide/indexing.html#returning-a-view-versus-a-copy\n",
            "  self[name] = value\n"
          ],
          "name": "stderr"
        }
      ]
    },
    {
      "cell_type": "markdown",
      "metadata": {
        "id": "PxaqkiyV5tTE"
      },
      "source": [
        "number of words"
      ]
    },
    {
      "cell_type": "code",
      "metadata": {
        "colab": {
          "base_uri": "https://localhost:8080/"
        },
        "id": "atrLOIzW9sX1",
        "outputId": "18756fdf-f7a3-4c1c-853c-222b8e0d9ca4"
      },
      "source": [
        "fa_data['words_num'] = fa_data.apply(lambda row: num_words(row.text), axis=1)\n",
        "fa_data['distinct_words_num'] = fa_data.apply(lambda row: num_distinct_words(row.text), axis=1)"
      ],
      "execution_count": 26,
      "outputs": [
        {
          "output_type": "stream",
          "text": [
            "/usr/local/lib/python3.6/dist-packages/ipykernel_launcher.py:1: SettingWithCopyWarning: \n",
            "A value is trying to be set on a copy of a slice from a DataFrame.\n",
            "Try using .loc[row_indexer,col_indexer] = value instead\n",
            "\n",
            "See the caveats in the documentation: https://pandas.pydata.org/pandas-docs/stable/user_guide/indexing.html#returning-a-view-versus-a-copy\n",
            "  \"\"\"Entry point for launching an IPython kernel.\n",
            "/usr/local/lib/python3.6/dist-packages/ipykernel_launcher.py:2: SettingWithCopyWarning: \n",
            "A value is trying to be set on a copy of a slice from a DataFrame.\n",
            "Try using .loc[row_indexer,col_indexer] = value instead\n",
            "\n",
            "See the caveats in the documentation: https://pandas.pydata.org/pandas-docs/stable/user_guide/indexing.html#returning-a-view-versus-a-copy\n",
            "  \n"
          ],
          "name": "stderr"
        }
      ]
    },
    {
      "cell_type": "markdown",
      "metadata": {
        "id": "DvM6WA6mqpWh"
      },
      "source": [
        "Remove less than 4 words long data"
      ]
    },
    {
      "cell_type": "code",
      "metadata": {
        "colab": {
          "base_uri": "https://localhost:8080/",
          "height": 206
        },
        "id": "zQMZBlVCqyL1",
        "outputId": "64ec845d-b55a-4abc-c0b9-cbfcc0598d57"
      },
      "source": [
        "fa_data = fa_data[fa_data.words_num > 3]\n",
        "fa_data .reset_index(drop=True, inplace=True)\n",
        "fa_data.head()"
      ],
      "execution_count": 27,
      "outputs": [
        {
          "output_type": "execute_result",
          "data": {
            "text/html": [
              "<div>\n",
              "<style scoped>\n",
              "    .dataframe tbody tr th:only-of-type {\n",
              "        vertical-align: middle;\n",
              "    }\n",
              "\n",
              "    .dataframe tbody tr th {\n",
              "        vertical-align: top;\n",
              "    }\n",
              "\n",
              "    .dataframe thead th {\n",
              "        text-align: right;\n",
              "    }\n",
              "</style>\n",
              "<table border=\"1\" class=\"dataframe\">\n",
              "  <thead>\n",
              "    <tr style=\"text-align: right;\">\n",
              "      <th></th>\n",
              "      <th>lang</th>\n",
              "      <th>text</th>\n",
              "      <th>target</th>\n",
              "      <th>words_num</th>\n",
              "      <th>distinct_words_num</th>\n",
              "    </tr>\n",
              "  </thead>\n",
              "  <tbody>\n",
              "    <tr>\n",
              "      <th>0</th>\n",
              "      <td>fa</td>\n",
              "      <td>[, شب, اسفندماه, خبر, درگذ, محمدرضاشجر, امد, م...</td>\n",
              "      <td>positive</td>\n",
              "      <td>28</td>\n",
              "      <td>24</td>\n",
              "    </tr>\n",
              "    <tr>\n",
              "      <th>1</th>\n",
              "      <td>fa</td>\n",
              "      <td>[جدا, رفتن, شجر, چهر, , غمبار, همایون, علیزاده...</td>\n",
              "      <td>negative</td>\n",
              "      <td>11</td>\n",
              "      <td>11</td>\n",
              "    </tr>\n",
              "    <tr>\n",
              "      <th>2</th>\n",
              "      <td>fa</td>\n",
              "      <td>[دیگه, دیروز, عکس, سردار, دل, استور, میکرد, نم...</td>\n",
              "      <td>negative</td>\n",
              "      <td>12</td>\n",
              "      <td>12</td>\n",
              "    </tr>\n",
              "    <tr>\n",
              "      <th>3</th>\n",
              "      <td>fa</td>\n",
              "      <td>[رفیق, صمیم, لانگ, دیستنس, باشه, مراتب, سخ, , ...</td>\n",
              "      <td>positive</td>\n",
              "      <td>12</td>\n",
              "      <td>10</td>\n",
              "    </tr>\n",
              "    <tr>\n",
              "      <th>4</th>\n",
              "      <td>fa</td>\n",
              "      <td>[اون, سپرد, باد, حسر, ندار, زویازاکار]</td>\n",
              "      <td>positive</td>\n",
              "      <td>6</td>\n",
              "      <td>6</td>\n",
              "    </tr>\n",
              "  </tbody>\n",
              "</table>\n",
              "</div>"
            ],
            "text/plain": [
              "  lang  ... distinct_words_num\n",
              "0   fa  ...                 24\n",
              "1   fa  ...                 11\n",
              "2   fa  ...                 12\n",
              "3   fa  ...                 10\n",
              "4   fa  ...                  6\n",
              "\n",
              "[5 rows x 5 columns]"
            ]
          },
          "metadata": {
            "tags": []
          },
          "execution_count": 27
        }
      ]
    },
    {
      "cell_type": "code",
      "metadata": {
        "colab": {
          "base_uri": "https://localhost:8080/"
        },
        "id": "KccleGiU-FYn",
        "outputId": "b3d65116-2db8-4ae0-b506-c58ce4acdcc2"
      },
      "source": [
        "words = all_words(fa_data)\n",
        "print('all farsi words: ', sum(fa_data.words_num), ' and distinct farsi words: ', len(words))"
      ],
      "execution_count": 28,
      "outputs": [
        {
          "output_type": "stream",
          "text": [
            "all farsi words:  3052379  and distinct farsi words:  84081\n"
          ],
          "name": "stdout"
        }
      ]
    },
    {
      "cell_type": "markdown",
      "metadata": {
        "id": "djZuTeJixm-x"
      },
      "source": [
        "##English"
      ]
    },
    {
      "cell_type": "code",
      "metadata": {
        "colab": {
          "base_uri": "https://localhost:8080/",
          "height": 206
        },
        "id": "DhP2yGFLxfxY",
        "outputId": "99e29f2a-ac1d-47cd-faf5-86b0e3a17d8f"
      },
      "source": [
        "en_data.head()"
      ],
      "execution_count": 29,
      "outputs": [
        {
          "output_type": "execute_result",
          "data": {
            "text/html": [
              "<div>\n",
              "<style scoped>\n",
              "    .dataframe tbody tr th:only-of-type {\n",
              "        vertical-align: middle;\n",
              "    }\n",
              "\n",
              "    .dataframe tbody tr th {\n",
              "        vertical-align: top;\n",
              "    }\n",
              "\n",
              "    .dataframe thead th {\n",
              "        text-align: right;\n",
              "    }\n",
              "</style>\n",
              "<table border=\"1\" class=\"dataframe\">\n",
              "  <thead>\n",
              "    <tr style=\"text-align: right;\">\n",
              "      <th></th>\n",
              "      <th>lang</th>\n",
              "      <th>text</th>\n",
              "      <th>target</th>\n",
              "    </tr>\n",
              "  </thead>\n",
              "  <tbody>\n",
              "    <tr>\n",
              "      <th>2</th>\n",
              "      <td>en</td>\n",
              "      <td>@daydreaminblack Niiiice😂😂😂😂😂</td>\n",
              "      <td>neutral</td>\n",
              "    </tr>\n",
              "    <tr>\n",
              "      <th>23</th>\n",
              "      <td>en</td>\n",
              "      <td>@safewordthe۲nd ….</td>\n",
              "      <td>neutral</td>\n",
              "    </tr>\n",
              "    <tr>\n",
              "      <th>39</th>\n",
              "      <td>en</td>\n",
              "      <td>@wahid_taniwal It seems, Taliban endorsed Pres...</td>\n",
              "      <td>positive</td>\n",
              "    </tr>\n",
              "    <tr>\n",
              "      <th>40</th>\n",
              "      <td>en</td>\n",
              "      <td>Mujahid told CBS News in a phone interview, «W...</td>\n",
              "      <td>positive</td>\n",
              "    </tr>\n",
              "    <tr>\n",
              "      <th>46</th>\n",
              "      <td>en</td>\n",
              "      <td>Watch out😱🙈🙉 https: //t. co/eyCX۳SFGnG</td>\n",
              "      <td>neutral</td>\n",
              "    </tr>\n",
              "  </tbody>\n",
              "</table>\n",
              "</div>"
            ],
            "text/plain": [
              "   lang                                               text    target\n",
              "2    en                      @daydreaminblack Niiiice😂😂😂😂😂   neutral\n",
              "23   en                                 @safewordthe۲nd ….   neutral\n",
              "39   en  @wahid_taniwal It seems, Taliban endorsed Pres...  positive\n",
              "40   en  Mujahid told CBS News in a phone interview, «W...  positive\n",
              "46   en             Watch out😱🙈🙉 https: //t. co/eyCX۳SFGnG   neutral"
            ]
          },
          "metadata": {
            "tags": []
          },
          "execution_count": 29
        }
      ]
    },
    {
      "cell_type": "code",
      "metadata": {
        "colab": {
          "base_uri": "https://localhost:8080/"
        },
        "id": "vRxtagQGA3ih",
        "outputId": "222fb7a5-af77-4a68-a0e3-83ad51eebd7b"
      },
      "source": [
        "def en_normalize(text):\n",
        "  text = text.replace(to_replace =r'@([A-Za-z0-9_]+)', value = '', regex = True)\n",
        "  text = text.replace(to_replace=r\"http([^\\s\\\\]+)\", value=\"\", regex=True)\n",
        "  text = text.str.lower()\n",
        "  text = text.replace(to_replace =r\"[^a-z]\", value = ' ', regex = True)\n",
        "  text = text.replace(to_replace=r'(.)\\1+', value=r'\\1', regex=True)\n",
        "  text = text.replace(to_replace =r\"[^\\S\\n\\t]+\", value = ' ', regex = True)\n",
        "  return text  \n",
        "\n",
        "en_data.text = en_normalize(en_data.text)"
      ],
      "execution_count": 30,
      "outputs": [
        {
          "output_type": "stream",
          "text": [
            "/usr/local/lib/python3.6/dist-packages/pandas/core/generic.py:5170: SettingWithCopyWarning: \n",
            "A value is trying to be set on a copy of a slice from a DataFrame.\n",
            "Try using .loc[row_indexer,col_indexer] = value instead\n",
            "\n",
            "See the caveats in the documentation: https://pandas.pydata.org/pandas-docs/stable/user_guide/indexing.html#returning-a-view-versus-a-copy\n",
            "  self[name] = value\n"
          ],
          "name": "stderr"
        }
      ]
    },
    {
      "cell_type": "markdown",
      "metadata": {
        "id": "XhGD_N8O6AO2"
      },
      "source": [
        "tokenize"
      ]
    },
    {
      "cell_type": "code",
      "metadata": {
        "colab": {
          "base_uri": "https://localhost:8080/"
        },
        "id": "eE4MLygP6AO6",
        "outputId": "2c3220d4-1753-4d59-93a5-cfba2c2b4a60"
      },
      "source": [
        "en_data.text = tokenizer(en_data.text)"
      ],
      "execution_count": 31,
      "outputs": [
        {
          "output_type": "stream",
          "text": [
            "/usr/local/lib/python3.6/dist-packages/pandas/core/generic.py:5170: SettingWithCopyWarning: \n",
            "A value is trying to be set on a copy of a slice from a DataFrame.\n",
            "Try using .loc[row_indexer,col_indexer] = value instead\n",
            "\n",
            "See the caveats in the documentation: https://pandas.pydata.org/pandas-docs/stable/user_guide/indexing.html#returning-a-view-versus-a-copy\n",
            "  self[name] = value\n"
          ],
          "name": "stderr"
        }
      ]
    },
    {
      "cell_type": "markdown",
      "metadata": {
        "id": "E6NEPkVY6AO7"
      },
      "source": [
        "Stem Lemma StopWord"
      ]
    },
    {
      "cell_type": "code",
      "metadata": {
        "colab": {
          "base_uri": "https://localhost:8080/"
        },
        "id": "dFP_l3q76AO-",
        "outputId": "b79fb32a-67e5-4ef0-d412-6b163083df25"
      },
      "source": [
        "en_stemmer = PorterStemmer()\n",
        "en_lemmatizer = WordNetLemmatizer()\n",
        "en_stopwords = set(stopwords.words(\"english\"))\n",
        "en_alphabet = set(list('abcdefghijklmnopqrstuvwxyz'))\n",
        "\n",
        "en_data.text = en_data.apply(lambda row: stemLemmaStopWord(en_stemmer, en_lemmatizer, en_stopwords, en_alphabet, row.text), axis=1)"
      ],
      "execution_count": 32,
      "outputs": [
        {
          "output_type": "stream",
          "text": [
            "/usr/local/lib/python3.6/dist-packages/pandas/core/generic.py:5170: SettingWithCopyWarning: \n",
            "A value is trying to be set on a copy of a slice from a DataFrame.\n",
            "Try using .loc[row_indexer,col_indexer] = value instead\n",
            "\n",
            "See the caveats in the documentation: https://pandas.pydata.org/pandas-docs/stable/user_guide/indexing.html#returning-a-view-versus-a-copy\n",
            "  self[name] = value\n"
          ],
          "name": "stderr"
        }
      ]
    },
    {
      "cell_type": "markdown",
      "metadata": {
        "id": "8xxxcTPn6AO_"
      },
      "source": [
        "number of words"
      ]
    },
    {
      "cell_type": "code",
      "metadata": {
        "colab": {
          "base_uri": "https://localhost:8080/"
        },
        "id": "ydHaA3p96APE",
        "outputId": "70223593-0f89-4aec-fbc7-a73dfb6d7157"
      },
      "source": [
        "en_data['words_num'] = en_data.apply(lambda row: num_words(row.text), axis=1)\n",
        "en_data['distinct_words_num'] = en_data.apply(lambda row: num_distinct_words(row.text), axis=1)"
      ],
      "execution_count": 33,
      "outputs": [
        {
          "output_type": "stream",
          "text": [
            "/usr/local/lib/python3.6/dist-packages/ipykernel_launcher.py:1: SettingWithCopyWarning: \n",
            "A value is trying to be set on a copy of a slice from a DataFrame.\n",
            "Try using .loc[row_indexer,col_indexer] = value instead\n",
            "\n",
            "See the caveats in the documentation: https://pandas.pydata.org/pandas-docs/stable/user_guide/indexing.html#returning-a-view-versus-a-copy\n",
            "  \"\"\"Entry point for launching an IPython kernel.\n",
            "/usr/local/lib/python3.6/dist-packages/ipykernel_launcher.py:2: SettingWithCopyWarning: \n",
            "A value is trying to be set on a copy of a slice from a DataFrame.\n",
            "Try using .loc[row_indexer,col_indexer] = value instead\n",
            "\n",
            "See the caveats in the documentation: https://pandas.pydata.org/pandas-docs/stable/user_guide/indexing.html#returning-a-view-versus-a-copy\n",
            "  \n"
          ],
          "name": "stderr"
        }
      ]
    },
    {
      "cell_type": "markdown",
      "metadata": {
        "id": "BoE01HLjrM46"
      },
      "source": [
        "Remove less than 4 words long data"
      ]
    },
    {
      "cell_type": "code",
      "metadata": {
        "colab": {
          "base_uri": "https://localhost:8080/",
          "height": 206
        },
        "id": "2o8SR7qArM4-",
        "outputId": "3a70fdb3-5fe3-43fe-ec59-a079a19a2ac1"
      },
      "source": [
        "en_data = en_data[en_data.words_num > 3]\n",
        "en_data .reset_index(drop=True, inplace=True)\n",
        "en_data.head()"
      ],
      "execution_count": 34,
      "outputs": [
        {
          "output_type": "execute_result",
          "data": {
            "text/html": [
              "<div>\n",
              "<style scoped>\n",
              "    .dataframe tbody tr th:only-of-type {\n",
              "        vertical-align: middle;\n",
              "    }\n",
              "\n",
              "    .dataframe tbody tr th {\n",
              "        vertical-align: top;\n",
              "    }\n",
              "\n",
              "    .dataframe thead th {\n",
              "        text-align: right;\n",
              "    }\n",
              "</style>\n",
              "<table border=\"1\" class=\"dataframe\">\n",
              "  <thead>\n",
              "    <tr style=\"text-align: right;\">\n",
              "      <th></th>\n",
              "      <th>lang</th>\n",
              "      <th>text</th>\n",
              "      <th>target</th>\n",
              "      <th>words_num</th>\n",
              "      <th>distinct_words_num</th>\n",
              "    </tr>\n",
              "  </thead>\n",
              "  <tbody>\n",
              "    <tr>\n",
              "      <th>0</th>\n",
              "      <td>en</td>\n",
              "      <td>[sem, taliban, endors, presid, trump, nomin, p...</td>\n",
              "      <td>positive</td>\n",
              "      <td>8</td>\n",
              "      <td>8</td>\n",
              "    </tr>\n",
              "    <tr>\n",
              "      <th>1</th>\n",
              "      <td>en</td>\n",
              "      <td>[mujahid, told, cb, news, phone, interview, ho...</td>\n",
              "      <td>positive</td>\n",
              "      <td>31</td>\n",
              "      <td>31</td>\n",
              "    </tr>\n",
              "    <tr>\n",
              "      <th>2</th>\n",
              "      <td>en</td>\n",
              "      <td>[watch, co, eycx, sfgng]</td>\n",
              "      <td>neutral</td>\n",
              "      <td>4</td>\n",
              "      <td>4</td>\n",
              "    </tr>\n",
              "    <tr>\n",
              "      <th>3</th>\n",
              "      <td>en</td>\n",
              "      <td>[mentalhealth, mentalhealthfor, co, sqk]</td>\n",
              "      <td>neutral</td>\n",
              "      <td>4</td>\n",
              "      <td>4</td>\n",
              "    </tr>\n",
              "    <tr>\n",
              "      <th>4</th>\n",
              "      <td>en</td>\n",
              "      <td>[pictur, speak, milion, word, ye, peopl, absor...</td>\n",
              "      <td>positive</td>\n",
              "      <td>25</td>\n",
              "      <td>23</td>\n",
              "    </tr>\n",
              "  </tbody>\n",
              "</table>\n",
              "</div>"
            ],
            "text/plain": [
              "  lang  ... distinct_words_num\n",
              "0   en  ...                  8\n",
              "1   en  ...                 31\n",
              "2   en  ...                  4\n",
              "3   en  ...                  4\n",
              "4   en  ...                 23\n",
              "\n",
              "[5 rows x 5 columns]"
            ]
          },
          "metadata": {
            "tags": []
          },
          "execution_count": 34
        }
      ]
    },
    {
      "cell_type": "code",
      "metadata": {
        "colab": {
          "base_uri": "https://localhost:8080/"
        },
        "id": "hlOc3a756APH",
        "outputId": "994443f7-0244-462d-80d6-1b763f46913d"
      },
      "source": [
        "words = all_words(en_data)\n",
        "print('all english words: ', sum(en_data.words_num), ' and distinct english words: ', len(words))"
      ],
      "execution_count": 35,
      "outputs": [
        {
          "output_type": "stream",
          "text": [
            "all english words:  2321967  and distinct english words:  173613\n"
          ],
          "name": "stdout"
        }
      ]
    },
    {
      "cell_type": "markdown",
      "metadata": {
        "id": "D1nUH2E0phEo"
      },
      "source": [
        "## Normalize class sizes"
      ]
    },
    {
      "cell_type": "code",
      "metadata": {
        "id": "Iet4xsIQsM29"
      },
      "source": [
        "def normalize_size(data):\n",
        "  class_count = data['target'].value_counts()\n",
        "  min_size = class_count.min() - 1\n",
        "\n",
        "  new_data = pd.DataFrame([], columns=data.columns)\n",
        "\n",
        "  for x in tages:\n",
        "    data_x = data[data.target == x]\n",
        "    data_x.reset_index(drop=True, inplace=True)\n",
        "    data_x = data_x[:min_size]\n",
        "    frames = [new_data, data_x]\n",
        "    new_data = pd.concat(frames)\n",
        "\n",
        "  new_data.reset_index(drop=True, inplace=True)\n",
        "  return new_data"
      ],
      "execution_count": 36,
      "outputs": []
    },
    {
      "cell_type": "code",
      "metadata": {
        "id": "RmHsPdX2uN3I"
      },
      "source": [
        "fa_data = normalize_size(fa_data)\n",
        "# shuffle\n",
        "fa_data  = fa_data.sample(frac = 1)\n",
        "fa_data.reset_index(drop=True, inplace=True)"
      ],
      "execution_count": 37,
      "outputs": []
    },
    {
      "cell_type": "code",
      "metadata": {
        "colab": {
          "base_uri": "https://localhost:8080/",
          "height": 548
        },
        "id": "ocpm2oSdvTDj",
        "outputId": "1cf3a66e-d2a6-471f-a814-a392e5826955"
      },
      "source": [
        "class_count = fa_data['target'].value_counts()\n",
        "plt.figure(figsize = (23, 8))\n",
        "plt.bar(x = class_count.keys(), \n",
        "        height = class_count.values)\n",
        "plt.xlabel(\"Target\")\n",
        "plt.ylabel(\"Tweet count\")\n",
        "plt.title(\"Count of tweets for each topic\")\n",
        "plt.legend()"
      ],
      "execution_count": 38,
      "outputs": [
        {
          "output_type": "stream",
          "text": [
            "No handles with labels found to put in legend.\n"
          ],
          "name": "stderr"
        },
        {
          "output_type": "execute_result",
          "data": {
            "text/plain": [
              "<matplotlib.legend.Legend at 0x7fdb5e405550>"
            ]
          },
          "metadata": {
            "tags": []
          },
          "execution_count": 38
        },
        {
          "output_type": "display_data",
          "data": {
            "image/png": "[encoded data removed]",
            "text/plain": [
              "<Figure size 1656x576 with 1 Axes>"
            ]
          },
          "metadata": {
            "tags": [],
            "needs_background": "light"
          }
        }
      ]
    },
    {
      "cell_type": "code",
      "metadata": {
        "id": "DRkaBto0yHzo"
      },
      "source": [
        "en_data = normalize_size(en_data)\n",
        "# shuffle\n",
        "en_data  = en_data.sample(frac = 1)\n",
        "en_data.reset_index(drop=True, inplace=True)"
      ],
      "execution_count": 39,
      "outputs": []
    },
    {
      "cell_type": "code",
      "metadata": {
        "colab": {
          "base_uri": "https://localhost:8080/",
          "height": 548
        },
        "id": "4bbGkS7OyHzs",
        "outputId": "ec76cf3d-bcb4-4fe9-a128-91a7d9b0d08d"
      },
      "source": [
        "class_count = en_data['target'].value_counts()\n",
        "plt.figure(figsize = (23, 8))\n",
        "plt.bar(x = class_count.keys(), \n",
        "        height = class_count.values)\n",
        "plt.xlabel(\"Target\")\n",
        "plt.ylabel(\"Tweet count\")\n",
        "plt.title(\"Count of tweets for each topic\")\n",
        "plt.legend()"
      ],
      "execution_count": 40,
      "outputs": [
        {
          "output_type": "stream",
          "text": [
            "No handles with labels found to put in legend.\n"
          ],
          "name": "stderr"
        },
        {
          "output_type": "execute_result",
          "data": {
            "text/plain": [
              "<matplotlib.legend.Legend at 0x7fdb5e3f15f8>"
            ]
          },
          "metadata": {
            "tags": []
          },
          "execution_count": 40
        },
        {
          "output_type": "display_data",
          "data": {
            "image/png": "[encoded data removed]",
            "text/plain": [
              "<Figure size 1656x576 with 1 Axes>"
            ]
          },
          "metadata": {
            "tags": [],
            "needs_background": "light"
          }
        }
      ]
    },
    {
      "cell_type": "code",
      "metadata": {
        "id": "AIsBDbAavTCc"
      },
      "source": [
        ""
      ],
      "execution_count": 40,
      "outputs": []
    },
    {
      "cell_type": "markdown",
      "metadata": {
        "id": "D3xb5ocAMNXh"
      },
      "source": [
        "#Prepare test and train sets"
      ]
    },
    {
      "cell_type": "markdown",
      "metadata": {
        "id": "06qTnNucYLHQ"
      },
      "source": [
        "devide farsi test and train\n"
      ]
    },
    {
      "cell_type": "code",
      "metadata": {
        "id": "PJYhYbI8U8ZQ"
      },
      "source": [
        "total_len = fa_data.shape[0]\n",
        "\n",
        "train_len = 60*total_len//100\n",
        "train_fa_data = fa_data.iloc[:train_len, :]\n",
        "test_fa_data = fa_data.iloc[train_len:, :]"
      ],
      "execution_count": 41,
      "outputs": []
    },
    {
      "cell_type": "code",
      "metadata": {
        "id": "Y0Qt-srD1LZy"
      },
      "source": [
        "# dev data\n",
        "total_len = test_fa_data.shape[0]\n",
        "dev_len = 50*total_len//100\n",
        "dev_fa_data = test_fa_data.iloc[:dev_len, :]\n",
        "test_fa_data = test_fa_data.iloc[dev_len:, :]"
      ],
      "execution_count": 42,
      "outputs": []
    },
    {
      "cell_type": "markdown",
      "metadata": {
        "id": "Hxt1nMrQpJjP"
      },
      "source": [
        "devide english test and train"
      ]
    },
    {
      "cell_type": "code",
      "metadata": {
        "id": "GuqTyZHrY0O9"
      },
      "source": [
        "total_len = en_data.shape[0]\n",
        "\n",
        "train_len = 60*total_len//100\n",
        "train_en_data = en_data.iloc[:train_len, :]\n",
        "test_en_data = en_data.iloc[train_len:, :]"
      ],
      "execution_count": 43,
      "outputs": []
    },
    {
      "cell_type": "code",
      "metadata": {
        "id": "G1BFRYrd1sjL"
      },
      "source": [
        "# dev data\n",
        "total_len = test_en_data.shape[0]\n",
        "dev_len = 50*total_len//100\n",
        "dev_en_data = test_en_data.iloc[:dev_len, :]\n",
        "test_en_data = test_en_data.iloc[dev_len:, :]"
      ],
      "execution_count": 44,
      "outputs": []
    },
    {
      "cell_type": "markdown",
      "metadata": {
        "id": "Qua4R5DXLGrJ"
      },
      "source": [
        "#TF-IDF Vectorizer"
      ]
    },
    {
      "cell_type": "markdown",
      "metadata": {
        "id": "Oiar7-6EYPUG"
      },
      "source": [
        "devide farsi X and y"
      ]
    },
    {
      "cell_type": "code",
      "metadata": {
        "id": "FCn5nbT3YSFK"
      },
      "source": [
        "X_fa_train = train_fa_data.text.apply(lambda x: np.str_(x))\n",
        "y_fa_train = train_fa_data.target\n",
        "\n",
        "X_fa_test = test_fa_data.text.apply(lambda x: np.str_(x))\n",
        "y_fa_test = test_fa_data.target\n",
        "\n",
        "X_fa_dev = dev_fa_data.text.apply(lambda x: np.str_(x))\n",
        "y_fa_dev = dev_fa_data.target"
      ],
      "execution_count": 45,
      "outputs": []
    },
    {
      "cell_type": "markdown",
      "metadata": {
        "id": "Jz-j3gpBp5kU"
      },
      "source": [
        "devide english X and y"
      ]
    },
    {
      "cell_type": "code",
      "metadata": {
        "id": "DwnsrX0EppN9"
      },
      "source": [
        "X_en_train = train_en_data.text.apply(lambda x: np.str_(x))\n",
        "y_en_train = train_en_data.target\n",
        "\n",
        "X_en_test = test_en_data.text.apply(lambda x: np.str_(x))\n",
        "y_en_test = test_en_data.target\n",
        "\n",
        "X_en_dev = dev_en_data.text.apply(lambda x: np.str_(x))\n",
        "y_en_dev = dev_en_data.target"
      ],
      "execution_count": 46,
      "outputs": []
    },
    {
      "cell_type": "markdown",
      "metadata": {
        "id": "oloX7QFzqcg0"
      },
      "source": [
        "Farsi"
      ]
    },
    {
      "cell_type": "code",
      "metadata": {
        "id": "SL050ZAVLMu5"
      },
      "source": [
        "tfidfVectorizer = TfidfVectorizer(min_df = 5, max_features = 1000)\n",
        "tfidfVectorizer.fit(X_fa_train)\n",
        "X_train_fa_vector = tfidfVectorizer.transform(X_fa_train)\n",
        "X_test_fa_vector = tfidfVectorizer.transform(X_fa_test)\n",
        "X_dev_fa_vector = tfidfVectorizer.transform(X_fa_dev)\n",
        "\n",
        "# save\n",
        "filename = 'tfidf_fa.sav'\n",
        "pickle.dump(tfidfVectorizer, open(filename, 'wb'))"
      ],
      "execution_count": 47,
      "outputs": []
    },
    {
      "cell_type": "markdown",
      "metadata": {
        "id": "YaOU6-MRqdgC"
      },
      "source": [
        "English"
      ]
    },
    {
      "cell_type": "code",
      "metadata": {
        "id": "yp498rsQBoK8"
      },
      "source": [
        "tfidfVectorizer.fit(X_en_train)\n",
        "X_train_en_vector = tfidfVectorizer.transform(X_en_train)\n",
        "X_test_en_vector = tfidfVectorizer.transform(X_en_test)\n",
        "X_dev_en_vector = tfidfVectorizer.transform(X_en_dev)\n",
        "\n",
        "# save\n",
        "filename = 'tfidf_en.sav'\n",
        "pickle.dump(tfidfVectorizer, open(filename, 'wb'))"
      ],
      "execution_count": 48,
      "outputs": []
    },
    {
      "cell_type": "markdown",
      "metadata": {
        "id": "q6ikIUfSHo8V"
      },
      "source": [
        "#NB"
      ]
    },
    {
      "cell_type": "markdown",
      "metadata": {
        "id": "3vTFZu98Nr3F"
      },
      "source": [
        "Farsi"
      ]
    },
    {
      "cell_type": "code",
      "metadata": {
        "colab": {
          "base_uri": "https://localhost:8080/"
        },
        "id": "imCT2WB3HnzB",
        "outputId": "cc61e012-65a4-40c9-cb0f-0ca22d78006a"
      },
      "source": [
        "from sklearn.naive_bayes import MultinomialNB\n",
        "\n",
        "nb_model = MultinomialNB()\n",
        "nb_model.fit(X_train_fa_vector, y_fa_train)\n",
        "prediction_fa = nb_model.predict(X_test_fa_vector)\n",
        "print(classification_report(y_fa_test, prediction_fa))"
      ],
      "execution_count": 49,
      "outputs": [
        {
          "output_type": "stream",
          "text": [
            "              precision    recall  f1-score   support\n",
            "\n",
            "    negative       0.69      0.63      0.66     11160\n",
            "     neutral       0.59      0.68      0.63     11333\n",
            "    positive       0.63      0.59      0.61     11171\n",
            "\n",
            "    accuracy                           0.63     33664\n",
            "   macro avg       0.64      0.63      0.63     33664\n",
            "weighted avg       0.64      0.63      0.63     33664\n",
            "\n"
          ],
          "name": "stdout"
        }
      ]
    },
    {
      "cell_type": "code",
      "metadata": {
        "id": "kPVNRsdxN5YA"
      },
      "source": [
        "filename = 'nb_fa.sav'\n",
        "pickle.dump(nb_model, open(filename, 'wb'))"
      ],
      "execution_count": 50,
      "outputs": []
    },
    {
      "cell_type": "markdown",
      "metadata": {
        "id": "XzPO5RDTNtWu"
      },
      "source": [
        "english"
      ]
    },
    {
      "cell_type": "code",
      "metadata": {
        "colab": {
          "base_uri": "https://localhost:8080/"
        },
        "id": "iJ4bucLCNwcE",
        "outputId": "18c3045c-858c-4213-ee50-0ec4bf9a85b6"
      },
      "source": [
        "nb_model.fit(X_train_en_vector, y_en_train)\n",
        "prediction_en = nb_model.predict(X_test_en_vector)\n",
        "print(classification_report(y_en_test, prediction_en))"
      ],
      "execution_count": 51,
      "outputs": [
        {
          "output_type": "stream",
          "text": [
            "              precision    recall  f1-score   support\n",
            "\n",
            "    negative       0.72      0.74      0.73      8950\n",
            "     neutral       0.72      0.65      0.68      9034\n",
            "    positive       0.72      0.77      0.74      8901\n",
            "\n",
            "    accuracy                           0.72     26885\n",
            "   macro avg       0.72      0.72      0.72     26885\n",
            "weighted avg       0.72      0.72      0.72     26885\n",
            "\n"
          ],
          "name": "stdout"
        }
      ]
    },
    {
      "cell_type": "code",
      "metadata": {
        "id": "bZQnT4BYOC8t"
      },
      "source": [
        "filename = 'nb_en.sav'\n",
        "pickle.dump(nb_model, open(filename, 'wb'))"
      ],
      "execution_count": 52,
      "outputs": []
    },
    {
      "cell_type": "markdown",
      "metadata": {
        "id": "1UzBOGlVGk3m"
      },
      "source": [
        "#RF"
      ]
    },
    {
      "cell_type": "markdown",
      "metadata": {
        "id": "hcillGng0j57"
      },
      "source": [
        "##tune"
      ]
    },
    {
      "cell_type": "code",
      "metadata": {
        "id": "BfrH5vIeH7v_"
      },
      "source": [
        "parameters = {#'n_estimators': (10, 30, 50, 70, 90),\n",
        "              #'criterion': ('gini', 'entropy'),\n",
        "              'max_depth': (200, 250, 300),\n",
        "              #'max_features': ('auto', 'sqrt'),\n",
        "              #'min_samples_split': (2, 3),\n",
        "              'min_samples_leaf': (15, 20),\n",
        "              # 'bootstrap' : (True, False),\n",
        "              #'min_weight_fraction_leaf': (0.0, 0.1, 0.2, 0.3, 0.4)    \n",
        "}"
      ],
      "execution_count": null,
      "outputs": []
    },
    {
      "cell_type": "code",
      "metadata": {
        "id": "kAiNR9u8H7wD"
      },
      "source": [
        "# rf_grid = GridSearchCV(RandomForestClassifier(n_jobs = -1, oob_score = False), param_grid = parameters, cv = 3, verbose = True)"
      ],
      "execution_count": null,
      "outputs": []
    },
    {
      "cell_type": "markdown",
      "metadata": {
        "id": "dKWVYnCqH7wG"
      },
      "source": [
        "farsi"
      ]
    },
    {
      "cell_type": "code",
      "metadata": {
        "colab": {
          "base_uri": "https://localhost:8080/"
        },
        "id": "G_AorbCPH7wI",
        "outputId": "aa8f0096-ec44-488e-82cc-89c2dc2636b1"
      },
      "source": [
        "# rf_grid_model = rf_grid.fit(X_dev_fa_vector, y_fa_dev)\n",
        "# rf_grid_model.best_estimator_"
      ],
      "execution_count": null,
      "outputs": [
        {
          "output_type": "stream",
          "text": [
            "Fitting 3 folds for each of 6 candidates, totalling 18 fits\n"
          ],
          "name": "stdout"
        },
        {
          "output_type": "stream",
          "text": [
            "[Parallel(n_jobs=1)]: Using backend SequentialBackend with 1 concurrent workers.\n",
            "[Parallel(n_jobs=1)]: Done  18 out of  18 | elapsed:  2.0min finished\n"
          ],
          "name": "stderr"
        },
        {
          "output_type": "execute_result",
          "data": {
            "text/plain": [
              "RandomForestClassifier(bootstrap=True, ccp_alpha=0.0, class_weight=None,\n",
              "                       criterion='gini', max_depth=300, max_features='auto',\n",
              "                       max_leaf_nodes=None, max_samples=None,\n",
              "                       min_impurity_decrease=0.0, min_impurity_split=None,\n",
              "                       min_samples_leaf=15, min_samples_split=2,\n",
              "                       min_weight_fraction_leaf=0.0, n_estimators=100,\n",
              "                       n_jobs=-1, oob_score=False, random_state=None, verbose=0,\n",
              "                       warm_start=False)"
            ]
          },
          "metadata": {
            "tags": []
          },
          "execution_count": 67
        }
      ]
    },
    {
      "cell_type": "markdown",
      "metadata": {
        "id": "xEbbJhbC88vd"
      },
      "source": [
        "english"
      ]
    },
    {
      "cell_type": "code",
      "metadata": {
        "colab": {
          "base_uri": "https://localhost:8080/"
        },
        "id": "O5E827dW9BTz",
        "outputId": "83ab59b7-7ae7-438d-e9a8-4a2d4789f6e6"
      },
      "source": [
        "# rf_grid_model = rf_grid.fit(X_dev_en_vector, y_en_dev)\n",
        "# rf_grid_model.best_estimator_"
      ],
      "execution_count": null,
      "outputs": [
        {
          "output_type": "stream",
          "text": [
            "Fitting 3 folds for each of 8 candidates, totalling 24 fits\n"
          ],
          "name": "stdout"
        },
        {
          "output_type": "stream",
          "text": [
            "[Parallel(n_jobs=1)]: Using backend SequentialBackend with 1 concurrent workers.\n",
            "[Parallel(n_jobs=1)]: Done  24 out of  24 | elapsed:   49.6s finished\n"
          ],
          "name": "stderr"
        },
        {
          "output_type": "execute_result",
          "data": {
            "text/plain": [
              "RandomForestClassifier(bootstrap=True, ccp_alpha=0.0, class_weight=None,\n",
              "                       criterion='gini', max_depth=14, max_features='auto',\n",
              "                       max_leaf_nodes=None, max_samples=None,\n",
              "                       min_impurity_decrease=0.0, min_impurity_split=None,\n",
              "                       min_samples_leaf=1, min_samples_split=3,\n",
              "                       min_weight_fraction_leaf=0.0, n_estimators=100, n_jobs=4,\n",
              "                       oob_score=False, random_state=None, verbose=0,\n",
              "                       warm_start=False)"
            ]
          },
          "metadata": {
            "tags": []
          },
          "execution_count": 54
        }
      ]
    },
    {
      "cell_type": "markdown",
      "metadata": {
        "id": "uCycQBcz0nZE"
      },
      "source": [
        "##train and evaluate"
      ]
    },
    {
      "cell_type": "markdown",
      "metadata": {
        "id": "4gQC8ZhcrC6V"
      },
      "source": [
        "farsi"
      ]
    },
    {
      "cell_type": "code",
      "metadata": {
        "colab": {
          "base_uri": "https://localhost:8080/"
        },
        "id": "m1lnEpsDGmYP",
        "outputId": "70655cb3-9c17-4886-f885-5bbb00a84a46"
      },
      "source": [
        "randomForestClassifier = RandomForestClassifier(min_samples_leaf=5, n_jobs=-1)\n",
        "randomForestClassifier.fit(X_train_fa_vector, y_fa_train)\n",
        "prediction_fa = randomForestClassifier.predict(X_test_fa_vector)\n",
        "print(classification_report(y_fa_test, prediction_fa))\n",
        "\n",
        "filename = 'rf_fa.sav'\n",
        "pickle.dump(randomForestClassifier, open(filename, 'wb'))"
      ],
      "execution_count": 59,
      "outputs": [
        {
          "output_type": "stream",
          "text": [
            "              precision    recall  f1-score   support\n",
            "\n",
            "    negative       0.79      0.69      0.73     11160\n",
            "     neutral       0.69      0.82      0.75     11333\n",
            "    positive       0.74      0.69      0.72     11171\n",
            "\n",
            "    accuracy                           0.73     33664\n",
            "   macro avg       0.74      0.73      0.73     33664\n",
            "weighted avg       0.74      0.73      0.73     33664\n",
            "\n"
          ],
          "name": "stdout"
        }
      ]
    },
    {
      "cell_type": "markdown",
      "metadata": {
        "id": "AJebCVaVrEJt"
      },
      "source": [
        "english"
      ]
    },
    {
      "cell_type": "code",
      "metadata": {
        "colab": {
          "base_uri": "https://localhost:8080/"
        },
        "id": "EK-US_aoTZa2",
        "outputId": "8a875156-372c-4319-93bd-1d40b0187fd1"
      },
      "source": [
        "randomForestClassifier = RandomForestClassifier(min_samples_leaf=5, n_jobs=-1)\n",
        "randomForestClassifier.fit(X_train_en_vector, y_en_train)\n",
        "prediction_en = randomForestClassifier.predict(X_test_en_vector)\n",
        "print(classification_report(y_en_test, prediction_en))\n",
        "\n",
        "filename = 'rf_en.sav'\n",
        "pickle.dump(randomForestClassifier, open(filename, 'wb'))"
      ],
      "execution_count": 60,
      "outputs": [
        {
          "output_type": "stream",
          "text": [
            "              precision    recall  f1-score   support\n",
            "\n",
            "    negative       0.81      0.76      0.78      8950\n",
            "     neutral       0.75      0.81      0.78      9034\n",
            "    positive       0.84      0.81      0.82      8901\n",
            "\n",
            "    accuracy                           0.79     26885\n",
            "   macro avg       0.80      0.79      0.79     26885\n",
            "weighted avg       0.80      0.79      0.79     26885\n",
            "\n"
          ],
          "name": "stdout"
        }
      ]
    }
  ]
}