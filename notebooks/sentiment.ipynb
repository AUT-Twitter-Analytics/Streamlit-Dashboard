{
  "nbformat": 4,
  "nbformat_minor": 0,
  "metadata": {
    "colab": {
      "name": "classifier",
      "provenance": [],
      "collapsed_sections": [
        "KscoGuysyrbC",
        "An3qG8qNrWMu",
        "-TxtwIy6xhc8",
        "VKoFMwqMxjV2",
        "djZuTeJixm-x",
        "D3xb5ocAMNXh",
        "Qua4R5DXLGrJ",
        "hcillGng0j57",
        "uCycQBcz0nZE"
      ],
      "toc_visible": true
    },
    "kernelspec": {
      "display_name": "Python 3",
      "name": "python3"
    }
  },
  "cells": [
    {
      "cell_type": "markdown",
      "metadata": {
        "id": "KscoGuysyrbC"
      },
      "source": [
        "#Import and install modules"
      ]
    },
    {
      "cell_type": "code",
      "metadata": {
        "colab": {
          "base_uri": "https://localhost:8080/"
        },
        "id": "x42gllPRyK5D",
        "outputId": "e676a838-590a-4a2e-fe91-6796873a5fde"
      },
      "source": [
        "!pip install hazm"
      ],
      "execution_count": 1,
      "outputs": [
        {
          "output_type": "stream",
          "text": [
            "Requirement already satisfied: hazm in /usr/local/lib/python3.6/dist-packages (0.7.0)\n",
            "Requirement already satisfied: nltk==3.3 in /usr/local/lib/python3.6/dist-packages (from hazm) (3.3)\n",
            "Requirement already satisfied: libwapiti>=0.2.1; platform_system != \"Windows\" in /usr/local/lib/python3.6/dist-packages (from hazm) (0.2.1)\n",
            "Requirement already satisfied: six in /usr/local/lib/python3.6/dist-packages (from nltk==3.3->hazm) (1.15.0)\n"
          ],
          "name": "stdout"
        }
      ]
    },
    {
      "cell_type": "code",
      "metadata": {
        "id": "31SzqN9Bx7U3"
      },
      "source": [
        "import re, hazm, os, json, nltk\n",
        "import pickle\n",
        "import numpy as np\n",
        "import pandas as pd\n",
        "from nltk import word_tokenize \n",
        "import matplotlib.pyplot as plt\n",
        "from nltk.corpus import stopwords\n",
        "from nltk.stem import PorterStemmer\n",
        "from nltk.stem import WordNetLemmatizer\n",
        "from wordcloud import WordCloud, STOPWORDS\n",
        "from sklearn.naive_bayes import MultinomialNB\n",
        "from sklearn.model_selection import GridSearchCV\n",
        "from sklearn.ensemble import RandomForestClassifier\n",
        "from sklearn.neighbors import KNeighborsClassifier\n",
        "from sklearn.feature_extraction.text import TfidfVectorizer\n",
        "from sklearn.metrics import classification_report, confusion_matrix"
      ],
      "execution_count": 2,
      "outputs": []
    },
    {
      "cell_type": "code",
      "metadata": {
        "colab": {
          "base_uri": "https://localhost:8080/"
        },
        "id": "00GJ05dBEgzE",
        "outputId": "6691faab-caa3-404f-e5df-e8cd4aa3c864"
      },
      "source": [
        "nltk.download('wordnet')\n",
        "nltk.download(\"stopwords\")"
      ],
      "execution_count": 3,
      "outputs": [
        {
          "output_type": "stream",
          "text": [
            "[nltk_data] Downloading package wordnet to /root/nltk_data...\n",
            "[nltk_data]   Package wordnet is already up-to-date!\n",
            "[nltk_data] Downloading package stopwords to /root/nltk_data...\n",
            "[nltk_data]   Package stopwords is already up-to-date!\n"
          ],
          "name": "stdout"
        },
        {
          "output_type": "execute_result",
          "data": {
            "text/plain": [
              "True"
            ]
          },
          "metadata": {
            "tags": []
          },
          "execution_count": 3
        }
      ]
    },
    {
      "cell_type": "markdown",
      "metadata": {
        "id": "3OaltiyHK7FI"
      },
      "source": [
        "#Load data"
      ]
    },
    {
      "cell_type": "code",
      "metadata": {
        "colab": {
          "base_uri": "https://localhost:8080/"
        },
        "id": "6VWzOy8hnSnl",
        "outputId": "f475b659-4823-41f1-9c60-1194ec381c80"
      },
      "source": [
        "from google.colab import drive\n",
        "drive.mount('/content/drive')\n",
        "import os\n",
        "os.chdir(\"drive/My Drive\")\n",
        "!ls"
      ],
      "execution_count": 4,
      "outputs": [
        {
          "output_type": "stream",
          "text": [
            "Drive already mounted at /content/drive; to attempt to forcibly remount, call drive.mount(\"/content/drive\", force_remount=True).\n",
            " AI-4.gdoc\n",
            " alberta.gdoc\n",
            " apply.gsheet\n",
            " classifier\n",
            "'Colab Notebooks'\n",
            " CV.pdf\n",
            "'Email for Graduate Application.gdoc'\n",
            "'My Prof.s.gsheet'\n",
            " nlp-project.ipynb\n",
            " Prof.s.gsheet\n",
            "'project Bsc'\n",
            "'Recommendation Letter_Rezvan Karaji_Nevada.rtf'\n",
            " rf_en.sav\n",
            " rf_fa.sav\n",
            " SpamDetection.ipynb\n",
            " tfidf_bilang.sav\n",
            " tfidf_en.sav\n",
            " tfidf_fa.sav\n",
            " transcript-official.pdf\n",
            " tweet.csv\n"
          ],
          "name": "stdout"
        }
      ]
    },
    {
      "cell_type": "code",
      "metadata": {
        "colab": {
          "base_uri": "https://localhost:8080/"
        },
        "id": "FuAt6bcZq7uy",
        "outputId": "3f87bcfc-fd83-4699-b966-5adba74e2c8e"
      },
      "source": [
        "filename = 'tweet.csv'\n",
        "data = pd.read_csv(filename, encoding='utf-8')"
      ],
      "execution_count": 5,
      "outputs": [
        {
          "output_type": "stream",
          "text": [
            "/usr/local/lib/python3.6/dist-packages/IPython/core/interactiveshell.py:2718: DtypeWarning: Columns (0,5,6,11,12,13,43) have mixed types.Specify dtype option on import or set low_memory=False.\n",
            "  interactivity=interactivity, compiler=compiler, result=result)\n"
          ],
          "name": "stderr"
        }
      ]
    },
    {
      "cell_type": "markdown",
      "metadata": {
        "id": "An3qG8qNrWMu"
      },
      "source": [
        "#analyze data"
      ]
    },
    {
      "cell_type": "code",
      "metadata": {
        "colab": {
          "base_uri": "https://localhost:8080/",
          "height": 608
        },
        "id": "wmyulaHsra9u",
        "outputId": "cd31f2ed-fa8c-442e-9932-910c5edc1a8f"
      },
      "source": [
        "data.head()"
      ],
      "execution_count": 6,
      "outputs": [
        {
          "output_type": "execute_result",
          "data": {
            "text/html": [
              "<div>\n",
              "<style scoped>\n",
              "    .dataframe tbody tr th:only-of-type {\n",
              "        vertical-align: middle;\n",
              "    }\n",
              "\n",
              "    .dataframe tbody tr th {\n",
              "        vertical-align: top;\n",
              "    }\n",
              "\n",
              "    .dataframe thead th {\n",
              "        text-align: right;\n",
              "    }\n",
              "</style>\n",
              "<table border=\"1\" class=\"dataframe\">\n",
              "  <thead>\n",
              "    <tr style=\"text-align: right;\">\n",
              "      <th></th>\n",
              "      <th>Unnamed: 0</th>\n",
              "      <th>id</th>\n",
              "      <th>username</th>\n",
              "      <th>title</th>\n",
              "      <th>about</th>\n",
              "      <th>members</th>\n",
              "      <th>posts_count</th>\n",
              "      <th>language</th>\n",
              "      <th>avg_view</th>\n",
              "      <th>last_dump_date</th>\n",
              "      <th>last_cold_date</th>\n",
              "      <th>duration_update</th>\n",
              "      <th>following_count</th>\n",
              "      <th>verified</th>\n",
              "      <th>favourites_count</th>\n",
              "      <th>location</th>\n",
              "      <th>url</th>\n",
              "      <th>join_date</th>\n",
              "      <th>deleted</th>\n",
              "      <th>index_name</th>\n",
              "      <th>UTC_date</th>\n",
              "      <th>date</th>\n",
              "      <th>views</th>\n",
              "      <th>retweet_count</th>\n",
              "      <th>text</th>\n",
              "      <th>fwdfrom</th>\n",
              "      <th>media</th>\n",
              "      <th>hashtags</th>\n",
              "      <th>to</th>\n",
              "      <th>from</th>\n",
              "      <th>post_id</th>\n",
              "      <th>link</th>\n",
              "      <th>dump_type</th>\n",
              "      <th>meta</th>\n",
              "      <th>is_adv</th>\n",
              "      <th>bi-keywords</th>\n",
              "      <th>keywords</th>\n",
              "      <th>neg_adj</th>\n",
              "      <th>pos_adj</th>\n",
              "      <th>sentiment</th>\n",
              "      <th>mentions</th>\n",
              "      <th>locations</th>\n",
              "      <th>urls</th>\n",
              "      <th>cashtags</th>\n",
              "    </tr>\n",
              "  </thead>\n",
              "  <tbody>\n",
              "    <tr>\n",
              "      <th>0</th>\n",
              "      <td>0</td>\n",
              "      <td>9.772081e+17</td>\n",
              "      <td>jasooyichii</td>\n",
              "      <td>milad mohammadi</td>\n",
              "      <td>Exhibitions reporter/\\nmr event/\\norganizer of...</td>\n",
              "      <td>856</td>\n",
              "      <td>470</td>\n",
              "      <td>NaN</td>\n",
              "      <td>0.0</td>\n",
              "      <td>2020-10-26</td>\n",
              "      <td>2020-10-09</td>\n",
              "      <td>24</td>\n",
              "      <td>774</td>\n",
              "      <td>0</td>\n",
              "      <td>1927.0</td>\n",
              "      <td>tehran - iran</td>\n",
              "      <td>https://t.co/uz1hdKY1V8</td>\n",
              "      <td>2018-03-23T15:38:55</td>\n",
              "      <td>0.0</td>\n",
              "      <td>tw-sourceinfo-2020-10</td>\n",
              "      <td>2020-10-25T20:40:58</td>\n",
              "      <td>2020-10-25 17:10:58</td>\n",
              "      <td>NaN</td>\n",
              "      <td>NaN</td>\n",
              "      <td>NaN</td>\n",
              "      <td>NaN</td>\n",
              "      <td>NaN</td>\n",
              "      <td>NaN</td>\n",
              "      <td>NaN</td>\n",
              "      <td>NaN</td>\n",
              "      <td>NaN</td>\n",
              "      <td>NaN</td>\n",
              "      <td>NaN</td>\n",
              "      <td>NaN</td>\n",
              "      <td>NaN</td>\n",
              "      <td>NaN</td>\n",
              "      <td>NaN</td>\n",
              "      <td>NaN</td>\n",
              "      <td>NaN</td>\n",
              "      <td>NaN</td>\n",
              "      <td>NaN</td>\n",
              "      <td>NaN</td>\n",
              "      <td>NaN</td>\n",
              "      <td>NaN</td>\n",
              "    </tr>\n",
              "    <tr>\n",
              "      <th>1</th>\n",
              "      <td>1</td>\n",
              "      <td>1.314951e+18</td>\n",
              "      <td>NaN</td>\n",
              "      <td>NaN</td>\n",
              "      <td>NaN</td>\n",
              "      <td>NaN</td>\n",
              "      <td>NaN</td>\n",
              "      <td>fa</td>\n",
              "      <td>NaN</td>\n",
              "      <td>NaN</td>\n",
              "      <td>NaN</td>\n",
              "      <td>NaN</td>\n",
              "      <td>NaN</td>\n",
              "      <td>NaN</td>\n",
              "      <td>NaN</td>\n",
              "      <td>NaN</td>\n",
              "      <td>NaN</td>\n",
              "      <td>NaN</td>\n",
              "      <td>NaN</td>\n",
              "      <td>tw-user-2020-10</td>\n",
              "      <td>2020-10-10T15:29:51</td>\n",
              "      <td>2020-10-10 15:29:51</td>\n",
              "      <td>7897.0</td>\n",
              "      <td>457.0</td>\n",
              "      <td>آن شب اسفندماه که برای نخستین بار خبر درگذشت #...</td>\n",
              "      <td>{'username': 'febrahimzade', 'id': '198563041'...</td>\n",
              "      <td>{'caption': 'آن شب اسفندماه که برای نخستین بار...</td>\n",
              "      <td>['محمدرضاشجریان', 'افسانه_شجریان']</td>\n",
              "      <td>{'participants_count': 181, 'username': 'lonel...</td>\n",
              "      <td>{'participants_count': 181, 'username': 'lonel...</td>\n",
              "      <td>1886.0</td>\n",
              "      <td>https://twitter.com/i/web/status/1314951285540...</td>\n",
              "      <td>scheduled</td>\n",
              "      <td>['اجتماعی']</td>\n",
              "      <td>1.0</td>\n",
              "      <td>['اسفندماه خبر', 'خبر درگذشت', 'درگذشت محمدرضا...</td>\n",
              "      <td>['پدر', 'درگذشت', 'علاقه', 'بیمارستان', 'پاسخ'...</td>\n",
              "      <td>['بار', 'درگذشت']</td>\n",
              "      <td>['آرامش', 'باور', 'زنده']</td>\n",
              "      <td>positive</td>\n",
              "      <td>NaN</td>\n",
              "      <td>NaN</td>\n",
              "      <td>NaN</td>\n",
              "      <td>NaN</td>\n",
              "    </tr>\n",
              "    <tr>\n",
              "      <th>2</th>\n",
              "      <td>2</td>\n",
              "      <td>1.314951e+18</td>\n",
              "      <td>NaN</td>\n",
              "      <td>NaN</td>\n",
              "      <td>NaN</td>\n",
              "      <td>NaN</td>\n",
              "      <td>NaN</td>\n",
              "      <td>en</td>\n",
              "      <td>NaN</td>\n",
              "      <td>NaN</td>\n",
              "      <td>NaN</td>\n",
              "      <td>NaN</td>\n",
              "      <td>NaN</td>\n",
              "      <td>NaN</td>\n",
              "      <td>NaN</td>\n",
              "      <td>NaN</td>\n",
              "      <td>NaN</td>\n",
              "      <td>NaN</td>\n",
              "      <td>NaN</td>\n",
              "      <td>tw-user-2020-10</td>\n",
              "      <td>2020-10-10T15:28:26</td>\n",
              "      <td>2020-10-10 15:28:26</td>\n",
              "      <td>1.0</td>\n",
              "      <td>0.0</td>\n",
              "      <td>@daydreaminblack Niiiice😂😂😂😂😂</td>\n",
              "      <td>NaN</td>\n",
              "      <td>NaN</td>\n",
              "      <td>NaN</td>\n",
              "      <td>{'participants_count': 181, 'username': 'lonel...</td>\n",
              "      <td>{'participants_count': 181, 'username': 'lonel...</td>\n",
              "      <td>1885.0</td>\n",
              "      <td>https://twitter.com/i/web/status/1314950928517...</td>\n",
              "      <td>scheduled</td>\n",
              "      <td>['متفرقه']</td>\n",
              "      <td>0.0</td>\n",
              "      <td>[]</td>\n",
              "      <td>['daydreaminblack', 'Niiiice']</td>\n",
              "      <td>NaN</td>\n",
              "      <td>NaN</td>\n",
              "      <td>neutral</td>\n",
              "      <td>['daydreaminblack']</td>\n",
              "      <td>NaN</td>\n",
              "      <td>NaN</td>\n",
              "      <td>NaN</td>\n",
              "    </tr>\n",
              "    <tr>\n",
              "      <th>3</th>\n",
              "      <td>3</td>\n",
              "      <td>1.314951e+18</td>\n",
              "      <td>NaN</td>\n",
              "      <td>NaN</td>\n",
              "      <td>NaN</td>\n",
              "      <td>NaN</td>\n",
              "      <td>NaN</td>\n",
              "      <td>fa</td>\n",
              "      <td>NaN</td>\n",
              "      <td>NaN</td>\n",
              "      <td>NaN</td>\n",
              "      <td>NaN</td>\n",
              "      <td>NaN</td>\n",
              "      <td>NaN</td>\n",
              "      <td>NaN</td>\n",
              "      <td>NaN</td>\n",
              "      <td>NaN</td>\n",
              "      <td>NaN</td>\n",
              "      <td>NaN</td>\n",
              "      <td>tw-user-2020-10</td>\n",
              "      <td>2020-10-10T15:28:00</td>\n",
              "      <td>2020-10-10 15:28:00</td>\n",
              "      <td>33.0</td>\n",
              "      <td>1.0</td>\n",
              "      <td>جدا از رفتن شجریان، چهر‌ه‌های غمبار همایون و ع...</td>\n",
              "      <td>{'username': 'helia_hh', 'id': '3025201221', '...</td>\n",
              "      <td>NaN</td>\n",
              "      <td>NaN</td>\n",
              "      <td>{'participants_count': 181, 'username': 'lonel...</td>\n",
              "      <td>{'participants_count': 181, 'username': 'lonel...</td>\n",
              "      <td>1884.0</td>\n",
              "      <td>https://twitter.com/i/web/status/1314950817338...</td>\n",
              "      <td>scheduled</td>\n",
              "      <td>['هنری']</td>\n",
              "      <td>0.0</td>\n",
              "      <td>['رفتن شجریان', 'شجریان چهر', 'چهر غمبار', 'غم...</td>\n",
              "      <td>['رفتن', 'شجریان', 'مچاله', 'علیزاده', 'چهر', ...</td>\n",
              "      <td>['جدا', 'مچاله']</td>\n",
              "      <td>NaN</td>\n",
              "      <td>negative</td>\n",
              "      <td>NaN</td>\n",
              "      <td>NaN</td>\n",
              "      <td>NaN</td>\n",
              "      <td>NaN</td>\n",
              "    </tr>\n",
              "    <tr>\n",
              "      <th>4</th>\n",
              "      <td>4</td>\n",
              "      <td>1.314895e+18</td>\n",
              "      <td>NaN</td>\n",
              "      <td>NaN</td>\n",
              "      <td>NaN</td>\n",
              "      <td>NaN</td>\n",
              "      <td>NaN</td>\n",
              "      <td>fa</td>\n",
              "      <td>NaN</td>\n",
              "      <td>NaN</td>\n",
              "      <td>NaN</td>\n",
              "      <td>NaN</td>\n",
              "      <td>NaN</td>\n",
              "      <td>NaN</td>\n",
              "      <td>NaN</td>\n",
              "      <td>NaN</td>\n",
              "      <td>NaN</td>\n",
              "      <td>NaN</td>\n",
              "      <td>NaN</td>\n",
              "      <td>tw-user-2020-10</td>\n",
              "      <td>2020-10-10T11:47:36</td>\n",
              "      <td>2020-10-10 11:47:36</td>\n",
              "      <td>3046.0</td>\n",
              "      <td>191.0</td>\n",
              "      <td>دیگه تویی که تا دیروز عکس سردار دلها رو استوری...</td>\n",
              "      <td>{'username': 'Javadhastam2', 'id': '1111065915...</td>\n",
              "      <td>{'caption': 'دیگه تویی که تا دیروز عکس سردار د...</td>\n",
              "      <td>NaN</td>\n",
              "      <td>{'participants_count': 181, 'username': 'lonel...</td>\n",
              "      <td>{'participants_count': 181, 'username': 'lonel...</td>\n",
              "      <td>1883.0</td>\n",
              "      <td>https://twitter.com/i/web/status/1314895352772...</td>\n",
              "      <td>scheduled</td>\n",
              "      <td>['هنری']</td>\n",
              "      <td>1.0</td>\n",
              "      <td>['تویی عکس', 'عکس سردار', 'سردار دلها', 'دلها ...</td>\n",
              "      <td>['عکس', 'استوری', 'تویی', 'شجریان', 'سردار', '...</td>\n",
              "      <td>['پست']</td>\n",
              "      <td>NaN</td>\n",
              "      <td>negative</td>\n",
              "      <td>NaN</td>\n",
              "      <td>NaN</td>\n",
              "      <td>NaN</td>\n",
              "      <td>NaN</td>\n",
              "    </tr>\n",
              "  </tbody>\n",
              "</table>\n",
              "</div>"
            ],
            "text/plain": [
              "  Unnamed: 0            id     username  ... locations urls cashtags\n",
              "0          0  9.772081e+17  jasooyichii  ...       NaN  NaN      NaN\n",
              "1          1  1.314951e+18          NaN  ...       NaN  NaN      NaN\n",
              "2          2  1.314951e+18          NaN  ...       NaN  NaN      NaN\n",
              "3          3  1.314951e+18          NaN  ...       NaN  NaN      NaN\n",
              "4          4  1.314895e+18          NaN  ...       NaN  NaN      NaN\n",
              "\n",
              "[5 rows x 44 columns]"
            ]
          },
          "metadata": {
            "tags": []
          },
          "execution_count": 6
        }
      ]
    },
    {
      "cell_type": "code",
      "metadata": {
        "colab": {
          "base_uri": "https://localhost:8080/"
        },
        "id": "aEQvnTV6V3sS",
        "outputId": "8256863a-9196-47b4-c18c-f26d7f7f9b00"
      },
      "source": [
        "data.info()"
      ],
      "execution_count": 7,
      "outputs": [
        {
          "output_type": "stream",
          "text": [
            "<class 'pandas.core.frame.DataFrame'>\n",
            "RangeIndex: 1196368 entries, 0 to 1196367\n",
            "Data columns (total 44 columns):\n",
            " #   Column            Non-Null Count    Dtype  \n",
            "---  ------            --------------    -----  \n",
            " 0   Unnamed: 0        1196368 non-null  object \n",
            " 1   id                1196355 non-null  float64\n",
            " 2   username          257913 non-null   object \n",
            " 3   title             257719 non-null   object \n",
            " 4   about             176930 non-null   object \n",
            " 5   members           242382 non-null   object \n",
            " 6   posts_count       242381 non-null   object \n",
            " 7   language          938461 non-null   object \n",
            " 8   avg_view          242381 non-null   float64\n",
            " 9   last_dump_date    242381 non-null   object \n",
            " 10  last_cold_date    242381 non-null   object \n",
            " 11  duration_update   242373 non-null   object \n",
            " 12  following_count   242369 non-null   object \n",
            " 13  verified          242381 non-null   object \n",
            " 14  favourites_count  242381 non-null   float64\n",
            " 15  location          134416 non-null   object \n",
            " 16  url               38877 non-null    object \n",
            " 17  join_date         242381 non-null   object \n",
            " 18  deleted           242362 non-null   float64\n",
            " 19  index_name        1180804 non-null  object \n",
            " 20  UTC_date          1180804 non-null  object \n",
            " 21  date              1180804 non-null  object \n",
            " 22  views             938442 non-null   float64\n",
            " 23  retweet_count     938442 non-null   float64\n",
            " 24  text              938441 non-null   object \n",
            " 25  fwdfrom           429214 non-null   object \n",
            " 26  media             239844 non-null   object \n",
            " 27  hashtags          173205 non-null   object \n",
            " 28  to                938442 non-null   object \n",
            " 29  from              938442 non-null   object \n",
            " 30  post_id           938442 non-null   float64\n",
            " 31  link              938442 non-null   object \n",
            " 32  dump_type         938442 non-null   object \n",
            " 33  meta              938442 non-null   object \n",
            " 34  is_adv            938442 non-null   float64\n",
            " 35  bi-keywords       938442 non-null   object \n",
            " 36  keywords          938442 non-null   object \n",
            " 37  neg_adj           215749 non-null   object \n",
            " 38  pos_adj           255628 non-null   object \n",
            " 39  sentiment         623169 non-null   object \n",
            " 40  mentions          410358 non-null   object \n",
            " 41  locations         16414 non-null    object \n",
            " 42  urls              158612 non-null   object \n",
            " 43  cashtags          195 non-null      object \n",
            "dtypes: float64(8), object(36)\n",
            "memory usage: 401.6+ MB\n"
          ],
          "name": "stdout"
        }
      ]
    },
    {
      "cell_type": "code",
      "metadata": {
        "id": "a_YsPPE9jdUX"
      },
      "source": [
        "# # topic\n",
        "# data = data[['language','text', 'meta']]\n",
        "\n",
        "# sentiment\n",
        "data = data[['language','text', 'sentiment']]\n",
        "\n",
        "data.columns = ['lang', 'text', 'target']\n",
        "data = data[1:]"
      ],
      "execution_count": 8,
      "outputs": []
    },
    {
      "cell_type": "markdown",
      "metadata": {
        "id": "nDxrBGKVFo9x"
      },
      "source": [
        ""
      ]
    },
    {
      "cell_type": "code",
      "metadata": {
        "colab": {
          "base_uri": "https://localhost:8080/",
          "height": 206
        },
        "id": "U240mCSBk9vI",
        "outputId": "70a5eae2-31a3-47a5-9c7d-f57089478ea5"
      },
      "source": [
        "data.head()"
      ],
      "execution_count": 9,
      "outputs": [
        {
          "output_type": "execute_result",
          "data": {
            "text/html": [
              "<div>\n",
              "<style scoped>\n",
              "    .dataframe tbody tr th:only-of-type {\n",
              "        vertical-align: middle;\n",
              "    }\n",
              "\n",
              "    .dataframe tbody tr th {\n",
              "        vertical-align: top;\n",
              "    }\n",
              "\n",
              "    .dataframe thead th {\n",
              "        text-align: right;\n",
              "    }\n",
              "</style>\n",
              "<table border=\"1\" class=\"dataframe\">\n",
              "  <thead>\n",
              "    <tr style=\"text-align: right;\">\n",
              "      <th></th>\n",
              "      <th>lang</th>\n",
              "      <th>text</th>\n",
              "      <th>target</th>\n",
              "    </tr>\n",
              "  </thead>\n",
              "  <tbody>\n",
              "    <tr>\n",
              "      <th>1</th>\n",
              "      <td>fa</td>\n",
              "      <td>آن شب اسفندماه که برای نخستین بار خبر درگذشت #...</td>\n",
              "      <td>positive</td>\n",
              "    </tr>\n",
              "    <tr>\n",
              "      <th>2</th>\n",
              "      <td>en</td>\n",
              "      <td>@daydreaminblack Niiiice😂😂😂😂😂</td>\n",
              "      <td>neutral</td>\n",
              "    </tr>\n",
              "    <tr>\n",
              "      <th>3</th>\n",
              "      <td>fa</td>\n",
              "      <td>جدا از رفتن شجریان، چهر‌ه‌های غمبار همایون و ع...</td>\n",
              "      <td>negative</td>\n",
              "    </tr>\n",
              "    <tr>\n",
              "      <th>4</th>\n",
              "      <td>fa</td>\n",
              "      <td>دیگه تویی که تا دیروز عکس سردار دلها رو استوری...</td>\n",
              "      <td>negative</td>\n",
              "    </tr>\n",
              "    <tr>\n",
              "      <th>5</th>\n",
              "      <td>fa</td>\n",
              "      <td>لازم نیست راجع‌به هر مسئله‌ای نظر بدی و موضع‌گ...</td>\n",
              "      <td>dipole</td>\n",
              "    </tr>\n",
              "  </tbody>\n",
              "</table>\n",
              "</div>"
            ],
            "text/plain": [
              "  lang                                               text    target\n",
              "1   fa  آن شب اسفندماه که برای نخستین بار خبر درگذشت #...  positive\n",
              "2   en                      @daydreaminblack Niiiice😂😂😂😂😂   neutral\n",
              "3   fa  جدا از رفتن شجریان، چهر‌ه‌های غمبار همایون و ع...  negative\n",
              "4   fa  دیگه تویی که تا دیروز عکس سردار دلها رو استوری...  negative\n",
              "5   fa  لازم نیست راجع‌به هر مسئله‌ای نظر بدی و موضع‌گ...    dipole"
            ]
          },
          "metadata": {
            "tags": []
          },
          "execution_count": 9
        }
      ]
    },
    {
      "cell_type": "code",
      "metadata": {
        "id": "UjeEJmSH96Hy"
      },
      "source": [
        "data = data[~data['target'].isnull()]\n",
        "data = data[data['target'].notna()]\n",
        "data = data[~data['text'].isnull()]\n",
        "data = data[data['text'].notna()]\n",
        "\n",
        "data = data[~(data['target']=='dipole')]"
      ],
      "execution_count": 11,
      "outputs": []
    },
    {
      "cell_type": "code",
      "metadata": {
        "colab": {
          "base_uri": "https://localhost:8080/"
        },
        "id": "4rBGNjmA8wmw",
        "outputId": "580b214a-8648-423b-fd78-03aef1a03906"
      },
      "source": [
        "tages = list(set(data['target'].values))\n",
        "tages"
      ],
      "execution_count": 12,
      "outputs": [
        {
          "output_type": "execute_result",
          "data": {
            "text/plain": [
              "['negative', 'positive', 'neutral']"
            ]
          },
          "metadata": {
            "tags": []
          },
          "execution_count": 12
        }
      ]
    },
    {
      "cell_type": "code",
      "metadata": {
        "colab": {
          "base_uri": "https://localhost:8080/",
          "height": 548
        },
        "id": "dr8zjZrCXDEH",
        "outputId": "25a7355d-446f-41a1-a5ea-c51d0120bb42"
      },
      "source": [
        "class_count = data['target'].value_counts()\n",
        "plt.figure(figsize = (23, 8))\n",
        "plt.bar(x = class_count.keys(), \n",
        "        height = class_count.values)\n",
        "plt.xlabel(\"Target\")\n",
        "plt.ylabel(\"Tweet count\")\n",
        "plt.title(\"Count of tweets for each topic\")\n",
        "plt.legend()"
      ],
      "execution_count": 16,
      "outputs": [
        {
          "output_type": "stream",
          "text": [
            "No handles with labels found to put in legend.\n"
          ],
          "name": "stderr"
        },
        {
          "output_type": "execute_result",
          "data": {
            "text/plain": [
              "<matplotlib.legend.Legend at 0x7f31c5fedb70>"
            ]
          },
          "metadata": {
            "tags": []
          },
          "execution_count": 16
        },
        {
          "output_type": "display_data",
          "data": {
            "image/png": "[encoded data removed]",
            "text/plain": [
              "<Figure size 1656x576 with 1 Axes>"
            ]
          },
          "metadata": {
            "tags": [],
            "needs_background": "light"
          }
        }
      ]
    },
    {
      "cell_type": "code",
      "metadata": {
        "colab": {
          "base_uri": "https://localhost:8080/",
          "height": 206
        },
        "id": "cesAb4bVnpe_",
        "outputId": "b9c91590-53e4-4a5c-fdca-9458b022a42a"
      },
      "source": [
        "is_fa =  data['lang'] == 'fa'\n",
        "fa_data = data[is_fa]\n",
        "fa_data.head()"
      ],
      "execution_count": 17,
      "outputs": [
        {
          "output_type": "execute_result",
          "data": {
            "text/html": [
              "<div>\n",
              "<style scoped>\n",
              "    .dataframe tbody tr th:only-of-type {\n",
              "        vertical-align: middle;\n",
              "    }\n",
              "\n",
              "    .dataframe tbody tr th {\n",
              "        vertical-align: top;\n",
              "    }\n",
              "\n",
              "    .dataframe thead th {\n",
              "        text-align: right;\n",
              "    }\n",
              "</style>\n",
              "<table border=\"1\" class=\"dataframe\">\n",
              "  <thead>\n",
              "    <tr style=\"text-align: right;\">\n",
              "      <th></th>\n",
              "      <th>lang</th>\n",
              "      <th>text</th>\n",
              "      <th>target</th>\n",
              "    </tr>\n",
              "  </thead>\n",
              "  <tbody>\n",
              "    <tr>\n",
              "      <th>1</th>\n",
              "      <td>fa</td>\n",
              "      <td>آن شب اسفندماه که برای نخستین بار خبر درگذشت #...</td>\n",
              "      <td>positive</td>\n",
              "    </tr>\n",
              "    <tr>\n",
              "      <th>3</th>\n",
              "      <td>fa</td>\n",
              "      <td>جدا از رفتن شجریان، چهر‌ه‌های غمبار همایون و ع...</td>\n",
              "      <td>negative</td>\n",
              "    </tr>\n",
              "    <tr>\n",
              "      <th>4</th>\n",
              "      <td>fa</td>\n",
              "      <td>دیگه تویی که تا دیروز عکس سردار دلها رو استوری...</td>\n",
              "      <td>negative</td>\n",
              "    </tr>\n",
              "    <tr>\n",
              "      <th>6</th>\n",
              "      <td>fa</td>\n",
              "      <td>به نظر من اینکه رفیق صمیمیت لانگ دیستنس باشه ب...</td>\n",
              "      <td>positive</td>\n",
              "    </tr>\n",
              "    <tr>\n",
              "      <th>13</th>\n",
              "      <td>fa</td>\n",
              "      <td>اون که سپردی به باد حسرت تمام دار و ندار ما بو...</td>\n",
              "      <td>positive</td>\n",
              "    </tr>\n",
              "  </tbody>\n",
              "</table>\n",
              "</div>"
            ],
            "text/plain": [
              "   lang                                               text    target\n",
              "1    fa  آن شب اسفندماه که برای نخستین بار خبر درگذشت #...  positive\n",
              "3    fa  جدا از رفتن شجریان، چهر‌ه‌های غمبار همایون و ع...  negative\n",
              "4    fa  دیگه تویی که تا دیروز عکس سردار دلها رو استوری...  negative\n",
              "6    fa  به نظر من اینکه رفیق صمیمیت لانگ دیستنس باشه ب...  positive\n",
              "13   fa  اون که سپردی به باد حسرت تمام دار و ندار ما بو...  positive"
            ]
          },
          "metadata": {
            "tags": []
          },
          "execution_count": 17
        }
      ]
    },
    {
      "cell_type": "code",
      "metadata": {
        "colab": {
          "base_uri": "https://localhost:8080/"
        },
        "id": "PGqXKc6KrHZg",
        "outputId": "417912f9-c0a0-4788-b760-f1fcd883b37c"
      },
      "source": [
        "fa_data.shape"
      ],
      "execution_count": 18,
      "outputs": [
        {
          "output_type": "execute_result",
          "data": {
            "text/plain": [
              "(305952, 3)"
            ]
          },
          "metadata": {
            "tags": []
          },
          "execution_count": 18
        }
      ]
    },
    {
      "cell_type": "code",
      "metadata": {
        "colab": {
          "base_uri": "https://localhost:8080/",
          "height": 206
        },
        "id": "ctZCwtLKm-3L",
        "outputId": "77ffc513-48ee-4800-e2dc-9d18c137e55f"
      },
      "source": [
        "is_en =  data['lang'] == 'en'\n",
        "en_data= data[is_en]\n",
        "en_data.head()"
      ],
      "execution_count": 19,
      "outputs": [
        {
          "output_type": "execute_result",
          "data": {
            "text/html": [
              "<div>\n",
              "<style scoped>\n",
              "    .dataframe tbody tr th:only-of-type {\n",
              "        vertical-align: middle;\n",
              "    }\n",
              "\n",
              "    .dataframe tbody tr th {\n",
              "        vertical-align: top;\n",
              "    }\n",
              "\n",
              "    .dataframe thead th {\n",
              "        text-align: right;\n",
              "    }\n",
              "</style>\n",
              "<table border=\"1\" class=\"dataframe\">\n",
              "  <thead>\n",
              "    <tr style=\"text-align: right;\">\n",
              "      <th></th>\n",
              "      <th>lang</th>\n",
              "      <th>text</th>\n",
              "      <th>target</th>\n",
              "    </tr>\n",
              "  </thead>\n",
              "  <tbody>\n",
              "    <tr>\n",
              "      <th>2</th>\n",
              "      <td>en</td>\n",
              "      <td>@daydreaminblack Niiiice😂😂😂😂😂</td>\n",
              "      <td>neutral</td>\n",
              "    </tr>\n",
              "    <tr>\n",
              "      <th>23</th>\n",
              "      <td>en</td>\n",
              "      <td>@safewordthe۲nd ….</td>\n",
              "      <td>neutral</td>\n",
              "    </tr>\n",
              "    <tr>\n",
              "      <th>39</th>\n",
              "      <td>en</td>\n",
              "      <td>@wahid_taniwal It seems, Taliban endorsed Pres...</td>\n",
              "      <td>positive</td>\n",
              "    </tr>\n",
              "    <tr>\n",
              "      <th>40</th>\n",
              "      <td>en</td>\n",
              "      <td>Mujahid told CBS News in a phone interview, «W...</td>\n",
              "      <td>positive</td>\n",
              "    </tr>\n",
              "    <tr>\n",
              "      <th>46</th>\n",
              "      <td>en</td>\n",
              "      <td>Watch out😱🙈🙉 https: //t. co/eyCX۳SFGnG</td>\n",
              "      <td>neutral</td>\n",
              "    </tr>\n",
              "  </tbody>\n",
              "</table>\n",
              "</div>"
            ],
            "text/plain": [
              "   lang                                               text    target\n",
              "2    en                      @daydreaminblack Niiiice😂😂😂😂😂   neutral\n",
              "23   en                                 @safewordthe۲nd ….   neutral\n",
              "39   en  @wahid_taniwal It seems, Taliban endorsed Pres...  positive\n",
              "40   en  Mujahid told CBS News in a phone interview, «W...  positive\n",
              "46   en             Watch out😱🙈🙉 https: //t. co/eyCX۳SFGnG   neutral"
            ]
          },
          "metadata": {
            "tags": []
          },
          "execution_count": 19
        }
      ]
    },
    {
      "cell_type": "code",
      "metadata": {
        "colab": {
          "base_uri": "https://localhost:8080/"
        },
        "id": "c477gLyUrBb5",
        "outputId": "3e122960-cc28-40cb-9f1b-39ef81c3bf6e"
      },
      "source": [
        "en_data.shape"
      ],
      "execution_count": 20,
      "outputs": [
        {
          "output_type": "execute_result",
          "data": {
            "text/plain": [
              "(273316, 3)"
            ]
          },
          "metadata": {
            "tags": []
          },
          "execution_count": 20
        }
      ]
    },
    {
      "cell_type": "markdown",
      "metadata": {
        "id": "-TxtwIy6xhc8"
      },
      "source": [
        "#Preprocess"
      ]
    },
    {
      "cell_type": "code",
      "metadata": {
        "id": "gIahet8W8qzt"
      },
      "source": [
        "def tokenizer(text):\n",
        "  text = text.str.split(' ')\n",
        "  return text"
      ],
      "execution_count": 21,
      "outputs": []
    },
    {
      "cell_type": "code",
      "metadata": {
        "id": "mCeCfztO89ZD"
      },
      "source": [
        "def stemLemmaStopWord(stemmer, lemmatizer, stopwords, alphabet, tokens):\n",
        "  final_tokens = []\n",
        "  for token in tokens:\n",
        "    stemmed_token = stemmer.stem(lemmatizer.lemmatize(token))\n",
        "    if '#' in stemmed_token:\n",
        "      stemmed_token = stemmed_token.split('#')[0]\n",
        "    if token not in stopwords and stemmed_token not in stopwords and not token == '' and stemmed_token not in alphabet:\n",
        "      final_tokens.append(stemmed_token)\n",
        "  return final_tokens"
      ],
      "execution_count": 22,
      "outputs": []
    },
    {
      "cell_type": "code",
      "metadata": {
        "id": "V75f8b9b5qPB"
      },
      "source": [
        "def num_words(words):\n",
        "  return len(words)\n",
        "\n",
        "def num_distinct_words(words):\n",
        "  return len(set(words))\n",
        "\n",
        "def all_words(data):\n",
        "  words = set()\n",
        "  for text in data.text:\n",
        "    for word in text:\n",
        "      words.add(word)\n",
        "  return words"
      ],
      "execution_count": 23,
      "outputs": []
    },
    {
      "cell_type": "markdown",
      "metadata": {
        "id": "VKoFMwqMxjV2"
      },
      "source": [
        "##farsi"
      ]
    },
    {
      "cell_type": "code",
      "metadata": {
        "colab": {
          "base_uri": "https://localhost:8080/",
          "height": 206
        },
        "id": "XH2KjuPZxdx9",
        "outputId": "4aff651a-bfbb-44d9-f3ac-6f61c7fd6bd8"
      },
      "source": [
        "fa_data.head()"
      ],
      "execution_count": 24,
      "outputs": [
        {
          "output_type": "execute_result",
          "data": {
            "text/html": [
              "<div>\n",
              "<style scoped>\n",
              "    .dataframe tbody tr th:only-of-type {\n",
              "        vertical-align: middle;\n",
              "    }\n",
              "\n",
              "    .dataframe tbody tr th {\n",
              "        vertical-align: top;\n",
              "    }\n",
              "\n",
              "    .dataframe thead th {\n",
              "        text-align: right;\n",
              "    }\n",
              "</style>\n",
              "<table border=\"1\" class=\"dataframe\">\n",
              "  <thead>\n",
              "    <tr style=\"text-align: right;\">\n",
              "      <th></th>\n",
              "      <th>lang</th>\n",
              "      <th>text</th>\n",
              "      <th>target</th>\n",
              "    </tr>\n",
              "  </thead>\n",
              "  <tbody>\n",
              "    <tr>\n",
              "      <th>1</th>\n",
              "      <td>fa</td>\n",
              "      <td>آن شب اسفندماه که برای نخستین بار خبر درگذشت #...</td>\n",
              "      <td>positive</td>\n",
              "    </tr>\n",
              "    <tr>\n",
              "      <th>3</th>\n",
              "      <td>fa</td>\n",
              "      <td>جدا از رفتن شجریان، چهر‌ه‌های غمبار همایون و ع...</td>\n",
              "      <td>negative</td>\n",
              "    </tr>\n",
              "    <tr>\n",
              "      <th>4</th>\n",
              "      <td>fa</td>\n",
              "      <td>دیگه تویی که تا دیروز عکس سردار دلها رو استوری...</td>\n",
              "      <td>negative</td>\n",
              "    </tr>\n",
              "    <tr>\n",
              "      <th>6</th>\n",
              "      <td>fa</td>\n",
              "      <td>به نظر من اینکه رفیق صمیمیت لانگ دیستنس باشه ب...</td>\n",
              "      <td>positive</td>\n",
              "    </tr>\n",
              "    <tr>\n",
              "      <th>13</th>\n",
              "      <td>fa</td>\n",
              "      <td>اون که سپردی به باد حسرت تمام دار و ندار ما بو...</td>\n",
              "      <td>positive</td>\n",
              "    </tr>\n",
              "  </tbody>\n",
              "</table>\n",
              "</div>"
            ],
            "text/plain": [
              "   lang                                               text    target\n",
              "1    fa  آن شب اسفندماه که برای نخستین بار خبر درگذشت #...  positive\n",
              "3    fa  جدا از رفتن شجریان، چهر‌ه‌های غمبار همایون و ع...  negative\n",
              "4    fa  دیگه تویی که تا دیروز عکس سردار دلها رو استوری...  negative\n",
              "6    fa  به نظر من اینکه رفیق صمیمیت لانگ دیستنس باشه ب...  positive\n",
              "13   fa  اون که سپردی به باد حسرت تمام دار و ندار ما بو...  positive"
            ]
          },
          "metadata": {
            "tags": []
          },
          "execution_count": 24
        }
      ]
    },
    {
      "cell_type": "code",
      "metadata": {
        "colab": {
          "base_uri": "https://localhost:8080/",
          "height": 310
        },
        "id": "tUQYvq23yZQV",
        "outputId": "76aa6fbf-48d1-483e-8d0e-876b0649e3cc"
      },
      "source": [
        "def fa_normalize(text):\n",
        "  text = text.replace(to_replace =r\"[ئيی]\", value = 'ی', regex = True)\n",
        "  text = text.replace(to_replace =r\"[ك]\", value = 'ک', regex = True)\n",
        "  text = text.replace(to_replace =r\"[ؤ]\", value = 'و', regex = True)\n",
        "  text = text.replace(to_replace =r\"[ة]\", value = 'ه', regex = True)\n",
        "  text = text.replace(to_replace=r\"[إأآا]\", value=\"ا\", regex=True)\n",
        "  text = text.replace(\n",
        "            to_replace=r\"[^ابپتثجچحخدذرزژسشصضطظعغفقکگلمنوهی]\", value=\" \", regex=True\n",
        "        )\n",
        "  text = text.replace(to_replace=r'(.)\\1+', value=r'\\1', regex=True)\n",
        "  text = text.replace(to_replace =r\"[^\\S\\n\\t]+\", value = ' ', regex = True)\n",
        "  return text  \n",
        "\n",
        "\n",
        "fa_data.text = fa_normalize(fa_data.text)\n",
        "fa_data.head()"
      ],
      "execution_count": 25,
      "outputs": [
        {
          "output_type": "stream",
          "text": [
            "/usr/local/lib/python3.6/dist-packages/pandas/core/generic.py:5170: SettingWithCopyWarning: \n",
            "A value is trying to be set on a copy of a slice from a DataFrame.\n",
            "Try using .loc[row_indexer,col_indexer] = value instead\n",
            "\n",
            "See the caveats in the documentation: https://pandas.pydata.org/pandas-docs/stable/user_guide/indexing.html#returning-a-view-versus-a-copy\n",
            "  self[name] = value\n"
          ],
          "name": "stderr"
        },
        {
          "output_type": "execute_result",
          "data": {
            "text/html": [
              "<div>\n",
              "<style scoped>\n",
              "    .dataframe tbody tr th:only-of-type {\n",
              "        vertical-align: middle;\n",
              "    }\n",
              "\n",
              "    .dataframe tbody tr th {\n",
              "        vertical-align: top;\n",
              "    }\n",
              "\n",
              "    .dataframe thead th {\n",
              "        text-align: right;\n",
              "    }\n",
              "</style>\n",
              "<table border=\"1\" class=\"dataframe\">\n",
              "  <thead>\n",
              "    <tr style=\"text-align: right;\">\n",
              "      <th></th>\n",
              "      <th>lang</th>\n",
              "      <th>text</th>\n",
              "      <th>target</th>\n",
              "    </tr>\n",
              "  </thead>\n",
              "  <tbody>\n",
              "    <tr>\n",
              "      <th>1</th>\n",
              "      <td>fa</td>\n",
              "      <td>ان شب اسفندماه که برای نخستین بار خبر درگذشت م...</td>\n",
              "      <td>positive</td>\n",
              "    </tr>\n",
              "    <tr>\n",
              "      <th>3</th>\n",
              "      <td>fa</td>\n",
              "      <td>جدا از رفتن شجریان چهر ه های غمبار همایون و عل...</td>\n",
              "      <td>negative</td>\n",
              "    </tr>\n",
              "    <tr>\n",
              "      <th>4</th>\n",
              "      <td>fa</td>\n",
              "      <td>دیگه توی که تا دیروز عکس سردار دلها رو استوری ...</td>\n",
              "      <td>negative</td>\n",
              "    </tr>\n",
              "    <tr>\n",
              "      <th>6</th>\n",
              "      <td>fa</td>\n",
              "      <td>به نظر من اینکه رفیق صمیمیت لانگ دیستنس باشه ب...</td>\n",
              "      <td>positive</td>\n",
              "    </tr>\n",
              "    <tr>\n",
              "      <th>13</th>\n",
              "      <td>fa</td>\n",
              "      <td>اون که سپردی به باد حسرت تمام دار و ندار ما بو...</td>\n",
              "      <td>positive</td>\n",
              "    </tr>\n",
              "  </tbody>\n",
              "</table>\n",
              "</div>"
            ],
            "text/plain": [
              "   lang                                               text    target\n",
              "1    fa  ان شب اسفندماه که برای نخستین بار خبر درگذشت م...  positive\n",
              "3    fa  جدا از رفتن شجریان چهر ه های غمبار همایون و عل...  negative\n",
              "4    fa  دیگه توی که تا دیروز عکس سردار دلها رو استوری ...  negative\n",
              "6    fa  به نظر من اینکه رفیق صمیمیت لانگ دیستنس باشه ب...  positive\n",
              "13   fa  اون که سپردی به باد حسرت تمام دار و ندار ما بو...  positive"
            ]
          },
          "metadata": {
            "tags": []
          },
          "execution_count": 25
        }
      ]
    },
    {
      "cell_type": "markdown",
      "metadata": {
        "id": "wGeLw7PJ5NEZ"
      },
      "source": [
        "tokenize"
      ]
    },
    {
      "cell_type": "code",
      "metadata": {
        "colab": {
          "base_uri": "https://localhost:8080/",
          "height": 310
        },
        "id": "O40XcoQ_5I6U",
        "outputId": "8f9f19c4-89a6-43d6-8473-e733465e9cb2"
      },
      "source": [
        "fa_data.text = tokenizer(fa_data.text)\n",
        "fa_data.head()"
      ],
      "execution_count": 26,
      "outputs": [
        {
          "output_type": "stream",
          "text": [
            "/usr/local/lib/python3.6/dist-packages/pandas/core/generic.py:5170: SettingWithCopyWarning: \n",
            "A value is trying to be set on a copy of a slice from a DataFrame.\n",
            "Try using .loc[row_indexer,col_indexer] = value instead\n",
            "\n",
            "See the caveats in the documentation: https://pandas.pydata.org/pandas-docs/stable/user_guide/indexing.html#returning-a-view-versus-a-copy\n",
            "  self[name] = value\n"
          ],
          "name": "stderr"
        },
        {
          "output_type": "execute_result",
          "data": {
            "text/html": [
              "<div>\n",
              "<style scoped>\n",
              "    .dataframe tbody tr th:only-of-type {\n",
              "        vertical-align: middle;\n",
              "    }\n",
              "\n",
              "    .dataframe tbody tr th {\n",
              "        vertical-align: top;\n",
              "    }\n",
              "\n",
              "    .dataframe thead th {\n",
              "        text-align: right;\n",
              "    }\n",
              "</style>\n",
              "<table border=\"1\" class=\"dataframe\">\n",
              "  <thead>\n",
              "    <tr style=\"text-align: right;\">\n",
              "      <th></th>\n",
              "      <th>lang</th>\n",
              "      <th>text</th>\n",
              "      <th>target</th>\n",
              "    </tr>\n",
              "  </thead>\n",
              "  <tbody>\n",
              "    <tr>\n",
              "      <th>1</th>\n",
              "      <td>fa</td>\n",
              "      <td>[ان, شب, اسفندماه, که, برای, نخستین, بار, خبر,...</td>\n",
              "      <td>positive</td>\n",
              "    </tr>\n",
              "    <tr>\n",
              "      <th>3</th>\n",
              "      <td>fa</td>\n",
              "      <td>[جدا, از, رفتن, شجریان, چهر, ه, های, غمبار, هم...</td>\n",
              "      <td>negative</td>\n",
              "    </tr>\n",
              "    <tr>\n",
              "      <th>4</th>\n",
              "      <td>fa</td>\n",
              "      <td>[دیگه, توی, که, تا, دیروز, عکس, سردار, دلها, ر...</td>\n",
              "      <td>negative</td>\n",
              "    </tr>\n",
              "    <tr>\n",
              "      <th>6</th>\n",
              "      <td>fa</td>\n",
              "      <td>[به, نظر, من, اینکه, رفیق, صمیمیت, لانگ, دیستن...</td>\n",
              "      <td>positive</td>\n",
              "    </tr>\n",
              "    <tr>\n",
              "      <th>13</th>\n",
              "      <td>fa</td>\n",
              "      <td>[اون, که, سپردی, به, باد, حسرت, تمام, دار, و, ...</td>\n",
              "      <td>positive</td>\n",
              "    </tr>\n",
              "  </tbody>\n",
              "</table>\n",
              "</div>"
            ],
            "text/plain": [
              "   lang                                               text    target\n",
              "1    fa  [ان, شب, اسفندماه, که, برای, نخستین, بار, خبر,...  positive\n",
              "3    fa  [جدا, از, رفتن, شجریان, چهر, ه, های, غمبار, هم...  negative\n",
              "4    fa  [دیگه, توی, که, تا, دیروز, عکس, سردار, دلها, ر...  negative\n",
              "6    fa  [به, نظر, من, اینکه, رفیق, صمیمیت, لانگ, دیستن...  positive\n",
              "13   fa  [اون, که, سپردی, به, باد, حسرت, تمام, دار, و, ...  positive"
            ]
          },
          "metadata": {
            "tags": []
          },
          "execution_count": 26
        }
      ]
    },
    {
      "cell_type": "markdown",
      "metadata": {
        "id": "gqxvFuYR5ab8"
      },
      "source": [
        "Stem Lemma StopWord"
      ]
    },
    {
      "cell_type": "code",
      "metadata": {
        "colab": {
          "base_uri": "https://localhost:8080/",
          "height": 310
        },
        "id": "BnZP8pFk41-f",
        "outputId": "6278d506-45e0-4570-d05b-0dc59ac7e4ed"
      },
      "source": [
        "fa_stemmer = hazm.Stemmer()\n",
        "fa_lemmatizer = hazm.Lemmatizer()\n",
        "fa_stopwords = hazm.stopwords_list()\n",
        "fa_alphabet = set(list('ابپتثجچحخدذرزژسشصضطظعغفقکگلمنوهی'))\n",
        "\n",
        "fa_data.text = fa_data.apply(lambda row: stemLemmaStopWord(fa_stemmer, fa_lemmatizer, fa_stopwords, fa_alphabet, row.text), axis=1)\n",
        "fa_data.head()"
      ],
      "execution_count": 27,
      "outputs": [
        {
          "output_type": "stream",
          "text": [
            "/usr/local/lib/python3.6/dist-packages/pandas/core/generic.py:5170: SettingWithCopyWarning: \n",
            "A value is trying to be set on a copy of a slice from a DataFrame.\n",
            "Try using .loc[row_indexer,col_indexer] = value instead\n",
            "\n",
            "See the caveats in the documentation: https://pandas.pydata.org/pandas-docs/stable/user_guide/indexing.html#returning-a-view-versus-a-copy\n",
            "  self[name] = value\n"
          ],
          "name": "stderr"
        },
        {
          "output_type": "execute_result",
          "data": {
            "text/html": [
              "<div>\n",
              "<style scoped>\n",
              "    .dataframe tbody tr th:only-of-type {\n",
              "        vertical-align: middle;\n",
              "    }\n",
              "\n",
              "    .dataframe tbody tr th {\n",
              "        vertical-align: top;\n",
              "    }\n",
              "\n",
              "    .dataframe thead th {\n",
              "        text-align: right;\n",
              "    }\n",
              "</style>\n",
              "<table border=\"1\" class=\"dataframe\">\n",
              "  <thead>\n",
              "    <tr style=\"text-align: right;\">\n",
              "      <th></th>\n",
              "      <th>lang</th>\n",
              "      <th>text</th>\n",
              "      <th>target</th>\n",
              "    </tr>\n",
              "  </thead>\n",
              "  <tbody>\n",
              "    <tr>\n",
              "      <th>1</th>\n",
              "      <td>fa</td>\n",
              "      <td>[, شب, اسفندماه, خبر, درگذ, محمدرضاشجر, امد, م...</td>\n",
              "      <td>positive</td>\n",
              "    </tr>\n",
              "    <tr>\n",
              "      <th>3</th>\n",
              "      <td>fa</td>\n",
              "      <td>[جدا, رفتن, شجر, چهر, , غمبار, همایون, علیزاده...</td>\n",
              "      <td>negative</td>\n",
              "    </tr>\n",
              "    <tr>\n",
              "      <th>4</th>\n",
              "      <td>fa</td>\n",
              "      <td>[دیگه, دیروز, عکس, سردار, دل, استور, میکرد, نم...</td>\n",
              "      <td>negative</td>\n",
              "    </tr>\n",
              "    <tr>\n",
              "      <th>6</th>\n",
              "      <td>fa</td>\n",
              "      <td>[رفیق, صمیم, لانگ, دیستنس, باشه, مراتب, سخ, , ...</td>\n",
              "      <td>positive</td>\n",
              "    </tr>\n",
              "    <tr>\n",
              "      <th>13</th>\n",
              "      <td>fa</td>\n",
              "      <td>[اون, سپرد, باد, حسر, ندار, زویازاکار]</td>\n",
              "      <td>positive</td>\n",
              "    </tr>\n",
              "  </tbody>\n",
              "</table>\n",
              "</div>"
            ],
            "text/plain": [
              "   lang                                               text    target\n",
              "1    fa  [, شب, اسفندماه, خبر, درگذ, محمدرضاشجر, امد, م...  positive\n",
              "3    fa  [جدا, رفتن, شجر, چهر, , غمبار, همایون, علیزاده...  negative\n",
              "4    fa  [دیگه, دیروز, عکس, سردار, دل, استور, میکرد, نم...  negative\n",
              "6    fa  [رفیق, صمیم, لانگ, دیستنس, باشه, مراتب, سخ, , ...  positive\n",
              "13   fa             [اون, سپرد, باد, حسر, ندار, زویازاکار]  positive"
            ]
          },
          "metadata": {
            "tags": []
          },
          "execution_count": 27
        }
      ]
    },
    {
      "cell_type": "markdown",
      "metadata": {
        "id": "PxaqkiyV5tTE"
      },
      "source": [
        "number of words"
      ]
    },
    {
      "cell_type": "code",
      "metadata": {
        "colab": {
          "base_uri": "https://localhost:8080/",
          "height": 415
        },
        "id": "atrLOIzW9sX1",
        "outputId": "440d63e7-04bd-4776-b830-cf05401ef0f6"
      },
      "source": [
        "fa_data['words_num'] = fa_data.apply(lambda row: num_words(row.text), axis=1)\n",
        "fa_data['distinct_words_num'] = fa_data.apply(lambda row: num_distinct_words(row.text), axis=1)\n",
        "fa_data.head()"
      ],
      "execution_count": 28,
      "outputs": [
        {
          "output_type": "stream",
          "text": [
            "/usr/local/lib/python3.6/dist-packages/ipykernel_launcher.py:1: SettingWithCopyWarning: \n",
            "A value is trying to be set on a copy of a slice from a DataFrame.\n",
            "Try using .loc[row_indexer,col_indexer] = value instead\n",
            "\n",
            "See the caveats in the documentation: https://pandas.pydata.org/pandas-docs/stable/user_guide/indexing.html#returning-a-view-versus-a-copy\n",
            "  \"\"\"Entry point for launching an IPython kernel.\n",
            "/usr/local/lib/python3.6/dist-packages/ipykernel_launcher.py:2: SettingWithCopyWarning: \n",
            "A value is trying to be set on a copy of a slice from a DataFrame.\n",
            "Try using .loc[row_indexer,col_indexer] = value instead\n",
            "\n",
            "See the caveats in the documentation: https://pandas.pydata.org/pandas-docs/stable/user_guide/indexing.html#returning-a-view-versus-a-copy\n",
            "  \n"
          ],
          "name": "stderr"
        },
        {
          "output_type": "execute_result",
          "data": {
            "text/html": [
              "<div>\n",
              "<style scoped>\n",
              "    .dataframe tbody tr th:only-of-type {\n",
              "        vertical-align: middle;\n",
              "    }\n",
              "\n",
              "    .dataframe tbody tr th {\n",
              "        vertical-align: top;\n",
              "    }\n",
              "\n",
              "    .dataframe thead th {\n",
              "        text-align: right;\n",
              "    }\n",
              "</style>\n",
              "<table border=\"1\" class=\"dataframe\">\n",
              "  <thead>\n",
              "    <tr style=\"text-align: right;\">\n",
              "      <th></th>\n",
              "      <th>lang</th>\n",
              "      <th>text</th>\n",
              "      <th>target</th>\n",
              "      <th>words_num</th>\n",
              "      <th>distinct_words_num</th>\n",
              "    </tr>\n",
              "  </thead>\n",
              "  <tbody>\n",
              "    <tr>\n",
              "      <th>1</th>\n",
              "      <td>fa</td>\n",
              "      <td>[, شب, اسفندماه, خبر, درگذ, محمدرضاشجر, امد, م...</td>\n",
              "      <td>positive</td>\n",
              "      <td>28</td>\n",
              "      <td>24</td>\n",
              "    </tr>\n",
              "    <tr>\n",
              "      <th>3</th>\n",
              "      <td>fa</td>\n",
              "      <td>[جدا, رفتن, شجر, چهر, , غمبار, همایون, علیزاده...</td>\n",
              "      <td>negative</td>\n",
              "      <td>11</td>\n",
              "      <td>11</td>\n",
              "    </tr>\n",
              "    <tr>\n",
              "      <th>4</th>\n",
              "      <td>fa</td>\n",
              "      <td>[دیگه, دیروز, عکس, سردار, دل, استور, میکرد, نم...</td>\n",
              "      <td>negative</td>\n",
              "      <td>12</td>\n",
              "      <td>12</td>\n",
              "    </tr>\n",
              "    <tr>\n",
              "      <th>6</th>\n",
              "      <td>fa</td>\n",
              "      <td>[رفیق, صمیم, لانگ, دیستنس, باشه, مراتب, سخ, , ...</td>\n",
              "      <td>positive</td>\n",
              "      <td>12</td>\n",
              "      <td>10</td>\n",
              "    </tr>\n",
              "    <tr>\n",
              "      <th>13</th>\n",
              "      <td>fa</td>\n",
              "      <td>[اون, سپرد, باد, حسر, ندار, زویازاکار]</td>\n",
              "      <td>positive</td>\n",
              "      <td>6</td>\n",
              "      <td>6</td>\n",
              "    </tr>\n",
              "  </tbody>\n",
              "</table>\n",
              "</div>"
            ],
            "text/plain": [
              "   lang  ... distinct_words_num\n",
              "1    fa  ...                 24\n",
              "3    fa  ...                 11\n",
              "4    fa  ...                 12\n",
              "6    fa  ...                 10\n",
              "13   fa  ...                  6\n",
              "\n",
              "[5 rows x 5 columns]"
            ]
          },
          "metadata": {
            "tags": []
          },
          "execution_count": 28
        }
      ]
    },
    {
      "cell_type": "code",
      "metadata": {
        "colab": {
          "base_uri": "https://localhost:8080/"
        },
        "id": "KccleGiU-FYn",
        "outputId": "d536fa64-b54f-4ff2-ce10-f67fde4f5087"
      },
      "source": [
        "words = all_words(fa_data)\n",
        "print('all farsi words: ', sum(fa_data.words_num), ' and distinct farsi words: ', len(words))"
      ],
      "execution_count": 29,
      "outputs": [
        {
          "output_type": "stream",
          "text": [
            "all farsi words:  3211316  and distinct farsi words:  88774\n"
          ],
          "name": "stdout"
        }
      ]
    },
    {
      "cell_type": "markdown",
      "metadata": {
        "id": "djZuTeJixm-x"
      },
      "source": [
        "##english"
      ]
    },
    {
      "cell_type": "code",
      "metadata": {
        "colab": {
          "base_uri": "https://localhost:8080/",
          "height": 206
        },
        "id": "DhP2yGFLxfxY",
        "outputId": "65566bb6-13b8-412e-a932-b0ce6a67e4f5"
      },
      "source": [
        "en_data.head()"
      ],
      "execution_count": 30,
      "outputs": [
        {
          "output_type": "execute_result",
          "data": {
            "text/html": [
              "<div>\n",
              "<style scoped>\n",
              "    .dataframe tbody tr th:only-of-type {\n",
              "        vertical-align: middle;\n",
              "    }\n",
              "\n",
              "    .dataframe tbody tr th {\n",
              "        vertical-align: top;\n",
              "    }\n",
              "\n",
              "    .dataframe thead th {\n",
              "        text-align: right;\n",
              "    }\n",
              "</style>\n",
              "<table border=\"1\" class=\"dataframe\">\n",
              "  <thead>\n",
              "    <tr style=\"text-align: right;\">\n",
              "      <th></th>\n",
              "      <th>lang</th>\n",
              "      <th>text</th>\n",
              "      <th>target</th>\n",
              "    </tr>\n",
              "  </thead>\n",
              "  <tbody>\n",
              "    <tr>\n",
              "      <th>2</th>\n",
              "      <td>en</td>\n",
              "      <td>@daydreaminblack Niiiice😂😂😂😂😂</td>\n",
              "      <td>neutral</td>\n",
              "    </tr>\n",
              "    <tr>\n",
              "      <th>23</th>\n",
              "      <td>en</td>\n",
              "      <td>@safewordthe۲nd ….</td>\n",
              "      <td>neutral</td>\n",
              "    </tr>\n",
              "    <tr>\n",
              "      <th>39</th>\n",
              "      <td>en</td>\n",
              "      <td>@wahid_taniwal It seems, Taliban endorsed Pres...</td>\n",
              "      <td>positive</td>\n",
              "    </tr>\n",
              "    <tr>\n",
              "      <th>40</th>\n",
              "      <td>en</td>\n",
              "      <td>Mujahid told CBS News in a phone interview, «W...</td>\n",
              "      <td>positive</td>\n",
              "    </tr>\n",
              "    <tr>\n",
              "      <th>46</th>\n",
              "      <td>en</td>\n",
              "      <td>Watch out😱🙈🙉 https: //t. co/eyCX۳SFGnG</td>\n",
              "      <td>neutral</td>\n",
              "    </tr>\n",
              "  </tbody>\n",
              "</table>\n",
              "</div>"
            ],
            "text/plain": [
              "   lang                                               text    target\n",
              "2    en                      @daydreaminblack Niiiice😂😂😂😂😂   neutral\n",
              "23   en                                 @safewordthe۲nd ….   neutral\n",
              "39   en  @wahid_taniwal It seems, Taliban endorsed Pres...  positive\n",
              "40   en  Mujahid told CBS News in a phone interview, «W...  positive\n",
              "46   en             Watch out😱🙈🙉 https: //t. co/eyCX۳SFGnG   neutral"
            ]
          },
          "metadata": {
            "tags": []
          },
          "execution_count": 30
        }
      ]
    },
    {
      "cell_type": "code",
      "metadata": {
        "colab": {
          "base_uri": "https://localhost:8080/",
          "height": 310
        },
        "id": "vRxtagQGA3ih",
        "outputId": "e2dc7a0a-b1b6-427c-e3c7-957ea9013f56"
      },
      "source": [
        "def en_normalize(text):\n",
        "  text = text.replace(to_replace =r'@([A-Za-z0-9_]+)', value = '', regex = True)\n",
        "  text = text.replace(to_replace=r\"http([^\\s\\\\]+)\", value=\"\", regex=True)\n",
        "  text = text.str.lower()\n",
        "  text = text.replace(to_replace =r\"[^a-z]\", value = ' ', regex = True)\n",
        "  text = text.replace(to_replace=r'(.)\\1+', value=r'\\1', regex=True)\n",
        "  text = text.replace(to_replace =r\"[^\\S\\n\\t]+\", value = ' ', regex = True)\n",
        "  return text  \n",
        "\n",
        "en_data.text = en_normalize(en_data.text)\n",
        "en_data.head()"
      ],
      "execution_count": 31,
      "outputs": [
        {
          "output_type": "stream",
          "text": [
            "/usr/local/lib/python3.6/dist-packages/pandas/core/generic.py:5170: SettingWithCopyWarning: \n",
            "A value is trying to be set on a copy of a slice from a DataFrame.\n",
            "Try using .loc[row_indexer,col_indexer] = value instead\n",
            "\n",
            "See the caveats in the documentation: https://pandas.pydata.org/pandas-docs/stable/user_guide/indexing.html#returning-a-view-versus-a-copy\n",
            "  self[name] = value\n"
          ],
          "name": "stderr"
        },
        {
          "output_type": "execute_result",
          "data": {
            "text/html": [
              "<div>\n",
              "<style scoped>\n",
              "    .dataframe tbody tr th:only-of-type {\n",
              "        vertical-align: middle;\n",
              "    }\n",
              "\n",
              "    .dataframe tbody tr th {\n",
              "        vertical-align: top;\n",
              "    }\n",
              "\n",
              "    .dataframe thead th {\n",
              "        text-align: right;\n",
              "    }\n",
              "</style>\n",
              "<table border=\"1\" class=\"dataframe\">\n",
              "  <thead>\n",
              "    <tr style=\"text-align: right;\">\n",
              "      <th></th>\n",
              "      <th>lang</th>\n",
              "      <th>text</th>\n",
              "      <th>target</th>\n",
              "    </tr>\n",
              "  </thead>\n",
              "  <tbody>\n",
              "    <tr>\n",
              "      <th>2</th>\n",
              "      <td>en</td>\n",
              "      <td>nice</td>\n",
              "      <td>neutral</td>\n",
              "    </tr>\n",
              "    <tr>\n",
              "      <th>23</th>\n",
              "      <td>en</td>\n",
              "      <td>nd</td>\n",
              "      <td>neutral</td>\n",
              "    </tr>\n",
              "    <tr>\n",
              "      <th>39</th>\n",
              "      <td>en</td>\n",
              "      <td>it sems taliban endorsed president trump nomi...</td>\n",
              "      <td>positive</td>\n",
              "    </tr>\n",
              "    <tr>\n",
              "      <th>40</th>\n",
              "      <td>en</td>\n",
              "      <td>mujahid told cbs news in a phone interview we ...</td>\n",
              "      <td>positive</td>\n",
              "    </tr>\n",
              "    <tr>\n",
              "      <th>46</th>\n",
              "      <td>en</td>\n",
              "      <td>watch out t co eycx sfgng</td>\n",
              "      <td>neutral</td>\n",
              "    </tr>\n",
              "  </tbody>\n",
              "</table>\n",
              "</div>"
            ],
            "text/plain": [
              "   lang                                               text    target\n",
              "2    en                                              nice    neutral\n",
              "23   en                                                nd    neutral\n",
              "39   en   it sems taliban endorsed president trump nomi...  positive\n",
              "40   en  mujahid told cbs news in a phone interview we ...  positive\n",
              "46   en                          watch out t co eycx sfgng   neutral"
            ]
          },
          "metadata": {
            "tags": []
          },
          "execution_count": 31
        }
      ]
    },
    {
      "cell_type": "markdown",
      "metadata": {
        "id": "XhGD_N8O6AO2"
      },
      "source": [
        "tokenize"
      ]
    },
    {
      "cell_type": "code",
      "metadata": {
        "colab": {
          "base_uri": "https://localhost:8080/",
          "height": 310
        },
        "id": "eE4MLygP6AO6",
        "outputId": "3d2daf71-d099-49fe-c736-7ce72f628760"
      },
      "source": [
        "en_data.text = tokenizer(en_data.text)\n",
        "en_data.head()"
      ],
      "execution_count": 32,
      "outputs": [
        {
          "output_type": "stream",
          "text": [
            "/usr/local/lib/python3.6/dist-packages/pandas/core/generic.py:5170: SettingWithCopyWarning: \n",
            "A value is trying to be set on a copy of a slice from a DataFrame.\n",
            "Try using .loc[row_indexer,col_indexer] = value instead\n",
            "\n",
            "See the caveats in the documentation: https://pandas.pydata.org/pandas-docs/stable/user_guide/indexing.html#returning-a-view-versus-a-copy\n",
            "  self[name] = value\n"
          ],
          "name": "stderr"
        },
        {
          "output_type": "execute_result",
          "data": {
            "text/html": [
              "<div>\n",
              "<style scoped>\n",
              "    .dataframe tbody tr th:only-of-type {\n",
              "        vertical-align: middle;\n",
              "    }\n",
              "\n",
              "    .dataframe tbody tr th {\n",
              "        vertical-align: top;\n",
              "    }\n",
              "\n",
              "    .dataframe thead th {\n",
              "        text-align: right;\n",
              "    }\n",
              "</style>\n",
              "<table border=\"1\" class=\"dataframe\">\n",
              "  <thead>\n",
              "    <tr style=\"text-align: right;\">\n",
              "      <th></th>\n",
              "      <th>lang</th>\n",
              "      <th>text</th>\n",
              "      <th>target</th>\n",
              "    </tr>\n",
              "  </thead>\n",
              "  <tbody>\n",
              "    <tr>\n",
              "      <th>2</th>\n",
              "      <td>en</td>\n",
              "      <td>[, nice, ]</td>\n",
              "      <td>neutral</td>\n",
              "    </tr>\n",
              "    <tr>\n",
              "      <th>23</th>\n",
              "      <td>en</td>\n",
              "      <td>[, nd, ]</td>\n",
              "      <td>neutral</td>\n",
              "    </tr>\n",
              "    <tr>\n",
              "      <th>39</th>\n",
              "      <td>en</td>\n",
              "      <td>[, it, sems, taliban, endorsed, president, tru...</td>\n",
              "      <td>positive</td>\n",
              "    </tr>\n",
              "    <tr>\n",
              "      <th>40</th>\n",
              "      <td>en</td>\n",
              "      <td>[mujahid, told, cbs, news, in, a, phone, inter...</td>\n",
              "      <td>positive</td>\n",
              "    </tr>\n",
              "    <tr>\n",
              "      <th>46</th>\n",
              "      <td>en</td>\n",
              "      <td>[watch, out, t, co, eycx, sfgng]</td>\n",
              "      <td>neutral</td>\n",
              "    </tr>\n",
              "  </tbody>\n",
              "</table>\n",
              "</div>"
            ],
            "text/plain": [
              "   lang                                               text    target\n",
              "2    en                                         [, nice, ]   neutral\n",
              "23   en                                           [, nd, ]   neutral\n",
              "39   en  [, it, sems, taliban, endorsed, president, tru...  positive\n",
              "40   en  [mujahid, told, cbs, news, in, a, phone, inter...  positive\n",
              "46   en                   [watch, out, t, co, eycx, sfgng]   neutral"
            ]
          },
          "metadata": {
            "tags": []
          },
          "execution_count": 32
        }
      ]
    },
    {
      "cell_type": "markdown",
      "metadata": {
        "id": "E6NEPkVY6AO7"
      },
      "source": [
        "Stem Lemma StopWord"
      ]
    },
    {
      "cell_type": "code",
      "metadata": {
        "colab": {
          "base_uri": "https://localhost:8080/",
          "height": 310
        },
        "id": "dFP_l3q76AO-",
        "outputId": "f6183482-b0ea-48f3-80ec-c8041c811e87"
      },
      "source": [
        "en_stemmer = PorterStemmer()\n",
        "en_lemmatizer = WordNetLemmatizer()\n",
        "en_stopwords = set(stopwords.words(\"english\"))\n",
        "en_alphabet = set(list('abcdefghijklmnopqrstuvwxyz'))\n",
        "\n",
        "en_data.text = en_data.apply(lambda row: stemLemmaStopWord(en_stemmer, en_lemmatizer, en_stopwords, en_alphabet, row.text), axis=1)\n",
        "en_data.head()"
      ],
      "execution_count": 33,
      "outputs": [
        {
          "output_type": "stream",
          "text": [
            "/usr/local/lib/python3.6/dist-packages/pandas/core/generic.py:5170: SettingWithCopyWarning: \n",
            "A value is trying to be set on a copy of a slice from a DataFrame.\n",
            "Try using .loc[row_indexer,col_indexer] = value instead\n",
            "\n",
            "See the caveats in the documentation: https://pandas.pydata.org/pandas-docs/stable/user_guide/indexing.html#returning-a-view-versus-a-copy\n",
            "  self[name] = value\n"
          ],
          "name": "stderr"
        },
        {
          "output_type": "execute_result",
          "data": {
            "text/html": [
              "<div>\n",
              "<style scoped>\n",
              "    .dataframe tbody tr th:only-of-type {\n",
              "        vertical-align: middle;\n",
              "    }\n",
              "\n",
              "    .dataframe tbody tr th {\n",
              "        vertical-align: top;\n",
              "    }\n",
              "\n",
              "    .dataframe thead th {\n",
              "        text-align: right;\n",
              "    }\n",
              "</style>\n",
              "<table border=\"1\" class=\"dataframe\">\n",
              "  <thead>\n",
              "    <tr style=\"text-align: right;\">\n",
              "      <th></th>\n",
              "      <th>lang</th>\n",
              "      <th>text</th>\n",
              "      <th>target</th>\n",
              "    </tr>\n",
              "  </thead>\n",
              "  <tbody>\n",
              "    <tr>\n",
              "      <th>2</th>\n",
              "      <td>en</td>\n",
              "      <td>[nice]</td>\n",
              "      <td>neutral</td>\n",
              "    </tr>\n",
              "    <tr>\n",
              "      <th>23</th>\n",
              "      <td>en</td>\n",
              "      <td>[nd]</td>\n",
              "      <td>neutral</td>\n",
              "    </tr>\n",
              "    <tr>\n",
              "      <th>39</th>\n",
              "      <td>en</td>\n",
              "      <td>[sem, taliban, endors, presid, trump, nomin, p...</td>\n",
              "      <td>positive</td>\n",
              "    </tr>\n",
              "    <tr>\n",
              "      <th>40</th>\n",
              "      <td>en</td>\n",
              "      <td>[mujahid, told, cb, news, phone, interview, ho...</td>\n",
              "      <td>positive</td>\n",
              "    </tr>\n",
              "    <tr>\n",
              "      <th>46</th>\n",
              "      <td>en</td>\n",
              "      <td>[watch, co, eycx, sfgng]</td>\n",
              "      <td>neutral</td>\n",
              "    </tr>\n",
              "  </tbody>\n",
              "</table>\n",
              "</div>"
            ],
            "text/plain": [
              "   lang                                               text    target\n",
              "2    en                                             [nice]   neutral\n",
              "23   en                                               [nd]   neutral\n",
              "39   en  [sem, taliban, endors, presid, trump, nomin, p...  positive\n",
              "40   en  [mujahid, told, cb, news, phone, interview, ho...  positive\n",
              "46   en                           [watch, co, eycx, sfgng]   neutral"
            ]
          },
          "metadata": {
            "tags": []
          },
          "execution_count": 33
        }
      ]
    },
    {
      "cell_type": "markdown",
      "metadata": {
        "id": "8xxxcTPn6AO_"
      },
      "source": [
        "number of words"
      ]
    },
    {
      "cell_type": "code",
      "metadata": {
        "colab": {
          "base_uri": "https://localhost:8080/",
          "height": 0
        },
        "id": "ydHaA3p96APE",
        "outputId": "345a0961-9f33-4bee-ed9e-f938f21e965d"
      },
      "source": [
        "en_data['words_num'] = en_data.apply(lambda row: num_words(row.text), axis=1)\n",
        "en_data['distinct_words_num'] = en_data.apply(lambda row: num_distinct_words(row.text), axis=1)\n",
        "en_data.head()"
      ],
      "execution_count": 34,
      "outputs": [
        {
          "output_type": "stream",
          "text": [
            "/usr/local/lib/python3.6/dist-packages/ipykernel_launcher.py:1: SettingWithCopyWarning: \n",
            "A value is trying to be set on a copy of a slice from a DataFrame.\n",
            "Try using .loc[row_indexer,col_indexer] = value instead\n",
            "\n",
            "See the caveats in the documentation: https://pandas.pydata.org/pandas-docs/stable/user_guide/indexing.html#returning-a-view-versus-a-copy\n",
            "  \"\"\"Entry point for launching an IPython kernel.\n",
            "/usr/local/lib/python3.6/dist-packages/ipykernel_launcher.py:2: SettingWithCopyWarning: \n",
            "A value is trying to be set on a copy of a slice from a DataFrame.\n",
            "Try using .loc[row_indexer,col_indexer] = value instead\n",
            "\n",
            "See the caveats in the documentation: https://pandas.pydata.org/pandas-docs/stable/user_guide/indexing.html#returning-a-view-versus-a-copy\n",
            "  \n"
          ],
          "name": "stderr"
        },
        {
          "output_type": "execute_result",
          "data": {
            "text/html": [
              "<div>\n",
              "<style scoped>\n",
              "    .dataframe tbody tr th:only-of-type {\n",
              "        vertical-align: middle;\n",
              "    }\n",
              "\n",
              "    .dataframe tbody tr th {\n",
              "        vertical-align: top;\n",
              "    }\n",
              "\n",
              "    .dataframe thead th {\n",
              "        text-align: right;\n",
              "    }\n",
              "</style>\n",
              "<table border=\"1\" class=\"dataframe\">\n",
              "  <thead>\n",
              "    <tr style=\"text-align: right;\">\n",
              "      <th></th>\n",
              "      <th>lang</th>\n",
              "      <th>text</th>\n",
              "      <th>target</th>\n",
              "      <th>words_num</th>\n",
              "      <th>distinct_words_num</th>\n",
              "    </tr>\n",
              "  </thead>\n",
              "  <tbody>\n",
              "    <tr>\n",
              "      <th>2</th>\n",
              "      <td>en</td>\n",
              "      <td>[nice]</td>\n",
              "      <td>neutral</td>\n",
              "      <td>1</td>\n",
              "      <td>1</td>\n",
              "    </tr>\n",
              "    <tr>\n",
              "      <th>23</th>\n",
              "      <td>en</td>\n",
              "      <td>[nd]</td>\n",
              "      <td>neutral</td>\n",
              "      <td>1</td>\n",
              "      <td>1</td>\n",
              "    </tr>\n",
              "    <tr>\n",
              "      <th>39</th>\n",
              "      <td>en</td>\n",
              "      <td>[sem, taliban, endors, presid, trump, nomin, p...</td>\n",
              "      <td>positive</td>\n",
              "      <td>8</td>\n",
              "      <td>8</td>\n",
              "    </tr>\n",
              "    <tr>\n",
              "      <th>40</th>\n",
              "      <td>en</td>\n",
              "      <td>[mujahid, told, cb, news, phone, interview, ho...</td>\n",
              "      <td>positive</td>\n",
              "      <td>31</td>\n",
              "      <td>31</td>\n",
              "    </tr>\n",
              "    <tr>\n",
              "      <th>46</th>\n",
              "      <td>en</td>\n",
              "      <td>[watch, co, eycx, sfgng]</td>\n",
              "      <td>neutral</td>\n",
              "      <td>4</td>\n",
              "      <td>4</td>\n",
              "    </tr>\n",
              "  </tbody>\n",
              "</table>\n",
              "</div>"
            ],
            "text/plain": [
              "   lang  ... distinct_words_num\n",
              "2    en  ...                  1\n",
              "23   en  ...                  1\n",
              "39   en  ...                  8\n",
              "40   en  ...                 31\n",
              "46   en  ...                  4\n",
              "\n",
              "[5 rows x 5 columns]"
            ]
          },
          "metadata": {
            "tags": []
          },
          "execution_count": 34
        }
      ]
    },
    {
      "cell_type": "code",
      "metadata": {
        "colab": {
          "base_uri": "https://localhost:8080/"
        },
        "id": "hlOc3a756APH",
        "outputId": "9c7999fa-1800-4d82-b72b-98747e8a3374"
      },
      "source": [
        "words = all_words(en_data)\n",
        "print('all english words: ', sum(en_data.words_num), ' and distinct english words: ', len(words))"
      ],
      "execution_count": 35,
      "outputs": [
        {
          "output_type": "stream",
          "text": [
            "all english words:  2469366  and distinct english words:  206229\n"
          ],
          "name": "stdout"
        }
      ]
    },
    {
      "cell_type": "markdown",
      "metadata": {
        "id": "D3xb5ocAMNXh"
      },
      "source": [
        "#prepare test and train sets"
      ]
    },
    {
      "cell_type": "markdown",
      "metadata": {
        "id": "06qTnNucYLHQ"
      },
      "source": [
        "devide farsi test and train\n"
      ]
    },
    {
      "cell_type": "code",
      "metadata": {
        "id": "PJYhYbI8U8ZQ"
      },
      "source": [
        "total_len = fa_data.shape[0]\n",
        "\n",
        "train_len = 60*total_len//100\n",
        "train_fa_data = fa_data.iloc[:train_len, :]\n",
        "test_fa_data = fa_data.iloc[train_len:, :]"
      ],
      "execution_count": 36,
      "outputs": []
    },
    {
      "cell_type": "code",
      "metadata": {
        "id": "Y0Qt-srD1LZy"
      },
      "source": [
        "# dev data\n",
        "total_len = test_fa_data.shape[0]\n",
        "dev_len = 50*total_len//100\n",
        "dev_fa_data = test_fa_data.iloc[:dev_len, :]\n",
        "test_fa_data = test_fa_data.iloc[dev_len:, :]"
      ],
      "execution_count": 37,
      "outputs": []
    },
    {
      "cell_type": "markdown",
      "metadata": {
        "id": "Hxt1nMrQpJjP"
      },
      "source": [
        "devide english test and train"
      ]
    },
    {
      "cell_type": "code",
      "metadata": {
        "id": "GuqTyZHrY0O9"
      },
      "source": [
        "total_len = en_data.shape[0]\n",
        "\n",
        "train_len = 60*total_len//100\n",
        "train_en_data = en_data.iloc[:train_len, :]\n",
        "test_en_data = en_data.iloc[train_len:, :]"
      ],
      "execution_count": 38,
      "outputs": []
    },
    {
      "cell_type": "code",
      "metadata": {
        "id": "G1BFRYrd1sjL"
      },
      "source": [
        "# dev data\n",
        "total_len = test_en_data.shape[0]\n",
        "dev_len = 50*total_len//100\n",
        "dev_en_data = test_en_data.iloc[:dev_len, :]\n",
        "test_en_data = test_en_data.iloc[dev_len:, :]"
      ],
      "execution_count": 39,
      "outputs": []
    },
    {
      "cell_type": "markdown",
      "metadata": {
        "id": "dnfGh6ZtZGr9"
      },
      "source": [
        "merge farsi and english data"
      ]
    },
    {
      "cell_type": "code",
      "metadata": {
        "id": "Qlh4HerSZKUj"
      },
      "source": [
        "frames = [train_en_data, train_fa_data]\n",
        "train_bilang_data = pd.concat(frames)\n",
        "\n",
        "frames = [test_en_data, test_fa_data]\n",
        "test_bilang_data = pd.concat(frames)\n",
        "\n",
        "frames = [dev_en_data, dev_fa_data]\n",
        "dev_bilang_data = pd.concat(frames)\n",
        "\n",
        "# shuffle\n",
        "train_bilang_data  = train_bilang_data .sample(frac = 1)\n",
        "train_bilang_data .reset_index(drop=True, inplace=True)\n",
        "\n",
        "test_bilang_data  = test_bilang_data .sample(frac = 1)\n",
        "test_bilang_data .reset_index(drop=True, inplace=True)\n",
        "\n",
        "dev_bilang_data  = dev_bilang_data .sample(frac = 1)\n",
        "dev_bilang_data .reset_index(drop=True, inplace=True)"
      ],
      "execution_count": 40,
      "outputs": []
    },
    {
      "cell_type": "markdown",
      "metadata": {
        "id": "Qua4R5DXLGrJ"
      },
      "source": [
        "#Vectorizer"
      ]
    },
    {
      "cell_type": "markdown",
      "metadata": {
        "id": "Oiar7-6EYPUG"
      },
      "source": [
        "devide farsi X and y"
      ]
    },
    {
      "cell_type": "code",
      "metadata": {
        "id": "FCn5nbT3YSFK"
      },
      "source": [
        "X_fa_train = train_fa_data.text.apply(lambda x: np.str_(x))\n",
        "y_fa_train = train_fa_data.target\n",
        "\n",
        "X_fa_test = test_fa_data.text.apply(lambda x: np.str_(x))\n",
        "y_fa_test = test_fa_data.target\n",
        "\n",
        "X_fa_dev = dev_fa_data.text.apply(lambda x: np.str_(x))\n",
        "y_fa_dev = dev_fa_data.target"
      ],
      "execution_count": 41,
      "outputs": []
    },
    {
      "cell_type": "markdown",
      "metadata": {
        "id": "Jz-j3gpBp5kU"
      },
      "source": [
        "devide english X and y"
      ]
    },
    {
      "cell_type": "code",
      "metadata": {
        "id": "DwnsrX0EppN9"
      },
      "source": [
        "X_en_train = train_en_data.text.apply(lambda x: np.str_(x))\n",
        "y_en_train = train_en_data.target\n",
        "\n",
        "X_en_test = test_en_data.text.apply(lambda x: np.str_(x))\n",
        "y_en_test = test_en_data.target\n",
        "\n",
        "X_en_dev = dev_en_data.text.apply(lambda x: np.str_(x))\n",
        "y_en_dev = dev_en_data.target"
      ],
      "execution_count": 42,
      "outputs": []
    },
    {
      "cell_type": "markdown",
      "metadata": {
        "id": "5JhTuBNKp8dG"
      },
      "source": [
        "devide farsi and english X and y"
      ]
    },
    {
      "cell_type": "code",
      "metadata": {
        "id": "5FFBR4iRppoh"
      },
      "source": [
        "X_bilang_train = train_bilang_data.text.apply(lambda x: np.str_(x))\n",
        "y_bilang_train = train_bilang_data.target\n",
        "\n",
        "X_bilang_test = test_bilang_data.text.apply(lambda x: np.str_(x))\n",
        "y_bilang_test = test_bilang_data.target\n",
        "\n",
        "X_bilang_dev = dev_bilang_data.text.apply(lambda x: np.str_(x))\n",
        "y_bilang_dev = dev_bilang_data.target"
      ],
      "execution_count": 43,
      "outputs": []
    },
    {
      "cell_type": "markdown",
      "metadata": {
        "id": "Ze44U8mxacjw"
      },
      "source": [
        "TF IDF"
      ]
    },
    {
      "cell_type": "markdown",
      "metadata": {
        "id": "oloX7QFzqcg0"
      },
      "source": [
        "farsi"
      ]
    },
    {
      "cell_type": "code",
      "metadata": {
        "id": "SL050ZAVLMu5"
      },
      "source": [
        "tfidfVectorizer = TfidfVectorizer(min_df = 5, max_features = 1000)\n",
        "tfidfVectorizer.fit(X_fa_train)\n",
        "X_train_fa_vector = tfidfVectorizer.transform(X_fa_train)\n",
        "X_test_fa_vector = tfidfVectorizer.transform(X_fa_test)\n",
        "X_dev_fa_vector = tfidfVectorizer.transform(X_fa_dev)\n",
        "\n",
        "# save\n",
        "filename = 'tfidf_fa.sav'\n",
        "pickle.dump(tfidfVectorizer, open(filename, 'wb'))"
      ],
      "execution_count": 44,
      "outputs": []
    },
    {
      "cell_type": "markdown",
      "metadata": {
        "id": "YaOU6-MRqdgC"
      },
      "source": [
        "english"
      ]
    },
    {
      "cell_type": "code",
      "metadata": {
        "id": "yp498rsQBoK8"
      },
      "source": [
        "tfidfVectorizer.fit(X_en_train)\n",
        "X_train_en_vector = tfidfVectorizer.transform(X_en_train)\n",
        "X_test_en_vector = tfidfVectorizer.transform(X_en_test)\n",
        "X_dev_en_vector = tfidfVectorizer.transform(X_en_dev)\n",
        "\n",
        "# save\n",
        "filename = 'tfidf_en.sav'\n",
        "pickle.dump(tfidfVectorizer, open(filename, 'wb'))"
      ],
      "execution_count": 45,
      "outputs": []
    },
    {
      "cell_type": "markdown",
      "metadata": {
        "id": "V7At7ZrtqfFz"
      },
      "source": [
        "farsi and english"
      ]
    },
    {
      "cell_type": "code",
      "metadata": {
        "id": "aONlkxJdqjF3"
      },
      "source": [
        "tfidfVectorizer.fit(X_bilang_train)\n",
        "X_train_bilang_vector = tfidfVectorizer.transform(X_bilang_train)\n",
        "X_test_bilang_vector = tfidfVectorizer.transform(X_bilang_test)\n",
        "X_dev_bilang_vector = tfidfVectorizer.transform(X_bilang_dev)\n",
        "\n",
        "# save\n",
        "filename = 'tfidf_bilang.sav'\n",
        "pickle.dump(tfidfVectorizer, open(filename, 'wb'))"
      ],
      "execution_count": 46,
      "outputs": []
    },
    {
      "cell_type": "markdown",
      "metadata": {
        "id": "q6ikIUfSHo8V"
      },
      "source": [
        "#NB"
      ]
    },
    {
      "cell_type": "markdown",
      "metadata": {
        "id": "3vTFZu98Nr3F"
      },
      "source": [
        "farsi"
      ]
    },
    {
      "cell_type": "code",
      "metadata": {
        "colab": {
          "base_uri": "https://localhost:8080/"
        },
        "id": "imCT2WB3HnzB",
        "outputId": "9ac1fdf5-6a23-494b-9f6a-bd44cbba73d2"
      },
      "source": [
        "from sklearn.naive_bayes import MultinomialNB\n",
        "\n",
        "nb_model = MultinomialNB()\n",
        "nb_model.fit(X_train_fa_vector, y_fa_train)\n",
        "prediction_fa = nb_model.predict(X_test_fa_vector)\n",
        "print(classification_report(y_fa_test, prediction_fa))"
      ],
      "execution_count": 47,
      "outputs": [
        {
          "output_type": "stream",
          "text": [
            "              precision    recall  f1-score   support\n",
            "\n",
            "    negative       0.78      0.40      0.53     14046\n",
            "     neutral       0.59      0.56      0.58     21274\n",
            "    positive       0.59      0.76      0.66     25871\n",
            "\n",
            "    accuracy                           0.61     61191\n",
            "   macro avg       0.65      0.58      0.59     61191\n",
            "weighted avg       0.63      0.61      0.60     61191\n",
            "\n"
          ],
          "name": "stdout"
        }
      ]
    },
    {
      "cell_type": "code",
      "metadata": {
        "id": "kPVNRsdxN5YA"
      },
      "source": [
        "filename = 'nb_fa.sav'\n",
        "pickle.dump(nb_model, open(filename, 'wb'))"
      ],
      "execution_count": 48,
      "outputs": []
    },
    {
      "cell_type": "markdown",
      "metadata": {
        "id": "XzPO5RDTNtWu"
      },
      "source": [
        "english"
      ]
    },
    {
      "cell_type": "code",
      "metadata": {
        "colab": {
          "base_uri": "https://localhost:8080/"
        },
        "id": "iJ4bucLCNwcE",
        "outputId": "340f95bd-1c50-4f54-8958-acb914ba6214"
      },
      "source": [
        "nb_model.fit(X_train_en_vector, y_en_train)\n",
        "prediction_en = nb_model.predict(X_test_en_vector)\n",
        "print(classification_report(y_en_test, prediction_en))"
      ],
      "execution_count": 49,
      "outputs": [
        {
          "output_type": "stream",
          "text": [
            "              precision    recall  f1-score   support\n",
            "\n",
            "    negative       0.74      0.53      0.62     10327\n",
            "     neutral       0.78      0.95      0.86     34791\n",
            "    positive       0.82      0.44      0.57      9546\n",
            "\n",
            "    accuracy                           0.78     54664\n",
            "   macro avg       0.78      0.64      0.68     54664\n",
            "weighted avg       0.78      0.78      0.76     54664\n",
            "\n"
          ],
          "name": "stdout"
        }
      ]
    },
    {
      "cell_type": "code",
      "metadata": {
        "id": "bZQnT4BYOC8t"
      },
      "source": [
        "filename = 'nb_en.sav'\n",
        "pickle.dump(nb_model, open(filename, 'wb'))"
      ],
      "execution_count": 50,
      "outputs": []
    },
    {
      "cell_type": "markdown",
      "metadata": {
        "id": "O0QOZlOXOcTH"
      },
      "source": [
        "farsi and english"
      ]
    },
    {
      "cell_type": "code",
      "metadata": {
        "colab": {
          "base_uri": "https://localhost:8080/"
        },
        "id": "-dK7MvlWOcTJ",
        "outputId": "9f6105d9-1e72-41f5-8fd2-86c14b5c2bbe"
      },
      "source": [
        "nb_model.fit(X_train_bilang_vector, y_bilang_train)\n",
        "prediction_bilang = nb_model.predict(X_test_bilang_vector)\n",
        "print(classification_report(y_bilang_test, prediction_bilang))"
      ],
      "execution_count": 51,
      "outputs": [
        {
          "output_type": "stream",
          "text": [
            "              precision    recall  f1-score   support\n",
            "\n",
            "    negative       0.77      0.25      0.38     24373\n",
            "     neutral       0.69      0.82      0.75     56065\n",
            "    positive       0.57      0.65      0.61     35417\n",
            "\n",
            "    accuracy                           0.65    115855\n",
            "   macro avg       0.67      0.58      0.58    115855\n",
            "weighted avg       0.67      0.65      0.63    115855\n",
            "\n"
          ],
          "name": "stdout"
        }
      ]
    },
    {
      "cell_type": "code",
      "metadata": {
        "id": "fmJyZlxjOcTL"
      },
      "source": [
        "filename = 'nb_bilang.sav'\n",
        "pickle.dump(nb_model, open(filename, 'wb'))"
      ],
      "execution_count": 52,
      "outputs": []
    },
    {
      "cell_type": "markdown",
      "metadata": {
        "id": "1UzBOGlVGk3m"
      },
      "source": [
        "#RF"
      ]
    },
    {
      "cell_type": "markdown",
      "metadata": {
        "id": "hcillGng0j57"
      },
      "source": [
        "##tune"
      ]
    },
    {
      "cell_type": "code",
      "metadata": {
        "id": "BfrH5vIeH7v_"
      },
      "source": [
        "parameters = {#'n_estimators': (10, 30, 50, 70, 90),\n",
        "              #'criterion': ('gini', 'entropy'),\n",
        "              'max_depth': (200, 250, 300),\n",
        "              #'max_features': ('auto', 'sqrt'),\n",
        "              #'min_samples_split': (2, 3),\n",
        "              'min_samples_leaf': (15, 20),\n",
        "              # 'bootstrap' : (True, False),\n",
        "              #'min_weight_fraction_leaf': (0.0, 0.1, 0.2, 0.3, 0.4)    \n",
        "}"
      ],
      "execution_count": 65,
      "outputs": []
    },
    {
      "cell_type": "code",
      "metadata": {
        "id": "kAiNR9u8H7wD"
      },
      "source": [
        "rf_grid = GridSearchCV(RandomForestClassifier(n_jobs = -1, oob_score = False), param_grid = parameters, cv = 3, verbose = True)"
      ],
      "execution_count": 66,
      "outputs": []
    },
    {
      "cell_type": "markdown",
      "metadata": {
        "id": "dKWVYnCqH7wG"
      },
      "source": [
        "farsi"
      ]
    },
    {
      "cell_type": "code",
      "metadata": {
        "colab": {
          "base_uri": "https://localhost:8080/"
        },
        "id": "G_AorbCPH7wI",
        "outputId": "aa8f0096-ec44-488e-82cc-89c2dc2636b1"
      },
      "source": [
        "rf_grid_model = rf_grid.fit(X_dev_fa_vector, y_fa_dev)\n",
        "rf_grid_model.best_estimator_"
      ],
      "execution_count": 67,
      "outputs": [
        {
          "output_type": "stream",
          "text": [
            "Fitting 3 folds for each of 6 candidates, totalling 18 fits\n"
          ],
          "name": "stdout"
        },
        {
          "output_type": "stream",
          "text": [
            "[Parallel(n_jobs=1)]: Using backend SequentialBackend with 1 concurrent workers.\n",
            "[Parallel(n_jobs=1)]: Done  18 out of  18 | elapsed:  2.0min finished\n"
          ],
          "name": "stderr"
        },
        {
          "output_type": "execute_result",
          "data": {
            "text/plain": [
              "RandomForestClassifier(bootstrap=True, ccp_alpha=0.0, class_weight=None,\n",
              "                       criterion='gini', max_depth=300, max_features='auto',\n",
              "                       max_leaf_nodes=None, max_samples=None,\n",
              "                       min_impurity_decrease=0.0, min_impurity_split=None,\n",
              "                       min_samples_leaf=15, min_samples_split=2,\n",
              "                       min_weight_fraction_leaf=0.0, n_estimators=100,\n",
              "                       n_jobs=-1, oob_score=False, random_state=None, verbose=0,\n",
              "                       warm_start=False)"
            ]
          },
          "metadata": {
            "tags": []
          },
          "execution_count": 67
        }
      ]
    },
    {
      "cell_type": "markdown",
      "metadata": {
        "id": "xEbbJhbC88vd"
      },
      "source": [
        "english"
      ]
    },
    {
      "cell_type": "code",
      "metadata": {
        "colab": {
          "base_uri": "https://localhost:8080/"
        },
        "id": "O5E827dW9BTz",
        "outputId": "83ab59b7-7ae7-438d-e9a8-4a2d4789f6e6"
      },
      "source": [
        "rf_grid_model = rf_grid.fit(X_dev_en_vector, y_en_dev)\n",
        "rf_grid_model.best_estimator_"
      ],
      "execution_count": 54,
      "outputs": [
        {
          "output_type": "stream",
          "text": [
            "Fitting 3 folds for each of 8 candidates, totalling 24 fits\n"
          ],
          "name": "stdout"
        },
        {
          "output_type": "stream",
          "text": [
            "[Parallel(n_jobs=1)]: Using backend SequentialBackend with 1 concurrent workers.\n",
            "[Parallel(n_jobs=1)]: Done  24 out of  24 | elapsed:   49.6s finished\n"
          ],
          "name": "stderr"
        },
        {
          "output_type": "execute_result",
          "data": {
            "text/plain": [
              "RandomForestClassifier(bootstrap=True, ccp_alpha=0.0, class_weight=None,\n",
              "                       criterion='gini', max_depth=14, max_features='auto',\n",
              "                       max_leaf_nodes=None, max_samples=None,\n",
              "                       min_impurity_decrease=0.0, min_impurity_split=None,\n",
              "                       min_samples_leaf=1, min_samples_split=3,\n",
              "                       min_weight_fraction_leaf=0.0, n_estimators=100, n_jobs=4,\n",
              "                       oob_score=False, random_state=None, verbose=0,\n",
              "                       warm_start=False)"
            ]
          },
          "metadata": {
            "tags": []
          },
          "execution_count": 54
        }
      ]
    },
    {
      "cell_type": "markdown",
      "metadata": {
        "id": "8CJDIbma9GSi"
      },
      "source": [
        "farsi and english"
      ]
    },
    {
      "cell_type": "code",
      "metadata": {
        "id": "5hC9SPkj9I2I"
      },
      "source": [
        "rf_grid_model = rf_grid.fit(X_dev_bilang_vector, y_bilang_dev)\n",
        "rf_grid_model.best_estimator_"
      ],
      "execution_count": null,
      "outputs": []
    },
    {
      "cell_type": "markdown",
      "metadata": {
        "id": "uCycQBcz0nZE"
      },
      "source": [
        "##train and evaluate"
      ]
    },
    {
      "cell_type": "markdown",
      "metadata": {
        "id": "4gQC8ZhcrC6V"
      },
      "source": [
        "farsi"
      ]
    },
    {
      "cell_type": "code",
      "metadata": {
        "colab": {
          "base_uri": "https://localhost:8080/"
        },
        "id": "m1lnEpsDGmYP",
        "outputId": "3a79c035-dabb-4f06-9269-ee3e35701113"
      },
      "source": [
        "randomForestClassifier = RandomForestClassifier(max_depth=600, min_samples_leaf=15, n_jobs=-1)\n",
        "randomForestClassifier.fit(X_train_fa_vector, y_fa_train)\n",
        "prediction_fa = randomForestClassifier.predict(X_test_fa_vector)\n",
        "print(classification_report(y_fa_test, prediction_fa))\n",
        "\n",
        "filename = 'rf_fa.sav'\n",
        "pickle.dump(randomForestClassifier, open(filename, 'wb'))"
      ],
      "execution_count": 69,
      "outputs": [
        {
          "output_type": "stream",
          "text": [
            "              precision    recall  f1-score   support\n",
            "\n",
            "    negative       0.79      0.49      0.61     14046\n",
            "     neutral       0.70      0.80      0.75     21274\n",
            "    positive       0.72      0.78      0.75     25871\n",
            "\n",
            "    accuracy                           0.72     61191\n",
            "   macro avg       0.74      0.69      0.70     61191\n",
            "weighted avg       0.73      0.72      0.72     61191\n",
            "\n"
          ],
          "name": "stdout"
        }
      ]
    },
    {
      "cell_type": "markdown",
      "metadata": {
        "id": "AJebCVaVrEJt"
      },
      "source": [
        "english"
      ]
    },
    {
      "cell_type": "code",
      "metadata": {
        "colab": {
          "base_uri": "https://localhost:8080/"
        },
        "id": "EK-US_aoTZa2",
        "outputId": "9f292d97-ddbe-4227-8df6-0a3b9b4ae008"
      },
      "source": [
        "randomForestClassifier = RandomForestClassifier(max_depth=600, min_samples_leaf=15, n_jobs=-1)\n",
        "randomForestClassifier.fit(X_train_en_vector, y_en_train)\n",
        "prediction_en = randomForestClassifier.predict(X_test_en_vector)\n",
        "print(classification_report(y_en_test, prediction_en))\n",
        "\n",
        "filename = 'rf_en.sav'\n",
        "pickle.dump(randomForestClassifier, open(filename, 'wb'))"
      ],
      "execution_count": 70,
      "outputs": [
        {
          "output_type": "stream",
          "text": [
            "              precision    recall  f1-score   support\n",
            "\n",
            "    negative       0.80      0.61      0.69     10327\n",
            "     neutral       0.85      0.93      0.89     34791\n",
            "    positive       0.77      0.69      0.73      9546\n",
            "\n",
            "    accuracy                           0.83     54664\n",
            "   macro avg       0.81      0.74      0.77     54664\n",
            "weighted avg       0.83      0.83      0.82     54664\n",
            "\n"
          ],
          "name": "stdout"
        }
      ]
    },
    {
      "cell_type": "markdown",
      "metadata": {
        "id": "xtk3EXgsrFhX"
      },
      "source": [
        "farsi and english"
      ]
    },
    {
      "cell_type": "code",
      "metadata": {
        "id": "JLRAL9jJrIB3",
        "colab": {
          "base_uri": "https://localhost:8080/"
        },
        "outputId": "4658ca52-5bb5-4f16-a927-bab88ce4b427"
      },
      "source": [
        "randomForestClassifier = RandomForestClassifier(max_depth=500, min_samples_leaf=15, n_jobs=-1)\n",
        "randomForestClassifier.fit(X_train_bilang_vector, y_bilang_train)\n",
        "prediction_bilang = randomForestClassifier.predict(X_test_bilang_vector)\n",
        "print(classification_report(y_bilang_test, prediction_bilang))\n",
        "\n",
        "filename = 'rf_bilang.sav'\n",
        "pickle.dump(randomForestClassifier, open(filename, 'wb'))"
      ],
      "execution_count": 72,
      "outputs": [
        {
          "output_type": "stream",
          "text": [
            "              precision    recall  f1-score   support\n",
            "\n",
            "    negative       0.77      0.46      0.57     24373\n",
            "     neutral       0.76      0.88      0.81     56065\n",
            "    positive       0.71      0.72      0.71     35417\n",
            "\n",
            "    accuracy                           0.74    115855\n",
            "   macro avg       0.74      0.69      0.70    115855\n",
            "weighted avg       0.74      0.74      0.73    115855\n",
            "\n"
          ],
          "name": "stdout"
        }
      ]
    },
    {
      "cell_type": "code",
      "metadata": {
        "id": "iM5__6UeV05b"
      },
      "source": [
        ""
      ],
      "execution_count": null,
      "outputs": []
    }
  ]
}