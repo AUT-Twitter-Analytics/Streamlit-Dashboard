{
  "nbformat": 4,
  "nbformat_minor": 0,
  "metadata": {
    "colab": {
      "name": "classifier",
      "provenance": [],
      "collapsed_sections": [
        "KscoGuysyrbC",
        "3OaltiyHK7FI",
        "An3qG8qNrWMu",
        "djZuTeJixm-x",
        "D3xb5ocAMNXh",
        "Qua4R5DXLGrJ",
        "q6ikIUfSHo8V",
        "hcillGng0j57"
      ],
      "toc_visible": true
    },
    "kernelspec": {
      "display_name": "Python 3",
      "name": "python3"
    }
  },
  "cells": [
    {
      "cell_type": "markdown",
      "metadata": {
        "id": "KscoGuysyrbC"
      },
      "source": [
        "#Import and install modules"
      ]
    },
    {
      "cell_type": "code",
      "metadata": {
        "colab": {
          "base_uri": "https://localhost:8080/"
        },
        "id": "x42gllPRyK5D",
        "outputId": "8fbea0b2-c782-40a6-e97a-0bbd20e9e248"
      },
      "source": [
        "!pip install hazm"
      ],
      "execution_count": 1,
      "outputs": [
        {
          "output_type": "stream",
          "text": [
            "Requirement already satisfied: hazm in /usr/local/lib/python3.6/dist-packages (0.7.0)\n",
            "Requirement already satisfied: libwapiti>=0.2.1; platform_system != \"Windows\" in /usr/local/lib/python3.6/dist-packages (from hazm) (0.2.1)\n",
            "Requirement already satisfied: nltk==3.3 in /usr/local/lib/python3.6/dist-packages (from hazm) (3.3)\n",
            "Requirement already satisfied: six in /usr/local/lib/python3.6/dist-packages (from libwapiti>=0.2.1; platform_system != \"Windows\"->hazm) (1.15.0)\n"
          ],
          "name": "stdout"
        }
      ]
    },
    {
      "cell_type": "code",
      "metadata": {
        "colab": {
          "base_uri": "https://localhost:8080/"
        },
        "id": "O9z9_RRniiar",
        "outputId": "249d72cb-ee9f-4a4c-81ac-dd1420f6ab16"
      },
      "source": [
        "!pip show hazm"
      ],
      "execution_count": 2,
      "outputs": [
        {
          "output_type": "stream",
          "text": [
            "Name: hazm\n",
            "Version: 0.7.0\n",
            "Summary: Python library for digesting Persian text.\n",
            "Home-page: http://www.sobhe.ir/hazm/\n",
            "Author: Alireza Nourian\n",
            "Author-email: az.nourian@gmail.com\n",
            "License: UNKNOWN\n",
            "Location: /usr/local/lib/python3.6/dist-packages\n",
            "Requires: nltk, libwapiti\n",
            "Required-by: \n"
          ],
          "name": "stdout"
        }
      ]
    },
    {
      "cell_type": "code",
      "metadata": {
        "id": "31SzqN9Bx7U3"
      },
      "source": [
        "import re, hazm, os, json, nltk\n",
        "import pickle\n",
        "import numpy as np\n",
        "import pandas as pd\n",
        "from nltk import word_tokenize \n",
        "import matplotlib.pyplot as plt\n",
        "from nltk.corpus import stopwords\n",
        "from nltk.stem import PorterStemmer\n",
        "from nltk.stem import WordNetLemmatizer\n",
        "from wordcloud import WordCloud, STOPWORDS\n",
        "from sklearn.naive_bayes import MultinomialNB\n",
        "from sklearn.model_selection import GridSearchCV\n",
        "from sklearn.ensemble import RandomForestClassifier\n",
        "from sklearn.neighbors import KNeighborsClassifier\n",
        "from sklearn.feature_extraction.text import TfidfVectorizer\n",
        "from sklearn.metrics import classification_report, confusion_matrix"
      ],
      "execution_count": 3,
      "outputs": []
    },
    {
      "cell_type": "code",
      "metadata": {
        "colab": {
          "base_uri": "https://localhost:8080/"
        },
        "id": "00GJ05dBEgzE",
        "outputId": "caf26239-a08d-4ec6-c616-4e891e072600"
      },
      "source": [
        "nltk.download('wordnet')\n",
        "nltk.download(\"stopwords\")"
      ],
      "execution_count": 4,
      "outputs": [
        {
          "output_type": "stream",
          "text": [
            "[nltk_data] Downloading package wordnet to /root/nltk_data...\n",
            "[nltk_data]   Package wordnet is already up-to-date!\n",
            "[nltk_data] Downloading package stopwords to /root/nltk_data...\n",
            "[nltk_data]   Package stopwords is already up-to-date!\n"
          ],
          "name": "stdout"
        },
        {
          "output_type": "execute_result",
          "data": {
            "text/plain": [
              "True"
            ]
          },
          "metadata": {
            "tags": []
          },
          "execution_count": 4
        }
      ]
    },
    {
      "cell_type": "markdown",
      "metadata": {
        "id": "3OaltiyHK7FI"
      },
      "source": [
        "#Load data"
      ]
    },
    {
      "cell_type": "code",
      "metadata": {
        "colab": {
          "base_uri": "https://localhost:8080/"
        },
        "id": "6VWzOy8hnSnl",
        "outputId": "d0cfcad0-9e28-4853-ac0b-8001a39222cc"
      },
      "source": [
        "from google.colab import drive\n",
        "drive.mount('/content/drive')\n",
        "import os\n",
        "os.chdir(\"drive/My Drive\")\n",
        "!ls"
      ],
      "execution_count": 5,
      "outputs": [
        {
          "output_type": "stream",
          "text": [
            "Drive already mounted at /content/drive; to attempt to forcibly remount, call drive.mount(\"/content/drive\", force_remount=True).\n",
            " AI-4.gdoc\n",
            " alberta.gdoc\n",
            " apply.gsheet\n",
            " classifier\n",
            "'Colab Notebooks'\n",
            " CV.pdf\n",
            "'Email for Graduate Application.gdoc'\n",
            "'My Prof.s.gsheet'\n",
            " nb_bilang.sav\n",
            " nb_en.sav\n",
            " nb_fa.sav\n",
            " nlp-project.ipynb\n",
            " Prof.s.gsheet\n",
            "'project Bsc'\n",
            "'Recommendation Letter_Rezvan Karaji_Nevada.rtf'\n",
            " rf_bilang.sav\n",
            " rf_en.sav\n",
            " rf_fa.sav\n",
            " SpamDetection.ipynb\n",
            " tfidf_bilang.sav\n",
            " tfidf_en.sav\n",
            " tfidf_fa.sav\n",
            " transcript-official.pdf\n",
            " tweet.csv\n"
          ],
          "name": "stdout"
        }
      ]
    },
    {
      "cell_type": "code",
      "metadata": {
        "colab": {
          "base_uri": "https://localhost:8080/"
        },
        "id": "FuAt6bcZq7uy",
        "outputId": "086f96e9-4dd7-4e95-ef0c-60d2c227f727"
      },
      "source": [
        "filename = 'tweet.csv'\n",
        "data = pd.read_csv(filename, encoding='utf-8')"
      ],
      "execution_count": 6,
      "outputs": [
        {
          "output_type": "stream",
          "text": [
            "/usr/local/lib/python3.6/dist-packages/IPython/core/interactiveshell.py:2718: DtypeWarning: Columns (0,5,6,11,12,13,43) have mixed types.Specify dtype option on import or set low_memory=False.\n",
            "  interactivity=interactivity, compiler=compiler, result=result)\n"
          ],
          "name": "stderr"
        }
      ]
    },
    {
      "cell_type": "markdown",
      "metadata": {
        "id": "An3qG8qNrWMu"
      },
      "source": [
        "#analyze data"
      ]
    },
    {
      "cell_type": "code",
      "metadata": {
        "colab": {
          "base_uri": "https://localhost:8080/",
          "height": 608
        },
        "id": "wmyulaHsra9u",
        "outputId": "1c06a5f1-0bc9-45d5-fe17-f4159e25a958"
      },
      "source": [
        "data.head()"
      ],
      "execution_count": 7,
      "outputs": [
        {
          "output_type": "execute_result",
          "data": {
            "text/html": [
              "<div>\n",
              "<style scoped>\n",
              "    .dataframe tbody tr th:only-of-type {\n",
              "        vertical-align: middle;\n",
              "    }\n",
              "\n",
              "    .dataframe tbody tr th {\n",
              "        vertical-align: top;\n",
              "    }\n",
              "\n",
              "    .dataframe thead th {\n",
              "        text-align: right;\n",
              "    }\n",
              "</style>\n",
              "<table border=\"1\" class=\"dataframe\">\n",
              "  <thead>\n",
              "    <tr style=\"text-align: right;\">\n",
              "      <th></th>\n",
              "      <th>Unnamed: 0</th>\n",
              "      <th>id</th>\n",
              "      <th>username</th>\n",
              "      <th>title</th>\n",
              "      <th>about</th>\n",
              "      <th>members</th>\n",
              "      <th>posts_count</th>\n",
              "      <th>language</th>\n",
              "      <th>avg_view</th>\n",
              "      <th>last_dump_date</th>\n",
              "      <th>last_cold_date</th>\n",
              "      <th>duration_update</th>\n",
              "      <th>following_count</th>\n",
              "      <th>verified</th>\n",
              "      <th>favourites_count</th>\n",
              "      <th>location</th>\n",
              "      <th>url</th>\n",
              "      <th>join_date</th>\n",
              "      <th>deleted</th>\n",
              "      <th>index_name</th>\n",
              "      <th>UTC_date</th>\n",
              "      <th>date</th>\n",
              "      <th>views</th>\n",
              "      <th>retweet_count</th>\n",
              "      <th>text</th>\n",
              "      <th>fwdfrom</th>\n",
              "      <th>media</th>\n",
              "      <th>hashtags</th>\n",
              "      <th>to</th>\n",
              "      <th>from</th>\n",
              "      <th>post_id</th>\n",
              "      <th>link</th>\n",
              "      <th>dump_type</th>\n",
              "      <th>meta</th>\n",
              "      <th>is_adv</th>\n",
              "      <th>bi-keywords</th>\n",
              "      <th>keywords</th>\n",
              "      <th>neg_adj</th>\n",
              "      <th>pos_adj</th>\n",
              "      <th>sentiment</th>\n",
              "      <th>mentions</th>\n",
              "      <th>locations</th>\n",
              "      <th>urls</th>\n",
              "      <th>cashtags</th>\n",
              "    </tr>\n",
              "  </thead>\n",
              "  <tbody>\n",
              "    <tr>\n",
              "      <th>0</th>\n",
              "      <td>0</td>\n",
              "      <td>9.772081e+17</td>\n",
              "      <td>jasooyichii</td>\n",
              "      <td>milad mohammadi</td>\n",
              "      <td>Exhibitions reporter/\\nmr event/\\norganizer of...</td>\n",
              "      <td>856</td>\n",
              "      <td>470</td>\n",
              "      <td>NaN</td>\n",
              "      <td>0.0</td>\n",
              "      <td>2020-10-26</td>\n",
              "      <td>2020-10-09</td>\n",
              "      <td>24</td>\n",
              "      <td>774</td>\n",
              "      <td>0</td>\n",
              "      <td>1927.0</td>\n",
              "      <td>tehran - iran</td>\n",
              "      <td>https://t.co/uz1hdKY1V8</td>\n",
              "      <td>2018-03-23T15:38:55</td>\n",
              "      <td>0.0</td>\n",
              "      <td>tw-sourceinfo-2020-10</td>\n",
              "      <td>2020-10-25T20:40:58</td>\n",
              "      <td>2020-10-25 17:10:58</td>\n",
              "      <td>NaN</td>\n",
              "      <td>NaN</td>\n",
              "      <td>NaN</td>\n",
              "      <td>NaN</td>\n",
              "      <td>NaN</td>\n",
              "      <td>NaN</td>\n",
              "      <td>NaN</td>\n",
              "      <td>NaN</td>\n",
              "      <td>NaN</td>\n",
              "      <td>NaN</td>\n",
              "      <td>NaN</td>\n",
              "      <td>NaN</td>\n",
              "      <td>NaN</td>\n",
              "      <td>NaN</td>\n",
              "      <td>NaN</td>\n",
              "      <td>NaN</td>\n",
              "      <td>NaN</td>\n",
              "      <td>NaN</td>\n",
              "      <td>NaN</td>\n",
              "      <td>NaN</td>\n",
              "      <td>NaN</td>\n",
              "      <td>NaN</td>\n",
              "    </tr>\n",
              "    <tr>\n",
              "      <th>1</th>\n",
              "      <td>1</td>\n",
              "      <td>1.314951e+18</td>\n",
              "      <td>NaN</td>\n",
              "      <td>NaN</td>\n",
              "      <td>NaN</td>\n",
              "      <td>NaN</td>\n",
              "      <td>NaN</td>\n",
              "      <td>fa</td>\n",
              "      <td>NaN</td>\n",
              "      <td>NaN</td>\n",
              "      <td>NaN</td>\n",
              "      <td>NaN</td>\n",
              "      <td>NaN</td>\n",
              "      <td>NaN</td>\n",
              "      <td>NaN</td>\n",
              "      <td>NaN</td>\n",
              "      <td>NaN</td>\n",
              "      <td>NaN</td>\n",
              "      <td>NaN</td>\n",
              "      <td>tw-user-2020-10</td>\n",
              "      <td>2020-10-10T15:29:51</td>\n",
              "      <td>2020-10-10 15:29:51</td>\n",
              "      <td>7897.0</td>\n",
              "      <td>457.0</td>\n",
              "      <td>آن شب اسفندماه که برای نخستین بار خبر درگذشت #...</td>\n",
              "      <td>{'username': 'febrahimzade', 'id': '198563041'...</td>\n",
              "      <td>{'caption': 'آن شب اسفندماه که برای نخستین بار...</td>\n",
              "      <td>['محمدرضاشجریان', 'افسانه_شجریان']</td>\n",
              "      <td>{'participants_count': 181, 'username': 'lonel...</td>\n",
              "      <td>{'participants_count': 181, 'username': 'lonel...</td>\n",
              "      <td>1886.0</td>\n",
              "      <td>https://twitter.com/i/web/status/1314951285540...</td>\n",
              "      <td>scheduled</td>\n",
              "      <td>['اجتماعی']</td>\n",
              "      <td>1.0</td>\n",
              "      <td>['اسفندماه خبر', 'خبر درگذشت', 'درگذشت محمدرضا...</td>\n",
              "      <td>['پدر', 'درگذشت', 'علاقه', 'بیمارستان', 'پاسخ'...</td>\n",
              "      <td>['بار', 'درگذشت']</td>\n",
              "      <td>['آرامش', 'باور', 'زنده']</td>\n",
              "      <td>positive</td>\n",
              "      <td>NaN</td>\n",
              "      <td>NaN</td>\n",
              "      <td>NaN</td>\n",
              "      <td>NaN</td>\n",
              "    </tr>\n",
              "    <tr>\n",
              "      <th>2</th>\n",
              "      <td>2</td>\n",
              "      <td>1.314951e+18</td>\n",
              "      <td>NaN</td>\n",
              "      <td>NaN</td>\n",
              "      <td>NaN</td>\n",
              "      <td>NaN</td>\n",
              "      <td>NaN</td>\n",
              "      <td>en</td>\n",
              "      <td>NaN</td>\n",
              "      <td>NaN</td>\n",
              "      <td>NaN</td>\n",
              "      <td>NaN</td>\n",
              "      <td>NaN</td>\n",
              "      <td>NaN</td>\n",
              "      <td>NaN</td>\n",
              "      <td>NaN</td>\n",
              "      <td>NaN</td>\n",
              "      <td>NaN</td>\n",
              "      <td>NaN</td>\n",
              "      <td>tw-user-2020-10</td>\n",
              "      <td>2020-10-10T15:28:26</td>\n",
              "      <td>2020-10-10 15:28:26</td>\n",
              "      <td>1.0</td>\n",
              "      <td>0.0</td>\n",
              "      <td>@daydreaminblack Niiiice😂😂😂😂😂</td>\n",
              "      <td>NaN</td>\n",
              "      <td>NaN</td>\n",
              "      <td>NaN</td>\n",
              "      <td>{'participants_count': 181, 'username': 'lonel...</td>\n",
              "      <td>{'participants_count': 181, 'username': 'lonel...</td>\n",
              "      <td>1885.0</td>\n",
              "      <td>https://twitter.com/i/web/status/1314950928517...</td>\n",
              "      <td>scheduled</td>\n",
              "      <td>['متفرقه']</td>\n",
              "      <td>0.0</td>\n",
              "      <td>[]</td>\n",
              "      <td>['daydreaminblack', 'Niiiice']</td>\n",
              "      <td>NaN</td>\n",
              "      <td>NaN</td>\n",
              "      <td>neutral</td>\n",
              "      <td>['daydreaminblack']</td>\n",
              "      <td>NaN</td>\n",
              "      <td>NaN</td>\n",
              "      <td>NaN</td>\n",
              "    </tr>\n",
              "    <tr>\n",
              "      <th>3</th>\n",
              "      <td>3</td>\n",
              "      <td>1.314951e+18</td>\n",
              "      <td>NaN</td>\n",
              "      <td>NaN</td>\n",
              "      <td>NaN</td>\n",
              "      <td>NaN</td>\n",
              "      <td>NaN</td>\n",
              "      <td>fa</td>\n",
              "      <td>NaN</td>\n",
              "      <td>NaN</td>\n",
              "      <td>NaN</td>\n",
              "      <td>NaN</td>\n",
              "      <td>NaN</td>\n",
              "      <td>NaN</td>\n",
              "      <td>NaN</td>\n",
              "      <td>NaN</td>\n",
              "      <td>NaN</td>\n",
              "      <td>NaN</td>\n",
              "      <td>NaN</td>\n",
              "      <td>tw-user-2020-10</td>\n",
              "      <td>2020-10-10T15:28:00</td>\n",
              "      <td>2020-10-10 15:28:00</td>\n",
              "      <td>33.0</td>\n",
              "      <td>1.0</td>\n",
              "      <td>جدا از رفتن شجریان، چهر‌ه‌های غمبار همایون و ع...</td>\n",
              "      <td>{'username': 'helia_hh', 'id': '3025201221', '...</td>\n",
              "      <td>NaN</td>\n",
              "      <td>NaN</td>\n",
              "      <td>{'participants_count': 181, 'username': 'lonel...</td>\n",
              "      <td>{'participants_count': 181, 'username': 'lonel...</td>\n",
              "      <td>1884.0</td>\n",
              "      <td>https://twitter.com/i/web/status/1314950817338...</td>\n",
              "      <td>scheduled</td>\n",
              "      <td>['هنری']</td>\n",
              "      <td>0.0</td>\n",
              "      <td>['رفتن شجریان', 'شجریان چهر', 'چهر غمبار', 'غم...</td>\n",
              "      <td>['رفتن', 'شجریان', 'مچاله', 'علیزاده', 'چهر', ...</td>\n",
              "      <td>['جدا', 'مچاله']</td>\n",
              "      <td>NaN</td>\n",
              "      <td>negative</td>\n",
              "      <td>NaN</td>\n",
              "      <td>NaN</td>\n",
              "      <td>NaN</td>\n",
              "      <td>NaN</td>\n",
              "    </tr>\n",
              "    <tr>\n",
              "      <th>4</th>\n",
              "      <td>4</td>\n",
              "      <td>1.314895e+18</td>\n",
              "      <td>NaN</td>\n",
              "      <td>NaN</td>\n",
              "      <td>NaN</td>\n",
              "      <td>NaN</td>\n",
              "      <td>NaN</td>\n",
              "      <td>fa</td>\n",
              "      <td>NaN</td>\n",
              "      <td>NaN</td>\n",
              "      <td>NaN</td>\n",
              "      <td>NaN</td>\n",
              "      <td>NaN</td>\n",
              "      <td>NaN</td>\n",
              "      <td>NaN</td>\n",
              "      <td>NaN</td>\n",
              "      <td>NaN</td>\n",
              "      <td>NaN</td>\n",
              "      <td>NaN</td>\n",
              "      <td>tw-user-2020-10</td>\n",
              "      <td>2020-10-10T11:47:36</td>\n",
              "      <td>2020-10-10 11:47:36</td>\n",
              "      <td>3046.0</td>\n",
              "      <td>191.0</td>\n",
              "      <td>دیگه تویی که تا دیروز عکس سردار دلها رو استوری...</td>\n",
              "      <td>{'username': 'Javadhastam2', 'id': '1111065915...</td>\n",
              "      <td>{'caption': 'دیگه تویی که تا دیروز عکس سردار د...</td>\n",
              "      <td>NaN</td>\n",
              "      <td>{'participants_count': 181, 'username': 'lonel...</td>\n",
              "      <td>{'participants_count': 181, 'username': 'lonel...</td>\n",
              "      <td>1883.0</td>\n",
              "      <td>https://twitter.com/i/web/status/1314895352772...</td>\n",
              "      <td>scheduled</td>\n",
              "      <td>['هنری']</td>\n",
              "      <td>1.0</td>\n",
              "      <td>['تویی عکس', 'عکس سردار', 'سردار دلها', 'دلها ...</td>\n",
              "      <td>['عکس', 'استوری', 'تویی', 'شجریان', 'سردار', '...</td>\n",
              "      <td>['پست']</td>\n",
              "      <td>NaN</td>\n",
              "      <td>negative</td>\n",
              "      <td>NaN</td>\n",
              "      <td>NaN</td>\n",
              "      <td>NaN</td>\n",
              "      <td>NaN</td>\n",
              "    </tr>\n",
              "  </tbody>\n",
              "</table>\n",
              "</div>"
            ],
            "text/plain": [
              "  Unnamed: 0            id     username  ... locations urls cashtags\n",
              "0          0  9.772081e+17  jasooyichii  ...       NaN  NaN      NaN\n",
              "1          1  1.314951e+18          NaN  ...       NaN  NaN      NaN\n",
              "2          2  1.314951e+18          NaN  ...       NaN  NaN      NaN\n",
              "3          3  1.314951e+18          NaN  ...       NaN  NaN      NaN\n",
              "4          4  1.314895e+18          NaN  ...       NaN  NaN      NaN\n",
              "\n",
              "[5 rows x 44 columns]"
            ]
          },
          "metadata": {
            "tags": []
          },
          "execution_count": 7
        }
      ]
    },
    {
      "cell_type": "code",
      "metadata": {
        "colab": {
          "base_uri": "https://localhost:8080/"
        },
        "id": "aEQvnTV6V3sS",
        "outputId": "4c2ee731-b79a-48ef-af13-75824282ef99"
      },
      "source": [
        "data.info()"
      ],
      "execution_count": 8,
      "outputs": [
        {
          "output_type": "stream",
          "text": [
            "<class 'pandas.core.frame.DataFrame'>\n",
            "RangeIndex: 1196368 entries, 0 to 1196367\n",
            "Data columns (total 44 columns):\n",
            " #   Column            Non-Null Count    Dtype  \n",
            "---  ------            --------------    -----  \n",
            " 0   Unnamed: 0        1196368 non-null  object \n",
            " 1   id                1196355 non-null  float64\n",
            " 2   username          257913 non-null   object \n",
            " 3   title             257719 non-null   object \n",
            " 4   about             176930 non-null   object \n",
            " 5   members           242382 non-null   object \n",
            " 6   posts_count       242381 non-null   object \n",
            " 7   language          938461 non-null   object \n",
            " 8   avg_view          242381 non-null   float64\n",
            " 9   last_dump_date    242381 non-null   object \n",
            " 10  last_cold_date    242381 non-null   object \n",
            " 11  duration_update   242373 non-null   object \n",
            " 12  following_count   242369 non-null   object \n",
            " 13  verified          242381 non-null   object \n",
            " 14  favourites_count  242381 non-null   float64\n",
            " 15  location          134416 non-null   object \n",
            " 16  url               38877 non-null    object \n",
            " 17  join_date         242381 non-null   object \n",
            " 18  deleted           242362 non-null   float64\n",
            " 19  index_name        1180804 non-null  object \n",
            " 20  UTC_date          1180804 non-null  object \n",
            " 21  date              1180804 non-null  object \n",
            " 22  views             938442 non-null   float64\n",
            " 23  retweet_count     938442 non-null   float64\n",
            " 24  text              938441 non-null   object \n",
            " 25  fwdfrom           429214 non-null   object \n",
            " 26  media             239844 non-null   object \n",
            " 27  hashtags          173205 non-null   object \n",
            " 28  to                938442 non-null   object \n",
            " 29  from              938442 non-null   object \n",
            " 30  post_id           938442 non-null   float64\n",
            " 31  link              938442 non-null   object \n",
            " 32  dump_type         938442 non-null   object \n",
            " 33  meta              938442 non-null   object \n",
            " 34  is_adv            938442 non-null   float64\n",
            " 35  bi-keywords       938442 non-null   object \n",
            " 36  keywords          938442 non-null   object \n",
            " 37  neg_adj           215749 non-null   object \n",
            " 38  pos_adj           255628 non-null   object \n",
            " 39  sentiment         623169 non-null   object \n",
            " 40  mentions          410358 non-null   object \n",
            " 41  locations         16414 non-null    object \n",
            " 42  urls              158612 non-null   object \n",
            " 43  cashtags          195 non-null      object \n",
            "dtypes: float64(8), object(36)\n",
            "memory usage: 401.6+ MB\n"
          ],
          "name": "stdout"
        }
      ]
    },
    {
      "cell_type": "code",
      "metadata": {
        "id": "a_YsPPE9jdUX"
      },
      "source": [
        "# topic\n",
        "data = data[['language','text', 'meta']]\n",
        "\n",
        "# sentiment\n",
        "# data = data[['language','text', 'sentiment']]\n",
        "\n",
        "data.columns = ['lang', 'text', 'target']\n",
        "data = data[1:]"
      ],
      "execution_count": 9,
      "outputs": []
    },
    {
      "cell_type": "code",
      "metadata": {
        "colab": {
          "base_uri": "https://localhost:8080/",
          "height": 206
        },
        "id": "U240mCSBk9vI",
        "outputId": "c064ee26-8960-4a24-e64d-a1f35d9e4913"
      },
      "source": [
        "data.head()"
      ],
      "execution_count": 10,
      "outputs": [
        {
          "output_type": "execute_result",
          "data": {
            "text/html": [
              "<div>\n",
              "<style scoped>\n",
              "    .dataframe tbody tr th:only-of-type {\n",
              "        vertical-align: middle;\n",
              "    }\n",
              "\n",
              "    .dataframe tbody tr th {\n",
              "        vertical-align: top;\n",
              "    }\n",
              "\n",
              "    .dataframe thead th {\n",
              "        text-align: right;\n",
              "    }\n",
              "</style>\n",
              "<table border=\"1\" class=\"dataframe\">\n",
              "  <thead>\n",
              "    <tr style=\"text-align: right;\">\n",
              "      <th></th>\n",
              "      <th>lang</th>\n",
              "      <th>text</th>\n",
              "      <th>target</th>\n",
              "    </tr>\n",
              "  </thead>\n",
              "  <tbody>\n",
              "    <tr>\n",
              "      <th>1</th>\n",
              "      <td>fa</td>\n",
              "      <td>آن شب اسفندماه که برای نخستین بار خبر درگذشت #...</td>\n",
              "      <td>['اجتماعی']</td>\n",
              "    </tr>\n",
              "    <tr>\n",
              "      <th>2</th>\n",
              "      <td>en</td>\n",
              "      <td>@daydreaminblack Niiiice😂😂😂😂😂</td>\n",
              "      <td>['متفرقه']</td>\n",
              "    </tr>\n",
              "    <tr>\n",
              "      <th>3</th>\n",
              "      <td>fa</td>\n",
              "      <td>جدا از رفتن شجریان، چهر‌ه‌های غمبار همایون و ع...</td>\n",
              "      <td>['هنری']</td>\n",
              "    </tr>\n",
              "    <tr>\n",
              "      <th>4</th>\n",
              "      <td>fa</td>\n",
              "      <td>دیگه تویی که تا دیروز عکس سردار دلها رو استوری...</td>\n",
              "      <td>['هنری']</td>\n",
              "    </tr>\n",
              "    <tr>\n",
              "      <th>5</th>\n",
              "      <td>fa</td>\n",
              "      <td>لازم نیست راجع‌به هر مسئله‌ای نظر بدی و موضع‌گ...</td>\n",
              "      <td>['مذهبی']</td>\n",
              "    </tr>\n",
              "  </tbody>\n",
              "</table>\n",
              "</div>"
            ],
            "text/plain": [
              "  lang                                               text       target\n",
              "1   fa  آن شب اسفندماه که برای نخستین بار خبر درگذشت #...  ['اجتماعی']\n",
              "2   en                      @daydreaminblack Niiiice😂😂😂😂😂   ['متفرقه']\n",
              "3   fa  جدا از رفتن شجریان، چهر‌ه‌های غمبار همایون و ع...     ['هنری']\n",
              "4   fa  دیگه تویی که تا دیروز عکس سردار دلها رو استوری...     ['هنری']\n",
              "5   fa  لازم نیست راجع‌به هر مسئله‌ای نظر بدی و موضع‌گ...    ['مذهبی']"
            ]
          },
          "metadata": {
            "tags": []
          },
          "execution_count": 10
        }
      ]
    },
    {
      "cell_type": "code",
      "metadata": {
        "id": "UjeEJmSH96Hy"
      },
      "source": [
        "data = data[~data['target'].isnull()]\n",
        "data = data[data['target'].notna()]\n",
        "data = data[~data['text'].isnull()]\n",
        "data = data[data['text'].notna()]\n",
        "\n",
        "# data = data[~(data['target']=='dipole')]"
      ],
      "execution_count": 11,
      "outputs": []
    },
    {
      "cell_type": "code",
      "metadata": {
        "colab": {
          "base_uri": "https://localhost:8080/"
        },
        "id": "4rBGNjmA8wmw",
        "outputId": "cc1a7804-0065-4530-cb27-dcac61db97c1"
      },
      "source": [
        "tages = list(set(data['target'].values))\n",
        "tages"
      ],
      "execution_count": 12,
      "outputs": [
        {
          "output_type": "execute_result",
          "data": {
            "text/plain": [
              "[\"['اقوام']\",\n",
              " \"['اجتماعی']\",\n",
              " \"['مذهبی']\",\n",
              " \"['سیاسی']\",\n",
              " \"['فناوری']\",\n",
              " \"['اقتصادی']\",\n",
              " \"['علمی_فرهنگی']\",\n",
              " \"['متفرقه']\",\n",
              " \"['هنری']\",\n",
              " \"['زنان']\",\n",
              " \"['فراخوان و تجمعات']\",\n",
              " \"['ورزشی']\",\n",
              " \"['اخبارجهان']\"]"
            ]
          },
          "metadata": {
            "tags": []
          },
          "execution_count": 12
        }
      ]
    },
    {
      "cell_type": "code",
      "metadata": {
        "colab": {
          "base_uri": "https://localhost:8080/",
          "height": 550
        },
        "id": "dr8zjZrCXDEH",
        "outputId": "bf904a08-49ae-41ed-c784-58d1d2dbbaaa"
      },
      "source": [
        "class_count = data['target'].value_counts()\n",
        "plt.figure(figsize = (23, 8))\n",
        "plt.bar(x = class_count.keys(), \n",
        "        height = class_count.values)\n",
        "plt.xlabel(\"Target\")\n",
        "plt.ylabel(\"Tweet count\")\n",
        "plt.title(\"Count of tweets for each topic\")\n",
        "plt.legend()"
      ],
      "execution_count": 13,
      "outputs": [
        {
          "output_type": "stream",
          "text": [
            "No handles with labels found to put in legend.\n"
          ],
          "name": "stderr"
        },
        {
          "output_type": "execute_result",
          "data": {
            "text/plain": [
              "<matplotlib.legend.Legend at 0x7faf5e4b1a58>"
            ]
          },
          "metadata": {
            "tags": []
          },
          "execution_count": 13
        },
        {
          "output_type": "display_data",
          "data": {
            "image/png": "[encoded data removed]",
            "text/plain": [
              "<Figure size 1656x576 with 1 Axes>"
            ]
          },
          "metadata": {
            "tags": [],
            "needs_background": "light"
          }
        }
      ]
    },
    {
      "cell_type": "code",
      "metadata": {
        "colab": {
          "base_uri": "https://localhost:8080/",
          "height": 206
        },
        "id": "cesAb4bVnpe_",
        "outputId": "089dab59-8457-4449-eb74-96525086949a"
      },
      "source": [
        "is_fa =  data['lang'] == 'fa'\n",
        "fa_data = data[is_fa]\n",
        "fa_data.head()"
      ],
      "execution_count": 14,
      "outputs": [
        {
          "output_type": "execute_result",
          "data": {
            "text/html": [
              "<div>\n",
              "<style scoped>\n",
              "    .dataframe tbody tr th:only-of-type {\n",
              "        vertical-align: middle;\n",
              "    }\n",
              "\n",
              "    .dataframe tbody tr th {\n",
              "        vertical-align: top;\n",
              "    }\n",
              "\n",
              "    .dataframe thead th {\n",
              "        text-align: right;\n",
              "    }\n",
              "</style>\n",
              "<table border=\"1\" class=\"dataframe\">\n",
              "  <thead>\n",
              "    <tr style=\"text-align: right;\">\n",
              "      <th></th>\n",
              "      <th>lang</th>\n",
              "      <th>text</th>\n",
              "      <th>target</th>\n",
              "    </tr>\n",
              "  </thead>\n",
              "  <tbody>\n",
              "    <tr>\n",
              "      <th>1</th>\n",
              "      <td>fa</td>\n",
              "      <td>آن شب اسفندماه که برای نخستین بار خبر درگذشت #...</td>\n",
              "      <td>['اجتماعی']</td>\n",
              "    </tr>\n",
              "    <tr>\n",
              "      <th>3</th>\n",
              "      <td>fa</td>\n",
              "      <td>جدا از رفتن شجریان، چهر‌ه‌های غمبار همایون و ع...</td>\n",
              "      <td>['هنری']</td>\n",
              "    </tr>\n",
              "    <tr>\n",
              "      <th>4</th>\n",
              "      <td>fa</td>\n",
              "      <td>دیگه تویی که تا دیروز عکس سردار دلها رو استوری...</td>\n",
              "      <td>['هنری']</td>\n",
              "    </tr>\n",
              "    <tr>\n",
              "      <th>5</th>\n",
              "      <td>fa</td>\n",
              "      <td>لازم نیست راجع‌به هر مسئله‌ای نظر بدی و موضع‌گ...</td>\n",
              "      <td>['مذهبی']</td>\n",
              "    </tr>\n",
              "    <tr>\n",
              "      <th>6</th>\n",
              "      <td>fa</td>\n",
              "      <td>به نظر من اینکه رفیق صمیمیت لانگ دیستنس باشه ب...</td>\n",
              "      <td>['مذهبی']</td>\n",
              "    </tr>\n",
              "  </tbody>\n",
              "</table>\n",
              "</div>"
            ],
            "text/plain": [
              "  lang                                               text       target\n",
              "1   fa  آن شب اسفندماه که برای نخستین بار خبر درگذشت #...  ['اجتماعی']\n",
              "3   fa  جدا از رفتن شجریان، چهر‌ه‌های غمبار همایون و ع...     ['هنری']\n",
              "4   fa  دیگه تویی که تا دیروز عکس سردار دلها رو استوری...     ['هنری']\n",
              "5   fa  لازم نیست راجع‌به هر مسئله‌ای نظر بدی و موضع‌گ...    ['مذهبی']\n",
              "6   fa  به نظر من اینکه رفیق صمیمیت لانگ دیستنس باشه ب...    ['مذهبی']"
            ]
          },
          "metadata": {
            "tags": []
          },
          "execution_count": 14
        }
      ]
    },
    {
      "cell_type": "code",
      "metadata": {
        "colab": {
          "base_uri": "https://localhost:8080/"
        },
        "id": "PGqXKc6KrHZg",
        "outputId": "133bde76-5efb-4a68-95b3-64bd79574616"
      },
      "source": [
        "fa_data.shape"
      ],
      "execution_count": 15,
      "outputs": [
        {
          "output_type": "execute_result",
          "data": {
            "text/plain": [
              "(337104, 3)"
            ]
          },
          "metadata": {
            "tags": []
          },
          "execution_count": 15
        }
      ]
    },
    {
      "cell_type": "code",
      "metadata": {
        "colab": {
          "base_uri": "https://localhost:8080/",
          "height": 206
        },
        "id": "ctZCwtLKm-3L",
        "outputId": "1147fe24-75d0-4cb1-9546-a216666be60c"
      },
      "source": [
        "is_en =  data['lang'] == 'en'\n",
        "en_data= data[is_en]\n",
        "en_data.head()"
      ],
      "execution_count": 16,
      "outputs": [
        {
          "output_type": "execute_result",
          "data": {
            "text/html": [
              "<div>\n",
              "<style scoped>\n",
              "    .dataframe tbody tr th:only-of-type {\n",
              "        vertical-align: middle;\n",
              "    }\n",
              "\n",
              "    .dataframe tbody tr th {\n",
              "        vertical-align: top;\n",
              "    }\n",
              "\n",
              "    .dataframe thead th {\n",
              "        text-align: right;\n",
              "    }\n",
              "</style>\n",
              "<table border=\"1\" class=\"dataframe\">\n",
              "  <thead>\n",
              "    <tr style=\"text-align: right;\">\n",
              "      <th></th>\n",
              "      <th>lang</th>\n",
              "      <th>text</th>\n",
              "      <th>target</th>\n",
              "    </tr>\n",
              "  </thead>\n",
              "  <tbody>\n",
              "    <tr>\n",
              "      <th>2</th>\n",
              "      <td>en</td>\n",
              "      <td>@daydreaminblack Niiiice😂😂😂😂😂</td>\n",
              "      <td>['متفرقه']</td>\n",
              "    </tr>\n",
              "    <tr>\n",
              "      <th>23</th>\n",
              "      <td>en</td>\n",
              "      <td>@safewordthe۲nd ….</td>\n",
              "      <td>['متفرقه']</td>\n",
              "    </tr>\n",
              "    <tr>\n",
              "      <th>39</th>\n",
              "      <td>en</td>\n",
              "      <td>@wahid_taniwal It seems, Taliban endorsed Pres...</td>\n",
              "      <td>['متفرقه']</td>\n",
              "    </tr>\n",
              "    <tr>\n",
              "      <th>40</th>\n",
              "      <td>en</td>\n",
              "      <td>Mujahid told CBS News in a phone interview, «W...</td>\n",
              "      <td>['متفرقه']</td>\n",
              "    </tr>\n",
              "    <tr>\n",
              "      <th>41</th>\n",
              "      <td>en</td>\n",
              "      <td>With fragile peace talks, the #COVID-۱۹ pandem...</td>\n",
              "      <td>['متفرقه']</td>\n",
              "    </tr>\n",
              "  </tbody>\n",
              "</table>\n",
              "</div>"
            ],
            "text/plain": [
              "   lang                                               text      target\n",
              "2    en                      @daydreaminblack Niiiice😂😂😂😂😂  ['متفرقه']\n",
              "23   en                                 @safewordthe۲nd ….  ['متفرقه']\n",
              "39   en  @wahid_taniwal It seems, Taliban endorsed Pres...  ['متفرقه']\n",
              "40   en  Mujahid told CBS News in a phone interview, «W...  ['متفرقه']\n",
              "41   en  With fragile peace talks, the #COVID-۱۹ pandem...  ['متفرقه']"
            ]
          },
          "metadata": {
            "tags": []
          },
          "execution_count": 16
        }
      ]
    },
    {
      "cell_type": "code",
      "metadata": {
        "colab": {
          "base_uri": "https://localhost:8080/"
        },
        "id": "c477gLyUrBb5",
        "outputId": "88ff894f-5ba2-49f0-f10f-bea49b7ccc3b"
      },
      "source": [
        "en_data.shape"
      ],
      "execution_count": 17,
      "outputs": [
        {
          "output_type": "execute_result",
          "data": {
            "text/plain": [
              "(286065, 3)"
            ]
          },
          "metadata": {
            "tags": []
          },
          "execution_count": 17
        }
      ]
    },
    {
      "cell_type": "markdown",
      "metadata": {
        "id": "-TxtwIy6xhc8"
      },
      "source": [
        "#Preprocess"
      ]
    },
    {
      "cell_type": "markdown",
      "metadata": {
        "id": "mjM1WNGXPqil"
      },
      "source": [
        "##X"
      ]
    },
    {
      "cell_type": "code",
      "metadata": {
        "id": "gIahet8W8qzt"
      },
      "source": [
        "def tokenizer(text):\n",
        "  text = text.str.split(' ')\n",
        "  return text"
      ],
      "execution_count": 18,
      "outputs": []
    },
    {
      "cell_type": "code",
      "metadata": {
        "id": "mCeCfztO89ZD"
      },
      "source": [
        "def stemLemmaStopWord(stemmer, lemmatizer, stopwords, alphabet, tokens):\n",
        "  final_tokens = []\n",
        "  for token in tokens:\n",
        "    stemmed_token = stemmer.stem(lemmatizer.lemmatize(token))\n",
        "    if '#' in stemmed_token:\n",
        "      stemmed_token = stemmed_token.split('#')[0]\n",
        "    if token not in stopwords and stemmed_token not in stopwords and not token == '' and stemmed_token not in alphabet:\n",
        "      final_tokens.append(stemmed_token)\n",
        "  return final_tokens"
      ],
      "execution_count": 19,
      "outputs": []
    },
    {
      "cell_type": "code",
      "metadata": {
        "id": "V75f8b9b5qPB"
      },
      "source": [
        "def num_words(words):\n",
        "  return len(words)\n",
        "\n",
        "def num_distinct_words(words):\n",
        "  return len(set(words))\n",
        "\n",
        "def all_words(data):\n",
        "  words = set()\n",
        "  for text in data.text:\n",
        "    for word in text:\n",
        "      words.add(word)\n",
        "  return words"
      ],
      "execution_count": 20,
      "outputs": []
    },
    {
      "cell_type": "markdown",
      "metadata": {
        "id": "VKoFMwqMxjV2"
      },
      "source": [
        "###farsi"
      ]
    },
    {
      "cell_type": "code",
      "metadata": {
        "colab": {
          "base_uri": "https://localhost:8080/",
          "height": 206
        },
        "id": "XH2KjuPZxdx9",
        "outputId": "14fdda0c-0336-4c3b-d670-f40cf56497cc"
      },
      "source": [
        "fa_data.head()"
      ],
      "execution_count": 21,
      "outputs": [
        {
          "output_type": "execute_result",
          "data": {
            "text/html": [
              "<div>\n",
              "<style scoped>\n",
              "    .dataframe tbody tr th:only-of-type {\n",
              "        vertical-align: middle;\n",
              "    }\n",
              "\n",
              "    .dataframe tbody tr th {\n",
              "        vertical-align: top;\n",
              "    }\n",
              "\n",
              "    .dataframe thead th {\n",
              "        text-align: right;\n",
              "    }\n",
              "</style>\n",
              "<table border=\"1\" class=\"dataframe\">\n",
              "  <thead>\n",
              "    <tr style=\"text-align: right;\">\n",
              "      <th></th>\n",
              "      <th>lang</th>\n",
              "      <th>text</th>\n",
              "      <th>target</th>\n",
              "    </tr>\n",
              "  </thead>\n",
              "  <tbody>\n",
              "    <tr>\n",
              "      <th>1</th>\n",
              "      <td>fa</td>\n",
              "      <td>آن شب اسفندماه که برای نخستین بار خبر درگذشت #...</td>\n",
              "      <td>['اجتماعی']</td>\n",
              "    </tr>\n",
              "    <tr>\n",
              "      <th>3</th>\n",
              "      <td>fa</td>\n",
              "      <td>جدا از رفتن شجریان، چهر‌ه‌های غمبار همایون و ع...</td>\n",
              "      <td>['هنری']</td>\n",
              "    </tr>\n",
              "    <tr>\n",
              "      <th>4</th>\n",
              "      <td>fa</td>\n",
              "      <td>دیگه تویی که تا دیروز عکس سردار دلها رو استوری...</td>\n",
              "      <td>['هنری']</td>\n",
              "    </tr>\n",
              "    <tr>\n",
              "      <th>5</th>\n",
              "      <td>fa</td>\n",
              "      <td>لازم نیست راجع‌به هر مسئله‌ای نظر بدی و موضع‌گ...</td>\n",
              "      <td>['مذهبی']</td>\n",
              "    </tr>\n",
              "    <tr>\n",
              "      <th>6</th>\n",
              "      <td>fa</td>\n",
              "      <td>به نظر من اینکه رفیق صمیمیت لانگ دیستنس باشه ب...</td>\n",
              "      <td>['مذهبی']</td>\n",
              "    </tr>\n",
              "  </tbody>\n",
              "</table>\n",
              "</div>"
            ],
            "text/plain": [
              "  lang                                               text       target\n",
              "1   fa  آن شب اسفندماه که برای نخستین بار خبر درگذشت #...  ['اجتماعی']\n",
              "3   fa  جدا از رفتن شجریان، چهر‌ه‌های غمبار همایون و ع...     ['هنری']\n",
              "4   fa  دیگه تویی که تا دیروز عکس سردار دلها رو استوری...     ['هنری']\n",
              "5   fa  لازم نیست راجع‌به هر مسئله‌ای نظر بدی و موضع‌گ...    ['مذهبی']\n",
              "6   fa  به نظر من اینکه رفیق صمیمیت لانگ دیستنس باشه ب...    ['مذهبی']"
            ]
          },
          "metadata": {
            "tags": []
          },
          "execution_count": 21
        }
      ]
    },
    {
      "cell_type": "code",
      "metadata": {
        "colab": {
          "base_uri": "https://localhost:8080/",
          "height": 310
        },
        "id": "tUQYvq23yZQV",
        "outputId": "240e37fb-15bd-4251-81bc-33464b6cb1b2"
      },
      "source": [
        "def fa_normalize(text):\n",
        "  text = text.replace(to_replace =r\"[ئيی]\", value = 'ی', regex = True)\n",
        "  text = text.replace(to_replace =r\"[ك]\", value = 'ک', regex = True)\n",
        "  text = text.replace(to_replace =r\"[ؤ]\", value = 'و', regex = True)\n",
        "  text = text.replace(to_replace =r\"[ة]\", value = 'ه', regex = True)\n",
        "  text = text.replace(to_replace=r\"[إأآا]\", value=\"ا\", regex=True)\n",
        "  text = text.replace(\n",
        "            to_replace=r\"[^ابپتثجچحخدذرزژسشصضطظعغفقکگلمنوهی]\", value=\" \", regex=True\n",
        "        )\n",
        "  text = text.replace(to_replace=r'(.)\\1+', value=r'\\1', regex=True)\n",
        "  text = text.replace(to_replace =r\"[^\\S\\n\\t]+\", value = ' ', regex = True)\n",
        "  return text  \n",
        "\n",
        "\n",
        "fa_data.text = fa_normalize(fa_data.text)\n",
        "fa_data.head()"
      ],
      "execution_count": 22,
      "outputs": [
        {
          "output_type": "stream",
          "text": [
            "/usr/local/lib/python3.6/dist-packages/pandas/core/generic.py:5170: SettingWithCopyWarning: \n",
            "A value is trying to be set on a copy of a slice from a DataFrame.\n",
            "Try using .loc[row_indexer,col_indexer] = value instead\n",
            "\n",
            "See the caveats in the documentation: https://pandas.pydata.org/pandas-docs/stable/user_guide/indexing.html#returning-a-view-versus-a-copy\n",
            "  self[name] = value\n"
          ],
          "name": "stderr"
        },
        {
          "output_type": "execute_result",
          "data": {
            "text/html": [
              "<div>\n",
              "<style scoped>\n",
              "    .dataframe tbody tr th:only-of-type {\n",
              "        vertical-align: middle;\n",
              "    }\n",
              "\n",
              "    .dataframe tbody tr th {\n",
              "        vertical-align: top;\n",
              "    }\n",
              "\n",
              "    .dataframe thead th {\n",
              "        text-align: right;\n",
              "    }\n",
              "</style>\n",
              "<table border=\"1\" class=\"dataframe\">\n",
              "  <thead>\n",
              "    <tr style=\"text-align: right;\">\n",
              "      <th></th>\n",
              "      <th>lang</th>\n",
              "      <th>text</th>\n",
              "      <th>target</th>\n",
              "    </tr>\n",
              "  </thead>\n",
              "  <tbody>\n",
              "    <tr>\n",
              "      <th>1</th>\n",
              "      <td>fa</td>\n",
              "      <td>ان شب اسفندماه که برای نخستین بار خبر درگذشت م...</td>\n",
              "      <td>['اجتماعی']</td>\n",
              "    </tr>\n",
              "    <tr>\n",
              "      <th>3</th>\n",
              "      <td>fa</td>\n",
              "      <td>جدا از رفتن شجریان چهر ه های غمبار همایون و عل...</td>\n",
              "      <td>['هنری']</td>\n",
              "    </tr>\n",
              "    <tr>\n",
              "      <th>4</th>\n",
              "      <td>fa</td>\n",
              "      <td>دیگه توی که تا دیروز عکس سردار دلها رو استوری ...</td>\n",
              "      <td>['هنری']</td>\n",
              "    </tr>\n",
              "    <tr>\n",
              "      <th>5</th>\n",
              "      <td>fa</td>\n",
              "      <td>لازم نیست راجع به هر مسیله ای نظر بدی و موضع گ...</td>\n",
              "      <td>['مذهبی']</td>\n",
              "    </tr>\n",
              "    <tr>\n",
              "      <th>6</th>\n",
              "      <td>fa</td>\n",
              "      <td>به نظر من اینکه رفیق صمیمیت لانگ دیستنس باشه ب...</td>\n",
              "      <td>['مذهبی']</td>\n",
              "    </tr>\n",
              "  </tbody>\n",
              "</table>\n",
              "</div>"
            ],
            "text/plain": [
              "  lang                                               text       target\n",
              "1   fa  ان شب اسفندماه که برای نخستین بار خبر درگذشت م...  ['اجتماعی']\n",
              "3   fa  جدا از رفتن شجریان چهر ه های غمبار همایون و عل...     ['هنری']\n",
              "4   fa  دیگه توی که تا دیروز عکس سردار دلها رو استوری ...     ['هنری']\n",
              "5   fa  لازم نیست راجع به هر مسیله ای نظر بدی و موضع گ...    ['مذهبی']\n",
              "6   fa  به نظر من اینکه رفیق صمیمیت لانگ دیستنس باشه ب...    ['مذهبی']"
            ]
          },
          "metadata": {
            "tags": []
          },
          "execution_count": 22
        }
      ]
    },
    {
      "cell_type": "markdown",
      "metadata": {
        "id": "wGeLw7PJ5NEZ"
      },
      "source": [
        "tokenize"
      ]
    },
    {
      "cell_type": "code",
      "metadata": {
        "colab": {
          "base_uri": "https://localhost:8080/",
          "height": 310
        },
        "id": "O40XcoQ_5I6U",
        "outputId": "ff9ff045-a0cf-4bca-e8c2-fb4276f5357a"
      },
      "source": [
        "fa_data.text = tokenizer(fa_data.text)\n",
        "fa_data.head()"
      ],
      "execution_count": 23,
      "outputs": [
        {
          "output_type": "stream",
          "text": [
            "/usr/local/lib/python3.6/dist-packages/pandas/core/generic.py:5170: SettingWithCopyWarning: \n",
            "A value is trying to be set on a copy of a slice from a DataFrame.\n",
            "Try using .loc[row_indexer,col_indexer] = value instead\n",
            "\n",
            "See the caveats in the documentation: https://pandas.pydata.org/pandas-docs/stable/user_guide/indexing.html#returning-a-view-versus-a-copy\n",
            "  self[name] = value\n"
          ],
          "name": "stderr"
        },
        {
          "output_type": "execute_result",
          "data": {
            "text/html": [
              "<div>\n",
              "<style scoped>\n",
              "    .dataframe tbody tr th:only-of-type {\n",
              "        vertical-align: middle;\n",
              "    }\n",
              "\n",
              "    .dataframe tbody tr th {\n",
              "        vertical-align: top;\n",
              "    }\n",
              "\n",
              "    .dataframe thead th {\n",
              "        text-align: right;\n",
              "    }\n",
              "</style>\n",
              "<table border=\"1\" class=\"dataframe\">\n",
              "  <thead>\n",
              "    <tr style=\"text-align: right;\">\n",
              "      <th></th>\n",
              "      <th>lang</th>\n",
              "      <th>text</th>\n",
              "      <th>target</th>\n",
              "    </tr>\n",
              "  </thead>\n",
              "  <tbody>\n",
              "    <tr>\n",
              "      <th>1</th>\n",
              "      <td>fa</td>\n",
              "      <td>[ان, شب, اسفندماه, که, برای, نخستین, بار, خبر,...</td>\n",
              "      <td>['اجتماعی']</td>\n",
              "    </tr>\n",
              "    <tr>\n",
              "      <th>3</th>\n",
              "      <td>fa</td>\n",
              "      <td>[جدا, از, رفتن, شجریان, چهر, ه, های, غمبار, هم...</td>\n",
              "      <td>['هنری']</td>\n",
              "    </tr>\n",
              "    <tr>\n",
              "      <th>4</th>\n",
              "      <td>fa</td>\n",
              "      <td>[دیگه, توی, که, تا, دیروز, عکس, سردار, دلها, ر...</td>\n",
              "      <td>['هنری']</td>\n",
              "    </tr>\n",
              "    <tr>\n",
              "      <th>5</th>\n",
              "      <td>fa</td>\n",
              "      <td>[لازم, نیست, راجع, به, هر, مسیله, ای, نظر, بدی...</td>\n",
              "      <td>['مذهبی']</td>\n",
              "    </tr>\n",
              "    <tr>\n",
              "      <th>6</th>\n",
              "      <td>fa</td>\n",
              "      <td>[به, نظر, من, اینکه, رفیق, صمیمیت, لانگ, دیستن...</td>\n",
              "      <td>['مذهبی']</td>\n",
              "    </tr>\n",
              "  </tbody>\n",
              "</table>\n",
              "</div>"
            ],
            "text/plain": [
              "  lang                                               text       target\n",
              "1   fa  [ان, شب, اسفندماه, که, برای, نخستین, بار, خبر,...  ['اجتماعی']\n",
              "3   fa  [جدا, از, رفتن, شجریان, چهر, ه, های, غمبار, هم...     ['هنری']\n",
              "4   fa  [دیگه, توی, که, تا, دیروز, عکس, سردار, دلها, ر...     ['هنری']\n",
              "5   fa  [لازم, نیست, راجع, به, هر, مسیله, ای, نظر, بدی...    ['مذهبی']\n",
              "6   fa  [به, نظر, من, اینکه, رفیق, صمیمیت, لانگ, دیستن...    ['مذهبی']"
            ]
          },
          "metadata": {
            "tags": []
          },
          "execution_count": 23
        }
      ]
    },
    {
      "cell_type": "markdown",
      "metadata": {
        "id": "gqxvFuYR5ab8"
      },
      "source": [
        "Stem Lemma StopWord"
      ]
    },
    {
      "cell_type": "code",
      "metadata": {
        "colab": {
          "base_uri": "https://localhost:8080/",
          "height": 310
        },
        "id": "BnZP8pFk41-f",
        "outputId": "a898279b-d2d2-4722-b4da-9b89500725e0"
      },
      "source": [
        "fa_stemmer = hazm.Stemmer()\n",
        "fa_lemmatizer = hazm.Lemmatizer()\n",
        "fa_stopwords = hazm.stopwords_list()\n",
        "fa_alphabet = set(list('ابپتثجچحخدذرزژسشصضطظعغفقکگلمنوهی'))\n",
        "\n",
        "fa_data.text = fa_data.apply(lambda row: stemLemmaStopWord(fa_stemmer, fa_lemmatizer, fa_stopwords, fa_alphabet, row.text), axis=1)\n",
        "fa_data.head()"
      ],
      "execution_count": 24,
      "outputs": [
        {
          "output_type": "stream",
          "text": [
            "/usr/local/lib/python3.6/dist-packages/pandas/core/generic.py:5170: SettingWithCopyWarning: \n",
            "A value is trying to be set on a copy of a slice from a DataFrame.\n",
            "Try using .loc[row_indexer,col_indexer] = value instead\n",
            "\n",
            "See the caveats in the documentation: https://pandas.pydata.org/pandas-docs/stable/user_guide/indexing.html#returning-a-view-versus-a-copy\n",
            "  self[name] = value\n"
          ],
          "name": "stderr"
        },
        {
          "output_type": "execute_result",
          "data": {
            "text/html": [
              "<div>\n",
              "<style scoped>\n",
              "    .dataframe tbody tr th:only-of-type {\n",
              "        vertical-align: middle;\n",
              "    }\n",
              "\n",
              "    .dataframe tbody tr th {\n",
              "        vertical-align: top;\n",
              "    }\n",
              "\n",
              "    .dataframe thead th {\n",
              "        text-align: right;\n",
              "    }\n",
              "</style>\n",
              "<table border=\"1\" class=\"dataframe\">\n",
              "  <thead>\n",
              "    <tr style=\"text-align: right;\">\n",
              "      <th></th>\n",
              "      <th>lang</th>\n",
              "      <th>text</th>\n",
              "      <th>target</th>\n",
              "    </tr>\n",
              "  </thead>\n",
              "  <tbody>\n",
              "    <tr>\n",
              "      <th>1</th>\n",
              "      <td>fa</td>\n",
              "      <td>[, شب, اسفندماه, خبر, درگذ, محمدرضاشجر, امد, م...</td>\n",
              "      <td>['اجتماعی']</td>\n",
              "    </tr>\n",
              "    <tr>\n",
              "      <th>3</th>\n",
              "      <td>fa</td>\n",
              "      <td>[جدا, رفتن, شجر, چهر, , غمبار, همایون, علیزاده...</td>\n",
              "      <td>['هنری']</td>\n",
              "    </tr>\n",
              "    <tr>\n",
              "      <th>4</th>\n",
              "      <td>fa</td>\n",
              "      <td>[دیگه, دیروز, عکس, سردار, دل, استور, میکرد, نم...</td>\n",
              "      <td>['هنری']</td>\n",
              "    </tr>\n",
              "    <tr>\n",
              "      <th>5</th>\n",
              "      <td>fa</td>\n",
              "      <td>[راجع, مسیله, بد, موضع, ]</td>\n",
              "      <td>['مذهبی']</td>\n",
              "    </tr>\n",
              "    <tr>\n",
              "      <th>6</th>\n",
              "      <td>fa</td>\n",
              "      <td>[رفیق, صمیم, لانگ, دیستنس, باشه, مراتب, سخ, , ...</td>\n",
              "      <td>['مذهبی']</td>\n",
              "    </tr>\n",
              "  </tbody>\n",
              "</table>\n",
              "</div>"
            ],
            "text/plain": [
              "  lang                                               text       target\n",
              "1   fa  [, شب, اسفندماه, خبر, درگذ, محمدرضاشجر, امد, م...  ['اجتماعی']\n",
              "3   fa  [جدا, رفتن, شجر, چهر, , غمبار, همایون, علیزاده...     ['هنری']\n",
              "4   fa  [دیگه, دیروز, عکس, سردار, دل, استور, میکرد, نم...     ['هنری']\n",
              "5   fa                          [راجع, مسیله, بد, موضع, ]    ['مذهبی']\n",
              "6   fa  [رفیق, صمیم, لانگ, دیستنس, باشه, مراتب, سخ, , ...    ['مذهبی']"
            ]
          },
          "metadata": {
            "tags": []
          },
          "execution_count": 24
        }
      ]
    },
    {
      "cell_type": "markdown",
      "metadata": {
        "id": "PxaqkiyV5tTE"
      },
      "source": [
        "number of words"
      ]
    },
    {
      "cell_type": "code",
      "metadata": {
        "colab": {
          "base_uri": "https://localhost:8080/",
          "height": 415
        },
        "id": "atrLOIzW9sX1",
        "outputId": "f655db18-9d2f-40e7-cbf1-7a3c07253620"
      },
      "source": [
        "fa_data['words_num'] = fa_data.apply(lambda row: num_words(row.text), axis=1)\n",
        "fa_data['distinct_words_num'] = fa_data.apply(lambda row: num_distinct_words(row.text), axis=1)\n",
        "fa_data.head()"
      ],
      "execution_count": 25,
      "outputs": [
        {
          "output_type": "stream",
          "text": [
            "/usr/local/lib/python3.6/dist-packages/ipykernel_launcher.py:1: SettingWithCopyWarning: \n",
            "A value is trying to be set on a copy of a slice from a DataFrame.\n",
            "Try using .loc[row_indexer,col_indexer] = value instead\n",
            "\n",
            "See the caveats in the documentation: https://pandas.pydata.org/pandas-docs/stable/user_guide/indexing.html#returning-a-view-versus-a-copy\n",
            "  \"\"\"Entry point for launching an IPython kernel.\n",
            "/usr/local/lib/python3.6/dist-packages/ipykernel_launcher.py:2: SettingWithCopyWarning: \n",
            "A value is trying to be set on a copy of a slice from a DataFrame.\n",
            "Try using .loc[row_indexer,col_indexer] = value instead\n",
            "\n",
            "See the caveats in the documentation: https://pandas.pydata.org/pandas-docs/stable/user_guide/indexing.html#returning-a-view-versus-a-copy\n",
            "  \n"
          ],
          "name": "stderr"
        },
        {
          "output_type": "execute_result",
          "data": {
            "text/html": [
              "<div>\n",
              "<style scoped>\n",
              "    .dataframe tbody tr th:only-of-type {\n",
              "        vertical-align: middle;\n",
              "    }\n",
              "\n",
              "    .dataframe tbody tr th {\n",
              "        vertical-align: top;\n",
              "    }\n",
              "\n",
              "    .dataframe thead th {\n",
              "        text-align: right;\n",
              "    }\n",
              "</style>\n",
              "<table border=\"1\" class=\"dataframe\">\n",
              "  <thead>\n",
              "    <tr style=\"text-align: right;\">\n",
              "      <th></th>\n",
              "      <th>lang</th>\n",
              "      <th>text</th>\n",
              "      <th>target</th>\n",
              "      <th>words_num</th>\n",
              "      <th>distinct_words_num</th>\n",
              "    </tr>\n",
              "  </thead>\n",
              "  <tbody>\n",
              "    <tr>\n",
              "      <th>1</th>\n",
              "      <td>fa</td>\n",
              "      <td>[, شب, اسفندماه, خبر, درگذ, محمدرضاشجر, امد, م...</td>\n",
              "      <td>['اجتماعی']</td>\n",
              "      <td>28</td>\n",
              "      <td>24</td>\n",
              "    </tr>\n",
              "    <tr>\n",
              "      <th>3</th>\n",
              "      <td>fa</td>\n",
              "      <td>[جدا, رفتن, شجر, چهر, , غمبار, همایون, علیزاده...</td>\n",
              "      <td>['هنری']</td>\n",
              "      <td>11</td>\n",
              "      <td>11</td>\n",
              "    </tr>\n",
              "    <tr>\n",
              "      <th>4</th>\n",
              "      <td>fa</td>\n",
              "      <td>[دیگه, دیروز, عکس, سردار, دل, استور, میکرد, نم...</td>\n",
              "      <td>['هنری']</td>\n",
              "      <td>12</td>\n",
              "      <td>12</td>\n",
              "    </tr>\n",
              "    <tr>\n",
              "      <th>5</th>\n",
              "      <td>fa</td>\n",
              "      <td>[راجع, مسیله, بد, موضع, ]</td>\n",
              "      <td>['مذهبی']</td>\n",
              "      <td>5</td>\n",
              "      <td>5</td>\n",
              "    </tr>\n",
              "    <tr>\n",
              "      <th>6</th>\n",
              "      <td>fa</td>\n",
              "      <td>[رفیق, صمیم, لانگ, دیستنس, باشه, مراتب, سخ, , ...</td>\n",
              "      <td>['مذهبی']</td>\n",
              "      <td>12</td>\n",
              "      <td>10</td>\n",
              "    </tr>\n",
              "  </tbody>\n",
              "</table>\n",
              "</div>"
            ],
            "text/plain": [
              "  lang  ... distinct_words_num\n",
              "1   fa  ...                 24\n",
              "3   fa  ...                 11\n",
              "4   fa  ...                 12\n",
              "5   fa  ...                  5\n",
              "6   fa  ...                 10\n",
              "\n",
              "[5 rows x 5 columns]"
            ]
          },
          "metadata": {
            "tags": []
          },
          "execution_count": 25
        }
      ]
    },
    {
      "cell_type": "code",
      "metadata": {
        "colab": {
          "base_uri": "https://localhost:8080/"
        },
        "id": "KccleGiU-FYn",
        "outputId": "06e50e3e-27ff-46af-8ddf-42d326461d54"
      },
      "source": [
        "words = all_words(fa_data)\n",
        "print('all farsi words: ', sum(fa_data.words_num), ' and distinct farsi words: ', len(words))"
      ],
      "execution_count": 26,
      "outputs": [
        {
          "output_type": "stream",
          "text": [
            "all farsi words:  3658226  and distinct farsi words:  94030\n"
          ],
          "name": "stdout"
        }
      ]
    },
    {
      "cell_type": "markdown",
      "metadata": {
        "id": "djZuTeJixm-x"
      },
      "source": [
        "###english"
      ]
    },
    {
      "cell_type": "code",
      "metadata": {
        "colab": {
          "base_uri": "https://localhost:8080/",
          "height": 0
        },
        "id": "DhP2yGFLxfxY",
        "outputId": "ee5d2d63-8338-41b8-d809-4e597800c28c"
      },
      "source": [
        "en_data.head()"
      ],
      "execution_count": 27,
      "outputs": [
        {
          "output_type": "execute_result",
          "data": {
            "text/html": [
              "<div>\n",
              "<style scoped>\n",
              "    .dataframe tbody tr th:only-of-type {\n",
              "        vertical-align: middle;\n",
              "    }\n",
              "\n",
              "    .dataframe tbody tr th {\n",
              "        vertical-align: top;\n",
              "    }\n",
              "\n",
              "    .dataframe thead th {\n",
              "        text-align: right;\n",
              "    }\n",
              "</style>\n",
              "<table border=\"1\" class=\"dataframe\">\n",
              "  <thead>\n",
              "    <tr style=\"text-align: right;\">\n",
              "      <th></th>\n",
              "      <th>lang</th>\n",
              "      <th>text</th>\n",
              "      <th>target</th>\n",
              "    </tr>\n",
              "  </thead>\n",
              "  <tbody>\n",
              "    <tr>\n",
              "      <th>2</th>\n",
              "      <td>en</td>\n",
              "      <td>@daydreaminblack Niiiice😂😂😂😂😂</td>\n",
              "      <td>['متفرقه']</td>\n",
              "    </tr>\n",
              "    <tr>\n",
              "      <th>23</th>\n",
              "      <td>en</td>\n",
              "      <td>@safewordthe۲nd ….</td>\n",
              "      <td>['متفرقه']</td>\n",
              "    </tr>\n",
              "    <tr>\n",
              "      <th>39</th>\n",
              "      <td>en</td>\n",
              "      <td>@wahid_taniwal It seems, Taliban endorsed Pres...</td>\n",
              "      <td>['متفرقه']</td>\n",
              "    </tr>\n",
              "    <tr>\n",
              "      <th>40</th>\n",
              "      <td>en</td>\n",
              "      <td>Mujahid told CBS News in a phone interview, «W...</td>\n",
              "      <td>['متفرقه']</td>\n",
              "    </tr>\n",
              "    <tr>\n",
              "      <th>41</th>\n",
              "      <td>en</td>\n",
              "      <td>With fragile peace talks, the #COVID-۱۹ pandem...</td>\n",
              "      <td>['متفرقه']</td>\n",
              "    </tr>\n",
              "  </tbody>\n",
              "</table>\n",
              "</div>"
            ],
            "text/plain": [
              "   lang                                               text      target\n",
              "2    en                      @daydreaminblack Niiiice😂😂😂😂😂  ['متفرقه']\n",
              "23   en                                 @safewordthe۲nd ….  ['متفرقه']\n",
              "39   en  @wahid_taniwal It seems, Taliban endorsed Pres...  ['متفرقه']\n",
              "40   en  Mujahid told CBS News in a phone interview, «W...  ['متفرقه']\n",
              "41   en  With fragile peace talks, the #COVID-۱۹ pandem...  ['متفرقه']"
            ]
          },
          "metadata": {
            "tags": []
          },
          "execution_count": 27
        }
      ]
    },
    {
      "cell_type": "code",
      "metadata": {
        "colab": {
          "base_uri": "https://localhost:8080/",
          "height": 0
        },
        "id": "vRxtagQGA3ih",
        "outputId": "164ef765-4936-4a08-fb61-dd0ae04fd0c0"
      },
      "source": [
        "def en_normalize(text):\n",
        "  text = text.replace(to_replace =r'@([A-Za-z0-9_]+)', value = '', regex = True)\n",
        "  text = text.replace(to_replace=r\"http([^\\s\\\\]+)\", value=\"\", regex=True)\n",
        "  text = text.str.lower()\n",
        "  text = text.replace(to_replace =r\"[^a-z]\", value = ' ', regex = True)\n",
        "  text = text.replace(to_replace=r'(.)\\1+', value=r'\\1', regex=True)\n",
        "  text = text.replace(to_replace =r\"[^\\S\\n\\t]+\", value = ' ', regex = True)\n",
        "  return text  \n",
        "\n",
        "en_data.text = en_normalize(en_data.text)\n",
        "en_data.head()"
      ],
      "execution_count": 28,
      "outputs": [
        {
          "output_type": "stream",
          "text": [
            "/usr/local/lib/python3.6/dist-packages/pandas/core/generic.py:5170: SettingWithCopyWarning: \n",
            "A value is trying to be set on a copy of a slice from a DataFrame.\n",
            "Try using .loc[row_indexer,col_indexer] = value instead\n",
            "\n",
            "See the caveats in the documentation: https://pandas.pydata.org/pandas-docs/stable/user_guide/indexing.html#returning-a-view-versus-a-copy\n",
            "  self[name] = value\n"
          ],
          "name": "stderr"
        },
        {
          "output_type": "execute_result",
          "data": {
            "text/html": [
              "<div>\n",
              "<style scoped>\n",
              "    .dataframe tbody tr th:only-of-type {\n",
              "        vertical-align: middle;\n",
              "    }\n",
              "\n",
              "    .dataframe tbody tr th {\n",
              "        vertical-align: top;\n",
              "    }\n",
              "\n",
              "    .dataframe thead th {\n",
              "        text-align: right;\n",
              "    }\n",
              "</style>\n",
              "<table border=\"1\" class=\"dataframe\">\n",
              "  <thead>\n",
              "    <tr style=\"text-align: right;\">\n",
              "      <th></th>\n",
              "      <th>lang</th>\n",
              "      <th>text</th>\n",
              "      <th>target</th>\n",
              "    </tr>\n",
              "  </thead>\n",
              "  <tbody>\n",
              "    <tr>\n",
              "      <th>2</th>\n",
              "      <td>en</td>\n",
              "      <td>nice</td>\n",
              "      <td>['متفرقه']</td>\n",
              "    </tr>\n",
              "    <tr>\n",
              "      <th>23</th>\n",
              "      <td>en</td>\n",
              "      <td>nd</td>\n",
              "      <td>['متفرقه']</td>\n",
              "    </tr>\n",
              "    <tr>\n",
              "      <th>39</th>\n",
              "      <td>en</td>\n",
              "      <td>it sems taliban endorsed president trump nomi...</td>\n",
              "      <td>['متفرقه']</td>\n",
              "    </tr>\n",
              "    <tr>\n",
              "      <th>40</th>\n",
              "      <td>en</td>\n",
              "      <td>mujahid told cbs news in a phone interview we ...</td>\n",
              "      <td>['متفرقه']</td>\n",
              "    </tr>\n",
              "    <tr>\n",
              "      <th>41</th>\n",
              "      <td>en</td>\n",
              "      <td>with fragile peace talks the covid pandemic an...</td>\n",
              "      <td>['متفرقه']</td>\n",
              "    </tr>\n",
              "  </tbody>\n",
              "</table>\n",
              "</div>"
            ],
            "text/plain": [
              "   lang                                               text      target\n",
              "2    en                                              nice   ['متفرقه']\n",
              "23   en                                                nd   ['متفرقه']\n",
              "39   en   it sems taliban endorsed president trump nomi...  ['متفرقه']\n",
              "40   en  mujahid told cbs news in a phone interview we ...  ['متفرقه']\n",
              "41   en  with fragile peace talks the covid pandemic an...  ['متفرقه']"
            ]
          },
          "metadata": {
            "tags": []
          },
          "execution_count": 28
        }
      ]
    },
    {
      "cell_type": "markdown",
      "metadata": {
        "id": "XhGD_N8O6AO2"
      },
      "source": [
        "tokenize"
      ]
    },
    {
      "cell_type": "code",
      "metadata": {
        "colab": {
          "base_uri": "https://localhost:8080/",
          "height": 0
        },
        "id": "eE4MLygP6AO6",
        "outputId": "d3cc2a68-584a-4912-e498-67975f0d3eff"
      },
      "source": [
        "en_data.text = tokenizer(en_data.text)\n",
        "en_data.head()"
      ],
      "execution_count": 29,
      "outputs": [
        {
          "output_type": "stream",
          "text": [
            "/usr/local/lib/python3.6/dist-packages/pandas/core/generic.py:5170: SettingWithCopyWarning: \n",
            "A value is trying to be set on a copy of a slice from a DataFrame.\n",
            "Try using .loc[row_indexer,col_indexer] = value instead\n",
            "\n",
            "See the caveats in the documentation: https://pandas.pydata.org/pandas-docs/stable/user_guide/indexing.html#returning-a-view-versus-a-copy\n",
            "  self[name] = value\n"
          ],
          "name": "stderr"
        },
        {
          "output_type": "execute_result",
          "data": {
            "text/html": [
              "<div>\n",
              "<style scoped>\n",
              "    .dataframe tbody tr th:only-of-type {\n",
              "        vertical-align: middle;\n",
              "    }\n",
              "\n",
              "    .dataframe tbody tr th {\n",
              "        vertical-align: top;\n",
              "    }\n",
              "\n",
              "    .dataframe thead th {\n",
              "        text-align: right;\n",
              "    }\n",
              "</style>\n",
              "<table border=\"1\" class=\"dataframe\">\n",
              "  <thead>\n",
              "    <tr style=\"text-align: right;\">\n",
              "      <th></th>\n",
              "      <th>lang</th>\n",
              "      <th>text</th>\n",
              "      <th>target</th>\n",
              "    </tr>\n",
              "  </thead>\n",
              "  <tbody>\n",
              "    <tr>\n",
              "      <th>2</th>\n",
              "      <td>en</td>\n",
              "      <td>[, nice, ]</td>\n",
              "      <td>['متفرقه']</td>\n",
              "    </tr>\n",
              "    <tr>\n",
              "      <th>23</th>\n",
              "      <td>en</td>\n",
              "      <td>[, nd, ]</td>\n",
              "      <td>['متفرقه']</td>\n",
              "    </tr>\n",
              "    <tr>\n",
              "      <th>39</th>\n",
              "      <td>en</td>\n",
              "      <td>[, it, sems, taliban, endorsed, president, tru...</td>\n",
              "      <td>['متفرقه']</td>\n",
              "    </tr>\n",
              "    <tr>\n",
              "      <th>40</th>\n",
              "      <td>en</td>\n",
              "      <td>[mujahid, told, cbs, news, in, a, phone, inter...</td>\n",
              "      <td>['متفرقه']</td>\n",
              "    </tr>\n",
              "    <tr>\n",
              "      <th>41</th>\n",
              "      <td>en</td>\n",
              "      <td>[with, fragile, peace, talks, the, covid, pand...</td>\n",
              "      <td>['متفرقه']</td>\n",
              "    </tr>\n",
              "  </tbody>\n",
              "</table>\n",
              "</div>"
            ],
            "text/plain": [
              "   lang                                               text      target\n",
              "2    en                                         [, nice, ]  ['متفرقه']\n",
              "23   en                                           [, nd, ]  ['متفرقه']\n",
              "39   en  [, it, sems, taliban, endorsed, president, tru...  ['متفرقه']\n",
              "40   en  [mujahid, told, cbs, news, in, a, phone, inter...  ['متفرقه']\n",
              "41   en  [with, fragile, peace, talks, the, covid, pand...  ['متفرقه']"
            ]
          },
          "metadata": {
            "tags": []
          },
          "execution_count": 29
        }
      ]
    },
    {
      "cell_type": "markdown",
      "metadata": {
        "id": "E6NEPkVY6AO7"
      },
      "source": [
        "Stem Lemma StopWord"
      ]
    },
    {
      "cell_type": "code",
      "metadata": {
        "colab": {
          "base_uri": "https://localhost:8080/",
          "height": 0
        },
        "id": "dFP_l3q76AO-",
        "outputId": "b1972149-3e8d-44f2-c28b-245e5a0e3bc4"
      },
      "source": [
        "en_stemmer = PorterStemmer()\n",
        "en_lemmatizer = WordNetLemmatizer()\n",
        "en_stopwords = set(stopwords.words(\"english\"))\n",
        "en_alphabet = set(list('abcdefghijklmnopqrstuvwxyz'))\n",
        "\n",
        "en_data.text = en_data.apply(lambda row: stemLemmaStopWord(en_stemmer, en_lemmatizer, en_stopwords, en_alphabet, row.text), axis=1)\n",
        "en_data.head()"
      ],
      "execution_count": 30,
      "outputs": [
        {
          "output_type": "stream",
          "text": [
            "/usr/local/lib/python3.6/dist-packages/pandas/core/generic.py:5170: SettingWithCopyWarning: \n",
            "A value is trying to be set on a copy of a slice from a DataFrame.\n",
            "Try using .loc[row_indexer,col_indexer] = value instead\n",
            "\n",
            "See the caveats in the documentation: https://pandas.pydata.org/pandas-docs/stable/user_guide/indexing.html#returning-a-view-versus-a-copy\n",
            "  self[name] = value\n"
          ],
          "name": "stderr"
        },
        {
          "output_type": "execute_result",
          "data": {
            "text/html": [
              "<div>\n",
              "<style scoped>\n",
              "    .dataframe tbody tr th:only-of-type {\n",
              "        vertical-align: middle;\n",
              "    }\n",
              "\n",
              "    .dataframe tbody tr th {\n",
              "        vertical-align: top;\n",
              "    }\n",
              "\n",
              "    .dataframe thead th {\n",
              "        text-align: right;\n",
              "    }\n",
              "</style>\n",
              "<table border=\"1\" class=\"dataframe\">\n",
              "  <thead>\n",
              "    <tr style=\"text-align: right;\">\n",
              "      <th></th>\n",
              "      <th>lang</th>\n",
              "      <th>text</th>\n",
              "      <th>target</th>\n",
              "    </tr>\n",
              "  </thead>\n",
              "  <tbody>\n",
              "    <tr>\n",
              "      <th>2</th>\n",
              "      <td>en</td>\n",
              "      <td>[nice]</td>\n",
              "      <td>['متفرقه']</td>\n",
              "    </tr>\n",
              "    <tr>\n",
              "      <th>23</th>\n",
              "      <td>en</td>\n",
              "      <td>[nd]</td>\n",
              "      <td>['متفرقه']</td>\n",
              "    </tr>\n",
              "    <tr>\n",
              "      <th>39</th>\n",
              "      <td>en</td>\n",
              "      <td>[sem, taliban, endors, presid, trump, nomin, p...</td>\n",
              "      <td>['متفرقه']</td>\n",
              "    </tr>\n",
              "    <tr>\n",
              "      <th>40</th>\n",
              "      <td>en</td>\n",
              "      <td>[mujahid, told, cb, news, phone, interview, ho...</td>\n",
              "      <td>['متفرقه']</td>\n",
              "    </tr>\n",
              "    <tr>\n",
              "      <th>41</th>\n",
              "      <td>en</td>\n",
              "      <td>[fragil, peac, talk, covid, pandem, new, afgha...</td>\n",
              "      <td>['متفرقه']</td>\n",
              "    </tr>\n",
              "  </tbody>\n",
              "</table>\n",
              "</div>"
            ],
            "text/plain": [
              "   lang                                               text      target\n",
              "2    en                                             [nice]  ['متفرقه']\n",
              "23   en                                               [nd]  ['متفرقه']\n",
              "39   en  [sem, taliban, endors, presid, trump, nomin, p...  ['متفرقه']\n",
              "40   en  [mujahid, told, cb, news, phone, interview, ho...  ['متفرقه']\n",
              "41   en  [fragil, peac, talk, covid, pandem, new, afgha...  ['متفرقه']"
            ]
          },
          "metadata": {
            "tags": []
          },
          "execution_count": 30
        }
      ]
    },
    {
      "cell_type": "markdown",
      "metadata": {
        "id": "8xxxcTPn6AO_"
      },
      "source": [
        "number of words"
      ]
    },
    {
      "cell_type": "code",
      "metadata": {
        "colab": {
          "base_uri": "https://localhost:8080/",
          "height": 0
        },
        "id": "ydHaA3p96APE",
        "outputId": "4a597cf2-f95f-4aec-b694-cb93cc562bae"
      },
      "source": [
        "en_data['words_num'] = en_data.apply(lambda row: num_words(row.text), axis=1)\n",
        "en_data['distinct_words_num'] = en_data.apply(lambda row: num_distinct_words(row.text), axis=1)\n",
        "en_data.head()"
      ],
      "execution_count": 31,
      "outputs": [
        {
          "output_type": "stream",
          "text": [
            "/usr/local/lib/python3.6/dist-packages/ipykernel_launcher.py:1: SettingWithCopyWarning: \n",
            "A value is trying to be set on a copy of a slice from a DataFrame.\n",
            "Try using .loc[row_indexer,col_indexer] = value instead\n",
            "\n",
            "See the caveats in the documentation: https://pandas.pydata.org/pandas-docs/stable/user_guide/indexing.html#returning-a-view-versus-a-copy\n",
            "  \"\"\"Entry point for launching an IPython kernel.\n",
            "/usr/local/lib/python3.6/dist-packages/ipykernel_launcher.py:2: SettingWithCopyWarning: \n",
            "A value is trying to be set on a copy of a slice from a DataFrame.\n",
            "Try using .loc[row_indexer,col_indexer] = value instead\n",
            "\n",
            "See the caveats in the documentation: https://pandas.pydata.org/pandas-docs/stable/user_guide/indexing.html#returning-a-view-versus-a-copy\n",
            "  \n"
          ],
          "name": "stderr"
        },
        {
          "output_type": "execute_result",
          "data": {
            "text/html": [
              "<div>\n",
              "<style scoped>\n",
              "    .dataframe tbody tr th:only-of-type {\n",
              "        vertical-align: middle;\n",
              "    }\n",
              "\n",
              "    .dataframe tbody tr th {\n",
              "        vertical-align: top;\n",
              "    }\n",
              "\n",
              "    .dataframe thead th {\n",
              "        text-align: right;\n",
              "    }\n",
              "</style>\n",
              "<table border=\"1\" class=\"dataframe\">\n",
              "  <thead>\n",
              "    <tr style=\"text-align: right;\">\n",
              "      <th></th>\n",
              "      <th>lang</th>\n",
              "      <th>text</th>\n",
              "      <th>target</th>\n",
              "      <th>words_num</th>\n",
              "      <th>distinct_words_num</th>\n",
              "    </tr>\n",
              "  </thead>\n",
              "  <tbody>\n",
              "    <tr>\n",
              "      <th>2</th>\n",
              "      <td>en</td>\n",
              "      <td>[nice]</td>\n",
              "      <td>['متفرقه']</td>\n",
              "      <td>1</td>\n",
              "      <td>1</td>\n",
              "    </tr>\n",
              "    <tr>\n",
              "      <th>23</th>\n",
              "      <td>en</td>\n",
              "      <td>[nd]</td>\n",
              "      <td>['متفرقه']</td>\n",
              "      <td>1</td>\n",
              "      <td>1</td>\n",
              "    </tr>\n",
              "    <tr>\n",
              "      <th>39</th>\n",
              "      <td>en</td>\n",
              "      <td>[sem, taliban, endors, presid, trump, nomin, p...</td>\n",
              "      <td>['متفرقه']</td>\n",
              "      <td>8</td>\n",
              "      <td>8</td>\n",
              "    </tr>\n",
              "    <tr>\n",
              "      <th>40</th>\n",
              "      <td>en</td>\n",
              "      <td>[mujahid, told, cb, news, phone, interview, ho...</td>\n",
              "      <td>['متفرقه']</td>\n",
              "      <td>31</td>\n",
              "      <td>31</td>\n",
              "    </tr>\n",
              "    <tr>\n",
              "      <th>41</th>\n",
              "      <td>en</td>\n",
              "      <td>[fragil, peac, talk, covid, pandem, new, afgha...</td>\n",
              "      <td>['متفرقه']</td>\n",
              "      <td>28</td>\n",
              "      <td>28</td>\n",
              "    </tr>\n",
              "  </tbody>\n",
              "</table>\n",
              "</div>"
            ],
            "text/plain": [
              "   lang  ... distinct_words_num\n",
              "2    en  ...                  1\n",
              "23   en  ...                  1\n",
              "39   en  ...                  8\n",
              "40   en  ...                 31\n",
              "41   en  ...                 28\n",
              "\n",
              "[5 rows x 5 columns]"
            ]
          },
          "metadata": {
            "tags": []
          },
          "execution_count": 31
        }
      ]
    },
    {
      "cell_type": "code",
      "metadata": {
        "colab": {
          "base_uri": "https://localhost:8080/"
        },
        "id": "hlOc3a756APH",
        "outputId": "555b399a-9b6c-4468-8c15-fa4170ee416f"
      },
      "source": [
        "words = all_words(en_data)\n",
        "print('all english words: ', sum(en_data.words_num), ' and distinct english words: ', len(words))"
      ],
      "execution_count": 32,
      "outputs": [
        {
          "output_type": "stream",
          "text": [
            "all english words:  2679298  and distinct english words:  212643\n"
          ],
          "name": "stdout"
        }
      ]
    },
    {
      "cell_type": "markdown",
      "metadata": {
        "id": "OmT2zC-3PoBT"
      },
      "source": [
        "##y"
      ]
    },
    {
      "cell_type": "markdown",
      "metadata": {
        "id": "vgtrlf7Llvbn"
      },
      "source": [
        "####english"
      ]
    },
    {
      "cell_type": "code",
      "metadata": {
        "colab": {
          "base_uri": "https://localhost:8080/",
          "height": 0
        },
        "id": "hfXYDANigkOa",
        "outputId": "5905e42f-abcd-4057-b71c-35cc0d083229"
      },
      "source": [
        "class_count = en_data['target'].value_counts()\n",
        "plt.figure(figsize = (23, 8))\n",
        "plt.bar(x = class_count.keys(), \n",
        "        height = class_count.values)\n",
        "plt.xlabel(\"Target\")\n",
        "plt.ylabel(\"Tweet count\")\n",
        "plt.title(\"Count of tweets for each topic\")\n",
        "plt.legend()"
      ],
      "execution_count": 33,
      "outputs": [
        {
          "output_type": "stream",
          "text": [
            "No handles with labels found to put in legend.\n"
          ],
          "name": "stderr"
        },
        {
          "output_type": "execute_result",
          "data": {
            "text/plain": [
              "<matplotlib.legend.Legend at 0x7faf1d5d6c50>"
            ]
          },
          "metadata": {
            "tags": []
          },
          "execution_count": 33
        },
        {
          "output_type": "display_data",
          "data": {
            "image/png": "[encoded data removed]",
            "text/plain": [
              "<Figure size 1656x576 with 1 Axes>"
            ]
          },
          "metadata": {
            "tags": [],
            "needs_background": "light"
          }
        }
      ]
    },
    {
      "cell_type": "markdown",
      "metadata": {
        "id": "4j5L2mLYgr-X"
      },
      "source": [
        "then we don't use english data!"
      ]
    },
    {
      "cell_type": "markdown",
      "metadata": {
        "id": "R3jVvDMllppQ"
      },
      "source": [
        "####farsi"
      ]
    },
    {
      "cell_type": "code",
      "metadata": {
        "id": "5_9-A6VKvbXa"
      },
      "source": [
        "def tag(a):\n",
        "  return a[2:-2]\n",
        "fa_data['new_target'] = fa_data.apply(lambda row: tag(row.target), axis=1)"
      ],
      "execution_count": 59,
      "outputs": []
    },
    {
      "cell_type": "code",
      "metadata": {
        "id": "uDen8H8CwOq5"
      },
      "source": [
        "fa_data = fa_data[['lang', 'text', 'new_target', 'words_num']]"
      ],
      "execution_count": 64,
      "outputs": []
    },
    {
      "cell_type": "code",
      "metadata": {
        "id": "_ZG-kfPkwd3t"
      },
      "source": [
        "fa_data.columns = ['lang', 'text', 'target', 'words_num']"
      ],
      "execution_count": 66,
      "outputs": []
    },
    {
      "cell_type": "code",
      "metadata": {
        "colab": {
          "base_uri": "https://localhost:8080/",
          "height": 550
        },
        "id": "iGVVFJ4_P6xF",
        "outputId": "d2f6eab6-e2b7-4c29-ff54-0ade575bc548"
      },
      "source": [
        "class_count = fa_data['target'].value_counts()\n",
        "plt.figure(figsize = (23, 8))\n",
        "plt.bar(x = class_count.keys(), \n",
        "        height = class_count.values)\n",
        "plt.xlabel(\"Target\")\n",
        "plt.ylabel(\"Tweet count\")\n",
        "plt.title(\"Count of tweets for each topic\")\n",
        "plt.legend()"
      ],
      "execution_count": 67,
      "outputs": [
        {
          "output_type": "stream",
          "text": [
            "No handles with labels found to put in legend.\n"
          ],
          "name": "stderr"
        },
        {
          "output_type": "execute_result",
          "data": {
            "text/plain": [
              "<matplotlib.legend.Legend at 0x7faf1d6b4a58>"
            ]
          },
          "metadata": {
            "tags": []
          },
          "execution_count": 67
        },
        {
          "output_type": "display_data",
          "data": {
            "image/png": "[encoded data removed]",
            "text/plain": [
              "<Figure size 1656x576 with 1 Axes>"
            ]
          },
          "metadata": {
            "tags": [],
            "needs_background": "light"
          }
        }
      ]
    },
    {
      "cell_type": "code",
      "metadata": {
        "id": "mLVYfCE6lOMP",
        "outputId": "a2814da9-fd79-47f4-86a3-a8b99a11ea94",
        "colab": {
          "base_uri": "https://localhost:8080/"
        }
      },
      "source": [
        "fa_data.shape"
      ],
      "execution_count": 68,
      "outputs": [
        {
          "output_type": "execute_result",
          "data": {
            "text/plain": [
              "(207718, 4)"
            ]
          },
          "metadata": {
            "tags": []
          },
          "execution_count": 68
        }
      ]
    },
    {
      "cell_type": "code",
      "metadata": {
        "id": "PHA_LKeplQhp"
      },
      "source": [
        "fa_data = fa_data[fa_data.words_num > 5]"
      ],
      "execution_count": 69,
      "outputs": []
    },
    {
      "cell_type": "code",
      "metadata": {
        "id": "VCDQn8MWmiGk",
        "outputId": "d3c30192-668a-4e42-8a2e-33e795ff26e1",
        "colab": {
          "base_uri": "https://localhost:8080/"
        }
      },
      "source": [
        "fa_data.shape"
      ],
      "execution_count": 70,
      "outputs": [
        {
          "output_type": "execute_result",
          "data": {
            "text/plain": [
              "(207718, 4)"
            ]
          },
          "metadata": {
            "tags": []
          },
          "execution_count": 70
        }
      ]
    },
    {
      "cell_type": "code",
      "metadata": {
        "id": "YT6f67cokaVK"
      },
      "source": [
        "fa_data = fa_data.reindex(fa_data.words_num.sort_values().index)"
      ],
      "execution_count": 71,
      "outputs": []
    },
    {
      "cell_type": "code",
      "metadata": {
        "id": "mSGlw_11nQEl"
      },
      "source": [
        "fa_data .reset_index(drop=True, inplace=True)"
      ],
      "execution_count": 72,
      "outputs": []
    },
    {
      "cell_type": "code",
      "metadata": {
        "id": "qkVcyedJnXHq",
        "outputId": "36f2bf15-307f-43b7-ce88-b2fc4f6af4f7",
        "colab": {
          "base_uri": "https://localhost:8080/",
          "height": 424
        }
      },
      "source": [
        "fa_data"
      ],
      "execution_count": 73,
      "outputs": [
        {
          "output_type": "execute_result",
          "data": {
            "text/html": [
              "<div>\n",
              "<style scoped>\n",
              "    .dataframe tbody tr th:only-of-type {\n",
              "        vertical-align: middle;\n",
              "    }\n",
              "\n",
              "    .dataframe tbody tr th {\n",
              "        vertical-align: top;\n",
              "    }\n",
              "\n",
              "    .dataframe thead th {\n",
              "        text-align: right;\n",
              "    }\n",
              "</style>\n",
              "<table border=\"1\" class=\"dataframe\">\n",
              "  <thead>\n",
              "    <tr style=\"text-align: right;\">\n",
              "      <th></th>\n",
              "      <th>lang</th>\n",
              "      <th>text</th>\n",
              "      <th>target</th>\n",
              "      <th>words_num</th>\n",
              "    </tr>\n",
              "  </thead>\n",
              "  <tbody>\n",
              "    <tr>\n",
              "      <th>0</th>\n",
              "      <td>fa</td>\n",
              "      <td>[درس, جواب, ندادن, جفا, حق, مسلمینه]</td>\n",
              "      <td>مذهبی</td>\n",
              "      <td>6</td>\n",
              "    </tr>\n",
              "    <tr>\n",
              "      <th>1</th>\n",
              "      <td>fa</td>\n",
              "      <td>[حکم, توانا, گناه, عصم, نهج, البلاغه]</td>\n",
              "      <td>مذهبی</td>\n",
              "      <td>6</td>\n",
              "    </tr>\n",
              "    <tr>\n",
              "      <th>2</th>\n",
              "      <td>fa</td>\n",
              "      <td>[جنب, تعهد, اسرایل, جول, اشغال, خارج]</td>\n",
              "      <td>اخبارجهان</td>\n",
              "      <td>6</td>\n",
              "    </tr>\n",
              "    <tr>\n",
              "      <th>3</th>\n",
              "      <td>fa</td>\n",
              "      <td>[کن, روز, دوبار, تکرار, نخود, خوبه]</td>\n",
              "      <td>هنری</td>\n",
              "      <td>6</td>\n",
              "    </tr>\n",
              "    <tr>\n",
              "      <th>4</th>\n",
              "      <td>fa</td>\n",
              "      <td>[رونما, موشک, بالستیک, قاره, کره, شمال]</td>\n",
              "      <td>اخبارجهان</td>\n",
              "      <td>6</td>\n",
              "    </tr>\n",
              "    <tr>\n",
              "      <th>...</th>\n",
              "      <td>...</td>\n",
              "      <td>...</td>\n",
              "      <td>...</td>\n",
              "      <td>...</td>\n",
              "    </tr>\n",
              "    <tr>\n",
              "      <th>207713</th>\n",
              "      <td>fa</td>\n",
              "      <td>[کیف, عن, حبگ, اتوب, ولک, تودین, الدروب, غیرک,...</td>\n",
              "      <td>اقوام</td>\n",
              "      <td>49</td>\n",
              "    </tr>\n",
              "    <tr>\n",
              "      <th>207714</th>\n",
              "      <td>fa</td>\n",
              "      <td>[کیف, عن, حبگ, اتوب, ولک, تودین, الدروب, غیرک,...</td>\n",
              "      <td>اقوام</td>\n",
              "      <td>49</td>\n",
              "    </tr>\n",
              "    <tr>\n",
              "      <th>207715</th>\n",
              "      <td>fa</td>\n",
              "      <td>[کیف, عن, حبگ, اتوب, ولک, تودین, الدروب, غیرک,...</td>\n",
              "      <td>اقوام</td>\n",
              "      <td>49</td>\n",
              "    </tr>\n",
              "    <tr>\n",
              "      <th>207716</th>\n",
              "      <td>fa</td>\n",
              "      <td>[کا, هیشک, مریض, نشه, کا, هیشک, مریض, نشه, کا,...</td>\n",
              "      <td>اقوام</td>\n",
              "      <td>56</td>\n",
              "    </tr>\n",
              "    <tr>\n",
              "      <th>207717</th>\n",
              "      <td>fa</td>\n",
              "      <td>[برو, برو, برو, برو, برو, برو, برو, برو, برو, ...</td>\n",
              "      <td>اقوام</td>\n",
              "      <td>60</td>\n",
              "    </tr>\n",
              "  </tbody>\n",
              "</table>\n",
              "<p>207718 rows × 4 columns</p>\n",
              "</div>"
            ],
            "text/plain": [
              "       lang  ... words_num\n",
              "0        fa  ...         6\n",
              "1        fa  ...         6\n",
              "2        fa  ...         6\n",
              "3        fa  ...         6\n",
              "4        fa  ...         6\n",
              "...     ...  ...       ...\n",
              "207713   fa  ...        49\n",
              "207714   fa  ...        49\n",
              "207715   fa  ...        49\n",
              "207716   fa  ...        56\n",
              "207717   fa  ...        60\n",
              "\n",
              "[207718 rows x 4 columns]"
            ]
          },
          "metadata": {
            "tags": []
          },
          "execution_count": 73
        }
      ]
    },
    {
      "cell_type": "code",
      "metadata": {
        "colab": {
          "base_uri": "https://localhost:8080/"
        },
        "id": "hIRQ3qNEhSuL",
        "outputId": "5cdb1cb7-34f9-412b-8937-c67cb1bbd1de"
      },
      "source": [
        "tages"
      ],
      "execution_count": 74,
      "outputs": [
        {
          "output_type": "execute_result",
          "data": {
            "text/plain": [
              "[\"['اقوام']\",\n",
              " \"['اجتماعی']\",\n",
              " \"['مذهبی']\",\n",
              " \"['سیاسی']\",\n",
              " \"['فناوری']\",\n",
              " \"['اقتصادی']\",\n",
              " \"['علمی_فرهنگی']\",\n",
              " \"['متفرقه']\",\n",
              " \"['هنری']\",\n",
              " \"['زنان']\",\n",
              " \"['فراخوان و تجمعات']\",\n",
              " \"['ورزشی']\",\n",
              " \"['اخبارجهان']\"]"
            ]
          },
          "metadata": {
            "tags": []
          },
          "execution_count": 74
        }
      ]
    },
    {
      "cell_type": "code",
      "metadata": {
        "id": "Ls-6v3UfPtD1"
      },
      "source": [
        "fa_data_1 = fa_data[fa_data.target == 'فناوری']\n",
        "fa_data_2 = fa_data[fa_data.target == 'سیاسی']\n",
        "fa_data_3 = fa_data[fa_data.target == 'متفرقه']\n",
        "fa_data_4 = fa_data[fa_data.target == 'اقوام']\n",
        "fa_data_5 = fa_data[fa_data.target == 'زنان']\n",
        "fa_data_6 = fa_data[fa_data.target == 'علمی_فرهنگی']\n",
        "fa_data_7 = fa_data[fa_data.target == 'اجتماعی']\n",
        "fa_data_8 = fa_data[fa_data.target == 'فراخوان و تجمعات']\n",
        "fa_data_9 = fa_data[fa_data.target == 'مذهبی']\n",
        "fa_data_10 = fa_data[fa_data.target == 'هنری']\n",
        "fa_data_11 = fa_data[fa_data.target == 'اخبارجهان']\n",
        "fa_data_12 = fa_data[fa_data.target == 'ورزشی']\n",
        "fa_data_13 = fa_data[fa_data.target == 'اقتصادی']"
      ],
      "execution_count": 76,
      "outputs": []
    },
    {
      "cell_type": "code",
      "metadata": {
        "id": "Kxl8AmUGt1fi",
        "outputId": "9a41b3f6-ff2b-4c51-c2d4-2fa949457a86",
        "colab": {
          "base_uri": "https://localhost:8080/",
          "height": 424
        }
      },
      "source": [
        "fa_data_11"
      ],
      "execution_count": 77,
      "outputs": [
        {
          "output_type": "execute_result",
          "data": {
            "text/html": [
              "<div>\n",
              "<style scoped>\n",
              "    .dataframe tbody tr th:only-of-type {\n",
              "        vertical-align: middle;\n",
              "    }\n",
              "\n",
              "    .dataframe tbody tr th {\n",
              "        vertical-align: top;\n",
              "    }\n",
              "\n",
              "    .dataframe thead th {\n",
              "        text-align: right;\n",
              "    }\n",
              "</style>\n",
              "<table border=\"1\" class=\"dataframe\">\n",
              "  <thead>\n",
              "    <tr style=\"text-align: right;\">\n",
              "      <th></th>\n",
              "      <th>lang</th>\n",
              "      <th>text</th>\n",
              "      <th>target</th>\n",
              "      <th>words_num</th>\n",
              "    </tr>\n",
              "  </thead>\n",
              "  <tbody>\n",
              "    <tr>\n",
              "      <th>2</th>\n",
              "      <td>fa</td>\n",
              "      <td>[جنب, تعهد, اسرایل, جول, اشغال, خارج]</td>\n",
              "      <td>اخبارجهان</td>\n",
              "      <td>6</td>\n",
              "    </tr>\n",
              "    <tr>\n",
              "      <th>4</th>\n",
              "      <td>fa</td>\n",
              "      <td>[رونما, موشک, بالستیک, قاره, کره, شمال]</td>\n",
              "      <td>اخبارجهان</td>\n",
              "      <td>6</td>\n",
              "    </tr>\n",
              "    <tr>\n",
              "      <th>16</th>\n",
              "      <td>fa</td>\n",
              "      <td>[مهر, روز, جهان, مبارزه, حک, اعدا]</td>\n",
              "      <td>اخبارجهان</td>\n",
              "      <td>6</td>\n",
              "    </tr>\n",
              "    <tr>\n",
              "      <th>34</th>\n",
              "      <td>fa</td>\n",
              "      <td>[رضا, چین, توسعه, روابط, کره, شمال]</td>\n",
              "      <td>اخبارجهان</td>\n",
              "      <td>6</td>\n",
              "    </tr>\n",
              "    <tr>\n",
              "      <th>50</th>\n",
              "      <td>fa</td>\n",
              "      <td>[خب, جلسه, دول, هفته, تعویق, افتاد]</td>\n",
              "      <td>اخبارجهان</td>\n",
              "      <td>6</td>\n",
              "    </tr>\n",
              "    <tr>\n",
              "      <th>...</th>\n",
              "      <td>...</td>\n",
              "      <td>...</td>\n",
              "      <td>...</td>\n",
              "      <td>...</td>\n",
              "    </tr>\n",
              "    <tr>\n",
              "      <th>206939</th>\n",
              "      <td>fa</td>\n",
              "      <td>[تد, کروز, اوباما, اله, , سیس, مال, جه, وصل, پ...</td>\n",
              "      <td>اخبارجهان</td>\n",
              "      <td>39</td>\n",
              "    </tr>\n",
              "    <tr>\n",
              "      <th>207047</th>\n",
              "      <td>fa</td>\n",
              "      <td>[یه, خبر, خوند, منبع, زد, نوشته, پا, طالب, گلب...</td>\n",
              "      <td>اخبارجهان</td>\n",
              "      <td>39</td>\n",
              "    </tr>\n",
              "    <tr>\n",
              "      <th>207138</th>\n",
              "      <td>fa</td>\n",
              "      <td>[تد, کروز, اوباما, اله, , سیس, مال, جه, وصل, پ...</td>\n",
              "      <td>اخبارجهان</td>\n",
              "      <td>39</td>\n",
              "    </tr>\n",
              "    <tr>\n",
              "      <th>207248</th>\n",
              "      <td>fa</td>\n",
              "      <td>[جشن, هفتاد, پنجمین, سالروز, تاسیس, حزب, کارگر...</td>\n",
              "      <td>اخبارجهان</td>\n",
              "      <td>40</td>\n",
              "    </tr>\n",
              "    <tr>\n",
              "      <th>207340</th>\n",
              "      <td>fa</td>\n",
              "      <td>[دادس, نظا, ماجرا, شلیک, ناوچه, کنارک, مقصر, ا...</td>\n",
              "      <td>اخبارجهان</td>\n",
              "      <td>40</td>\n",
              "    </tr>\n",
              "  </tbody>\n",
              "</table>\n",
              "<p>4668 rows × 4 columns</p>\n",
              "</div>"
            ],
            "text/plain": [
              "       lang  ... words_num\n",
              "2        fa  ...         6\n",
              "4        fa  ...         6\n",
              "16       fa  ...         6\n",
              "34       fa  ...         6\n",
              "50       fa  ...         6\n",
              "...     ...  ...       ...\n",
              "206939   fa  ...        39\n",
              "207047   fa  ...        39\n",
              "207138   fa  ...        39\n",
              "207248   fa  ...        40\n",
              "207340   fa  ...        40\n",
              "\n",
              "[4668 rows x 4 columns]"
            ]
          },
          "metadata": {
            "tags": []
          },
          "execution_count": 77
        }
      ]
    },
    {
      "cell_type": "code",
      "metadata": {
        "id": "WTAH1t1EnjYv"
      },
      "source": [
        "fa_data_1.reset_index(drop=True, inplace=True)\n",
        "fa_data_2.reset_index(drop=True, inplace=True)\n",
        "fa_data_3.reset_index(drop=True, inplace=True)\n",
        "fa_data_4.reset_index(drop=True, inplace=True)\n",
        "fa_data_5.reset_index(drop=True, inplace=True)\n",
        "fa_data_6.reset_index(drop=True, inplace=True)\n",
        "fa_data_7.reset_index(drop=True, inplace=True)\n",
        "fa_data_8.reset_index(drop=True, inplace=True)\n",
        "fa_data_9.reset_index(drop=True, inplace=True)\n",
        "fa_data_10.reset_index(drop=True, inplace=True)\n",
        "fa_data_11.reset_index(drop=True, inplace=True)\n",
        "fa_data_12.reset_index(drop=True, inplace=True)\n",
        "fa_data_13.reset_index(drop=True, inplace=True)"
      ],
      "execution_count": 78,
      "outputs": []
    },
    {
      "cell_type": "code",
      "metadata": {
        "id": "CBkDzg2Dw4fh",
        "outputId": "43a64c75-b114-4635-a66d-13e6a2a12ade",
        "colab": {
          "base_uri": "https://localhost:8080/",
          "height": 424
        }
      },
      "source": [
        "fa_data_11"
      ],
      "execution_count": 79,
      "outputs": [
        {
          "output_type": "execute_result",
          "data": {
            "text/html": [
              "<div>\n",
              "<style scoped>\n",
              "    .dataframe tbody tr th:only-of-type {\n",
              "        vertical-align: middle;\n",
              "    }\n",
              "\n",
              "    .dataframe tbody tr th {\n",
              "        vertical-align: top;\n",
              "    }\n",
              "\n",
              "    .dataframe thead th {\n",
              "        text-align: right;\n",
              "    }\n",
              "</style>\n",
              "<table border=\"1\" class=\"dataframe\">\n",
              "  <thead>\n",
              "    <tr style=\"text-align: right;\">\n",
              "      <th></th>\n",
              "      <th>lang</th>\n",
              "      <th>text</th>\n",
              "      <th>target</th>\n",
              "      <th>words_num</th>\n",
              "    </tr>\n",
              "  </thead>\n",
              "  <tbody>\n",
              "    <tr>\n",
              "      <th>0</th>\n",
              "      <td>fa</td>\n",
              "      <td>[جنب, تعهد, اسرایل, جول, اشغال, خارج]</td>\n",
              "      <td>اخبارجهان</td>\n",
              "      <td>6</td>\n",
              "    </tr>\n",
              "    <tr>\n",
              "      <th>1</th>\n",
              "      <td>fa</td>\n",
              "      <td>[رونما, موشک, بالستیک, قاره, کره, شمال]</td>\n",
              "      <td>اخبارجهان</td>\n",
              "      <td>6</td>\n",
              "    </tr>\n",
              "    <tr>\n",
              "      <th>2</th>\n",
              "      <td>fa</td>\n",
              "      <td>[مهر, روز, جهان, مبارزه, حک, اعدا]</td>\n",
              "      <td>اخبارجهان</td>\n",
              "      <td>6</td>\n",
              "    </tr>\n",
              "    <tr>\n",
              "      <th>3</th>\n",
              "      <td>fa</td>\n",
              "      <td>[رضا, چین, توسعه, روابط, کره, شمال]</td>\n",
              "      <td>اخبارجهان</td>\n",
              "      <td>6</td>\n",
              "    </tr>\n",
              "    <tr>\n",
              "      <th>4</th>\n",
              "      <td>fa</td>\n",
              "      <td>[خب, جلسه, دول, هفته, تعویق, افتاد]</td>\n",
              "      <td>اخبارجهان</td>\n",
              "      <td>6</td>\n",
              "    </tr>\n",
              "    <tr>\n",
              "      <th>...</th>\n",
              "      <td>...</td>\n",
              "      <td>...</td>\n",
              "      <td>...</td>\n",
              "      <td>...</td>\n",
              "    </tr>\n",
              "    <tr>\n",
              "      <th>4663</th>\n",
              "      <td>fa</td>\n",
              "      <td>[تد, کروز, اوباما, اله, , سیس, مال, جه, وصل, پ...</td>\n",
              "      <td>اخبارجهان</td>\n",
              "      <td>39</td>\n",
              "    </tr>\n",
              "    <tr>\n",
              "      <th>4664</th>\n",
              "      <td>fa</td>\n",
              "      <td>[یه, خبر, خوند, منبع, زد, نوشته, پا, طالب, گلب...</td>\n",
              "      <td>اخبارجهان</td>\n",
              "      <td>39</td>\n",
              "    </tr>\n",
              "    <tr>\n",
              "      <th>4665</th>\n",
              "      <td>fa</td>\n",
              "      <td>[تد, کروز, اوباما, اله, , سیس, مال, جه, وصل, پ...</td>\n",
              "      <td>اخبارجهان</td>\n",
              "      <td>39</td>\n",
              "    </tr>\n",
              "    <tr>\n",
              "      <th>4666</th>\n",
              "      <td>fa</td>\n",
              "      <td>[جشن, هفتاد, پنجمین, سالروز, تاسیس, حزب, کارگر...</td>\n",
              "      <td>اخبارجهان</td>\n",
              "      <td>40</td>\n",
              "    </tr>\n",
              "    <tr>\n",
              "      <th>4667</th>\n",
              "      <td>fa</td>\n",
              "      <td>[دادس, نظا, ماجرا, شلیک, ناوچه, کنارک, مقصر, ا...</td>\n",
              "      <td>اخبارجهان</td>\n",
              "      <td>40</td>\n",
              "    </tr>\n",
              "  </tbody>\n",
              "</table>\n",
              "<p>4668 rows × 4 columns</p>\n",
              "</div>"
            ],
            "text/plain": [
              "     lang  ... words_num\n",
              "0      fa  ...         6\n",
              "1      fa  ...         6\n",
              "2      fa  ...         6\n",
              "3      fa  ...         6\n",
              "4      fa  ...         6\n",
              "...   ...  ...       ...\n",
              "4663   fa  ...        39\n",
              "4664   fa  ...        39\n",
              "4665   fa  ...        39\n",
              "4666   fa  ...        40\n",
              "4667   fa  ...        40\n",
              "\n",
              "[4668 rows x 4 columns]"
            ]
          },
          "metadata": {
            "tags": []
          },
          "execution_count": 79
        }
      ]
    },
    {
      "cell_type": "code",
      "metadata": {
        "id": "HOWurV5GpDQf"
      },
      "source": [
        "fa_data_4 = fa_data_4[-8000:]\n",
        "fa_data_7 = fa_data_7[-8000:]\n",
        "fa_data_8 = fa_data_8[-8000:]\n",
        "fa_data_9 = fa_data_9[-8000:]\n",
        "fa_data_10 = fa_data_10[-8000:]\n",
        "\n",
        "fa_data_4.reset_index(drop=True, inplace=True)\n",
        "fa_data_7.reset_index(drop=True, inplace=True)\n",
        "fa_data_8.reset_index(drop=True, inplace=True)\n",
        "fa_data_9.reset_index(drop=True, inplace=True)\n",
        "fa_data_10.reset_index(drop=True, inplace=True)"
      ],
      "execution_count": 87,
      "outputs": []
    },
    {
      "cell_type": "code",
      "metadata": {
        "id": "XG3ckK8wo80u"
      },
      "source": [
        "frames = [fa_data_1,fa_data_2,fa_data_3,fa_data_4,fa_data_5,fa_data_6,fa_data_7,fa_data_8,fa_data_9,fa_data_10,fa_data_11,fa_data_12,fa_data_13]\n",
        "fa_data = pd.concat(frames)\n",
        "\n",
        "# shuffle\n",
        "fa_data  = fa_data.sample(frac = 1)\n",
        "fa_data.reset_index(drop=True, inplace=True)"
      ],
      "execution_count": 88,
      "outputs": []
    },
    {
      "cell_type": "code",
      "metadata": {
        "colab": {
          "base_uri": "https://localhost:8080/",
          "height": 550
        },
        "id": "dRIJvHi-YCUP",
        "outputId": "4677c332-8eb0-402c-e9a8-c287f018304c"
      },
      "source": [
        "class_count = fa_data['target'].value_counts()\n",
        "plt.figure(figsize = (23, 8))\n",
        "plt.bar(x = class_count.keys(), \n",
        "        height = class_count.values)\n",
        "plt.xlabel(\"Target\")\n",
        "plt.ylabel(\"Tweet count\")\n",
        "plt.title(\"Count of tweets for each topic\")\n",
        "plt.legend()"
      ],
      "execution_count": 89,
      "outputs": [
        {
          "output_type": "stream",
          "text": [
            "No handles with labels found to put in legend.\n"
          ],
          "name": "stderr"
        },
        {
          "output_type": "execute_result",
          "data": {
            "text/plain": [
              "<matplotlib.legend.Legend at 0x7faf1d6ddb70>"
            ]
          },
          "metadata": {
            "tags": []
          },
          "execution_count": 89
        },
        {
          "output_type": "display_data",
          "data": {
            "image/png": "[encoded data removed]",
            "text/plain": [
              "<Figure size 1656x576 with 1 Axes>"
            ]
          },
          "metadata": {
            "tags": [],
            "needs_background": "light"
          }
        }
      ]
    },
    {
      "cell_type": "code",
      "metadata": {
        "id": "-4a91vD4xlRx",
        "outputId": "1ba442db-f82c-4a86-e7ca-f7ac162155e9",
        "colab": {
          "base_uri": "https://localhost:8080/"
        }
      },
      "source": [
        "fa_data.shape"
      ],
      "execution_count": 90,
      "outputs": [
        {
          "output_type": "execute_result",
          "data": {
            "text/plain": [
              "(77772, 4)"
            ]
          },
          "metadata": {
            "tags": []
          },
          "execution_count": 90
        }
      ]
    },
    {
      "cell_type": "markdown",
      "metadata": {
        "id": "D3xb5ocAMNXh"
      },
      "source": [
        "#prepare test and train sets"
      ]
    },
    {
      "cell_type": "markdown",
      "metadata": {
        "id": "06qTnNucYLHQ"
      },
      "source": [
        "devide farsi test and train\n"
      ]
    },
    {
      "cell_type": "code",
      "metadata": {
        "id": "PJYhYbI8U8ZQ"
      },
      "source": [
        "total_len = fa_data.shape[0]\n",
        "\n",
        "train_len = 70*total_len//100\n",
        "train_fa_data = fa_data.iloc[:train_len, :]\n",
        "test_fa_data = fa_data.iloc[train_len:, :]"
      ],
      "execution_count": 91,
      "outputs": []
    },
    {
      "cell_type": "code",
      "metadata": {
        "id": "Y0Qt-srD1LZy"
      },
      "source": [
        "# # dev data\n",
        "# total_len = test_fa_data.shape[0]\n",
        "# dev_len = 50*total_len//100\n",
        "# dev_fa_data = test_fa_data.iloc[:dev_len, :]\n",
        "# test_fa_data = test_fa_data.iloc[dev_len:, :]"
      ],
      "execution_count": 32,
      "outputs": []
    },
    {
      "cell_type": "markdown",
      "metadata": {
        "id": "Hxt1nMrQpJjP"
      },
      "source": [
        "devide english test and train"
      ]
    },
    {
      "cell_type": "code",
      "metadata": {
        "id": "GuqTyZHrY0O9"
      },
      "source": [
        "total_len = en_data.shape[0]\n",
        "\n",
        "train_len = 70*total_len//100\n",
        "train_en_data = en_data.iloc[:train_len, :]\n",
        "test_en_data = en_data.iloc[train_len:, :]"
      ],
      "execution_count": null,
      "outputs": []
    },
    {
      "cell_type": "code",
      "metadata": {
        "id": "G1BFRYrd1sjL"
      },
      "source": [
        "# # dev data\n",
        "# total_len = test_en_data.shape[0]\n",
        "# dev_len = 50*total_len//100\n",
        "# dev_en_data = test_en_data.iloc[:dev_len, :]\n",
        "# test_en_data = test_en_data.iloc[dev_len:, :]"
      ],
      "execution_count": null,
      "outputs": []
    },
    {
      "cell_type": "markdown",
      "metadata": {
        "id": "dnfGh6ZtZGr9"
      },
      "source": [
        "merge farsi and english data"
      ]
    },
    {
      "cell_type": "code",
      "metadata": {
        "id": "Qlh4HerSZKUj"
      },
      "source": [
        "frames = [train_en_data, train_fa_data]\n",
        "train_bilang_data = pd.concat(frames)\n",
        "\n",
        "frames = [test_en_data, test_fa_data]\n",
        "test_bilang_data = pd.concat(frames)\n",
        "\n",
        "# frames = [dev_en_data, dev_fa_data]\n",
        "# dev_bilang_data = pd.concat(frames)\n",
        "\n",
        "# shuffle\n",
        "train_bilang_data  = train_bilang_data .sample(frac = 1)\n",
        "train_bilang_data .reset_index(drop=True, inplace=True)\n",
        "\n",
        "test_bilang_data  = test_bilang_data .sample(frac = 1)\n",
        "test_bilang_data .reset_index(drop=True, inplace=True)\n",
        "\n",
        "# dev_bilang_data  = dev_bilang_data .sample(frac = 1)\n",
        "# dev_bilang_data .reset_index(drop=True, inplace=True)"
      ],
      "execution_count": null,
      "outputs": []
    },
    {
      "cell_type": "markdown",
      "metadata": {
        "id": "Qua4R5DXLGrJ"
      },
      "source": [
        "#Vectorizer"
      ]
    },
    {
      "cell_type": "markdown",
      "metadata": {
        "id": "Oiar7-6EYPUG"
      },
      "source": [
        "devide farsi X and y"
      ]
    },
    {
      "cell_type": "code",
      "metadata": {
        "id": "FCn5nbT3YSFK"
      },
      "source": [
        "X_fa_train = train_fa_data.text.apply(lambda x: np.str_(x))\n",
        "y_fa_train = train_fa_data.target\n",
        "\n",
        "X_fa_test = test_fa_data.text.apply(lambda x: np.str_(x))\n",
        "y_fa_test = test_fa_data.target\n",
        "\n",
        "# X_fa_dev = dev_fa_data.text.apply(lambda x: np.str_(x))\n",
        "# y_fa_dev = dev_fa_data.target"
      ],
      "execution_count": 92,
      "outputs": []
    },
    {
      "cell_type": "markdown",
      "metadata": {
        "id": "Jz-j3gpBp5kU"
      },
      "source": [
        "devide english X and y"
      ]
    },
    {
      "cell_type": "code",
      "metadata": {
        "id": "DwnsrX0EppN9"
      },
      "source": [
        "X_en_train = train_en_data.text.apply(lambda x: np.str_(x))\n",
        "y_en_train = train_en_data.target\n",
        "\n",
        "X_en_test = test_en_data.text.apply(lambda x: np.str_(x))\n",
        "y_en_test = test_en_data.target\n",
        "\n",
        "# X_en_dev = dev_en_data.text.apply(lambda x: np.str_(x))\n",
        "# y_en_dev = dev_en_data.target"
      ],
      "execution_count": null,
      "outputs": []
    },
    {
      "cell_type": "markdown",
      "metadata": {
        "id": "5JhTuBNKp8dG"
      },
      "source": [
        "devide farsi and english X and y"
      ]
    },
    {
      "cell_type": "code",
      "metadata": {
        "id": "5FFBR4iRppoh"
      },
      "source": [
        "X_bilang_train = train_bilang_data.text.apply(lambda x: np.str_(x))\n",
        "y_bilang_train = train_bilang_data.target\n",
        "\n",
        "X_bilang_test = test_bilang_data.text.apply(lambda x: np.str_(x))\n",
        "y_bilang_test = test_bilang_data.target\n",
        "\n",
        "# X_bilang_dev = dev_bilang_data.text.apply(lambda x: np.str_(x))\n",
        "# y_bilang_dev = dev_bilang_data.target"
      ],
      "execution_count": null,
      "outputs": []
    },
    {
      "cell_type": "markdown",
      "metadata": {
        "id": "Ze44U8mxacjw"
      },
      "source": [
        "TF IDF"
      ]
    },
    {
      "cell_type": "markdown",
      "metadata": {
        "id": "oloX7QFzqcg0"
      },
      "source": [
        "farsi"
      ]
    },
    {
      "cell_type": "code",
      "metadata": {
        "id": "SL050ZAVLMu5"
      },
      "source": [
        "tfidfVectorizer = TfidfVectorizer(min_df = 5, max_features = 1000)\n",
        "tfidfVectorizer.fit(X_fa_train)\n",
        "X_train_fa_vector = tfidfVectorizer.transform(X_fa_train)\n",
        "X_test_fa_vector = tfidfVectorizer.transform(X_fa_test)\n",
        "# X_dev_fa_vector = tfidfVectorizer.transform(X_fa_dev)\n",
        "\n",
        "# save\n",
        "filename = 'tfidf_fa.sav'\n",
        "pickle.dump(tfidfVectorizer, open(filename, 'wb'))"
      ],
      "execution_count": 93,
      "outputs": []
    },
    {
      "cell_type": "markdown",
      "metadata": {
        "id": "YaOU6-MRqdgC"
      },
      "source": [
        "english"
      ]
    },
    {
      "cell_type": "code",
      "metadata": {
        "id": "yp498rsQBoK8"
      },
      "source": [
        "tfidfVectorizer.fit(X_en_train)\n",
        "X_train_en_vector = tfidfVectorizer.transform(X_en_train)\n",
        "X_test_en_vector = tfidfVectorizer.transform(X_en_test)\n",
        "# X_dev_en_vector = tfidfVectorizer.transform(X_en_dev)\n",
        "\n",
        "# save\n",
        "filename = 'tfidf_en.sav'\n",
        "pickle.dump(tfidfVectorizer, open(filename, 'wb'))"
      ],
      "execution_count": null,
      "outputs": []
    },
    {
      "cell_type": "markdown",
      "metadata": {
        "id": "V7At7ZrtqfFz"
      },
      "source": [
        "farsi and english"
      ]
    },
    {
      "cell_type": "code",
      "metadata": {
        "id": "aONlkxJdqjF3"
      },
      "source": [
        "tfidfVectorizer.fit(X_bilang_train)\n",
        "X_train_bilang_vector = tfidfVectorizer.transform(X_bilang_train)\n",
        "X_test_bilang_vector = tfidfVectorizer.transform(X_bilang_test)\n",
        "# X_dev_bilang_vector = tfidfVectorizer.transform(X_bilang_dev)\n",
        "\n",
        "# save\n",
        "filename = 'tfidf_bilang.sav'\n",
        "pickle.dump(tfidfVectorizer, open(filename, 'wb'))"
      ],
      "execution_count": null,
      "outputs": []
    },
    {
      "cell_type": "markdown",
      "metadata": {
        "id": "q6ikIUfSHo8V"
      },
      "source": [
        "#NB"
      ]
    },
    {
      "cell_type": "markdown",
      "metadata": {
        "id": "3vTFZu98Nr3F"
      },
      "source": [
        "farsi"
      ]
    },
    {
      "cell_type": "code",
      "metadata": {
        "colab": {
          "base_uri": "https://localhost:8080/"
        },
        "id": "imCT2WB3HnzB",
        "outputId": "fdb252c6-ba3c-422f-8e97-87ecd3e5df5d"
      },
      "source": [
        "from sklearn.naive_bayes import MultinomialNB\n",
        "\n",
        "nb_model = MultinomialNB()\n",
        "nb_model.fit(X_train_fa_vector, y_fa_train)\n",
        "prediction_fa = nb_model.predict(X_test_fa_vector)\n",
        "print(classification_report(y_fa_test, prediction_fa))"
      ],
      "execution_count": 95,
      "outputs": [
        {
          "output_type": "stream",
          "text": [
            "                  precision    recall  f1-score   support\n",
            "\n",
            "         اجتماعی       0.50      0.50      0.50      2433\n",
            "       اخبارجهان       0.59      0.60      0.60      1359\n",
            "         اقتصادی       0.70      0.67      0.68      1382\n",
            "           اقوام       0.45      0.42      0.44      2394\n",
            "            زنان       0.35      0.07      0.11       502\n",
            "           سیاسی       0.54      0.61      0.57      2317\n",
            "     علمی_فرهنگی       0.62      0.25      0.35      1215\n",
            "فراخوان و تجمعات       0.53      0.49      0.51      2429\n",
            "          فناوری       0.51      0.25      0.33       881\n",
            "          متفرقه       0.51      0.43      0.47      2369\n",
            "           مذهبی       0.34      0.56      0.43      2418\n",
            "            هنری       0.54      0.70      0.61      2474\n",
            "           ورزشی       0.61      0.51      0.56      1159\n",
            "\n",
            "        accuracy                           0.51     23332\n",
            "       macro avg       0.52      0.47      0.47     23332\n",
            "    weighted avg       0.52      0.51      0.50     23332\n",
            "\n"
          ],
          "name": "stdout"
        }
      ]
    },
    {
      "cell_type": "code",
      "metadata": {
        "id": "kPVNRsdxN5YA"
      },
      "source": [
        "filename = 'nb_fa.sav'\n",
        "pickle.dump(nb_model, open(filename, 'wb'))"
      ],
      "execution_count": 35,
      "outputs": []
    },
    {
      "cell_type": "markdown",
      "metadata": {
        "id": "XzPO5RDTNtWu"
      },
      "source": [
        "english"
      ]
    },
    {
      "cell_type": "code",
      "metadata": {
        "colab": {
          "base_uri": "https://localhost:8080/"
        },
        "id": "iJ4bucLCNwcE",
        "outputId": "dc88b552-e1d2-4f5f-c654-2b3cf8ac9e12"
      },
      "source": [
        "nb_model.fit(X_train_en_vector, y_en_train)\n",
        "prediction_en = nb_model.predict(X_test_en_vector)\n",
        "print(classification_report(y_en_test, prediction_en))"
      ],
      "execution_count": null,
      "outputs": [
        {
          "output_type": "stream",
          "text": [
            "/usr/local/lib/python3.6/dist-packages/sklearn/metrics/_classification.py:1272: UndefinedMetricWarning: Precision and F-score are ill-defined and being set to 0.0 in labels with no predicted samples. Use `zero_division` parameter to control this behavior.\n",
            "  _warn_prf(average, modifier, msg_start, len(result))\n"
          ],
          "name": "stderr"
        },
        {
          "output_type": "stream",
          "text": [
            "                      precision    recall  f1-score   support\n",
            "\n",
            "         ['اجتماعی']       0.00      0.00      0.00        80\n",
            "       ['اخبارجهان']       0.00      0.00      0.00        76\n",
            "         ['اقتصادی']       0.00      0.00      0.00        39\n",
            "           ['اقوام']       0.75      0.00      0.00      3052\n",
            "            ['زنان']       0.00      0.00      0.00       189\n",
            "           ['سیاسی']       0.00      0.00      0.00        79\n",
            "     ['علمی_فرهنگی']       0.00      0.00      0.00        53\n",
            "['فراخوان و تجمعات']       0.67      0.05      0.10       427\n",
            "          ['فناوری']       0.00      0.00      0.00        32\n",
            "          ['متفرقه']       0.94      1.00      0.97     80780\n",
            "           ['مذهبی']       1.00      0.03      0.05       620\n",
            "            ['هنری']       0.00      0.00      0.00       276\n",
            "           ['ورزشی']       0.00      0.00      0.00       117\n",
            "\n",
            "            accuracy                           0.94     85820\n",
            "           macro avg       0.26      0.08      0.09     85820\n",
            "        weighted avg       0.92      0.94      0.91     85820\n",
            "\n"
          ],
          "name": "stdout"
        }
      ]
    },
    {
      "cell_type": "code",
      "metadata": {
        "id": "bZQnT4BYOC8t"
      },
      "source": [
        "filename = 'nb_en.sav'\n",
        "pickle.dump(nb_model, open(filename, 'wb'))"
      ],
      "execution_count": null,
      "outputs": []
    },
    {
      "cell_type": "markdown",
      "metadata": {
        "id": "O0QOZlOXOcTH"
      },
      "source": [
        "farsi and english"
      ]
    },
    {
      "cell_type": "code",
      "metadata": {
        "colab": {
          "base_uri": "https://localhost:8080/"
        },
        "id": "-dK7MvlWOcTJ",
        "outputId": "58d1aa5e-a8bc-4cf1-ba86-d61685963f6f"
      },
      "source": [
        "nb_model.fit(X_train_bilang_vector, y_bilang_train)\n",
        "prediction_bilang = nb_model.predict(X_test_bilang_vector)\n",
        "print(classification_report(y_bilang_test, prediction_bilang))"
      ],
      "execution_count": null,
      "outputs": [
        {
          "output_type": "stream",
          "text": [
            "                      precision    recall  f1-score   support\n",
            "\n",
            "         ['اجتماعی']       0.44      0.14      0.22      6204\n",
            "       ['اخبارجهان']       0.49      0.23      0.32      2040\n",
            "         ['اقتصادی']       0.74      0.33      0.46      2108\n",
            "           ['اقوام']       0.34      0.43      0.38     25171\n",
            "            ['زنان']       0.52      0.03      0.05      2350\n",
            "           ['سیاسی']       0.52      0.27      0.36      3442\n",
            "     ['علمی_فرهنگی']       0.66      0.08      0.15      2146\n",
            "['فراخوان و تجمعات']       0.53      0.39      0.45     16799\n",
            "          ['فناوری']       0.53      0.01      0.01      1718\n",
            "          ['متفرقه']       0.86      0.96      0.91     85258\n",
            "           ['مذهبی']       0.41      0.51      0.45     21139\n",
            "            ['هنری']       0.54      0.49      0.51     16019\n",
            "           ['ورزشی']       0.55      0.14      0.23      2558\n",
            "\n",
            "            accuracy                           0.65    186952\n",
            "           macro avg       0.55      0.31      0.34    186952\n",
            "        weighted avg       0.64      0.65      0.63    186952\n",
            "\n"
          ],
          "name": "stdout"
        }
      ]
    },
    {
      "cell_type": "code",
      "metadata": {
        "id": "fmJyZlxjOcTL"
      },
      "source": [
        "filename = 'nb_bilang.sav'\n",
        "pickle.dump(nb_model, open(filename, 'wb'))"
      ],
      "execution_count": null,
      "outputs": []
    },
    {
      "cell_type": "markdown",
      "metadata": {
        "id": "1UzBOGlVGk3m"
      },
      "source": [
        "#RF"
      ]
    },
    {
      "cell_type": "markdown",
      "metadata": {
        "id": "hcillGng0j57"
      },
      "source": [
        "##tune"
      ]
    },
    {
      "cell_type": "code",
      "metadata": {
        "id": "BfrH5vIeH7v_"
      },
      "source": [
        "parameters = {#'n_estimators': (10, 30, 50, 70, 90),\n",
        "              #'criterion': ('gini', 'entropy'),\n",
        "              'max_depth': (200, 250, 300),\n",
        "              #'max_features': ('auto', 'sqrt'),\n",
        "              #'min_samples_split': (2, 3),\n",
        "              'min_samples_leaf': (15, 20),\n",
        "              # 'bootstrap' : (True, False),\n",
        "              #'min_weight_fraction_leaf': (0.0, 0.1, 0.2, 0.3, 0.4)    \n",
        "}"
      ],
      "execution_count": null,
      "outputs": []
    },
    {
      "cell_type": "code",
      "metadata": {
        "id": "kAiNR9u8H7wD"
      },
      "source": [
        "rf_grid = GridSearchCV(RandomForestClassifier(n_jobs = -1, oob_score = False), param_grid = parameters, cv = 3, verbose = True)"
      ],
      "execution_count": null,
      "outputs": []
    },
    {
      "cell_type": "markdown",
      "metadata": {
        "id": "dKWVYnCqH7wG"
      },
      "source": [
        "farsi"
      ]
    },
    {
      "cell_type": "code",
      "metadata": {
        "colab": {
          "base_uri": "https://localhost:8080/"
        },
        "id": "G_AorbCPH7wI",
        "outputId": "aa8f0096-ec44-488e-82cc-89c2dc2636b1"
      },
      "source": [
        "rf_grid_model = rf_grid.fit(X_dev_fa_vector, y_fa_dev)\n",
        "rf_grid_model.best_estimator_"
      ],
      "execution_count": null,
      "outputs": [
        {
          "output_type": "stream",
          "text": [
            "Fitting 3 folds for each of 6 candidates, totalling 18 fits\n"
          ],
          "name": "stdout"
        },
        {
          "output_type": "stream",
          "text": [
            "[Parallel(n_jobs=1)]: Using backend SequentialBackend with 1 concurrent workers.\n",
            "[Parallel(n_jobs=1)]: Done  18 out of  18 | elapsed:  2.0min finished\n"
          ],
          "name": "stderr"
        },
        {
          "output_type": "execute_result",
          "data": {
            "text/plain": [
              "RandomForestClassifier(bootstrap=True, ccp_alpha=0.0, class_weight=None,\n",
              "                       criterion='gini', max_depth=300, max_features='auto',\n",
              "                       max_leaf_nodes=None, max_samples=None,\n",
              "                       min_impurity_decrease=0.0, min_impurity_split=None,\n",
              "                       min_samples_leaf=15, min_samples_split=2,\n",
              "                       min_weight_fraction_leaf=0.0, n_estimators=100,\n",
              "                       n_jobs=-1, oob_score=False, random_state=None, verbose=0,\n",
              "                       warm_start=False)"
            ]
          },
          "metadata": {
            "tags": []
          },
          "execution_count": 67
        }
      ]
    },
    {
      "cell_type": "markdown",
      "metadata": {
        "id": "xEbbJhbC88vd"
      },
      "source": [
        "english"
      ]
    },
    {
      "cell_type": "code",
      "metadata": {
        "colab": {
          "base_uri": "https://localhost:8080/"
        },
        "id": "O5E827dW9BTz",
        "outputId": "83ab59b7-7ae7-438d-e9a8-4a2d4789f6e6"
      },
      "source": [
        "rf_grid_model = rf_grid.fit(X_dev_en_vector, y_en_dev)\n",
        "rf_grid_model.best_estimator_"
      ],
      "execution_count": null,
      "outputs": [
        {
          "output_type": "stream",
          "text": [
            "Fitting 3 folds for each of 8 candidates, totalling 24 fits\n"
          ],
          "name": "stdout"
        },
        {
          "output_type": "stream",
          "text": [
            "[Parallel(n_jobs=1)]: Using backend SequentialBackend with 1 concurrent workers.\n",
            "[Parallel(n_jobs=1)]: Done  24 out of  24 | elapsed:   49.6s finished\n"
          ],
          "name": "stderr"
        },
        {
          "output_type": "execute_result",
          "data": {
            "text/plain": [
              "RandomForestClassifier(bootstrap=True, ccp_alpha=0.0, class_weight=None,\n",
              "                       criterion='gini', max_depth=14, max_features='auto',\n",
              "                       max_leaf_nodes=None, max_samples=None,\n",
              "                       min_impurity_decrease=0.0, min_impurity_split=None,\n",
              "                       min_samples_leaf=1, min_samples_split=3,\n",
              "                       min_weight_fraction_leaf=0.0, n_estimators=100, n_jobs=4,\n",
              "                       oob_score=False, random_state=None, verbose=0,\n",
              "                       warm_start=False)"
            ]
          },
          "metadata": {
            "tags": []
          },
          "execution_count": 54
        }
      ]
    },
    {
      "cell_type": "markdown",
      "metadata": {
        "id": "8CJDIbma9GSi"
      },
      "source": [
        "farsi and english"
      ]
    },
    {
      "cell_type": "code",
      "metadata": {
        "id": "5hC9SPkj9I2I"
      },
      "source": [
        "rf_grid_model = rf_grid.fit(X_dev_bilang_vector, y_bilang_dev)\n",
        "rf_grid_model.best_estimator_"
      ],
      "execution_count": null,
      "outputs": []
    },
    {
      "cell_type": "markdown",
      "metadata": {
        "id": "uCycQBcz0nZE"
      },
      "source": [
        "##train and evaluate"
      ]
    },
    {
      "cell_type": "markdown",
      "metadata": {
        "id": "4gQC8ZhcrC6V"
      },
      "source": [
        "farsi"
      ]
    },
    {
      "cell_type": "code",
      "metadata": {
        "colab": {
          "base_uri": "https://localhost:8080/"
        },
        "id": "m1lnEpsDGmYP",
        "outputId": "952e5005-c4bd-4cff-ab56-cb66614dd315"
      },
      "source": [
        "randomForestClassifier = RandomForestClassifier(bootstrap=True, ccp_alpha=0.0, class_weight=None,\n",
        "                       criterion='gini', max_depth=300, max_features='auto',\n",
        "                       max_leaf_nodes=None, max_samples=None,\n",
        "                       min_impurity_decrease=0.0, min_impurity_split=None,\n",
        "                       min_samples_leaf=5, min_samples_split=2,\n",
        "                       min_weight_fraction_leaf=0.0, n_estimators=100,\n",
        "                       n_jobs=-1, oob_score=False, random_state=None, verbose=0,\n",
        "                       warm_start=False)\n",
        "randomForestClassifier.fit(X_train_fa_vector, y_fa_train)\n",
        "prediction_fa = randomForestClassifier.predict(X_test_fa_vector)\n",
        "print(classification_report(y_fa_test, prediction_fa))\n",
        "\n",
        "filename = 'rf_fa.sav'\n",
        "pickle.dump(randomForestClassifier, open(filename, 'wb'))"
      ],
      "execution_count": 97,
      "outputs": [
        {
          "output_type": "stream",
          "text": [
            "                  precision    recall  f1-score   support\n",
            "\n",
            "         اجتماعی       0.64      0.61      0.62      2433\n",
            "       اخبارجهان       0.70      0.69      0.69      1359\n",
            "         اقتصادی       0.67      0.70      0.69      1382\n",
            "           اقوام       0.76      0.59      0.66      2394\n",
            "            زنان       0.37      0.24      0.29       502\n",
            "           سیاسی       0.66      0.72      0.69      2317\n",
            "     علمی_فرهنگی       0.67      0.41      0.51      1215\n",
            "فراخوان و تجمعات       0.74      0.65      0.69      2429\n",
            "          فناوری       0.54      0.34      0.42       881\n",
            "          متفرقه       0.47      0.65      0.55      2369\n",
            "           مذهبی       0.53      0.68      0.60      2418\n",
            "            هنری       0.70      0.78      0.74      2474\n",
            "           ورزشی       0.74      0.61      0.67      1159\n",
            "\n",
            "        accuracy                           0.63     23332\n",
            "       macro avg       0.63      0.59      0.60     23332\n",
            "    weighted avg       0.64      0.63      0.63     23332\n",
            "\n"
          ],
          "name": "stdout"
        }
      ]
    },
    {
      "cell_type": "markdown",
      "metadata": {
        "id": "AJebCVaVrEJt"
      },
      "source": [
        "english"
      ]
    },
    {
      "cell_type": "code",
      "metadata": {
        "id": "EK-US_aoTZa2"
      },
      "source": [
        "randomForestClassifier = RandomForestClassifier()\n",
        "randomForestClassifier.fit(X_train_en_vector, y_en_train)\n",
        "prediction_en = randomForestClassifier.predict(X_test_en_vector)\n",
        "print(classification_report(y_en_test, prediction_en))\n",
        "\n",
        "filename = 'rf_en.sav'\n",
        "pickle.dump(randomForestClassifier, open(filename, 'wb'))"
      ],
      "execution_count": null,
      "outputs": []
    },
    {
      "cell_type": "markdown",
      "metadata": {
        "id": "xtk3EXgsrFhX"
      },
      "source": [
        "farsi and english"
      ]
    },
    {
      "cell_type": "code",
      "metadata": {
        "id": "JLRAL9jJrIB3",
        "colab": {
          "base_uri": "https://localhost:8080/"
        },
        "outputId": "363069c3-296b-43a5-cb38-64dbc8eb3954"
      },
      "source": [
        "randomForestClassifier.fit(X_train_bilang_vector, y_bilang_train)\n",
        "prediction_bilang = randomForestClassifier.predict(X_test_bilang_vector)\n",
        "print(classification_report(y_bilang_test, prediction_bilang))\n",
        "\n",
        "filename = 'rf_bilang.sav'\n",
        "pickle.dump(randomForestClassifier, open(filename, 'wb'))"
      ],
      "execution_count": null,
      "outputs": [
        {
          "output_type": "stream",
          "text": [
            "/usr/local/lib/python3.6/dist-packages/sklearn/metrics/_classification.py:1272: UndefinedMetricWarning: Precision and F-score are ill-defined and being set to 0.0 in labels with no predicted samples. Use `zero_division` parameter to control this behavior.\n",
            "  _warn_prf(average, modifier, msg_start, len(result))\n"
          ],
          "name": "stderr"
        },
        {
          "output_type": "stream",
          "text": [
            "                      precision    recall  f1-score   support\n",
            "\n",
            "         ['اجتماعی']       1.00      0.06      0.11      6204\n",
            "       ['اخبارجهان']       0.98      0.06      0.12      2040\n",
            "         ['اقتصادی']       0.92      0.10      0.18      2108\n",
            "           ['اقوام']       0.39      0.21      0.27     25171\n",
            "            ['زنان']       0.00      0.00      0.00      2350\n",
            "           ['سیاسی']       0.99      0.13      0.22      3442\n",
            "     ['علمی_فرهنگی']       1.00      0.06      0.12      2146\n",
            "['فراخوان و تجمعات']       0.62      0.25      0.36     16799\n",
            "          ['فناوری']       1.00      0.01      0.02      1718\n",
            "          ['متفرقه']       0.59      0.99      0.74     85258\n",
            "           ['مذهبی']       0.41      0.29      0.34     21139\n",
            "            ['هنری']       0.68      0.32      0.44     16019\n",
            "           ['ورزشی']       1.00      0.04      0.08      2558\n",
            "\n",
            "            accuracy                           0.57    186952\n",
            "           macro avg       0.74      0.19      0.23    186952\n",
            "        weighted avg       0.59      0.57      0.50    186952\n",
            "\n"
          ],
          "name": "stdout"
        }
      ]
    },
    {
      "cell_type": "code",
      "metadata": {
        "id": "iM5__6UeV05b"
      },
      "source": [
        ""
      ],
      "execution_count": null,
      "outputs": []
    }
  ]
}