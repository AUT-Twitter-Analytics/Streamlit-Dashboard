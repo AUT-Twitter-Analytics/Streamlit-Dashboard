{
  "nbformat": 4,
  "nbformat_minor": 0,
  "metadata": {
    "colab": {
      "name": "Topic.ipynb",
      "provenance": [],
      "collapsed_sections": [
        "KscoGuysyrbC",
        "3OaltiyHK7FI",
        "An3qG8qNrWMu",
        "e1hHGFqUmS_n",
        "QVZEU-9QmdHo",
        "-TxtwIy6xhc8",
        "VKoFMwqMxjV2",
        "djZuTeJixm-x",
        "D1nUH2E0phEo",
        "D3xb5ocAMNXh",
        "Qua4R5DXLGrJ",
        "hcillGng0j57"
      ],
      "toc_visible": true
    },
    "kernelspec": {
      "display_name": "Python 3",
      "name": "python3"
    }
  },
  "cells": [
    {
      "cell_type": "markdown",
      "metadata": {
        "id": "KscoGuysyrbC"
      },
      "source": [
        "#Import and install modules"
      ]
    },
    {
      "cell_type": "code",
      "metadata": {
        "colab": {
          "base_uri": "https://localhost:8080/"
        },
        "id": "x42gllPRyK5D",
        "outputId": "602f06d5-61cb-44ee-b490-2de8bfce1364"
      },
      "source": [
        "!pip install hazm"
      ],
      "execution_count": 1,
      "outputs": [
        {
          "output_type": "stream",
          "text": [
            "Requirement already satisfied: hazm in /usr/local/lib/python3.6/dist-packages (0.7.0)\n",
            "Requirement already satisfied: nltk==3.3 in /usr/local/lib/python3.6/dist-packages (from hazm) (3.3)\n",
            "Requirement already satisfied: libwapiti>=0.2.1; platform_system != \"Windows\" in /usr/local/lib/python3.6/dist-packages (from hazm) (0.2.1)\n",
            "Requirement already satisfied: six in /usr/local/lib/python3.6/dist-packages (from nltk==3.3->hazm) (1.15.0)\n"
          ],
          "name": "stdout"
        }
      ]
    },
    {
      "cell_type": "code",
      "metadata": {
        "id": "31SzqN9Bx7U3"
      },
      "source": [
        "import re, hazm, os, json, nltk\n",
        "import pickle\n",
        "import statistics\n",
        "import numpy as np\n",
        "import pandas as pd\n",
        "from nltk import word_tokenize \n",
        "import matplotlib.pyplot as plt\n",
        "from nltk.corpus import stopwords\n",
        "from nltk.stem import PorterStemmer\n",
        "from nltk.stem import WordNetLemmatizer\n",
        "from wordcloud import WordCloud, STOPWORDS\n",
        "from sklearn.naive_bayes import MultinomialNB\n",
        "from sklearn.model_selection import GridSearchCV\n",
        "from sklearn.ensemble import RandomForestClassifier\n",
        "from sklearn.neighbors import KNeighborsClassifier\n",
        "from sklearn.feature_extraction.text import TfidfVectorizer\n",
        "from sklearn.metrics import classification_report, confusion_matrix"
      ],
      "execution_count": 2,
      "outputs": []
    },
    {
      "cell_type": "code",
      "metadata": {
        "colab": {
          "base_uri": "https://localhost:8080/"
        },
        "id": "00GJ05dBEgzE",
        "outputId": "19de7b46-5107-4c86-db47-bb6fc7b4573e"
      },
      "source": [
        "nltk.download('wordnet')\n",
        "nltk.download(\"stopwords\")"
      ],
      "execution_count": 3,
      "outputs": [
        {
          "output_type": "stream",
          "text": [
            "[nltk_data] Downloading package wordnet to /root/nltk_data...\n",
            "[nltk_data]   Package wordnet is already up-to-date!\n",
            "[nltk_data] Downloading package stopwords to /root/nltk_data...\n",
            "[nltk_data]   Package stopwords is already up-to-date!\n"
          ],
          "name": "stdout"
        },
        {
          "output_type": "execute_result",
          "data": {
            "text/plain": [
              "True"
            ]
          },
          "metadata": {
            "tags": []
          },
          "execution_count": 3
        }
      ]
    },
    {
      "cell_type": "markdown",
      "metadata": {
        "id": "3OaltiyHK7FI"
      },
      "source": [
        "#Load data"
      ]
    },
    {
      "cell_type": "code",
      "metadata": {
        "colab": {
          "base_uri": "https://localhost:8080/"
        },
        "id": "6VWzOy8hnSnl",
        "outputId": "9fff8b4b-d4b8-451c-ceeb-a6e53a211c5d"
      },
      "source": [
        "from google.colab import drive\n",
        "drive.mount('/content/drive')\n",
        "import os\n",
        "os.chdir(\"drive/My Drive\")\n",
        "!ls"
      ],
      "execution_count": 4,
      "outputs": [
        {
          "output_type": "stream",
          "text": [
            "Drive already mounted at /content/drive; to attempt to forcibly remount, call drive.mount(\"/content/drive\", force_remount=True).\n",
            " AI-4.gdoc\n",
            " apply.gsheet\n",
            " classifier\n",
            "'Colab Notebooks'\n",
            " CV.pdf\n",
            " data\n",
            "'Email for Graduate Application.gdoc'\n",
            "'My Prof.s.gsheet'\n",
            " nb_fa.sav\n",
            " nlp-project.ipynb\n",
            " points.json\n",
            " Prof.s.gsheet\n",
            "'project Bsc'\n",
            "'Recommendation Letter_Rezvan Karaji_Nevada.rtf'\n",
            " rf_fa.sav\n",
            " sop.gdoc\n",
            " SpamDetection.ipynb\n",
            " tfidf_fa.sav\n",
            " transcript-official.pdf\n",
            " tweet.csv\n"
          ],
          "name": "stdout"
        }
      ]
    },
    {
      "cell_type": "code",
      "metadata": {
        "colab": {
          "base_uri": "https://localhost:8080/"
        },
        "id": "FuAt6bcZq7uy",
        "outputId": "5420fd25-754b-4787-b227-bc76672724d7"
      },
      "source": [
        "filename = 'tweet.csv'\n",
        "data = pd.read_csv(filename, encoding='utf-8')"
      ],
      "execution_count": 5,
      "outputs": [
        {
          "output_type": "stream",
          "text": [
            "/usr/local/lib/python3.6/dist-packages/IPython/core/interactiveshell.py:2718: DtypeWarning: Columns (0,5,6,11,12,13,43) have mixed types.Specify dtype option on import or set low_memory=False.\n",
            "  interactivity=interactivity, compiler=compiler, result=result)\n"
          ],
          "name": "stderr"
        }
      ]
    },
    {
      "cell_type": "markdown",
      "metadata": {
        "id": "An3qG8qNrWMu"
      },
      "source": [
        "#Analyze data"
      ]
    },
    {
      "cell_type": "code",
      "metadata": {
        "colab": {
          "base_uri": "https://localhost:8080/",
          "height": 608
        },
        "id": "wmyulaHsra9u",
        "outputId": "3d8f921a-286f-4f27-f738-34cb6d2b4028"
      },
      "source": [
        "data.head()"
      ],
      "execution_count": 6,
      "outputs": [
        {
          "output_type": "execute_result",
          "data": {
            "text/html": [
              "<div>\n",
              "<style scoped>\n",
              "    .dataframe tbody tr th:only-of-type {\n",
              "        vertical-align: middle;\n",
              "    }\n",
              "\n",
              "    .dataframe tbody tr th {\n",
              "        vertical-align: top;\n",
              "    }\n",
              "\n",
              "    .dataframe thead th {\n",
              "        text-align: right;\n",
              "    }\n",
              "</style>\n",
              "<table border=\"1\" class=\"dataframe\">\n",
              "  <thead>\n",
              "    <tr style=\"text-align: right;\">\n",
              "      <th></th>\n",
              "      <th>Unnamed: 0</th>\n",
              "      <th>id</th>\n",
              "      <th>username</th>\n",
              "      <th>title</th>\n",
              "      <th>about</th>\n",
              "      <th>members</th>\n",
              "      <th>posts_count</th>\n",
              "      <th>language</th>\n",
              "      <th>avg_view</th>\n",
              "      <th>last_dump_date</th>\n",
              "      <th>last_cold_date</th>\n",
              "      <th>duration_update</th>\n",
              "      <th>following_count</th>\n",
              "      <th>verified</th>\n",
              "      <th>favourites_count</th>\n",
              "      <th>location</th>\n",
              "      <th>url</th>\n",
              "      <th>join_date</th>\n",
              "      <th>deleted</th>\n",
              "      <th>index_name</th>\n",
              "      <th>UTC_date</th>\n",
              "      <th>date</th>\n",
              "      <th>views</th>\n",
              "      <th>retweet_count</th>\n",
              "      <th>text</th>\n",
              "      <th>fwdfrom</th>\n",
              "      <th>media</th>\n",
              "      <th>hashtags</th>\n",
              "      <th>to</th>\n",
              "      <th>from</th>\n",
              "      <th>post_id</th>\n",
              "      <th>link</th>\n",
              "      <th>dump_type</th>\n",
              "      <th>meta</th>\n",
              "      <th>is_adv</th>\n",
              "      <th>bi-keywords</th>\n",
              "      <th>keywords</th>\n",
              "      <th>neg_adj</th>\n",
              "      <th>pos_adj</th>\n",
              "      <th>sentiment</th>\n",
              "      <th>mentions</th>\n",
              "      <th>locations</th>\n",
              "      <th>urls</th>\n",
              "      <th>cashtags</th>\n",
              "    </tr>\n",
              "  </thead>\n",
              "  <tbody>\n",
              "    <tr>\n",
              "      <th>0</th>\n",
              "      <td>0</td>\n",
              "      <td>9.772081e+17</td>\n",
              "      <td>jasooyichii</td>\n",
              "      <td>milad mohammadi</td>\n",
              "      <td>Exhibitions reporter/\\nmr event/\\norganizer of...</td>\n",
              "      <td>856</td>\n",
              "      <td>470</td>\n",
              "      <td>NaN</td>\n",
              "      <td>0.0</td>\n",
              "      <td>2020-10-26</td>\n",
              "      <td>2020-10-09</td>\n",
              "      <td>24</td>\n",
              "      <td>774</td>\n",
              "      <td>0</td>\n",
              "      <td>1927.0</td>\n",
              "      <td>tehran - iran</td>\n",
              "      <td>https://t.co/uz1hdKY1V8</td>\n",
              "      <td>2018-03-23T15:38:55</td>\n",
              "      <td>0.0</td>\n",
              "      <td>tw-sourceinfo-2020-10</td>\n",
              "      <td>2020-10-25T20:40:58</td>\n",
              "      <td>2020-10-25 17:10:58</td>\n",
              "      <td>NaN</td>\n",
              "      <td>NaN</td>\n",
              "      <td>NaN</td>\n",
              "      <td>NaN</td>\n",
              "      <td>NaN</td>\n",
              "      <td>NaN</td>\n",
              "      <td>NaN</td>\n",
              "      <td>NaN</td>\n",
              "      <td>NaN</td>\n",
              "      <td>NaN</td>\n",
              "      <td>NaN</td>\n",
              "      <td>NaN</td>\n",
              "      <td>NaN</td>\n",
              "      <td>NaN</td>\n",
              "      <td>NaN</td>\n",
              "      <td>NaN</td>\n",
              "      <td>NaN</td>\n",
              "      <td>NaN</td>\n",
              "      <td>NaN</td>\n",
              "      <td>NaN</td>\n",
              "      <td>NaN</td>\n",
              "      <td>NaN</td>\n",
              "    </tr>\n",
              "    <tr>\n",
              "      <th>1</th>\n",
              "      <td>1</td>\n",
              "      <td>1.314951e+18</td>\n",
              "      <td>NaN</td>\n",
              "      <td>NaN</td>\n",
              "      <td>NaN</td>\n",
              "      <td>NaN</td>\n",
              "      <td>NaN</td>\n",
              "      <td>fa</td>\n",
              "      <td>NaN</td>\n",
              "      <td>NaN</td>\n",
              "      <td>NaN</td>\n",
              "      <td>NaN</td>\n",
              "      <td>NaN</td>\n",
              "      <td>NaN</td>\n",
              "      <td>NaN</td>\n",
              "      <td>NaN</td>\n",
              "      <td>NaN</td>\n",
              "      <td>NaN</td>\n",
              "      <td>NaN</td>\n",
              "      <td>tw-user-2020-10</td>\n",
              "      <td>2020-10-10T15:29:51</td>\n",
              "      <td>2020-10-10 15:29:51</td>\n",
              "      <td>7897.0</td>\n",
              "      <td>457.0</td>\n",
              "      <td>آن شب اسفندماه که برای نخستین بار خبر درگذشت #...</td>\n",
              "      <td>{'username': 'febrahimzade', 'id': '198563041'...</td>\n",
              "      <td>{'caption': 'آن شب اسفندماه که برای نخستین بار...</td>\n",
              "      <td>['محمدرضاشجریان', 'افسانه_شجریان']</td>\n",
              "      <td>{'participants_count': 181, 'username': 'lonel...</td>\n",
              "      <td>{'participants_count': 181, 'username': 'lonel...</td>\n",
              "      <td>1886.0</td>\n",
              "      <td>https://twitter.com/i/web/status/1314951285540...</td>\n",
              "      <td>scheduled</td>\n",
              "      <td>['اجتماعی']</td>\n",
              "      <td>1.0</td>\n",
              "      <td>['اسفندماه خبر', 'خبر درگذشت', 'درگذشت محمدرضا...</td>\n",
              "      <td>['پدر', 'درگذشت', 'علاقه', 'بیمارستان', 'پاسخ'...</td>\n",
              "      <td>['بار', 'درگذشت']</td>\n",
              "      <td>['آرامش', 'باور', 'زنده']</td>\n",
              "      <td>positive</td>\n",
              "      <td>NaN</td>\n",
              "      <td>NaN</td>\n",
              "      <td>NaN</td>\n",
              "      <td>NaN</td>\n",
              "    </tr>\n",
              "    <tr>\n",
              "      <th>2</th>\n",
              "      <td>2</td>\n",
              "      <td>1.314951e+18</td>\n",
              "      <td>NaN</td>\n",
              "      <td>NaN</td>\n",
              "      <td>NaN</td>\n",
              "      <td>NaN</td>\n",
              "      <td>NaN</td>\n",
              "      <td>en</td>\n",
              "      <td>NaN</td>\n",
              "      <td>NaN</td>\n",
              "      <td>NaN</td>\n",
              "      <td>NaN</td>\n",
              "      <td>NaN</td>\n",
              "      <td>NaN</td>\n",
              "      <td>NaN</td>\n",
              "      <td>NaN</td>\n",
              "      <td>NaN</td>\n",
              "      <td>NaN</td>\n",
              "      <td>NaN</td>\n",
              "      <td>tw-user-2020-10</td>\n",
              "      <td>2020-10-10T15:28:26</td>\n",
              "      <td>2020-10-10 15:28:26</td>\n",
              "      <td>1.0</td>\n",
              "      <td>0.0</td>\n",
              "      <td>@daydreaminblack Niiiice😂😂😂😂😂</td>\n",
              "      <td>NaN</td>\n",
              "      <td>NaN</td>\n",
              "      <td>NaN</td>\n",
              "      <td>{'participants_count': 181, 'username': 'lonel...</td>\n",
              "      <td>{'participants_count': 181, 'username': 'lonel...</td>\n",
              "      <td>1885.0</td>\n",
              "      <td>https://twitter.com/i/web/status/1314950928517...</td>\n",
              "      <td>scheduled</td>\n",
              "      <td>['متفرقه']</td>\n",
              "      <td>0.0</td>\n",
              "      <td>[]</td>\n",
              "      <td>['daydreaminblack', 'Niiiice']</td>\n",
              "      <td>NaN</td>\n",
              "      <td>NaN</td>\n",
              "      <td>neutral</td>\n",
              "      <td>['daydreaminblack']</td>\n",
              "      <td>NaN</td>\n",
              "      <td>NaN</td>\n",
              "      <td>NaN</td>\n",
              "    </tr>\n",
              "    <tr>\n",
              "      <th>3</th>\n",
              "      <td>3</td>\n",
              "      <td>1.314951e+18</td>\n",
              "      <td>NaN</td>\n",
              "      <td>NaN</td>\n",
              "      <td>NaN</td>\n",
              "      <td>NaN</td>\n",
              "      <td>NaN</td>\n",
              "      <td>fa</td>\n",
              "      <td>NaN</td>\n",
              "      <td>NaN</td>\n",
              "      <td>NaN</td>\n",
              "      <td>NaN</td>\n",
              "      <td>NaN</td>\n",
              "      <td>NaN</td>\n",
              "      <td>NaN</td>\n",
              "      <td>NaN</td>\n",
              "      <td>NaN</td>\n",
              "      <td>NaN</td>\n",
              "      <td>NaN</td>\n",
              "      <td>tw-user-2020-10</td>\n",
              "      <td>2020-10-10T15:28:00</td>\n",
              "      <td>2020-10-10 15:28:00</td>\n",
              "      <td>33.0</td>\n",
              "      <td>1.0</td>\n",
              "      <td>جدا از رفتن شجریان، چهر‌ه‌های غمبار همایون و ع...</td>\n",
              "      <td>{'username': 'helia_hh', 'id': '3025201221', '...</td>\n",
              "      <td>NaN</td>\n",
              "      <td>NaN</td>\n",
              "      <td>{'participants_count': 181, 'username': 'lonel...</td>\n",
              "      <td>{'participants_count': 181, 'username': 'lonel...</td>\n",
              "      <td>1884.0</td>\n",
              "      <td>https://twitter.com/i/web/status/1314950817338...</td>\n",
              "      <td>scheduled</td>\n",
              "      <td>['هنری']</td>\n",
              "      <td>0.0</td>\n",
              "      <td>['رفتن شجریان', 'شجریان چهر', 'چهر غمبار', 'غم...</td>\n",
              "      <td>['رفتن', 'شجریان', 'مچاله', 'علیزاده', 'چهر', ...</td>\n",
              "      <td>['جدا', 'مچاله']</td>\n",
              "      <td>NaN</td>\n",
              "      <td>negative</td>\n",
              "      <td>NaN</td>\n",
              "      <td>NaN</td>\n",
              "      <td>NaN</td>\n",
              "      <td>NaN</td>\n",
              "    </tr>\n",
              "    <tr>\n",
              "      <th>4</th>\n",
              "      <td>4</td>\n",
              "      <td>1.314895e+18</td>\n",
              "      <td>NaN</td>\n",
              "      <td>NaN</td>\n",
              "      <td>NaN</td>\n",
              "      <td>NaN</td>\n",
              "      <td>NaN</td>\n",
              "      <td>fa</td>\n",
              "      <td>NaN</td>\n",
              "      <td>NaN</td>\n",
              "      <td>NaN</td>\n",
              "      <td>NaN</td>\n",
              "      <td>NaN</td>\n",
              "      <td>NaN</td>\n",
              "      <td>NaN</td>\n",
              "      <td>NaN</td>\n",
              "      <td>NaN</td>\n",
              "      <td>NaN</td>\n",
              "      <td>NaN</td>\n",
              "      <td>tw-user-2020-10</td>\n",
              "      <td>2020-10-10T11:47:36</td>\n",
              "      <td>2020-10-10 11:47:36</td>\n",
              "      <td>3046.0</td>\n",
              "      <td>191.0</td>\n",
              "      <td>دیگه تویی که تا دیروز عکس سردار دلها رو استوری...</td>\n",
              "      <td>{'username': 'Javadhastam2', 'id': '1111065915...</td>\n",
              "      <td>{'caption': 'دیگه تویی که تا دیروز عکس سردار د...</td>\n",
              "      <td>NaN</td>\n",
              "      <td>{'participants_count': 181, 'username': 'lonel...</td>\n",
              "      <td>{'participants_count': 181, 'username': 'lonel...</td>\n",
              "      <td>1883.0</td>\n",
              "      <td>https://twitter.com/i/web/status/1314895352772...</td>\n",
              "      <td>scheduled</td>\n",
              "      <td>['هنری']</td>\n",
              "      <td>1.0</td>\n",
              "      <td>['تویی عکس', 'عکس سردار', 'سردار دلها', 'دلها ...</td>\n",
              "      <td>['عکس', 'استوری', 'تویی', 'شجریان', 'سردار', '...</td>\n",
              "      <td>['پست']</td>\n",
              "      <td>NaN</td>\n",
              "      <td>negative</td>\n",
              "      <td>NaN</td>\n",
              "      <td>NaN</td>\n",
              "      <td>NaN</td>\n",
              "      <td>NaN</td>\n",
              "    </tr>\n",
              "  </tbody>\n",
              "</table>\n",
              "</div>"
            ],
            "text/plain": [
              "  Unnamed: 0            id     username  ... locations urls cashtags\n",
              "0          0  9.772081e+17  jasooyichii  ...       NaN  NaN      NaN\n",
              "1          1  1.314951e+18          NaN  ...       NaN  NaN      NaN\n",
              "2          2  1.314951e+18          NaN  ...       NaN  NaN      NaN\n",
              "3          3  1.314951e+18          NaN  ...       NaN  NaN      NaN\n",
              "4          4  1.314895e+18          NaN  ...       NaN  NaN      NaN\n",
              "\n",
              "[5 rows x 44 columns]"
            ]
          },
          "metadata": {
            "tags": []
          },
          "execution_count": 6
        }
      ]
    },
    {
      "cell_type": "code",
      "metadata": {
        "colab": {
          "base_uri": "https://localhost:8080/"
        },
        "id": "aEQvnTV6V3sS",
        "outputId": "539d0244-a372-4fef-f8f0-222e68bf15de"
      },
      "source": [
        "data.info()"
      ],
      "execution_count": 7,
      "outputs": [
        {
          "output_type": "stream",
          "text": [
            "<class 'pandas.core.frame.DataFrame'>\n",
            "RangeIndex: 1196368 entries, 0 to 1196367\n",
            "Data columns (total 44 columns):\n",
            " #   Column            Non-Null Count    Dtype  \n",
            "---  ------            --------------    -----  \n",
            " 0   Unnamed: 0        1196368 non-null  object \n",
            " 1   id                1196355 non-null  float64\n",
            " 2   username          257913 non-null   object \n",
            " 3   title             257719 non-null   object \n",
            " 4   about             176930 non-null   object \n",
            " 5   members           242382 non-null   object \n",
            " 6   posts_count       242381 non-null   object \n",
            " 7   language          938461 non-null   object \n",
            " 8   avg_view          242381 non-null   float64\n",
            " 9   last_dump_date    242381 non-null   object \n",
            " 10  last_cold_date    242381 non-null   object \n",
            " 11  duration_update   242373 non-null   object \n",
            " 12  following_count   242369 non-null   object \n",
            " 13  verified          242381 non-null   object \n",
            " 14  favourites_count  242381 non-null   float64\n",
            " 15  location          134416 non-null   object \n",
            " 16  url               38877 non-null    object \n",
            " 17  join_date         242381 non-null   object \n",
            " 18  deleted           242362 non-null   float64\n",
            " 19  index_name        1180804 non-null  object \n",
            " 20  UTC_date          1180804 non-null  object \n",
            " 21  date              1180804 non-null  object \n",
            " 22  views             938442 non-null   float64\n",
            " 23  retweet_count     938442 non-null   float64\n",
            " 24  text              938441 non-null   object \n",
            " 25  fwdfrom           429214 non-null   object \n",
            " 26  media             239844 non-null   object \n",
            " 27  hashtags          173205 non-null   object \n",
            " 28  to                938442 non-null   object \n",
            " 29  from              938442 non-null   object \n",
            " 30  post_id           938442 non-null   float64\n",
            " 31  link              938442 non-null   object \n",
            " 32  dump_type         938442 non-null   object \n",
            " 33  meta              938442 non-null   object \n",
            " 34  is_adv            938442 non-null   float64\n",
            " 35  bi-keywords       938442 non-null   object \n",
            " 36  keywords          938442 non-null   object \n",
            " 37  neg_adj           215749 non-null   object \n",
            " 38  pos_adj           255628 non-null   object \n",
            " 39  sentiment         623169 non-null   object \n",
            " 40  mentions          410358 non-null   object \n",
            " 41  locations         16414 non-null    object \n",
            " 42  urls              158612 non-null   object \n",
            " 43  cashtags          195 non-null      object \n",
            "dtypes: float64(8), object(36)\n",
            "memory usage: 401.6+ MB\n"
          ],
          "name": "stdout"
        }
      ]
    },
    {
      "cell_type": "code",
      "metadata": {
        "id": "a_YsPPE9jdUX"
      },
      "source": [
        "# topic\n",
        "data = data[['language','text', 'meta']]\n",
        "\n",
        "data.columns = ['lang', 'text', 'target']\n",
        "data = data[1:]"
      ],
      "execution_count": 8,
      "outputs": []
    },
    {
      "cell_type": "code",
      "metadata": {
        "colab": {
          "base_uri": "https://localhost:8080/",
          "height": 206
        },
        "id": "U240mCSBk9vI",
        "outputId": "ac60a7dc-af66-4f55-fef1-26969e2360b4"
      },
      "source": [
        "data.head()"
      ],
      "execution_count": 9,
      "outputs": [
        {
          "output_type": "execute_result",
          "data": {
            "text/html": [
              "<div>\n",
              "<style scoped>\n",
              "    .dataframe tbody tr th:only-of-type {\n",
              "        vertical-align: middle;\n",
              "    }\n",
              "\n",
              "    .dataframe tbody tr th {\n",
              "        vertical-align: top;\n",
              "    }\n",
              "\n",
              "    .dataframe thead th {\n",
              "        text-align: right;\n",
              "    }\n",
              "</style>\n",
              "<table border=\"1\" class=\"dataframe\">\n",
              "  <thead>\n",
              "    <tr style=\"text-align: right;\">\n",
              "      <th></th>\n",
              "      <th>lang</th>\n",
              "      <th>text</th>\n",
              "      <th>target</th>\n",
              "    </tr>\n",
              "  </thead>\n",
              "  <tbody>\n",
              "    <tr>\n",
              "      <th>1</th>\n",
              "      <td>fa</td>\n",
              "      <td>آن شب اسفندماه که برای نخستین بار خبر درگذشت #...</td>\n",
              "      <td>['اجتماعی']</td>\n",
              "    </tr>\n",
              "    <tr>\n",
              "      <th>2</th>\n",
              "      <td>en</td>\n",
              "      <td>@daydreaminblack Niiiice😂😂😂😂😂</td>\n",
              "      <td>['متفرقه']</td>\n",
              "    </tr>\n",
              "    <tr>\n",
              "      <th>3</th>\n",
              "      <td>fa</td>\n",
              "      <td>جدا از رفتن شجریان، چهر‌ه‌های غمبار همایون و ع...</td>\n",
              "      <td>['هنری']</td>\n",
              "    </tr>\n",
              "    <tr>\n",
              "      <th>4</th>\n",
              "      <td>fa</td>\n",
              "      <td>دیگه تویی که تا دیروز عکس سردار دلها رو استوری...</td>\n",
              "      <td>['هنری']</td>\n",
              "    </tr>\n",
              "    <tr>\n",
              "      <th>5</th>\n",
              "      <td>fa</td>\n",
              "      <td>لازم نیست راجع‌به هر مسئله‌ای نظر بدی و موضع‌گ...</td>\n",
              "      <td>['مذهبی']</td>\n",
              "    </tr>\n",
              "  </tbody>\n",
              "</table>\n",
              "</div>"
            ],
            "text/plain": [
              "  lang                                               text       target\n",
              "1   fa  آن شب اسفندماه که برای نخستین بار خبر درگذشت #...  ['اجتماعی']\n",
              "2   en                      @daydreaminblack Niiiice😂😂😂😂😂   ['متفرقه']\n",
              "3   fa  جدا از رفتن شجریان، چهر‌ه‌های غمبار همایون و ع...     ['هنری']\n",
              "4   fa  دیگه تویی که تا دیروز عکس سردار دلها رو استوری...     ['هنری']\n",
              "5   fa  لازم نیست راجع‌به هر مسئله‌ای نظر بدی و موضع‌گ...    ['مذهبی']"
            ]
          },
          "metadata": {
            "tags": []
          },
          "execution_count": 9
        }
      ]
    },
    {
      "cell_type": "markdown",
      "metadata": {
        "id": "I33KswXNl9Ql"
      },
      "source": [
        "drop useless data"
      ]
    },
    {
      "cell_type": "code",
      "metadata": {
        "id": "UjeEJmSH96Hy"
      },
      "source": [
        "data = data[~data['target'].isnull()]\n",
        "data = data[data['target'].notna()]\n",
        "data = data[~data['text'].isnull()]\n",
        "data = data[data['text'].notna()]"
      ],
      "execution_count": 10,
      "outputs": []
    },
    {
      "cell_type": "code",
      "metadata": {
        "colab": {
          "base_uri": "https://localhost:8080/"
        },
        "id": "4rBGNjmA8wmw",
        "outputId": "03606bcf-fa41-4d64-dd6b-5e60115c9384"
      },
      "source": [
        "tages = list(set(data['target'].values))\n",
        "tages"
      ],
      "execution_count": 11,
      "outputs": [
        {
          "output_type": "execute_result",
          "data": {
            "text/plain": [
              "[\"['اجتماعی']\",\n",
              " \"['هنری']\",\n",
              " \"['ورزشی']\",\n",
              " \"['علمی_فرهنگی']\",\n",
              " \"['مذهبی']\",\n",
              " \"['سیاسی']\",\n",
              " \"['اقتصادی']\",\n",
              " \"['اقوام']\",\n",
              " \"['اخبارجهان']\",\n",
              " \"['فراخوان و تجمعات']\",\n",
              " \"['زنان']\",\n",
              " \"['فناوری']\",\n",
              " \"['متفرقه']\"]"
            ]
          },
          "metadata": {
            "tags": []
          },
          "execution_count": 11
        }
      ]
    },
    {
      "cell_type": "code",
      "metadata": {
        "colab": {
          "base_uri": "https://localhost:8080/",
          "height": 550
        },
        "id": "dr8zjZrCXDEH",
        "outputId": "2d65bea7-47f0-41f3-c423-c89fd9e26b3b"
      },
      "source": [
        "class_count = data['target'].value_counts()\n",
        "plt.figure(figsize = (23, 8))\n",
        "plt.bar(x = class_count.keys(), \n",
        "        height = class_count.values)\n",
        "plt.xlabel(\"Target\")\n",
        "plt.ylabel(\"Tweet count\")\n",
        "plt.title(\"Count of tweets for each topic\")\n",
        "plt.legend()"
      ],
      "execution_count": 12,
      "outputs": [
        {
          "output_type": "stream",
          "text": [
            "No handles with labels found to put in legend.\n"
          ],
          "name": "stderr"
        },
        {
          "output_type": "execute_result",
          "data": {
            "text/plain": [
              "<matplotlib.legend.Legend at 0x7f50748926d8>"
            ]
          },
          "metadata": {
            "tags": []
          },
          "execution_count": 12
        },
        {
          "output_type": "display_data",
          "data": {
            "image/png": "[encoded data removed]",
            "text/plain": [
              "<Figure size 1656x576 with 1 Axes>"
            ]
          },
          "metadata": {
            "tags": [],
            "needs_background": "light"
          }
        }
      ]
    },
    {
      "cell_type": "markdown",
      "metadata": {
        "id": "e1hHGFqUmS_n"
      },
      "source": [
        "## Farsi"
      ]
    },
    {
      "cell_type": "code",
      "metadata": {
        "colab": {
          "base_uri": "https://localhost:8080/",
          "height": 206
        },
        "id": "cesAb4bVnpe_",
        "outputId": "dc19dfb2-1628-49b9-a895-f54f8632a0e6"
      },
      "source": [
        "is_fa =  data['lang'] == 'fa'\n",
        "fa_data = data[is_fa]\n",
        "fa_data.head()"
      ],
      "execution_count": 13,
      "outputs": [
        {
          "output_type": "execute_result",
          "data": {
            "text/html": [
              "<div>\n",
              "<style scoped>\n",
              "    .dataframe tbody tr th:only-of-type {\n",
              "        vertical-align: middle;\n",
              "    }\n",
              "\n",
              "    .dataframe tbody tr th {\n",
              "        vertical-align: top;\n",
              "    }\n",
              "\n",
              "    .dataframe thead th {\n",
              "        text-align: right;\n",
              "    }\n",
              "</style>\n",
              "<table border=\"1\" class=\"dataframe\">\n",
              "  <thead>\n",
              "    <tr style=\"text-align: right;\">\n",
              "      <th></th>\n",
              "      <th>lang</th>\n",
              "      <th>text</th>\n",
              "      <th>target</th>\n",
              "    </tr>\n",
              "  </thead>\n",
              "  <tbody>\n",
              "    <tr>\n",
              "      <th>1</th>\n",
              "      <td>fa</td>\n",
              "      <td>آن شب اسفندماه که برای نخستین بار خبر درگذشت #...</td>\n",
              "      <td>['اجتماعی']</td>\n",
              "    </tr>\n",
              "    <tr>\n",
              "      <th>3</th>\n",
              "      <td>fa</td>\n",
              "      <td>جدا از رفتن شجریان، چهر‌ه‌های غمبار همایون و ع...</td>\n",
              "      <td>['هنری']</td>\n",
              "    </tr>\n",
              "    <tr>\n",
              "      <th>4</th>\n",
              "      <td>fa</td>\n",
              "      <td>دیگه تویی که تا دیروز عکس سردار دلها رو استوری...</td>\n",
              "      <td>['هنری']</td>\n",
              "    </tr>\n",
              "    <tr>\n",
              "      <th>5</th>\n",
              "      <td>fa</td>\n",
              "      <td>لازم نیست راجع‌به هر مسئله‌ای نظر بدی و موضع‌گ...</td>\n",
              "      <td>['مذهبی']</td>\n",
              "    </tr>\n",
              "    <tr>\n",
              "      <th>6</th>\n",
              "      <td>fa</td>\n",
              "      <td>به نظر من اینکه رفیق صمیمیت لانگ دیستنس باشه ب...</td>\n",
              "      <td>['مذهبی']</td>\n",
              "    </tr>\n",
              "  </tbody>\n",
              "</table>\n",
              "</div>"
            ],
            "text/plain": [
              "  lang                                               text       target\n",
              "1   fa  آن شب اسفندماه که برای نخستین بار خبر درگذشت #...  ['اجتماعی']\n",
              "3   fa  جدا از رفتن شجریان، چهر‌ه‌های غمبار همایون و ع...     ['هنری']\n",
              "4   fa  دیگه تویی که تا دیروز عکس سردار دلها رو استوری...     ['هنری']\n",
              "5   fa  لازم نیست راجع‌به هر مسئله‌ای نظر بدی و موضع‌گ...    ['مذهبی']\n",
              "6   fa  به نظر من اینکه رفیق صمیمیت لانگ دیستنس باشه ب...    ['مذهبی']"
            ]
          },
          "metadata": {
            "tags": []
          },
          "execution_count": 13
        }
      ]
    },
    {
      "cell_type": "code",
      "metadata": {
        "colab": {
          "base_uri": "https://localhost:8080/"
        },
        "id": "PGqXKc6KrHZg",
        "outputId": "558e5634-79fb-4019-96fc-bc1a8ee52a52"
      },
      "source": [
        "fa_data.shape"
      ],
      "execution_count": 14,
      "outputs": [
        {
          "output_type": "execute_result",
          "data": {
            "text/plain": [
              "(337104, 3)"
            ]
          },
          "metadata": {
            "tags": []
          },
          "execution_count": 14
        }
      ]
    },
    {
      "cell_type": "code",
      "metadata": {
        "colab": {
          "base_uri": "https://localhost:8080/",
          "height": 550
        },
        "id": "8G8NwJQUmaaV",
        "outputId": "8fe37a39-32b1-4163-da3b-7a8a0df40cf1"
      },
      "source": [
        "class_count = fa_data['target'].value_counts()\n",
        "plt.figure(figsize = (23, 8))\n",
        "plt.bar(x = class_count.keys(), \n",
        "        height = class_count.values)\n",
        "plt.xlabel(\"Target\")\n",
        "plt.ylabel(\"Tweet count\")\n",
        "plt.title(\"Count of tweets for each topic\")\n",
        "plt.legend()"
      ],
      "execution_count": 15,
      "outputs": [
        {
          "output_type": "stream",
          "text": [
            "No handles with labels found to put in legend.\n"
          ],
          "name": "stderr"
        },
        {
          "output_type": "execute_result",
          "data": {
            "text/plain": [
              "<matplotlib.legend.Legend at 0x7f50748380f0>"
            ]
          },
          "metadata": {
            "tags": []
          },
          "execution_count": 15
        },
        {
          "output_type": "display_data",
          "data": {
            "image/png": "[encoded data removed]",
            "text/plain": [
              "<Figure size 1656x576 with 1 Axes>"
            ]
          },
          "metadata": {
            "tags": [],
            "needs_background": "light"
          }
        }
      ]
    },
    {
      "cell_type": "markdown",
      "metadata": {
        "id": "rF66uj6smoNf"
      },
      "source": [
        "we need to normalize volum of data in each category!"
      ]
    },
    {
      "cell_type": "markdown",
      "metadata": {
        "id": "QVZEU-9QmdHo"
      },
      "source": [
        "## English"
      ]
    },
    {
      "cell_type": "code",
      "metadata": {
        "colab": {
          "base_uri": "https://localhost:8080/",
          "height": 206
        },
        "id": "ctZCwtLKm-3L",
        "outputId": "c1161d39-7b01-4a49-f6fe-c5a44e9dfa4e"
      },
      "source": [
        "is_en =  data['lang'] == 'en'\n",
        "en_data= data[is_en]\n",
        "en_data.head()"
      ],
      "execution_count": 16,
      "outputs": [
        {
          "output_type": "execute_result",
          "data": {
            "text/html": [
              "<div>\n",
              "<style scoped>\n",
              "    .dataframe tbody tr th:only-of-type {\n",
              "        vertical-align: middle;\n",
              "    }\n",
              "\n",
              "    .dataframe tbody tr th {\n",
              "        vertical-align: top;\n",
              "    }\n",
              "\n",
              "    .dataframe thead th {\n",
              "        text-align: right;\n",
              "    }\n",
              "</style>\n",
              "<table border=\"1\" class=\"dataframe\">\n",
              "  <thead>\n",
              "    <tr style=\"text-align: right;\">\n",
              "      <th></th>\n",
              "      <th>lang</th>\n",
              "      <th>text</th>\n",
              "      <th>target</th>\n",
              "    </tr>\n",
              "  </thead>\n",
              "  <tbody>\n",
              "    <tr>\n",
              "      <th>2</th>\n",
              "      <td>en</td>\n",
              "      <td>@daydreaminblack Niiiice😂😂😂😂😂</td>\n",
              "      <td>['متفرقه']</td>\n",
              "    </tr>\n",
              "    <tr>\n",
              "      <th>23</th>\n",
              "      <td>en</td>\n",
              "      <td>@safewordthe۲nd ….</td>\n",
              "      <td>['متفرقه']</td>\n",
              "    </tr>\n",
              "    <tr>\n",
              "      <th>39</th>\n",
              "      <td>en</td>\n",
              "      <td>@wahid_taniwal It seems, Taliban endorsed Pres...</td>\n",
              "      <td>['متفرقه']</td>\n",
              "    </tr>\n",
              "    <tr>\n",
              "      <th>40</th>\n",
              "      <td>en</td>\n",
              "      <td>Mujahid told CBS News in a phone interview, «W...</td>\n",
              "      <td>['متفرقه']</td>\n",
              "    </tr>\n",
              "    <tr>\n",
              "      <th>41</th>\n",
              "      <td>en</td>\n",
              "      <td>With fragile peace talks, the #COVID-۱۹ pandem...</td>\n",
              "      <td>['متفرقه']</td>\n",
              "    </tr>\n",
              "  </tbody>\n",
              "</table>\n",
              "</div>"
            ],
            "text/plain": [
              "   lang                                               text      target\n",
              "2    en                      @daydreaminblack Niiiice😂😂😂😂😂  ['متفرقه']\n",
              "23   en                                 @safewordthe۲nd ….  ['متفرقه']\n",
              "39   en  @wahid_taniwal It seems, Taliban endorsed Pres...  ['متفرقه']\n",
              "40   en  Mujahid told CBS News in a phone interview, «W...  ['متفرقه']\n",
              "41   en  With fragile peace talks, the #COVID-۱۹ pandem...  ['متفرقه']"
            ]
          },
          "metadata": {
            "tags": []
          },
          "execution_count": 16
        }
      ]
    },
    {
      "cell_type": "code",
      "metadata": {
        "colab": {
          "base_uri": "https://localhost:8080/"
        },
        "id": "c477gLyUrBb5",
        "outputId": "0e1539ee-2636-4b15-b228-150a9056cee0"
      },
      "source": [
        "en_data.shape"
      ],
      "execution_count": 17,
      "outputs": [
        {
          "output_type": "execute_result",
          "data": {
            "text/plain": [
              "(286065, 3)"
            ]
          },
          "metadata": {
            "tags": []
          },
          "execution_count": 17
        }
      ]
    },
    {
      "cell_type": "code",
      "metadata": {
        "colab": {
          "base_uri": "https://localhost:8080/",
          "height": 550
        },
        "id": "BlNcCbmjm7NP",
        "outputId": "92ea4ec5-820c-436e-f29b-eb9bcd2815f6"
      },
      "source": [
        "class_count = en_data['target'].value_counts()\n",
        "plt.figure(figsize = (23, 8))\n",
        "plt.bar(x = class_count.keys(), \n",
        "        height = class_count.values)\n",
        "plt.xlabel(\"Target\")\n",
        "plt.ylabel(\"Tweet count\")\n",
        "plt.title(\"Count of tweets for each topic\")\n",
        "plt.legend()"
      ],
      "execution_count": 18,
      "outputs": [
        {
          "output_type": "stream",
          "text": [
            "No handles with labels found to put in legend.\n"
          ],
          "name": "stderr"
        },
        {
          "output_type": "execute_result",
          "data": {
            "text/plain": [
              "<matplotlib.legend.Legend at 0x7f5074367940>"
            ]
          },
          "metadata": {
            "tags": []
          },
          "execution_count": 18
        },
        {
          "output_type": "display_data",
          "data": {
            "image/png": "[encoded data removed]",
            "text/plain": [
              "<Figure size 1656x576 with 1 Axes>"
            ]
          },
          "metadata": {
            "tags": [],
            "needs_background": "light"
          }
        }
      ]
    },
    {
      "cell_type": "markdown",
      "metadata": {
        "id": "cBol4bVlm7NU"
      },
      "source": [
        "we don't have a good data for english! so no model training."
      ]
    },
    {
      "cell_type": "markdown",
      "metadata": {
        "id": "-TxtwIy6xhc8"
      },
      "source": [
        "#Preprocess"
      ]
    },
    {
      "cell_type": "code",
      "metadata": {
        "id": "gIahet8W8qzt"
      },
      "source": [
        "def tokenizer(text):\n",
        "  text = text.str.split(' ')\n",
        "  return text"
      ],
      "execution_count": 19,
      "outputs": []
    },
    {
      "cell_type": "code",
      "metadata": {
        "id": "mCeCfztO89ZD"
      },
      "source": [
        "def stemLemmaStopWord(stemmer, lemmatizer, stopwords, alphabet, tokens):\n",
        "  final_tokens = []\n",
        "  for token in tokens:\n",
        "    stemmed_token = stemmer.stem(lemmatizer.lemmatize(token))\n",
        "    if '#' in stemmed_token:\n",
        "      stemmed_token = stemmed_token.split('#')[0]\n",
        "    if token not in stopwords and stemmed_token not in stopwords and not token == '' and stemmed_token not in alphabet:\n",
        "      final_tokens.append(stemmed_token)\n",
        "  return final_tokens"
      ],
      "execution_count": 20,
      "outputs": []
    },
    {
      "cell_type": "code",
      "metadata": {
        "id": "V75f8b9b5qPB"
      },
      "source": [
        "def num_words(words):\n",
        "  return len(words)\n",
        "\n",
        "def num_distinct_words(words):\n",
        "  return len(set(words))\n",
        "\n",
        "def all_words(data):\n",
        "  words = set()\n",
        "  for text in data.text:\n",
        "    for word in text:\n",
        "      words.add(word)\n",
        "  return words"
      ],
      "execution_count": 21,
      "outputs": []
    },
    {
      "cell_type": "code",
      "metadata": {
        "colab": {
          "base_uri": "https://localhost:8080/",
          "height": 0
        },
        "id": "XH2KjuPZxdx9",
        "outputId": "b1243cdb-ddc5-43ba-80c7-f164737cd82e"
      },
      "source": [
        "fa_data.head()"
      ],
      "execution_count": 22,
      "outputs": [
        {
          "output_type": "execute_result",
          "data": {
            "text/html": [
              "<div>\n",
              "<style scoped>\n",
              "    .dataframe tbody tr th:only-of-type {\n",
              "        vertical-align: middle;\n",
              "    }\n",
              "\n",
              "    .dataframe tbody tr th {\n",
              "        vertical-align: top;\n",
              "    }\n",
              "\n",
              "    .dataframe thead th {\n",
              "        text-align: right;\n",
              "    }\n",
              "</style>\n",
              "<table border=\"1\" class=\"dataframe\">\n",
              "  <thead>\n",
              "    <tr style=\"text-align: right;\">\n",
              "      <th></th>\n",
              "      <th>lang</th>\n",
              "      <th>text</th>\n",
              "      <th>target</th>\n",
              "    </tr>\n",
              "  </thead>\n",
              "  <tbody>\n",
              "    <tr>\n",
              "      <th>1</th>\n",
              "      <td>fa</td>\n",
              "      <td>آن شب اسفندماه که برای نخستین بار خبر درگذشت #...</td>\n",
              "      <td>['اجتماعی']</td>\n",
              "    </tr>\n",
              "    <tr>\n",
              "      <th>3</th>\n",
              "      <td>fa</td>\n",
              "      <td>جدا از رفتن شجریان، چهر‌ه‌های غمبار همایون و ع...</td>\n",
              "      <td>['هنری']</td>\n",
              "    </tr>\n",
              "    <tr>\n",
              "      <th>4</th>\n",
              "      <td>fa</td>\n",
              "      <td>دیگه تویی که تا دیروز عکس سردار دلها رو استوری...</td>\n",
              "      <td>['هنری']</td>\n",
              "    </tr>\n",
              "    <tr>\n",
              "      <th>5</th>\n",
              "      <td>fa</td>\n",
              "      <td>لازم نیست راجع‌به هر مسئله‌ای نظر بدی و موضع‌گ...</td>\n",
              "      <td>['مذهبی']</td>\n",
              "    </tr>\n",
              "    <tr>\n",
              "      <th>6</th>\n",
              "      <td>fa</td>\n",
              "      <td>به نظر من اینکه رفیق صمیمیت لانگ دیستنس باشه ب...</td>\n",
              "      <td>['مذهبی']</td>\n",
              "    </tr>\n",
              "  </tbody>\n",
              "</table>\n",
              "</div>"
            ],
            "text/plain": [
              "  lang                                               text       target\n",
              "1   fa  آن شب اسفندماه که برای نخستین بار خبر درگذشت #...  ['اجتماعی']\n",
              "3   fa  جدا از رفتن شجریان، چهر‌ه‌های غمبار همایون و ع...     ['هنری']\n",
              "4   fa  دیگه تویی که تا دیروز عکس سردار دلها رو استوری...     ['هنری']\n",
              "5   fa  لازم نیست راجع‌به هر مسئله‌ای نظر بدی و موضع‌گ...    ['مذهبی']\n",
              "6   fa  به نظر من اینکه رفیق صمیمیت لانگ دیستنس باشه ب...    ['مذهبی']"
            ]
          },
          "metadata": {
            "tags": []
          },
          "execution_count": 22
        }
      ]
    },
    {
      "cell_type": "code",
      "metadata": {
        "colab": {
          "base_uri": "https://localhost:8080/"
        },
        "id": "tUQYvq23yZQV",
        "outputId": "42d1cde3-6bfe-4b8f-903b-01904827dbb6"
      },
      "source": [
        "def fa_normalize(text):\n",
        "  text = text.replace(to_replace =r\"[ئيی]\", value = 'ی', regex = True)\n",
        "  text = text.replace(to_replace =r\"[ك]\", value = 'ک', regex = True)\n",
        "  text = text.replace(to_replace =r\"[ؤ]\", value = 'و', regex = True)\n",
        "  text = text.replace(to_replace =r\"[ة]\", value = 'ه', regex = True)\n",
        "  text = text.replace(to_replace=r\"[إأآا]\", value=\"ا\", regex=True)\n",
        "  text = text.replace(\n",
        "            to_replace=r\"[^ابپتثجچحخدذرزژسشصضطظعغفقکگلمنوهی]\", value=\" \", regex=True\n",
        "        )\n",
        "  text = text.replace(to_replace=r'(.)\\1+', value=r'\\1', regex=True)\n",
        "  text = text.replace(to_replace =r\"[^\\S\\n\\t]+\", value = ' ', regex = True)\n",
        "  return text  \n",
        "\n",
        "\n",
        "fa_data.text = fa_normalize(fa_data.text)"
      ],
      "execution_count": 23,
      "outputs": [
        {
          "output_type": "stream",
          "text": [
            "/usr/local/lib/python3.6/dist-packages/pandas/core/generic.py:5170: SettingWithCopyWarning: \n",
            "A value is trying to be set on a copy of a slice from a DataFrame.\n",
            "Try using .loc[row_indexer,col_indexer] = value instead\n",
            "\n",
            "See the caveats in the documentation: https://pandas.pydata.org/pandas-docs/stable/user_guide/indexing.html#returning-a-view-versus-a-copy\n",
            "  self[name] = value\n"
          ],
          "name": "stderr"
        }
      ]
    },
    {
      "cell_type": "markdown",
      "metadata": {
        "id": "wGeLw7PJ5NEZ"
      },
      "source": [
        "tokenize"
      ]
    },
    {
      "cell_type": "code",
      "metadata": {
        "colab": {
          "base_uri": "https://localhost:8080/"
        },
        "id": "O40XcoQ_5I6U",
        "outputId": "4005ae26-2bc8-4f6a-d7fd-bf62ef05f99e"
      },
      "source": [
        "fa_data.text = tokenizer(fa_data.text)"
      ],
      "execution_count": 24,
      "outputs": [
        {
          "output_type": "stream",
          "text": [
            "/usr/local/lib/python3.6/dist-packages/pandas/core/generic.py:5170: SettingWithCopyWarning: \n",
            "A value is trying to be set on a copy of a slice from a DataFrame.\n",
            "Try using .loc[row_indexer,col_indexer] = value instead\n",
            "\n",
            "See the caveats in the documentation: https://pandas.pydata.org/pandas-docs/stable/user_guide/indexing.html#returning-a-view-versus-a-copy\n",
            "  self[name] = value\n"
          ],
          "name": "stderr"
        }
      ]
    },
    {
      "cell_type": "markdown",
      "metadata": {
        "id": "gqxvFuYR5ab8"
      },
      "source": [
        "Stem Lemma StopWord"
      ]
    },
    {
      "cell_type": "code",
      "metadata": {
        "colab": {
          "base_uri": "https://localhost:8080/"
        },
        "id": "BnZP8pFk41-f",
        "outputId": "1eeec698-7896-4720-cc65-1a5e61955f6b"
      },
      "source": [
        "fa_stemmer = hazm.Stemmer()\n",
        "fa_lemmatizer = hazm.Lemmatizer()\n",
        "fa_stopwords = hazm.stopwords_list()\n",
        "fa_alphabet = set(list('ابپتثجچحخدذرزژسشصضطظعغفقکگلمنوهی'))\n",
        "\n",
        "fa_data.text = fa_data.apply(lambda row: stemLemmaStopWord(fa_stemmer, fa_lemmatizer, fa_stopwords, fa_alphabet, row.text), axis=1)"
      ],
      "execution_count": 25,
      "outputs": [
        {
          "output_type": "stream",
          "text": [
            "/usr/local/lib/python3.6/dist-packages/pandas/core/generic.py:5170: SettingWithCopyWarning: \n",
            "A value is trying to be set on a copy of a slice from a DataFrame.\n",
            "Try using .loc[row_indexer,col_indexer] = value instead\n",
            "\n",
            "See the caveats in the documentation: https://pandas.pydata.org/pandas-docs/stable/user_guide/indexing.html#returning-a-view-versus-a-copy\n",
            "  self[name] = value\n"
          ],
          "name": "stderr"
        }
      ]
    },
    {
      "cell_type": "markdown",
      "metadata": {
        "id": "PxaqkiyV5tTE"
      },
      "source": [
        "number of words"
      ]
    },
    {
      "cell_type": "code",
      "metadata": {
        "colab": {
          "base_uri": "https://localhost:8080/"
        },
        "id": "atrLOIzW9sX1",
        "outputId": "91c370ab-edb2-4bd2-8bab-6de9746d9526"
      },
      "source": [
        "fa_data['words_num'] = fa_data.apply(lambda row: num_words(row.text), axis=1)\n",
        "fa_data['distinct_words_num'] = fa_data.apply(lambda row: num_distinct_words(row.text), axis=1)"
      ],
      "execution_count": 26,
      "outputs": [
        {
          "output_type": "stream",
          "text": [
            "/usr/local/lib/python3.6/dist-packages/ipykernel_launcher.py:1: SettingWithCopyWarning: \n",
            "A value is trying to be set on a copy of a slice from a DataFrame.\n",
            "Try using .loc[row_indexer,col_indexer] = value instead\n",
            "\n",
            "See the caveats in the documentation: https://pandas.pydata.org/pandas-docs/stable/user_guide/indexing.html#returning-a-view-versus-a-copy\n",
            "  \"\"\"Entry point for launching an IPython kernel.\n",
            "/usr/local/lib/python3.6/dist-packages/ipykernel_launcher.py:2: SettingWithCopyWarning: \n",
            "A value is trying to be set on a copy of a slice from a DataFrame.\n",
            "Try using .loc[row_indexer,col_indexer] = value instead\n",
            "\n",
            "See the caveats in the documentation: https://pandas.pydata.org/pandas-docs/stable/user_guide/indexing.html#returning-a-view-versus-a-copy\n",
            "  \n"
          ],
          "name": "stderr"
        }
      ]
    },
    {
      "cell_type": "markdown",
      "metadata": {
        "id": "DvM6WA6mqpWh"
      },
      "source": [
        "Remove less than 6 words long data"
      ]
    },
    {
      "cell_type": "code",
      "metadata": {
        "colab": {
          "base_uri": "https://localhost:8080/",
          "height": 0
        },
        "id": "zQMZBlVCqyL1",
        "outputId": "f985b110-d81f-4f7c-b877-5dce2af188e1"
      },
      "source": [
        "fa_data = fa_data[fa_data.words_num > 5]\n",
        "fa_data .reset_index(drop=True, inplace=True)\n",
        "fa_data.head()"
      ],
      "execution_count": 27,
      "outputs": [
        {
          "output_type": "execute_result",
          "data": {
            "text/html": [
              "<div>\n",
              "<style scoped>\n",
              "    .dataframe tbody tr th:only-of-type {\n",
              "        vertical-align: middle;\n",
              "    }\n",
              "\n",
              "    .dataframe tbody tr th {\n",
              "        vertical-align: top;\n",
              "    }\n",
              "\n",
              "    .dataframe thead th {\n",
              "        text-align: right;\n",
              "    }\n",
              "</style>\n",
              "<table border=\"1\" class=\"dataframe\">\n",
              "  <thead>\n",
              "    <tr style=\"text-align: right;\">\n",
              "      <th></th>\n",
              "      <th>lang</th>\n",
              "      <th>text</th>\n",
              "      <th>target</th>\n",
              "      <th>words_num</th>\n",
              "      <th>distinct_words_num</th>\n",
              "    </tr>\n",
              "  </thead>\n",
              "  <tbody>\n",
              "    <tr>\n",
              "      <th>0</th>\n",
              "      <td>fa</td>\n",
              "      <td>[, شب, اسفندماه, خبر, درگذ, محمدرضاشجر, امد, م...</td>\n",
              "      <td>['اجتماعی']</td>\n",
              "      <td>28</td>\n",
              "      <td>24</td>\n",
              "    </tr>\n",
              "    <tr>\n",
              "      <th>1</th>\n",
              "      <td>fa</td>\n",
              "      <td>[جدا, رفتن, شجر, چهر, , غمبار, همایون, علیزاده...</td>\n",
              "      <td>['هنری']</td>\n",
              "      <td>11</td>\n",
              "      <td>11</td>\n",
              "    </tr>\n",
              "    <tr>\n",
              "      <th>2</th>\n",
              "      <td>fa</td>\n",
              "      <td>[دیگه, دیروز, عکس, سردار, دل, استور, میکرد, نم...</td>\n",
              "      <td>['هنری']</td>\n",
              "      <td>12</td>\n",
              "      <td>12</td>\n",
              "    </tr>\n",
              "    <tr>\n",
              "      <th>3</th>\n",
              "      <td>fa</td>\n",
              "      <td>[رفیق, صمیم, لانگ, دیستنس, باشه, مراتب, سخ, , ...</td>\n",
              "      <td>['مذهبی']</td>\n",
              "      <td>12</td>\n",
              "      <td>10</td>\n",
              "    </tr>\n",
              "    <tr>\n",
              "      <th>4</th>\n",
              "      <td>fa</td>\n",
              "      <td>[اون, سپرد, باد, حسر, ندار, زویازاکار]</td>\n",
              "      <td>['هنری']</td>\n",
              "      <td>6</td>\n",
              "      <td>6</td>\n",
              "    </tr>\n",
              "  </tbody>\n",
              "</table>\n",
              "</div>"
            ],
            "text/plain": [
              "  lang  ... distinct_words_num\n",
              "0   fa  ...                 24\n",
              "1   fa  ...                 11\n",
              "2   fa  ...                 12\n",
              "3   fa  ...                 10\n",
              "4   fa  ...                  6\n",
              "\n",
              "[5 rows x 5 columns]"
            ]
          },
          "metadata": {
            "tags": []
          },
          "execution_count": 27
        }
      ]
    },
    {
      "cell_type": "code",
      "metadata": {
        "colab": {
          "base_uri": "https://localhost:8080/"
        },
        "id": "KccleGiU-FYn",
        "outputId": "ea1a3572-8241-4694-a110-35b3eecc8f38"
      },
      "source": [
        "words = all_words(fa_data)\n",
        "print('all farsi words: ', sum(fa_data.words_num), ' and distinct farsi words: ', len(words))"
      ],
      "execution_count": 28,
      "outputs": [
        {
          "output_type": "stream",
          "text": [
            "all farsi words:  3264335  and distinct farsi words:  83624\n"
          ],
          "name": "stdout"
        }
      ]
    },
    {
      "cell_type": "markdown",
      "metadata": {
        "id": "D1nUH2E0phEo"
      },
      "source": [
        "# Balance data"
      ]
    },
    {
      "cell_type": "code",
      "metadata": {
        "id": "0EkoKxjsMus7"
      },
      "source": [
        "balanced_data = fa_data.reindex(fa_data.words_num.sort_values().index)"
      ],
      "execution_count": 29,
      "outputs": []
    },
    {
      "cell_type": "code",
      "metadata": {
        "id": "Iet4xsIQsM29"
      },
      "source": [
        "def normalize_size(data):\n",
        "  class_count = data['target'].value_counts()\n",
        "  variance = statistics.variance(class_count)\n",
        "  cutoff = variance//9\n",
        "  while variance > cutoff :\n",
        "    class_count = data['target'].value_counts()\n",
        "    mean_size = class_count.mean()\n",
        "\n",
        "    mean_size = int(mean_size)\n",
        "    variance = statistics.variance(class_count)\n",
        "\n",
        "    new_data = pd.DataFrame([], columns=data.columns)\n",
        "\n",
        "    for x in tages:\n",
        "      data_x = data[data.target == x]\n",
        "      data_x.reset_index(drop=True, inplace=True)\n",
        "      if data_x.shape[0] > mean_size:\n",
        "        data_x = data_x[-mean_size:]\n",
        "      frames = [new_data, data_x]\n",
        "      new_data = pd.concat(frames)\n",
        "\n",
        "    data = new_data\n",
        "\n",
        "  data.reset_index(drop=True, inplace=True)\n",
        "  return data"
      ],
      "execution_count": 30,
      "outputs": []
    },
    {
      "cell_type": "code",
      "metadata": {
        "id": "RmHsPdX2uN3I"
      },
      "source": [
        "balanced_data = normalize_size(balanced_data)\n",
        "# shuffle\n",
        "balanced_data  = balanced_data.sample(frac = 1)\n",
        "balanced_data.reset_index(drop=True, inplace=True)"
      ],
      "execution_count": 31,
      "outputs": []
    },
    {
      "cell_type": "code",
      "metadata": {
        "colab": {
          "base_uri": "https://localhost:8080/",
          "height": 0
        },
        "id": "ocpm2oSdvTDj",
        "outputId": "fdd90ddc-d474-43f3-9fbd-8d1621f21843"
      },
      "source": [
        "class_count = balanced_data['target'].value_counts()\n",
        "plt.figure(figsize = (23, 8))\n",
        "plt.bar(x = class_count.keys(), \n",
        "        height = class_count.values)\n",
        "plt.xlabel(\"Target\")\n",
        "plt.ylabel(\"Tweet count\")\n",
        "plt.title(\"Count of tweets for each topic\")\n",
        "plt.legend()"
      ],
      "execution_count": 32,
      "outputs": [
        {
          "output_type": "stream",
          "text": [
            "No handles with labels found to put in legend.\n"
          ],
          "name": "stderr"
        },
        {
          "output_type": "execute_result",
          "data": {
            "text/plain": [
              "<matplotlib.legend.Legend at 0x7f50d0a6bf98>"
            ]
          },
          "metadata": {
            "tags": []
          },
          "execution_count": 32
        },
        {
          "output_type": "display_data",
          "data": {
            "image/png": "[encoded data removed]",
            "text/plain": [
              "<Figure size 1656x576 with 1 Axes>"
            ]
          },
          "metadata": {
            "tags": [],
            "needs_background": "light"
          }
        }
      ]
    },
    {
      "cell_type": "markdown",
      "metadata": {
        "id": "D3xb5ocAMNXh"
      },
      "source": [
        "#Prepare test and train sets"
      ]
    },
    {
      "cell_type": "code",
      "metadata": {
        "id": "PJYhYbI8U8ZQ"
      },
      "source": [
        "total_len = fa_data.shape[0]\n",
        "\n",
        "train_len = 60*total_len//100\n",
        "train_fa_data = fa_data.iloc[:train_len, :]\n",
        "test_fa_data = fa_data.iloc[train_len:, :]"
      ],
      "execution_count": 33,
      "outputs": []
    },
    {
      "cell_type": "code",
      "metadata": {
        "id": "puGuKQ56OnG9"
      },
      "source": [
        "total_len = balanced_data.shape[0]\n",
        "\n",
        "train_len = 60*total_len//100\n",
        "train_balanced_data = balanced_data.iloc[:train_len, :]\n",
        "test_balanced_data = balanced_data.iloc[train_len:, :]"
      ],
      "execution_count": 34,
      "outputs": []
    },
    {
      "cell_type": "code",
      "metadata": {
        "id": "Y0Qt-srD1LZy"
      },
      "source": [
        "# dev data\n",
        "total_len = test_fa_data.shape[0]\n",
        "dev_len = 50*total_len//100\n",
        "dev_fa_data = test_fa_data.iloc[:dev_len, :]\n",
        "test_fa_data = test_fa_data.iloc[dev_len:, :]\n",
        "\n",
        "total_len = test_balanced_data.shape[0]\n",
        "dev_len = 50*total_len//100\n",
        "dev_balanced_data = test_balanced_data.iloc[:dev_len, :]\n",
        "test_balanced_data = test_balanced_data.iloc[dev_len:, :]"
      ],
      "execution_count": 35,
      "outputs": []
    },
    {
      "cell_type": "markdown",
      "metadata": {
        "id": "Qua4R5DXLGrJ"
      },
      "source": [
        "#TF-IDF Vectorizer"
      ]
    },
    {
      "cell_type": "code",
      "metadata": {
        "id": "WuplWYBlPF08"
      },
      "source": [
        "X_fa_train = train_fa_data.text.apply(lambda x: np.str_(x))\n",
        "y_fa_train = train_fa_data.target\n",
        "\n",
        "X_fa_test = test_fa_data.text.apply(lambda x: np.str_(x))\n",
        "y_fa_test = test_fa_data.target\n",
        "\n",
        "X_fa_dev = dev_fa_data.text.apply(lambda x: np.str_(x))\n",
        "y_fa_dev = dev_fa_data.target"
      ],
      "execution_count": 36,
      "outputs": []
    },
    {
      "cell_type": "code",
      "metadata": {
        "id": "FCn5nbT3YSFK"
      },
      "source": [
        "X_b_train = train_balanced_data.text.apply(lambda x: np.str_(x))\n",
        "y_b_train = train_balanced_data.target\n",
        "\n",
        "X_b_test = test_balanced_data.text.apply(lambda x: np.str_(x))\n",
        "y_b_test = test_balanced_data.target\n",
        "\n",
        "X_b_dev = dev_balanced_data.text.apply(lambda x: np.str_(x))\n",
        "y_b_dev = dev_balanced_data.target"
      ],
      "execution_count": 37,
      "outputs": []
    },
    {
      "cell_type": "code",
      "metadata": {
        "id": "SL050ZAVLMu5"
      },
      "source": [
        "tfidfVectorizer = TfidfVectorizer(min_df = 5, max_features = 1000)\n",
        "tfidfVectorizer.fit(X_fa_train)\n",
        "X_train_fa_vector = tfidfVectorizer.transform(X_fa_train)\n",
        "X_test_fa_vector = tfidfVectorizer.transform(X_fa_test)\n",
        "X_dev_fa_vector = tfidfVectorizer.transform(X_fa_dev)"
      ],
      "execution_count": 38,
      "outputs": []
    },
    {
      "cell_type": "code",
      "metadata": {
        "id": "lLybf032Ps4c"
      },
      "source": [
        "tfidfVectorizer.fit(X_b_train)\n",
        "X_train_b_vector = tfidfVectorizer.transform(X_b_train)\n",
        "X_test_b_vector = tfidfVectorizer.transform(X_b_test)\n",
        "X_dev_b_vector = tfidfVectorizer.transform(X_b_dev)"
      ],
      "execution_count": 39,
      "outputs": []
    },
    {
      "cell_type": "code",
      "metadata": {
        "id": "sHLyAEdQPqye"
      },
      "source": [
        "# save\n",
        "filename = 'tfidf_fa.sav'\n",
        "pickle.dump(tfidfVectorizer, open(filename, 'wb'))"
      ],
      "execution_count": 40,
      "outputs": []
    },
    {
      "cell_type": "markdown",
      "metadata": {
        "id": "q6ikIUfSHo8V"
      },
      "source": [
        "#NB"
      ]
    },
    {
      "cell_type": "markdown",
      "metadata": {
        "id": "zD1QIonGP6p6"
      },
      "source": [
        "original data"
      ]
    },
    {
      "cell_type": "code",
      "metadata": {
        "colab": {
          "base_uri": "https://localhost:8080/"
        },
        "id": "imCT2WB3HnzB",
        "outputId": "e2762ffe-0d69-4777-f192-eb3ab3f711df"
      },
      "source": [
        "nb_model = MultinomialNB()\n",
        "nb_model.fit(X_train_fa_vector, y_fa_train)\n",
        "prediction_fa = nb_model.predict(X_test_fa_vector)\n",
        "print(classification_report(y_fa_test, prediction_fa))"
      ],
      "execution_count": 41,
      "outputs": [
        {
          "output_type": "stream",
          "text": [
            "/usr/local/lib/python3.6/dist-packages/sklearn/metrics/_classification.py:1272: UndefinedMetricWarning: Precision and F-score are ill-defined and being set to 0.0 in labels with no predicted samples. Use `zero_division` parameter to control this behavior.\n",
            "  _warn_prf(average, modifier, msg_start, len(result))\n"
          ],
          "name": "stderr"
        },
        {
          "output_type": "stream",
          "text": [
            "                      precision    recall  f1-score   support\n",
            "\n",
            "         ['اجتماعی']       0.53      0.23      0.32      2598\n",
            "       ['اخبارجهان']       0.50      0.42      0.45       902\n",
            "         ['اقتصادی']       0.80      0.49      0.61       895\n",
            "           ['اقوام']       0.42      0.42      0.42      8216\n",
            "            ['زنان']       0.00      0.00      0.00       360\n",
            "           ['سیاسی']       0.58      0.34      0.43      1546\n",
            "     ['علمی_فرهنگی']       0.79      0.12      0.21       811\n",
            "['فراخوان و تجمعات']       0.54      0.45      0.49      7021\n",
            "          ['فناوری']       0.84      0.04      0.08       605\n",
            "          ['متفرقه']       0.68      0.20      0.31      1575\n",
            "           ['مذهبی']       0.40      0.70      0.51      9246\n",
            "            ['هنری']       0.58      0.57      0.58      7021\n",
            "           ['ورزشی']       0.54      0.23      0.33       748\n",
            "\n",
            "            accuracy                           0.47     41544\n",
            "           macro avg       0.55      0.32      0.36     41544\n",
            "        weighted avg       0.51      0.47      0.46     41544\n",
            "\n"
          ],
          "name": "stdout"
        }
      ]
    },
    {
      "cell_type": "markdown",
      "metadata": {
        "id": "wjPrP0XJP_9U"
      },
      "source": [
        "balanced data"
      ]
    },
    {
      "cell_type": "code",
      "metadata": {
        "colab": {
          "base_uri": "https://localhost:8080/"
        },
        "id": "HoSg0nkgQDDC",
        "outputId": "d33821e9-c53e-4907-dda4-e5f315870883"
      },
      "source": [
        "nb_model.fit(X_train_b_vector, y_b_train)\n",
        "prediction_b = nb_model.predict(X_test_b_vector)\n",
        "print(classification_report(y_b_test, prediction_b))"
      ],
      "execution_count": 42,
      "outputs": [
        {
          "output_type": "stream",
          "text": [
            "                      precision    recall  f1-score   support\n",
            "\n",
            "         ['اجتماعی']       0.51      0.51      0.51      1267\n",
            "       ['اخبارجهان']       0.59      0.64      0.61       890\n",
            "         ['اقتصادی']       0.68      0.69      0.68       988\n",
            "           ['اقوام']       0.47      0.41      0.44      1256\n",
            "            ['زنان']       0.32      0.07      0.12       370\n",
            "           ['سیاسی']       0.56      0.65      0.60      1263\n",
            "     ['علمی_فرهنگی']       0.55      0.26      0.35       757\n",
            "['فراخوان و تجمعات']       0.51      0.46      0.48      1293\n",
            "          ['فناوری']       0.48      0.31      0.38       597\n",
            "          ['متفرقه']       0.56      0.44      0.49      1266\n",
            "           ['مذهبی']       0.36      0.57      0.44      1246\n",
            "            ['هنری']       0.49      0.73      0.59      1185\n",
            "           ['ورزشی']       0.62      0.55      0.58       856\n",
            "\n",
            "            accuracy                           0.52     13234\n",
            "           macro avg       0.52      0.48      0.48     13234\n",
            "        weighted avg       0.52      0.52      0.51     13234\n",
            "\n"
          ],
          "name": "stdout"
        }
      ]
    },
    {
      "cell_type": "code",
      "metadata": {
        "id": "kPVNRsdxN5YA"
      },
      "source": [
        "filename = 'nb_fa.sav'\n",
        "pickle.dump(nb_model, open(filename, 'wb'))"
      ],
      "execution_count": 43,
      "outputs": []
    },
    {
      "cell_type": "markdown",
      "metadata": {
        "id": "1UzBOGlVGk3m"
      },
      "source": [
        "#RF"
      ]
    },
    {
      "cell_type": "markdown",
      "metadata": {
        "id": "hcillGng0j57"
      },
      "source": [
        "##tune"
      ]
    },
    {
      "cell_type": "code",
      "metadata": {
        "id": "BfrH5vIeH7v_"
      },
      "source": [
        "parameters = {#'n_estimators': (10, 30, 50, 70, 90),\n",
        "              #'criterion': ('gini', 'entropy'),\n",
        "              'max_depth': (200, 250, 300),\n",
        "              #'max_features': ('auto', 'sqrt'),\n",
        "              #'min_samples_split': (2, 3),\n",
        "              'min_samples_leaf': (15, 20),\n",
        "              # 'bootstrap' : (True, False),\n",
        "              #'min_weight_fraction_leaf': (0.0, 0.1, 0.2, 0.3, 0.4)    \n",
        "}"
      ],
      "execution_count": 44,
      "outputs": []
    },
    {
      "cell_type": "code",
      "metadata": {
        "id": "kAiNR9u8H7wD"
      },
      "source": [
        "# rf_grid = GridSearchCV(RandomForestClassifier(n_jobs = -1, oob_score = False), param_grid = parameters, cv = 3, verbose = True)"
      ],
      "execution_count": 45,
      "outputs": []
    },
    {
      "cell_type": "markdown",
      "metadata": {
        "id": "dKWVYnCqH7wG"
      },
      "source": [
        "farsi"
      ]
    },
    {
      "cell_type": "code",
      "metadata": {
        "id": "G_AorbCPH7wI"
      },
      "source": [
        "# rf_grid_model = rf_grid.fit(X_dev_fa_vector, y_fa_dev)\n",
        "# rf_grid_model.best_estimator_"
      ],
      "execution_count": 46,
      "outputs": []
    },
    {
      "cell_type": "markdown",
      "metadata": {
        "id": "uCycQBcz0nZE"
      },
      "source": [
        "##train and evaluate"
      ]
    },
    {
      "cell_type": "markdown",
      "metadata": {
        "id": "BA68QWxQQWBf"
      },
      "source": [
        "original data"
      ]
    },
    {
      "cell_type": "code",
      "metadata": {
        "colab": {
          "base_uri": "https://localhost:8080/"
        },
        "id": "m1lnEpsDGmYP",
        "outputId": "aa3f3c8a-f154-4a3a-ea75-bdf042bf9d5d"
      },
      "source": [
        "randomForestClassifier = RandomForestClassifier(bootstrap=True, ccp_alpha=0.0, class_weight=None,\n",
        "                       criterion='gini', max_depth=300, max_features='auto',\n",
        "                       max_leaf_nodes=None, max_samples=None,\n",
        "                       min_impurity_decrease=0.0, min_impurity_split=None,\n",
        "                       min_samples_leaf=5, min_samples_split=2,\n",
        "                       min_weight_fraction_leaf=0.0, n_estimators=100,\n",
        "                       n_jobs=-1, oob_score=False, random_state=None, verbose=0,\n",
        "                       warm_start=False)\n",
        "randomForestClassifier.fit(X_train_fa_vector, y_fa_train)\n",
        "prediction_fa = randomForestClassifier.predict(X_test_fa_vector)\n",
        "print(classification_report(y_fa_test, prediction_fa))"
      ],
      "execution_count": 47,
      "outputs": [
        {
          "output_type": "stream",
          "text": [
            "                      precision    recall  f1-score   support\n",
            "\n",
            "         ['اجتماعی']       0.66      0.35      0.46      2598\n",
            "       ['اخبارجهان']       0.76      0.47      0.58       902\n",
            "         ['اقتصادی']       0.63      0.57      0.60       895\n",
            "           ['اقوام']       0.54      0.47      0.50      8216\n",
            "            ['زنان']       1.00      0.00      0.01       360\n",
            "           ['سیاسی']       0.80      0.48      0.60      1546\n",
            "     ['علمی_فرهنگی']       0.85      0.21      0.34       811\n",
            "['فراخوان و تجمعات']       0.60      0.57      0.58      7021\n",
            "          ['فناوری']       0.66      0.13      0.22       605\n",
            "          ['متفرقه']       0.83      0.35      0.49      1575\n",
            "           ['مذهبی']       0.43      0.73      0.54      9246\n",
            "            ['هنری']       0.65      0.64      0.65      7021\n",
            "           ['ورزشی']       0.71      0.38      0.49       748\n",
            "\n",
            "            accuracy                           0.55     41544\n",
            "           macro avg       0.70      0.41      0.47     41544\n",
            "        weighted avg       0.59      0.55      0.54     41544\n",
            "\n"
          ],
          "name": "stdout"
        }
      ]
    },
    {
      "cell_type": "markdown",
      "metadata": {
        "id": "0a-v6OtNQZDe"
      },
      "source": [
        "balanced data"
      ]
    },
    {
      "cell_type": "code",
      "metadata": {
        "colab": {
          "base_uri": "https://localhost:8080/"
        },
        "id": "XyAUMl2iQgO-",
        "outputId": "48c00861-4a98-4fd3-ea39-6f1157fb9dec"
      },
      "source": [
        "randomForestClassifier = RandomForestClassifier(bootstrap=True, ccp_alpha=0.0, class_weight=None,\n",
        "                       criterion='gini', max_depth=300, max_features='auto',\n",
        "                       max_leaf_nodes=None, max_samples=None,\n",
        "                       min_impurity_decrease=0.0, min_impurity_split=None,\n",
        "                       min_samples_leaf=5, min_samples_split=2,\n",
        "                       min_weight_fraction_leaf=0.0, n_estimators=100,\n",
        "                       n_jobs=-1, oob_score=False, random_state=None, verbose=0,\n",
        "                       warm_start=False)\n",
        "randomForestClassifier.fit(X_train_b_vector, y_b_train)\n",
        "prediction_b = randomForestClassifier.predict(X_test_b_vector)\n",
        "print(classification_report(y_b_test, prediction_b))"
      ],
      "execution_count": 48,
      "outputs": [
        {
          "output_type": "stream",
          "text": [
            "                      precision    recall  f1-score   support\n",
            "\n",
            "         ['اجتماعی']       0.64      0.59      0.61      1267\n",
            "       ['اخبارجهان']       0.69      0.70      0.70       890\n",
            "         ['اقتصادی']       0.66      0.71      0.69       988\n",
            "           ['اقوام']       0.74      0.56      0.64      1256\n",
            "            ['زنان']       0.35      0.53      0.42       370\n",
            "           ['سیاسی']       0.67      0.76      0.71      1263\n",
            "     ['علمی_فرهنگی']       0.61      0.45      0.51       757\n",
            "['فراخوان و تجمعات']       0.78      0.63      0.70      1293\n",
            "          ['فناوری']       0.46      0.39      0.42       597\n",
            "          ['متفرقه']       0.59      0.60      0.60      1266\n",
            "           ['مذهبی']       0.51      0.67      0.58      1246\n",
            "            ['هنری']       0.64      0.76      0.69      1185\n",
            "           ['ورزشی']       0.73      0.63      0.68       856\n",
            "\n",
            "            accuracy                           0.63     13234\n",
            "           macro avg       0.62      0.61      0.61     13234\n",
            "        weighted avg       0.64      0.63      0.63     13234\n",
            "\n"
          ],
          "name": "stdout"
        }
      ]
    },
    {
      "cell_type": "code",
      "metadata": {
        "id": "onVp5pNnQhhN"
      },
      "source": [
        "# save\n",
        "filename = 'rf_fa.sav'\n",
        "pickle.dump(randomForestClassifier, open(filename, 'wb'))"
      ],
      "execution_count": 49,
      "outputs": []
    }
  ]
}